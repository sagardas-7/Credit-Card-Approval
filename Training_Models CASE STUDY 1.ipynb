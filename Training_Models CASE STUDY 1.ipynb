{
  "cells": [
    {
      "cell_type": "code",
      "execution_count": null,
      "metadata": {
        "id": "mwO4KibpP3rx",
        "colab": {
          "base_uri": "https://localhost:8080/"
        },
        "outputId": "19e6614e-4a17-443a-c679-e53063011966"
      },
      "outputs": [
        {
          "output_type": "stream",
          "name": "stdout",
          "text": [
            "Mounted at /content/drive\n"
          ]
        }
      ],
      "source": [
        "from google.colab import drive\n",
        "drive.mount('/content/drive')"
      ]
    },
    {
      "cell_type": "code",
      "execution_count": null,
      "metadata": {
        "id": "zD6ky9oxP82E"
      },
      "outputs": [],
      "source": [
        "import math\n",
        "from tqdm import tqdm\n",
        "import pandas as pd\n",
        "import seaborn as sn\n",
        "import matplotlib.pyplot as plt\n",
        "import numpy as np\n",
        "from sklearn.preprocessing import OneHotEncoder\n",
        "from sklearn.model_selection import train_test_split\n",
        "from sklearn import preprocessing\n",
        "from sklearn.tree import DecisionTreeClassifier\n",
        "from sklearn.model_selection import cross_val_score\n",
        "from sklearn.metrics import accuracy_score\n",
        "from sklearn.ensemble import RandomForestClassifier\n",
        "from sklearn.linear_model import LogisticRegression\n",
        "from sklearn.metrics import f1_score\n",
        "from collections import Counter\n",
        "from imblearn.over_sampling import SMOTE\n",
        "from sklearn.metrics import accuracy_score,confusion_matrix,classification_report\n",
        "from sklearn.model_selection import GridSearchCV\n",
        "from sklearn.linear_model import LogisticRegression\n",
        "from sklearn.metrics import f1_score as f1\n",
        "from sklearn.metrics import precision_score\n",
        "from sklearn.metrics import recall_score\n",
        "from sklearn.tree import DecisionTreeClassifier\n",
        "from sklearn.ensemble import RandomForestClassifier"
      ]
    },
    {
      "cell_type": "code",
      "execution_count": null,
      "metadata": {
        "id": "3e9Z9cQlQZH_"
      },
      "outputs": [],
      "source": [
        "#reading the csv files\n",
        "train_data = pd.read_csv('/content/drive/MyDrive/DATA SCIENCE/CASE STUDY 1/FINAL_TRAINING_DATA_NAN_ENCODING.csv',sep=\";\")\n",
        "test_data = pd.read_csv('/content/drive/MyDrive/DATA SCIENCE/CASE STUDY 1/FINAL_TEST_DATA_NAN_ENCODING.csv',sep=\";\")"
      ]
    },
    {
      "cell_type": "code",
      "execution_count": null,
      "metadata": {
        "id": "KONymXO5Q3Ty"
      },
      "outputs": [],
      "source": [
        "#Extracting the train and test data\n",
        "X_train = train_data.iloc[:,:-1]\n",
        "y_train = train_data.iloc[:,-1]\n",
        "\n",
        "X_test = test_data.iloc[:,:-1]\n",
        "y_test = test_data.iloc[:,-1]"
      ]
    },
    {
      "cell_type": "code",
      "execution_count": null,
      "metadata": {
        "colab": {
          "base_uri": "https://localhost:8080/"
        },
        "id": "hqBeuqfyYb7S",
        "outputId": "e7f2cfef-e295-4627-ae78-4324028036cf"
      },
      "outputs": [
        {
          "output_type": "stream",
          "name": "stdout",
          "text": [
            "Counter({1.0: 32660, 0.0: 151})\n",
            "Counter({1.0: 3621, 0.0: 25})\n"
          ]
        }
      ],
      "source": [
        "print(Counter(y_train))\n",
        "print(Counter(y_test))"
      ]
    },
    {
      "cell_type": "markdown",
      "source": [
        "Oversampling using SMOTE\n",
        "* as the data is highly imbalanced.\n",
        "\n",
        "\n"
      ],
      "metadata": {
        "id": "a_Dlc7OVzSGR"
      }
    },
    {
      "cell_type": "code",
      "execution_count": null,
      "metadata": {
        "colab": {
          "base_uri": "https://localhost:8080/"
        },
        "id": "3AjDRj4bYUWX",
        "outputId": "8362524b-9fa4-4f79-8944-e6d00eef746a"
      },
      "outputs": [
        {
          "output_type": "stream",
          "name": "stdout",
          "text": [
            "The number of classes before fit Counter({1.0: 32660, 0.0: 32660})\n",
            "The number of classes after fit Counter({1.0: 32660, 0.0: 32660})\n"
          ]
        }
      ],
      "source": [
        "oversample = SMOTE()\n",
        "X_train, y_train = oversample.fit_resample(X_train, y_train)\n",
        "print(\"The number of classes before fit {}\".format(Counter(y_train)))\n",
        "print(\"The number of classes after fit {}\".format(Counter(y_train)))"
      ]
    },
    {
      "cell_type": "markdown",
      "source": [
        "Breaking Train Data into \n",
        "* TRAIN DATA\n",
        "* CROSS VALIDATION DATA"
      ],
      "metadata": {
        "id": "6N6vQmcwzeap"
      }
    },
    {
      "cell_type": "code",
      "execution_count": null,
      "metadata": {
        "id": "n1IQL3JSUUUs"
      },
      "outputs": [],
      "source": [
        "X_train, X_cv, y_train, y_cv = train_test_split(X_train, y_train, test_size=0.25, random_state=7)"
      ]
    },
    {
      "cell_type": "markdown",
      "metadata": {
        "id": "ZLyHb_d-WNe4"
      },
      "source": [
        "# 1. TRAINING DIFFERENT MODELS"
      ]
    },
    {
      "cell_type": "code",
      "execution_count": null,
      "metadata": {
        "id": "jbuYW2S53DSa"
      },
      "outputs": [],
      "source": [
        "#Code for printing the confusion matrix\n",
        "def print_confusion_matrix(y_true, y_pred):\n",
        "    cm = confusion_matrix(y_true, y_pred)\n",
        "    print('True positive = ', cm[0][0])\n",
        "    print('False positive = ', cm[0][1])\n",
        "    print('False negative = ', cm[1][0])\n",
        "    print('True negative = ', cm[1][1])"
      ]
    },
    {
      "cell_type": "markdown",
      "metadata": {
        "id": "M99LBSR0mpMN"
      },
      "source": [
        "## 1.1 Logistic Regression"
      ]
    },
    {
      "cell_type": "markdown",
      "source": [
        "### 1.1.1 Performing Grid Search CV for hyperparameter tuning"
      ],
      "metadata": {
        "id": "ZT0KsH-F1DV6"
      }
    },
    {
      "cell_type": "code",
      "source": [
        "# define models and parameters\n",
        "model = LogisticRegression(max_iter = 10000,n_jobs=-1,verbose = 3)\n",
        "c_values = [0.00000000000001,0.000000000001,0.0000000001,0.00000001,0.000001,0.0001,0.01,1]\n",
        "\n",
        "# define grid search\n",
        "grid = dict(C=c_values)\n",
        "clf = GridSearchCV(estimator=model, param_grid=grid, verbose = 3, cv=5, scoring='roc_auc',error_score=0,return_train_score=True)\n",
        "clf.fit(X_train, y_train)"
      ],
      "metadata": {
        "colab": {
          "base_uri": "https://localhost:8080/"
        },
        "id": "AlmiU9mcaOWR",
        "outputId": "a3184451-853f-4c7e-80db-88644c2931fd"
      },
      "execution_count": null,
      "outputs": [
        {
          "output_type": "stream",
          "name": "stdout",
          "text": [
            "Fitting 5 folds for each of 8 candidates, totalling 40 fits\n"
          ]
        },
        {
          "output_type": "stream",
          "name": "stderr",
          "text": [
            "[Parallel(n_jobs=-1)]: Using backend LokyBackend with 2 concurrent workers.\n",
            "[Parallel(n_jobs=-1)]: Done   1 out of   1 | elapsed:    0.9s finished\n",
            "[Parallel(n_jobs=-1)]: Using backend LokyBackend with 2 concurrent workers.\n"
          ]
        },
        {
          "output_type": "stream",
          "name": "stdout",
          "text": [
            "[CV 1/5] END .......C=1e-14;, score=(train=0.495, test=0.493) total time=   1.0s\n"
          ]
        },
        {
          "output_type": "stream",
          "name": "stderr",
          "text": [
            "[Parallel(n_jobs=-1)]: Done   1 out of   1 | elapsed:    0.4s finished\n",
            "[Parallel(n_jobs=-1)]: Using backend LokyBackend with 2 concurrent workers.\n"
          ]
        },
        {
          "output_type": "stream",
          "name": "stdout",
          "text": [
            "[CV 2/5] END .......C=1e-14;, score=(train=0.492, test=0.501) total time=   0.6s\n"
          ]
        },
        {
          "output_type": "stream",
          "name": "stderr",
          "text": [
            "[Parallel(n_jobs=-1)]: Done   1 out of   1 | elapsed:    0.2s finished\n",
            "[Parallel(n_jobs=-1)]: Using backend LokyBackend with 2 concurrent workers.\n"
          ]
        },
        {
          "output_type": "stream",
          "name": "stdout",
          "text": [
            "[CV 3/5] END .......C=1e-14;, score=(train=0.494, test=0.495) total time=   0.3s\n"
          ]
        },
        {
          "output_type": "stream",
          "name": "stderr",
          "text": [
            "[Parallel(n_jobs=-1)]: Done   1 out of   1 | elapsed:    0.2s finished\n",
            "[Parallel(n_jobs=-1)]: Using backend LokyBackend with 2 concurrent workers.\n"
          ]
        },
        {
          "output_type": "stream",
          "name": "stdout",
          "text": [
            "[CV 4/5] END .......C=1e-14;, score=(train=0.496, test=0.484) total time=   0.3s\n"
          ]
        },
        {
          "output_type": "stream",
          "name": "stderr",
          "text": [
            "[Parallel(n_jobs=-1)]: Done   1 out of   1 | elapsed:    0.2s finished\n",
            "[Parallel(n_jobs=-1)]: Using backend LokyBackend with 2 concurrent workers.\n"
          ]
        },
        {
          "output_type": "stream",
          "name": "stdout",
          "text": [
            "[CV 5/5] END .......C=1e-14;, score=(train=0.493, test=0.496) total time=   0.3s\n"
          ]
        },
        {
          "output_type": "stream",
          "name": "stderr",
          "text": [
            "[Parallel(n_jobs=-1)]: Done   1 out of   1 | elapsed:    0.3s finished\n",
            "[Parallel(n_jobs=-1)]: Using backend LokyBackend with 2 concurrent workers.\n"
          ]
        },
        {
          "output_type": "stream",
          "name": "stdout",
          "text": [
            "[CV 1/5] END .......C=1e-12;, score=(train=0.647, test=0.648) total time=   0.5s\n"
          ]
        },
        {
          "output_type": "stream",
          "name": "stderr",
          "text": [
            "[Parallel(n_jobs=-1)]: Done   1 out of   1 | elapsed:    0.4s finished\n",
            "[Parallel(n_jobs=-1)]: Using backend LokyBackend with 2 concurrent workers.\n"
          ]
        },
        {
          "output_type": "stream",
          "name": "stdout",
          "text": [
            "[CV 2/5] END .......C=1e-12;, score=(train=0.643, test=0.649) total time=   0.5s\n"
          ]
        },
        {
          "output_type": "stream",
          "name": "stderr",
          "text": [
            "[Parallel(n_jobs=-1)]: Done   1 out of   1 | elapsed:    0.3s finished\n",
            "[Parallel(n_jobs=-1)]: Using backend LokyBackend with 2 concurrent workers.\n"
          ]
        },
        {
          "output_type": "stream",
          "name": "stdout",
          "text": [
            "[CV 3/5] END .......C=1e-12;, score=(train=0.647, test=0.645) total time=   0.5s\n"
          ]
        },
        {
          "output_type": "stream",
          "name": "stderr",
          "text": [
            "[Parallel(n_jobs=-1)]: Done   1 out of   1 | elapsed:    0.3s finished\n",
            "[Parallel(n_jobs=-1)]: Using backend LokyBackend with 2 concurrent workers.\n"
          ]
        },
        {
          "output_type": "stream",
          "name": "stdout",
          "text": [
            "[CV 4/5] END .......C=1e-12;, score=(train=0.631, test=0.623) total time=   0.5s\n"
          ]
        },
        {
          "output_type": "stream",
          "name": "stderr",
          "text": [
            "[Parallel(n_jobs=-1)]: Done   1 out of   1 | elapsed:    0.3s finished\n",
            "[Parallel(n_jobs=-1)]: Using backend LokyBackend with 2 concurrent workers.\n"
          ]
        },
        {
          "output_type": "stream",
          "name": "stdout",
          "text": [
            "[CV 5/5] END .......C=1e-12;, score=(train=0.636, test=0.639) total time=   0.5s\n"
          ]
        },
        {
          "output_type": "stream",
          "name": "stderr",
          "text": [
            "[Parallel(n_jobs=-1)]: Done   1 out of   1 | elapsed:    0.5s finished\n",
            "[Parallel(n_jobs=-1)]: Using backend LokyBackend with 2 concurrent workers.\n"
          ]
        },
        {
          "output_type": "stream",
          "name": "stdout",
          "text": [
            "[CV 1/5] END .......C=1e-10;, score=(train=0.910, test=0.914) total time=   0.6s\n"
          ]
        },
        {
          "output_type": "stream",
          "name": "stderr",
          "text": [
            "[Parallel(n_jobs=-1)]: Done   1 out of   1 | elapsed:    0.5s finished\n",
            "[Parallel(n_jobs=-1)]: Using backend LokyBackend with 2 concurrent workers.\n"
          ]
        },
        {
          "output_type": "stream",
          "name": "stdout",
          "text": [
            "[CV 2/5] END .......C=1e-10;, score=(train=0.910, test=0.913) total time=   0.6s\n"
          ]
        },
        {
          "output_type": "stream",
          "name": "stderr",
          "text": [
            "[Parallel(n_jobs=-1)]: Done   1 out of   1 | elapsed:    0.5s finished\n",
            "[Parallel(n_jobs=-1)]: Using backend LokyBackend with 2 concurrent workers.\n"
          ]
        },
        {
          "output_type": "stream",
          "name": "stdout",
          "text": [
            "[CV 3/5] END .......C=1e-10;, score=(train=0.910, test=0.907) total time=   0.7s\n"
          ]
        },
        {
          "output_type": "stream",
          "name": "stderr",
          "text": [
            "[Parallel(n_jobs=-1)]: Done   1 out of   1 | elapsed:    0.5s finished\n",
            "[Parallel(n_jobs=-1)]: Using backend LokyBackend with 2 concurrent workers.\n"
          ]
        },
        {
          "output_type": "stream",
          "name": "stdout",
          "text": [
            "[CV 4/5] END .......C=1e-10;, score=(train=0.911, test=0.906) total time=   0.6s\n"
          ]
        },
        {
          "output_type": "stream",
          "name": "stderr",
          "text": [
            "[Parallel(n_jobs=-1)]: Done   1 out of   1 | elapsed:    0.5s finished\n",
            "[Parallel(n_jobs=-1)]: Using backend LokyBackend with 2 concurrent workers.\n"
          ]
        },
        {
          "output_type": "stream",
          "name": "stdout",
          "text": [
            "[CV 5/5] END .......C=1e-10;, score=(train=0.908, test=0.909) total time=   0.6s\n"
          ]
        },
        {
          "output_type": "stream",
          "name": "stderr",
          "text": [
            "[Parallel(n_jobs=-1)]: Done   1 out of   1 | elapsed:    0.7s finished\n",
            "[Parallel(n_jobs=-1)]: Using backend LokyBackend with 2 concurrent workers.\n"
          ]
        },
        {
          "output_type": "stream",
          "name": "stdout",
          "text": [
            "[CV 1/5] END .......C=1e-08;, score=(train=0.910, test=0.915) total time=   0.9s\n"
          ]
        },
        {
          "output_type": "stream",
          "name": "stderr",
          "text": [
            "[Parallel(n_jobs=-1)]: Done   1 out of   1 | elapsed:    0.7s finished\n",
            "[Parallel(n_jobs=-1)]: Using backend LokyBackend with 2 concurrent workers.\n"
          ]
        },
        {
          "output_type": "stream",
          "name": "stdout",
          "text": [
            "[CV 2/5] END .......C=1e-08;, score=(train=0.910, test=0.913) total time=   0.8s\n"
          ]
        },
        {
          "output_type": "stream",
          "name": "stderr",
          "text": [
            "[Parallel(n_jobs=-1)]: Done   1 out of   1 | elapsed:    0.6s finished\n",
            "[Parallel(n_jobs=-1)]: Using backend LokyBackend with 2 concurrent workers.\n"
          ]
        },
        {
          "output_type": "stream",
          "name": "stdout",
          "text": [
            "[CV 3/5] END .......C=1e-08;, score=(train=0.911, test=0.908) total time=   0.8s\n"
          ]
        },
        {
          "output_type": "stream",
          "name": "stderr",
          "text": [
            "[Parallel(n_jobs=-1)]: Done   1 out of   1 | elapsed:    0.7s finished\n",
            "[Parallel(n_jobs=-1)]: Using backend LokyBackend with 2 concurrent workers.\n"
          ]
        },
        {
          "output_type": "stream",
          "name": "stdout",
          "text": [
            "[CV 4/5] END .......C=1e-08;, score=(train=0.911, test=0.906) total time=   0.8s\n"
          ]
        },
        {
          "output_type": "stream",
          "name": "stderr",
          "text": [
            "[Parallel(n_jobs=-1)]: Done   1 out of   1 | elapsed:    0.8s finished\n",
            "[Parallel(n_jobs=-1)]: Using backend LokyBackend with 2 concurrent workers.\n"
          ]
        },
        {
          "output_type": "stream",
          "name": "stdout",
          "text": [
            "[CV 5/5] END .......C=1e-08;, score=(train=0.911, test=0.912) total time=   0.9s\n"
          ]
        },
        {
          "output_type": "stream",
          "name": "stderr",
          "text": [
            "[Parallel(n_jobs=-1)]: Done   1 out of   1 | elapsed:    1.1s finished\n",
            "[Parallel(n_jobs=-1)]: Using backend LokyBackend with 2 concurrent workers.\n"
          ]
        },
        {
          "output_type": "stream",
          "name": "stdout",
          "text": [
            "[CV 1/5] END .......C=1e-06;, score=(train=0.903, test=0.904) total time=   1.3s\n"
          ]
        },
        {
          "output_type": "stream",
          "name": "stderr",
          "text": [
            "[Parallel(n_jobs=-1)]: Done   1 out of   1 | elapsed:    1.3s finished\n",
            "[Parallel(n_jobs=-1)]: Using backend LokyBackend with 2 concurrent workers.\n"
          ]
        },
        {
          "output_type": "stream",
          "name": "stdout",
          "text": [
            "[CV 2/5] END .......C=1e-06;, score=(train=0.899, test=0.895) total time=   1.5s\n"
          ]
        },
        {
          "output_type": "stream",
          "name": "stderr",
          "text": [
            "[Parallel(n_jobs=-1)]: Done   1 out of   1 | elapsed:    1.6s finished\n",
            "[Parallel(n_jobs=-1)]: Using backend LokyBackend with 2 concurrent workers.\n"
          ]
        },
        {
          "output_type": "stream",
          "name": "stdout",
          "text": [
            "[CV 3/5] END .......C=1e-06;, score=(train=0.912, test=0.916) total time=   1.7s\n"
          ]
        },
        {
          "output_type": "stream",
          "name": "stderr",
          "text": [
            "[Parallel(n_jobs=-1)]: Done   1 out of   1 | elapsed:    1.8s finished\n",
            "[Parallel(n_jobs=-1)]: Using backend LokyBackend with 2 concurrent workers.\n"
          ]
        },
        {
          "output_type": "stream",
          "name": "stdout",
          "text": [
            "[CV 4/5] END .......C=1e-06;, score=(train=0.911, test=0.912) total time=   1.9s\n"
          ]
        },
        {
          "output_type": "stream",
          "name": "stderr",
          "text": [
            "[Parallel(n_jobs=-1)]: Done   1 out of   1 | elapsed:    2.1s finished\n",
            "[Parallel(n_jobs=-1)]: Using backend LokyBackend with 2 concurrent workers.\n"
          ]
        },
        {
          "output_type": "stream",
          "name": "stdout",
          "text": [
            "[CV 5/5] END .......C=1e-06;, score=(train=0.913, test=0.909) total time=   2.2s\n"
          ]
        },
        {
          "output_type": "stream",
          "name": "stderr",
          "text": [
            "[Parallel(n_jobs=-1)]: Done   1 out of   1 | elapsed:    5.7s finished\n",
            "[Parallel(n_jobs=-1)]: Using backend LokyBackend with 2 concurrent workers.\n"
          ]
        },
        {
          "output_type": "stream",
          "name": "stdout",
          "text": [
            "[CV 1/5] END ......C=0.0001;, score=(train=0.997, test=0.997) total time=   5.9s\n"
          ]
        },
        {
          "output_type": "stream",
          "name": "stderr",
          "text": [
            "[Parallel(n_jobs=-1)]: Done   1 out of   1 | elapsed:    4.5s finished\n",
            "[Parallel(n_jobs=-1)]: Using backend LokyBackend with 2 concurrent workers.\n"
          ]
        },
        {
          "output_type": "stream",
          "name": "stdout",
          "text": [
            "[CV 2/5] END ......C=0.0001;, score=(train=0.997, test=0.997) total time=   4.7s\n"
          ]
        },
        {
          "output_type": "stream",
          "name": "stderr",
          "text": [
            "[Parallel(n_jobs=-1)]: Done   1 out of   1 | elapsed:    5.9s finished\n",
            "[Parallel(n_jobs=-1)]: Using backend LokyBackend with 2 concurrent workers.\n"
          ]
        },
        {
          "output_type": "stream",
          "name": "stdout",
          "text": [
            "[CV 3/5] END ......C=0.0001;, score=(train=0.998, test=0.998) total time=   6.0s\n"
          ]
        },
        {
          "output_type": "stream",
          "name": "stderr",
          "text": [
            "[Parallel(n_jobs=-1)]: Done   1 out of   1 | elapsed:    3.2s finished\n",
            "[Parallel(n_jobs=-1)]: Using backend LokyBackend with 2 concurrent workers.\n"
          ]
        },
        {
          "output_type": "stream",
          "name": "stdout",
          "text": [
            "[CV 4/5] END ......C=0.0001;, score=(train=0.983, test=0.984) total time=   3.4s\n"
          ]
        },
        {
          "output_type": "stream",
          "name": "stderr",
          "text": [
            "[Parallel(n_jobs=-1)]: Done   1 out of   1 | elapsed:    5.5s finished\n",
            "[Parallel(n_jobs=-1)]: Using backend LokyBackend with 2 concurrent workers.\n"
          ]
        },
        {
          "output_type": "stream",
          "name": "stdout",
          "text": [
            "[CV 5/5] END ......C=0.0001;, score=(train=0.997, test=0.998) total time=   5.7s\n"
          ]
        },
        {
          "output_type": "stream",
          "name": "stderr",
          "text": [
            "[Parallel(n_jobs=-1)]: Done   1 out of   1 | elapsed:    5.8s finished\n",
            "[Parallel(n_jobs=-1)]: Using backend LokyBackend with 2 concurrent workers.\n"
          ]
        },
        {
          "output_type": "stream",
          "name": "stdout",
          "text": [
            "[CV 1/5] END ........C=0.01;, score=(train=1.000, test=1.000) total time=   6.0s\n"
          ]
        },
        {
          "output_type": "stream",
          "name": "stderr",
          "text": [
            "[Parallel(n_jobs=-1)]: Done   1 out of   1 | elapsed:   10.9s finished\n",
            "[Parallel(n_jobs=-1)]: Using backend LokyBackend with 2 concurrent workers.\n"
          ]
        },
        {
          "output_type": "stream",
          "name": "stdout",
          "text": [
            "[CV 2/5] END ........C=0.01;, score=(train=1.000, test=1.000) total time=  11.1s\n"
          ]
        },
        {
          "output_type": "stream",
          "name": "stderr",
          "text": [
            "[Parallel(n_jobs=-1)]: Done   1 out of   1 | elapsed:    5.1s finished\n",
            "[Parallel(n_jobs=-1)]: Using backend LokyBackend with 2 concurrent workers.\n"
          ]
        },
        {
          "output_type": "stream",
          "name": "stdout",
          "text": [
            "[CV 3/5] END ........C=0.01;, score=(train=1.000, test=1.000) total time=   5.1s\n"
          ]
        },
        {
          "output_type": "stream",
          "name": "stderr",
          "text": [
            "[Parallel(n_jobs=-1)]: Done   1 out of   1 | elapsed:    7.6s finished\n",
            "[Parallel(n_jobs=-1)]: Using backend LokyBackend with 2 concurrent workers.\n"
          ]
        },
        {
          "output_type": "stream",
          "name": "stdout",
          "text": [
            "[CV 4/5] END ........C=0.01;, score=(train=1.000, test=1.000) total time=   7.8s\n"
          ]
        },
        {
          "output_type": "stream",
          "name": "stderr",
          "text": [
            "[Parallel(n_jobs=-1)]: Done   1 out of   1 | elapsed:    5.9s finished\n",
            "[Parallel(n_jobs=-1)]: Using backend LokyBackend with 2 concurrent workers.\n"
          ]
        },
        {
          "output_type": "stream",
          "name": "stdout",
          "text": [
            "[CV 5/5] END ........C=0.01;, score=(train=1.000, test=1.000) total time=   6.0s\n"
          ]
        },
        {
          "output_type": "stream",
          "name": "stderr",
          "text": [
            "[Parallel(n_jobs=-1)]: Done   1 out of   1 | elapsed:   10.1s finished\n",
            "[Parallel(n_jobs=-1)]: Using backend LokyBackend with 2 concurrent workers.\n"
          ]
        },
        {
          "output_type": "stream",
          "name": "stdout",
          "text": [
            "[CV 1/5] END ...........C=1;, score=(train=1.000, test=1.000) total time=  10.3s\n"
          ]
        },
        {
          "output_type": "stream",
          "name": "stderr",
          "text": [
            "[Parallel(n_jobs=-1)]: Done   1 out of   1 | elapsed:   14.5s finished\n",
            "[Parallel(n_jobs=-1)]: Using backend LokyBackend with 2 concurrent workers.\n"
          ]
        },
        {
          "output_type": "stream",
          "name": "stdout",
          "text": [
            "[CV 2/5] END ...........C=1;, score=(train=1.000, test=1.000) total time=  14.6s\n"
          ]
        },
        {
          "output_type": "stream",
          "name": "stderr",
          "text": [
            "[Parallel(n_jobs=-1)]: Done   1 out of   1 | elapsed:    8.6s finished\n",
            "[Parallel(n_jobs=-1)]: Using backend LokyBackend with 2 concurrent workers.\n"
          ]
        },
        {
          "output_type": "stream",
          "name": "stdout",
          "text": [
            "[CV 3/5] END ...........C=1;, score=(train=1.000, test=1.000) total time=   8.7s\n"
          ]
        },
        {
          "output_type": "stream",
          "name": "stderr",
          "text": [
            "[Parallel(n_jobs=-1)]: Done   1 out of   1 | elapsed:   11.1s finished\n",
            "[Parallel(n_jobs=-1)]: Using backend LokyBackend with 2 concurrent workers.\n"
          ]
        },
        {
          "output_type": "stream",
          "name": "stdout",
          "text": [
            "[CV 4/5] END ...........C=1;, score=(train=1.000, test=1.000) total time=  11.2s\n"
          ]
        },
        {
          "output_type": "stream",
          "name": "stderr",
          "text": [
            "[Parallel(n_jobs=-1)]: Done   1 out of   1 | elapsed:    7.8s finished\n",
            "[Parallel(n_jobs=-1)]: Using backend LokyBackend with 2 concurrent workers.\n"
          ]
        },
        {
          "output_type": "stream",
          "name": "stdout",
          "text": [
            "[CV 5/5] END ...........C=1;, score=(train=1.000, test=1.000) total time=   7.9s\n"
          ]
        },
        {
          "output_type": "stream",
          "name": "stderr",
          "text": [
            "[Parallel(n_jobs=-1)]: Done   1 out of   1 | elapsed:    8.4s finished\n"
          ]
        },
        {
          "output_type": "execute_result",
          "data": {
            "text/plain": [
              "GridSearchCV(cv=5, error_score=0,\n",
              "             estimator=LogisticRegression(max_iter=10000, n_jobs=-1, verbose=3),\n",
              "             param_grid={'C': [1e-14, 1e-12, 1e-10, 1e-08, 1e-06, 0.0001, 0.01,\n",
              "                               1]},\n",
              "             return_train_score=True, scoring='roc_auc', verbose=3)"
            ]
          },
          "metadata": {},
          "execution_count": 9
        }
      ]
    },
    {
      "cell_type": "code",
      "source": [
        "\n",
        "results = pd.DataFrame.from_dict(clf.cv_results_)\n",
        "log_c=[]\n",
        "for a in tqdm(c_values):    \n",
        "  log_a = math.log(a)    \n",
        "  log_c.append(log_a)"
      ],
      "metadata": {
        "id": "GTOi4KDx0N4c",
        "colab": {
          "base_uri": "https://localhost:8080/"
        },
        "outputId": "1f9d77da-5bfd-4375-c43a-e870ec10ac4a"
      },
      "execution_count": null,
      "outputs": [
        {
          "output_type": "stream",
          "name": "stderr",
          "text": [
            "100%|██████████| 8/8 [00:00<00:00, 65793.00it/s]\n"
          ]
        }
      ]
    },
    {
      "cell_type": "code",
      "source": [
        "train_auc= results['mean_train_score']\n",
        "train_auc_std= results['std_train_score']\n",
        "\n",
        "cv_auc = results['mean_test_score'] \n",
        "cv_auc_std= results['std_test_score']\n",
        "\n",
        "\n",
        "plt.plot(log_c, train_auc, label='Train AUC')\n",
        "plt.plot(log_c, cv_auc, label='CV AUC')\n",
        "\n",
        "plt.scatter(log_c, train_auc, label='Train AUC points')\n",
        "plt.scatter(log_c, cv_auc, label='CV AUC points')\n",
        "\n",
        "\n",
        "plt.legend()\n",
        "plt.xlabel(\"LOG of c_values: hyperparameter\")\n",
        "plt.ylabel(\"AUC\")\n",
        "plt.title(\"Hyper parameter Vs AUC plot\")\n",
        "plt.grid()\n",
        "plt.show()\n",
        "\n",
        "results.head()"
      ],
      "metadata": {
        "colab": {
          "base_uri": "https://localhost:8080/",
          "height": 665
        },
        "id": "KtA3T9ZNaOOO",
        "outputId": "ae7d5d38-d8bf-40f8-dd53-647833a21965"
      },
      "execution_count": null,
      "outputs": [
        {
          "output_type": "display_data",
          "data": {
            "text/plain": [
              "<Figure size 432x288 with 1 Axes>"
            ],
            "image/png": "[encoded data removed]"
          },
          "metadata": {
            "needs_background": "light"
          }
        },
        {
          "output_type": "execute_result",
          "data": {
            "text/plain": [
              "   mean_fit_time  std_fit_time  mean_score_time  std_score_time   param_C  \\\n",
              "0       0.498145      0.282220         0.012458        0.001181       0.0   \n",
              "1       0.473667      0.020001         0.011170        0.000529       0.0   \n",
              "2       0.629013      0.036261         0.012449        0.001900       0.0   \n",
              "3       0.842081      0.057123         0.011926        0.001936       0.0   \n",
              "4       1.695732      0.324417         0.014044        0.006886  0.000001   \n",
              "\n",
              "         params  split0_test_score  split1_test_score  split2_test_score  \\\n",
              "0  {'C': 1e-14}           0.493464           0.501380           0.494662   \n",
              "1  {'C': 1e-12}           0.648404           0.649002           0.644544   \n",
              "2  {'C': 1e-10}           0.913946           0.912940           0.906734   \n",
              "3  {'C': 1e-08}           0.914520           0.913422           0.907616   \n",
              "4  {'C': 1e-06}           0.903676           0.895377           0.915762   \n",
              "\n",
              "   split3_test_score  ...  mean_test_score  std_test_score  rank_test_score  \\\n",
              "0           0.483918  ...         0.493895        0.005674                8   \n",
              "1           0.623139  ...         0.640783        0.009538                7   \n",
              "2           0.905838  ...         0.909631        0.003262                5   \n",
              "3           0.906392  ...         0.910786        0.003215                4   \n",
              "4           0.911760  ...         0.907191        0.007086                6   \n",
              "\n",
              "   split0_train_score  split1_train_score  split2_train_score  \\\n",
              "0            0.494552            0.492287            0.494129   \n",
              "1            0.646727            0.643473            0.646676   \n",
              "2            0.909595            0.909891            0.910454   \n",
              "3            0.910324            0.910424            0.911060   \n",
              "4            0.903090            0.899415            0.911882   \n",
              "\n",
              "   split3_train_score  split4_train_score  mean_train_score  std_train_score  \n",
              "0            0.495502            0.493049          0.493904         0.001129  \n",
              "1            0.631042            0.636423          0.640868         0.006183  \n",
              "2            0.910568            0.907838          0.909669         0.000983  \n",
              "3            0.911232            0.910837          0.910776         0.000352  \n",
              "4            0.911241            0.912528          0.907631         0.005352  \n",
              "\n",
              "[5 rows x 21 columns]"
            ],
            "text/html": [
              "\n",
              "  <div id=\"df-8723f186-7908-46bd-b356-4a0a520720b2\">\n",
              "    <div class=\"colab-df-container\">\n",
              "      <div>\n",
              "<style scoped>\n",
              "    .dataframe tbody tr th:only-of-type {\n",
              "        vertical-align: middle;\n",
              "    }\n",
              "\n",
              "    .dataframe tbody tr th {\n",
              "        vertical-align: top;\n",
              "    }\n",
              "\n",
              "    .dataframe thead th {\n",
              "        text-align: right;\n",
              "    }\n",
              "</style>\n",
              "<table border=\"1\" class=\"dataframe\">\n",
              "  <thead>\n",
              "    <tr style=\"text-align: right;\">\n",
              "      <th></th>\n",
              "      <th>mean_fit_time</th>\n",
              "      <th>std_fit_time</th>\n",
              "      <th>mean_score_time</th>\n",
              "      <th>std_score_time</th>\n",
              "      <th>param_C</th>\n",
              "      <th>params</th>\n",
              "      <th>split0_test_score</th>\n",
              "      <th>split1_test_score</th>\n",
              "      <th>split2_test_score</th>\n",
              "      <th>split3_test_score</th>\n",
              "      <th>...</th>\n",
              "      <th>mean_test_score</th>\n",
              "      <th>std_test_score</th>\n",
              "      <th>rank_test_score</th>\n",
              "      <th>split0_train_score</th>\n",
              "      <th>split1_train_score</th>\n",
              "      <th>split2_train_score</th>\n",
              "      <th>split3_train_score</th>\n",
              "      <th>split4_train_score</th>\n",
              "      <th>mean_train_score</th>\n",
              "      <th>std_train_score</th>\n",
              "    </tr>\n",
              "  </thead>\n",
              "  <tbody>\n",
              "    <tr>\n",
              "      <th>0</th>\n",
              "      <td>0.498145</td>\n",
              "      <td>0.282220</td>\n",
              "      <td>0.012458</td>\n",
              "      <td>0.001181</td>\n",
              "      <td>0.0</td>\n",
              "      <td>{'C': 1e-14}</td>\n",
              "      <td>0.493464</td>\n",
              "      <td>0.501380</td>\n",
              "      <td>0.494662</td>\n",
              "      <td>0.483918</td>\n",
              "      <td>...</td>\n",
              "      <td>0.493895</td>\n",
              "      <td>0.005674</td>\n",
              "      <td>8</td>\n",
              "      <td>0.494552</td>\n",
              "      <td>0.492287</td>\n",
              "      <td>0.494129</td>\n",
              "      <td>0.495502</td>\n",
              "      <td>0.493049</td>\n",
              "      <td>0.493904</td>\n",
              "      <td>0.001129</td>\n",
              "    </tr>\n",
              "    <tr>\n",
              "      <th>1</th>\n",
              "      <td>0.473667</td>\n",
              "      <td>0.020001</td>\n",
              "      <td>0.011170</td>\n",
              "      <td>0.000529</td>\n",
              "      <td>0.0</td>\n",
              "      <td>{'C': 1e-12}</td>\n",
              "      <td>0.648404</td>\n",
              "      <td>0.649002</td>\n",
              "      <td>0.644544</td>\n",
              "      <td>0.623139</td>\n",
              "      <td>...</td>\n",
              "      <td>0.640783</td>\n",
              "      <td>0.009538</td>\n",
              "      <td>7</td>\n",
              "      <td>0.646727</td>\n",
              "      <td>0.643473</td>\n",
              "      <td>0.646676</td>\n",
              "      <td>0.631042</td>\n",
              "      <td>0.636423</td>\n",
              "      <td>0.640868</td>\n",
              "      <td>0.006183</td>\n",
              "    </tr>\n",
              "    <tr>\n",
              "      <th>2</th>\n",
              "      <td>0.629013</td>\n",
              "      <td>0.036261</td>\n",
              "      <td>0.012449</td>\n",
              "      <td>0.001900</td>\n",
              "      <td>0.0</td>\n",
              "      <td>{'C': 1e-10}</td>\n",
              "      <td>0.913946</td>\n",
              "      <td>0.912940</td>\n",
              "      <td>0.906734</td>\n",
              "      <td>0.905838</td>\n",
              "      <td>...</td>\n",
              "      <td>0.909631</td>\n",
              "      <td>0.003262</td>\n",
              "      <td>5</td>\n",
              "      <td>0.909595</td>\n",
              "      <td>0.909891</td>\n",
              "      <td>0.910454</td>\n",
              "      <td>0.910568</td>\n",
              "      <td>0.907838</td>\n",
              "      <td>0.909669</td>\n",
              "      <td>0.000983</td>\n",
              "    </tr>\n",
              "    <tr>\n",
              "      <th>3</th>\n",
              "      <td>0.842081</td>\n",
              "      <td>0.057123</td>\n",
              "      <td>0.011926</td>\n",
              "      <td>0.001936</td>\n",
              "      <td>0.0</td>\n",
              "      <td>{'C': 1e-08}</td>\n",
              "      <td>0.914520</td>\n",
              "      <td>0.913422</td>\n",
              "      <td>0.907616</td>\n",
              "      <td>0.906392</td>\n",
              "      <td>...</td>\n",
              "      <td>0.910786</td>\n",
              "      <td>0.003215</td>\n",
              "      <td>4</td>\n",
              "      <td>0.910324</td>\n",
              "      <td>0.910424</td>\n",
              "      <td>0.911060</td>\n",
              "      <td>0.911232</td>\n",
              "      <td>0.910837</td>\n",
              "      <td>0.910776</td>\n",
              "      <td>0.000352</td>\n",
              "    </tr>\n",
              "    <tr>\n",
              "      <th>4</th>\n",
              "      <td>1.695732</td>\n",
              "      <td>0.324417</td>\n",
              "      <td>0.014044</td>\n",
              "      <td>0.006886</td>\n",
              "      <td>0.000001</td>\n",
              "      <td>{'C': 1e-06}</td>\n",
              "      <td>0.903676</td>\n",
              "      <td>0.895377</td>\n",
              "      <td>0.915762</td>\n",
              "      <td>0.911760</td>\n",
              "      <td>...</td>\n",
              "      <td>0.907191</td>\n",
              "      <td>0.007086</td>\n",
              "      <td>6</td>\n",
              "      <td>0.903090</td>\n",
              "      <td>0.899415</td>\n",
              "      <td>0.911882</td>\n",
              "      <td>0.911241</td>\n",
              "      <td>0.912528</td>\n",
              "      <td>0.907631</td>\n",
              "      <td>0.005352</td>\n",
              "    </tr>\n",
              "  </tbody>\n",
              "</table>\n",
              "<p>5 rows × 21 columns</p>\n",
              "</div>\n",
              "      <button class=\"colab-df-convert\" onclick=\"convertToInteractive('df-8723f186-7908-46bd-b356-4a0a520720b2')\"\n",
              "              title=\"Convert this dataframe to an interactive table.\"\n",
              "              style=\"display:none;\">\n",
              "        \n",
              "  <svg xmlns=\"http://www.w3.org/2000/svg\" height=\"24px\"viewBox=\"0 0 24 24\"\n",
              "       width=\"24px\">\n",
              "    <path d=\"M0 0h24v24H0V0z\" fill=\"none\"/>\n",
              "    <path d=\"M18.56 5.44l.94 2.06.94-2.06 2.06-.94-2.06-.94-.94-2.06-.94 2.06-2.06.94zm-11 1L8.5 8.5l.94-2.06 2.06-.94-2.06-.94L8.5 2.5l-.94 2.06-2.06.94zm10 10l.94 2.06.94-2.06 2.06-.94-2.06-.94-.94-2.06-.94 2.06-2.06.94z\"/><path d=\"M17.41 7.96l-1.37-1.37c-.4-.4-.92-.59-1.43-.59-.52 0-1.04.2-1.43.59L10.3 9.45l-7.72 7.72c-.78.78-.78 2.05 0 2.83L4 21.41c.39.39.9.59 1.41.59.51 0 1.02-.2 1.41-.59l7.78-7.78 2.81-2.81c.8-.78.8-2.07 0-2.86zM5.41 20L4 18.59l7.72-7.72 1.47 1.35L5.41 20z\"/>\n",
              "  </svg>\n",
              "      </button>\n",
              "      \n",
              "  <style>\n",
              "    .colab-df-container {\n",
              "      display:flex;\n",
              "      flex-wrap:wrap;\n",
              "      gap: 12px;\n",
              "    }\n",
              "\n",
              "    .colab-df-convert {\n",
              "      background-color: #E8F0FE;\n",
              "      border: none;\n",
              "      border-radius: 50%;\n",
              "      cursor: pointer;\n",
              "      display: none;\n",
              "      fill: #1967D2;\n",
              "      height: 32px;\n",
              "      padding: 0 0 0 0;\n",
              "      width: 32px;\n",
              "    }\n",
              "\n",
              "    .colab-df-convert:hover {\n",
              "      background-color: #E2EBFA;\n",
              "      box-shadow: 0px 1px 2px rgba(60, 64, 67, 0.3), 0px 1px 3px 1px rgba(60, 64, 67, 0.15);\n",
              "      fill: #174EA6;\n",
              "    }\n",
              "\n",
              "    [theme=dark] .colab-df-convert {\n",
              "      background-color: #3B4455;\n",
              "      fill: #D2E3FC;\n",
              "    }\n",
              "\n",
              "    [theme=dark] .colab-df-convert:hover {\n",
              "      background-color: #434B5C;\n",
              "      box-shadow: 0px 1px 3px 1px rgba(0, 0, 0, 0.15);\n",
              "      filter: drop-shadow(0px 1px 2px rgba(0, 0, 0, 0.3));\n",
              "      fill: #FFFFFF;\n",
              "    }\n",
              "  </style>\n",
              "\n",
              "      <script>\n",
              "        const buttonEl =\n",
              "          document.querySelector('#df-8723f186-7908-46bd-b356-4a0a520720b2 button.colab-df-convert');\n",
              "        buttonEl.style.display =\n",
              "          google.colab.kernel.accessAllowed ? 'block' : 'none';\n",
              "\n",
              "        async function convertToInteractive(key) {\n",
              "          const element = document.querySelector('#df-8723f186-7908-46bd-b356-4a0a520720b2');\n",
              "          const dataTable =\n",
              "            await google.colab.kernel.invokeFunction('convertToInteractive',\n",
              "                                                     [key], {});\n",
              "          if (!dataTable) return;\n",
              "\n",
              "          const docLinkHtml = 'Like what you see? Visit the ' +\n",
              "            '<a target=\"_blank\" href=https://colab.research.google.com/notebooks/data_table.ipynb>data table notebook</a>'\n",
              "            + ' to learn more about interactive tables.';\n",
              "          element.innerHTML = '';\n",
              "          dataTable['output_type'] = 'display_data';\n",
              "          await google.colab.output.renderOutput(dataTable, element);\n",
              "          const docLink = document.createElement('div');\n",
              "          docLink.innerHTML = docLinkHtml;\n",
              "          element.appendChild(docLink);\n",
              "        }\n",
              "      </script>\n",
              "    </div>\n",
              "  </div>\n",
              "  "
            ]
          },
          "metadata": {},
          "execution_count": 14
        }
      ]
    },
    {
      "cell_type": "markdown",
      "source": [
        "Observations:\n",
        "* Using C = 0.0001, we get a pretty good result, thus we use C = 0.0001 for training our Logisitic Regression Model\n",
        "* Using C = 0.01 and C = 0.1, the performance of the model does not improve much, so we are not considering these values for C\n",
        "* With the default value for max_iteration, the model was not able to converge, used max_iter = 1000"
      ],
      "metadata": {
        "id": "OeOFDbCo0Xta"
      }
    },
    {
      "cell_type": "markdown",
      "source": [
        "### 1.1.2 Training the Logistic Regression Models using best hyperparameters"
      ],
      "metadata": {
        "id": "T4P1BVN71Ngi"
      }
    },
    {
      "cell_type": "code",
      "execution_count": null,
      "metadata": {
        "colab": {
          "base_uri": "https://localhost:8080/"
        },
        "id": "1NS9YO5Jic6d",
        "outputId": "252d2597-1792-4e40-eec0-3838f1752211"
      },
      "outputs": [
        {
          "output_type": "stream",
          "name": "stderr",
          "text": [
            "[Parallel(n_jobs=-1)]: Using backend LokyBackend with 2 concurrent workers.\n",
            "[Parallel(n_jobs=-1)]: Done   1 out of   1 | elapsed:    2.2s finished\n"
          ]
        }
      ],
      "source": [
        "clf = LogisticRegression(max_iter = 10000,n_jobs=-1,verbose = 3,C = 0.0001)\n",
        "clf.fit(X_train,y_train)\n",
        "y_cv_pred = clf.predict(X_cv)"
      ]
    },
    {
      "cell_type": "markdown",
      "source": [
        "### 1.1.3 Feature Importance using Logistic Regression\n",
        "\n"
      ],
      "metadata": {
        "id": "PfM9auFk3EFc"
      }
    },
    {
      "cell_type": "code",
      "source": [
        "# get importance\n",
        "feat_imp = {}\n",
        "importance = clf.coef_\n",
        "# summarize feature importance\n",
        "for i,v in enumerate(importance[0]):\n",
        "\tfeat_imp[X_train.columns[i]] = v\n",
        "\tprint('%s, Score: %.5f' % (X_train.columns[i],v))"
      ],
      "metadata": {
        "colab": {
          "base_uri": "https://localhost:8080/"
        },
        "id": "2QLjo13stc_B",
        "outputId": "8379ce2b-b9eb-4583-8271-9b58e6485c7a"
      },
      "execution_count": null,
      "outputs": [
        {
          "output_type": "stream",
          "name": "stdout",
          "text": [
            "CODE_GENDER, Score: 0.02521\n",
            "FLAG_OWN_CAR, Score: 0.03442\n",
            "FLAG_OWN_REALTY, Score: 0.04370\n",
            "CNT_CHILDREN, Score: 0.01003\n",
            "AMT_INCOME_TOTAL, Score: 0.00001\n",
            "AGE, Score: -0.02130\n",
            "FLAG_MOBIL, Score: 0.02396\n",
            "FLAG_WORK_PHONE, Score: 0.02011\n",
            "FLAG_PHONE, Score: 0.02188\n",
            "FLAG_EMAIL, Score: 0.00925\n",
            "CNT_FAM_MEMBERS, Score: 0.00635\n",
            "YEARS_EMPLOYED, Score: 0.00104\n",
            "Bad_Debt, Score: -0.76367\n",
            "Good_Debt, Score: 0.04009\n",
            "Neutral_Debt, Score: -0.11944\n",
            "NAME_INCOME_TYPE_Commercial associate, Score: 0.01990\n",
            "NAME_INCOME_TYPE_Pensioner, Score: 0.01618\n",
            "NAME_INCOME_TYPE_State servant, Score: 0.00974\n",
            "NAME_INCOME_TYPE_Student, Score: 0.00004\n",
            "NAME_INCOME_TYPE_Working, Score: 0.03960\n",
            "NAME_EDUCATION_TYPE_Academic degree, Score: 0.00008\n",
            "NAME_EDUCATION_TYPE_Higher education, Score: 0.02518\n",
            "NAME_EDUCATION_TYPE_Incomplete higher, Score: 0.00442\n",
            "NAME_EDUCATION_TYPE_Lower secondary, Score: 0.00122\n",
            "NAME_EDUCATION_TYPE_Secondary / secondary special, Score: 0.03224\n",
            "NAME_FAMILY_STATUS_Civil marriage, Score: 0.00965\n",
            "NAME_FAMILY_STATUS_Married, Score: 0.03775\n",
            "NAME_FAMILY_STATUS_Separated, Score: 0.00652\n",
            "NAME_FAMILY_STATUS_Single / not married, Score: 0.01276\n",
            "NAME_FAMILY_STATUS_Widow, Score: 0.00600\n",
            "NAME_HOUSING_TYPE_Co-op apartment, Score: 0.00049\n",
            "NAME_HOUSING_TYPE_House / apartment, Score: 0.03346\n",
            "NAME_HOUSING_TYPE_Municipal apartment, Score: 0.00325\n",
            "NAME_HOUSING_TYPE_Office apartment, Score: 0.00093\n",
            "NAME_HOUSING_TYPE_Rented apartment, Score: 0.00196\n",
            "NAME_HOUSING_TYPE_With parents, Score: 0.00610\n",
            "OCCUPATION_TYPE_Accountants, Score: 0.00413\n",
            "OCCUPATION_TYPE_Cleaning staff, Score: 0.00191\n",
            "OCCUPATION_TYPE_Cooking staff, Score: 0.00204\n",
            "OCCUPATION_TYPE_Core staff, Score: 0.00735\n",
            "OCCUPATION_TYPE_Drivers, Score: 0.00684\n",
            "OCCUPATION_TYPE_HR staff, Score: 0.00029\n",
            "OCCUPATION_TYPE_High skill tech staff, Score: 0.00391\n",
            "OCCUPATION_TYPE_IT staff, Score: 0.00021\n",
            "OCCUPATION_TYPE_Laborers, Score: 0.01654\n",
            "OCCUPATION_TYPE_Low-skill Laborers, Score: 0.00059\n",
            "OCCUPATION_TYPE_Managers, Score: 0.00824\n",
            "OCCUPATION_TYPE_Medicine staff, Score: 0.00402\n",
            "OCCUPATION_TYPE_NAN, Score: 0.03072\n",
            "OCCUPATION_TYPE_Private service staff, Score: 0.00123\n",
            "OCCUPATION_TYPE_Realty agents, Score: 0.00030\n",
            "OCCUPATION_TYPE_Sales staff, Score: 0.01148\n",
            "OCCUPATION_TYPE_Secretaries, Score: 0.00004\n",
            "OCCUPATION_TYPE_Security staff, Score: 0.00160\n",
            "OCCUPATION_TYPE_Waiters/barmen staff, Score: 0.00064\n"
          ]
        }
      ]
    },
    {
      "cell_type": "markdown",
      "source": [
        "### 1.1.4 Confusion Matrix and other Metrics for Cross Validation Data"
      ],
      "metadata": {
        "id": "bSxL8iNq3Sog"
      }
    },
    {
      "cell_type": "code",
      "execution_count": null,
      "metadata": {
        "colab": {
          "base_uri": "https://localhost:8080/",
          "height": 525
        },
        "id": "gK2cR9MxuQtL",
        "outputId": "0e7d4e84-dd64-4c40-f6a4-36cf85dd4d21"
      },
      "outputs": [
        {
          "output_type": "stream",
          "name": "stdout",
          "text": [
            "True positive =  7370\n",
            "False positive =  724\n",
            "False negative =  70\n",
            "True negative =  8166\n",
            "ACCURACY SCORE--> 0.9513778322106552\n",
            "              precision    recall  f1-score   support\n",
            "\n",
            "         0.0       0.99      0.91      0.95      8094\n",
            "         1.0       0.92      0.99      0.95      8236\n",
            "\n",
            "    accuracy                           0.95     16330\n",
            "   macro avg       0.95      0.95      0.95     16330\n",
            "weighted avg       0.95      0.95      0.95     16330\n",
            "\n"
          ]
        },
        {
          "output_type": "display_data",
          "data": {
            "text/plain": [
              "<Figure size 432x288 with 2 Axes>"
            ],
            "image/png": "[encoded data removed]"
          },
          "metadata": {
            "needs_background": "light"
          }
        }
      ],
      "source": [
        "cm = confusion_matrix(y_cv, y_cv_pred)\n",
        "print_confusion_matrix(y_cv,y_cv_pred)\n",
        "print(\"ACCURACY SCORE-->\",accuracy_score(y_cv, y_cv_pred))\n",
        "sn.heatmap(cm/np.sum(cm), annot=True,fmt='.2%', cmap='Blues')\n",
        "print(classification_report(y_cv,y_cv_pred))"
      ]
    },
    {
      "cell_type": "markdown",
      "source": [
        "## 1.2 Decision Tree"
      ],
      "metadata": {
        "id": "64ZePcHok9L-"
      }
    },
    {
      "cell_type": "markdown",
      "source": [
        "### 1.2.1 Performing Grid Search CV for hyperparameter tuning"
      ],
      "metadata": {
        "id": "m7WjFGMd4NuH"
      }
    },
    {
      "cell_type": "code",
      "execution_count": null,
      "metadata": {
        "id": "IwjptxkENvK5",
        "colab": {
          "base_uri": "https://localhost:8080/"
        },
        "outputId": "0cce3226-efc6-4c92-9502-4378edf585ae"
      },
      "outputs": [
        {
          "output_type": "stream",
          "name": "stdout",
          "text": [
            "Fitting 5 folds for each of 6 candidates, totalling 30 fits\n",
            "[CV 1/5] END ...max_depth=1;, score=(train=0.998, test=0.998) total time=   0.1s\n",
            "[CV 2/5] END ...max_depth=1;, score=(train=0.998, test=0.998) total time=   0.1s\n",
            "[CV 3/5] END ...max_depth=1;, score=(train=0.998, test=0.998) total time=   0.1s\n",
            "[CV 4/5] END ...max_depth=1;, score=(train=0.998, test=0.998) total time=   0.1s\n",
            "[CV 5/5] END ...max_depth=1;, score=(train=0.998, test=0.999) total time=   0.1s\n",
            "[CV 1/5] END ...max_depth=2;, score=(train=0.998, test=0.999) total time=   0.1s\n",
            "[CV 2/5] END ...max_depth=2;, score=(train=0.999, test=0.998) total time=   0.1s\n",
            "[CV 3/5] END ...max_depth=2;, score=(train=0.998, test=0.998) total time=   0.1s\n",
            "[CV 4/5] END ...max_depth=2;, score=(train=0.998, test=0.999) total time=   0.1s\n",
            "[CV 5/5] END ...max_depth=2;, score=(train=0.998, test=0.999) total time=   0.1s\n",
            "[CV 1/5] END ...max_depth=5;, score=(train=0.999, test=0.999) total time=   0.1s\n",
            "[CV 2/5] END ...max_depth=5;, score=(train=0.999, test=0.998) total time=   0.1s\n",
            "[CV 3/5] END ...max_depth=5;, score=(train=0.999, test=0.998) total time=   0.1s\n",
            "[CV 4/5] END ...max_depth=5;, score=(train=0.998, test=0.999) total time=   0.1s\n",
            "[CV 5/5] END ...max_depth=5;, score=(train=0.998, test=0.999) total time=   0.1s\n",
            "[CV 1/5] END ..max_depth=10;, score=(train=0.999, test=0.999) total time=   0.2s\n",
            "[CV 2/5] END ..max_depth=10;, score=(train=0.999, test=0.998) total time=   0.2s\n",
            "[CV 3/5] END ..max_depth=10;, score=(train=0.999, test=0.998) total time=   0.2s\n",
            "[CV 4/5] END ..max_depth=10;, score=(train=0.999, test=0.999) total time=   0.2s\n",
            "[CV 5/5] END ..max_depth=10;, score=(train=0.999, test=0.999) total time=   0.2s\n",
            "[CV 1/5] END ..max_depth=20;, score=(train=1.000, test=0.999) total time=   0.3s\n",
            "[CV 2/5] END ..max_depth=20;, score=(train=1.000, test=0.999) total time=   0.3s\n",
            "[CV 3/5] END ..max_depth=20;, score=(train=1.000, test=0.999) total time=   0.3s\n",
            "[CV 4/5] END ..max_depth=20;, score=(train=1.000, test=1.000) total time=   0.3s\n",
            "[CV 5/5] END ..max_depth=20;, score=(train=1.000, test=1.000) total time=   0.3s\n",
            "[CV 1/5] END ..max_depth=30;, score=(train=1.000, test=0.999) total time=   0.3s\n",
            "[CV 2/5] END ..max_depth=30;, score=(train=1.000, test=1.000) total time=   0.3s\n",
            "[CV 3/5] END ..max_depth=30;, score=(train=1.000, test=0.999) total time=   0.3s\n",
            "[CV 4/5] END ..max_depth=30;, score=(train=1.000, test=1.000) total time=   0.3s\n",
            "[CV 5/5] END ..max_depth=30;, score=(train=1.000, test=1.000) total time=   0.3s\n"
          ]
        },
        {
          "output_type": "execute_result",
          "data": {
            "text/plain": [
              "GridSearchCV(cv=5, error_score=0, estimator=DecisionTreeClassifier(),\n",
              "             param_grid={'max_depth': [1, 2, 5, 10, 20, 30]},\n",
              "             return_train_score=True, scoring='roc_auc', verbose=3)"
            ]
          },
          "metadata": {},
          "execution_count": 19
        }
      ],
      "source": [
        "# define models and parameters\n",
        "model = DecisionTreeClassifier()\n",
        "max_depth = [1,2,5,10,20,30]\n",
        "\n",
        "# define grid search\n",
        "grid = dict(max_depth=max_depth)\n",
        "clf = GridSearchCV(estimator=model, param_grid=grid, verbose = 3, cv=5, scoring='roc_auc',error_score=0,return_train_score=True)\n",
        "clf.fit(X_train, y_train)"
      ]
    },
    {
      "cell_type": "code",
      "execution_count": null,
      "metadata": {
        "id": "R5WDgMI1NvHp",
        "colab": {
          "base_uri": "https://localhost:8080/"
        },
        "outputId": "9b22fa89-06ff-414b-8137-7831692e187f"
      },
      "outputs": [
        {
          "output_type": "display_data",
          "data": {
            "text/plain": [
              "<Figure size 432x288 with 1 Axes>"
            ],
            "image/png": "[encoded data removed]"
          },
          "metadata": {
            "needs_background": "light"
          }
        },
        {
          "output_type": "execute_result",
          "data": {
            "text/plain": [
              "   mean_fit_time  std_fit_time  mean_score_time  std_score_time  \\\n",
              "0       0.049671      0.001489         0.008572        0.000435   \n",
              "1       0.069949      0.004301         0.009003        0.000356   \n",
              "2       0.115684      0.004827         0.009586        0.001570   \n",
              "3       0.184377      0.003645         0.009044        0.000168   \n",
              "4       0.293458      0.021972         0.009211        0.000243   \n",
              "\n",
              "  param_max_depth             params  split0_test_score  split1_test_score  \\\n",
              "0               1   {'max_depth': 1}           0.998260           0.997748   \n",
              "1               2   {'max_depth': 2}           0.998566           0.997851   \n",
              "2               5   {'max_depth': 5}           0.998567           0.997954   \n",
              "3              10  {'max_depth': 10}           0.998561           0.998166   \n",
              "4              20  {'max_depth': 20}           0.999480           0.999489   \n",
              "\n",
              "   split2_test_score  split3_test_score  ...  mean_test_score  std_test_score  \\\n",
              "0           0.998158           0.998465  ...         0.998260        0.000310   \n",
              "1           0.998260           0.998669  ...         0.998403        0.000314   \n",
              "2           0.998158           0.998874  ...         0.998424        0.000327   \n",
              "3           0.998150           0.998974  ...         0.998505        0.000314   \n",
              "4           0.999286           0.999795  ...         0.999549        0.000179   \n",
              "\n",
              "   rank_test_score  split0_train_score  split1_train_score  \\\n",
              "0                6            0.998260            0.998388   \n",
              "1                5            0.998362            0.998541   \n",
              "2                4            0.998567            0.998670   \n",
              "3                3            0.998818            0.998955   \n",
              "4                1            0.999999            1.000000   \n",
              "\n",
              "   split2_train_score  split3_train_score  split4_train_score  \\\n",
              "0            0.998285            0.998209            0.998158   \n",
              "1            0.998439            0.998336            0.998337   \n",
              "2            0.998644            0.998465            0.998490   \n",
              "3            0.999224            0.998975            0.998802   \n",
              "4            1.000000            1.000000            1.000000   \n",
              "\n",
              "   mean_train_score  std_train_score  \n",
              "0          0.998260     7.761785e-05  \n",
              "1          0.998403     7.859740e-05  \n",
              "2          0.998567     8.091080e-05  \n",
              "3          0.998955     1.515257e-04  \n",
              "4          1.000000     3.384118e-07  \n",
              "\n",
              "[5 rows x 21 columns]"
            ],
            "text/html": [
              "\n",
              "  <div id=\"df-776ed06c-76f1-43a0-a677-947865b19ff1\">\n",
              "    <div class=\"colab-df-container\">\n",
              "      <div>\n",
              "<style scoped>\n",
              "    .dataframe tbody tr th:only-of-type {\n",
              "        vertical-align: middle;\n",
              "    }\n",
              "\n",
              "    .dataframe tbody tr th {\n",
              "        vertical-align: top;\n",
              "    }\n",
              "\n",
              "    .dataframe thead th {\n",
              "        text-align: right;\n",
              "    }\n",
              "</style>\n",
              "<table border=\"1\" class=\"dataframe\">\n",
              "  <thead>\n",
              "    <tr style=\"text-align: right;\">\n",
              "      <th></th>\n",
              "      <th>mean_fit_time</th>\n",
              "      <th>std_fit_time</th>\n",
              "      <th>mean_score_time</th>\n",
              "      <th>std_score_time</th>\n",
              "      <th>param_max_depth</th>\n",
              "      <th>params</th>\n",
              "      <th>split0_test_score</th>\n",
              "      <th>split1_test_score</th>\n",
              "      <th>split2_test_score</th>\n",
              "      <th>split3_test_score</th>\n",
              "      <th>...</th>\n",
              "      <th>mean_test_score</th>\n",
              "      <th>std_test_score</th>\n",
              "      <th>rank_test_score</th>\n",
              "      <th>split0_train_score</th>\n",
              "      <th>split1_train_score</th>\n",
              "      <th>split2_train_score</th>\n",
              "      <th>split3_train_score</th>\n",
              "      <th>split4_train_score</th>\n",
              "      <th>mean_train_score</th>\n",
              "      <th>std_train_score</th>\n",
              "    </tr>\n",
              "  </thead>\n",
              "  <tbody>\n",
              "    <tr>\n",
              "      <th>0</th>\n",
              "      <td>0.049671</td>\n",
              "      <td>0.001489</td>\n",
              "      <td>0.008572</td>\n",
              "      <td>0.000435</td>\n",
              "      <td>1</td>\n",
              "      <td>{'max_depth': 1}</td>\n",
              "      <td>0.998260</td>\n",
              "      <td>0.997748</td>\n",
              "      <td>0.998158</td>\n",
              "      <td>0.998465</td>\n",
              "      <td>...</td>\n",
              "      <td>0.998260</td>\n",
              "      <td>0.000310</td>\n",
              "      <td>6</td>\n",
              "      <td>0.998260</td>\n",
              "      <td>0.998388</td>\n",
              "      <td>0.998285</td>\n",
              "      <td>0.998209</td>\n",
              "      <td>0.998158</td>\n",
              "      <td>0.998260</td>\n",
              "      <td>7.761785e-05</td>\n",
              "    </tr>\n",
              "    <tr>\n",
              "      <th>1</th>\n",
              "      <td>0.069949</td>\n",
              "      <td>0.004301</td>\n",
              "      <td>0.009003</td>\n",
              "      <td>0.000356</td>\n",
              "      <td>2</td>\n",
              "      <td>{'max_depth': 2}</td>\n",
              "      <td>0.998566</td>\n",
              "      <td>0.997851</td>\n",
              "      <td>0.998260</td>\n",
              "      <td>0.998669</td>\n",
              "      <td>...</td>\n",
              "      <td>0.998403</td>\n",
              "      <td>0.000314</td>\n",
              "      <td>5</td>\n",
              "      <td>0.998362</td>\n",
              "      <td>0.998541</td>\n",
              "      <td>0.998439</td>\n",
              "      <td>0.998336</td>\n",
              "      <td>0.998337</td>\n",
              "      <td>0.998403</td>\n",
              "      <td>7.859740e-05</td>\n",
              "    </tr>\n",
              "    <tr>\n",
              "      <th>2</th>\n",
              "      <td>0.115684</td>\n",
              "      <td>0.004827</td>\n",
              "      <td>0.009586</td>\n",
              "      <td>0.001570</td>\n",
              "      <td>5</td>\n",
              "      <td>{'max_depth': 5}</td>\n",
              "      <td>0.998567</td>\n",
              "      <td>0.997954</td>\n",
              "      <td>0.998158</td>\n",
              "      <td>0.998874</td>\n",
              "      <td>...</td>\n",
              "      <td>0.998424</td>\n",
              "      <td>0.000327</td>\n",
              "      <td>4</td>\n",
              "      <td>0.998567</td>\n",
              "      <td>0.998670</td>\n",
              "      <td>0.998644</td>\n",
              "      <td>0.998465</td>\n",
              "      <td>0.998490</td>\n",
              "      <td>0.998567</td>\n",
              "      <td>8.091080e-05</td>\n",
              "    </tr>\n",
              "    <tr>\n",
              "      <th>3</th>\n",
              "      <td>0.184377</td>\n",
              "      <td>0.003645</td>\n",
              "      <td>0.009044</td>\n",
              "      <td>0.000168</td>\n",
              "      <td>10</td>\n",
              "      <td>{'max_depth': 10}</td>\n",
              "      <td>0.998561</td>\n",
              "      <td>0.998166</td>\n",
              "      <td>0.998150</td>\n",
              "      <td>0.998974</td>\n",
              "      <td>...</td>\n",
              "      <td>0.998505</td>\n",
              "      <td>0.000314</td>\n",
              "      <td>3</td>\n",
              "      <td>0.998818</td>\n",
              "      <td>0.998955</td>\n",
              "      <td>0.999224</td>\n",
              "      <td>0.998975</td>\n",
              "      <td>0.998802</td>\n",
              "      <td>0.998955</td>\n",
              "      <td>1.515257e-04</td>\n",
              "    </tr>\n",
              "    <tr>\n",
              "      <th>4</th>\n",
              "      <td>0.293458</td>\n",
              "      <td>0.021972</td>\n",
              "      <td>0.009211</td>\n",
              "      <td>0.000243</td>\n",
              "      <td>20</td>\n",
              "      <td>{'max_depth': 20}</td>\n",
              "      <td>0.999480</td>\n",
              "      <td>0.999489</td>\n",
              "      <td>0.999286</td>\n",
              "      <td>0.999795</td>\n",
              "      <td>...</td>\n",
              "      <td>0.999549</td>\n",
              "      <td>0.000179</td>\n",
              "      <td>1</td>\n",
              "      <td>0.999999</td>\n",
              "      <td>1.000000</td>\n",
              "      <td>1.000000</td>\n",
              "      <td>1.000000</td>\n",
              "      <td>1.000000</td>\n",
              "      <td>1.000000</td>\n",
              "      <td>3.384118e-07</td>\n",
              "    </tr>\n",
              "  </tbody>\n",
              "</table>\n",
              "<p>5 rows × 21 columns</p>\n",
              "</div>\n",
              "      <button class=\"colab-df-convert\" onclick=\"convertToInteractive('df-776ed06c-76f1-43a0-a677-947865b19ff1')\"\n",
              "              title=\"Convert this dataframe to an interactive table.\"\n",
              "              style=\"display:none;\">\n",
              "        \n",
              "  <svg xmlns=\"http://www.w3.org/2000/svg\" height=\"24px\"viewBox=\"0 0 24 24\"\n",
              "       width=\"24px\">\n",
              "    <path d=\"M0 0h24v24H0V0z\" fill=\"none\"/>\n",
              "    <path d=\"M18.56 5.44l.94 2.06.94-2.06 2.06-.94-2.06-.94-.94-2.06-.94 2.06-2.06.94zm-11 1L8.5 8.5l.94-2.06 2.06-.94-2.06-.94L8.5 2.5l-.94 2.06-2.06.94zm10 10l.94 2.06.94-2.06 2.06-.94-2.06-.94-.94-2.06-.94 2.06-2.06.94z\"/><path d=\"M17.41 7.96l-1.37-1.37c-.4-.4-.92-.59-1.43-.59-.52 0-1.04.2-1.43.59L10.3 9.45l-7.72 7.72c-.78.78-.78 2.05 0 2.83L4 21.41c.39.39.9.59 1.41.59.51 0 1.02-.2 1.41-.59l7.78-7.78 2.81-2.81c.8-.78.8-2.07 0-2.86zM5.41 20L4 18.59l7.72-7.72 1.47 1.35L5.41 20z\"/>\n",
              "  </svg>\n",
              "      </button>\n",
              "      \n",
              "  <style>\n",
              "    .colab-df-container {\n",
              "      display:flex;\n",
              "      flex-wrap:wrap;\n",
              "      gap: 12px;\n",
              "    }\n",
              "\n",
              "    .colab-df-convert {\n",
              "      background-color: #E8F0FE;\n",
              "      border: none;\n",
              "      border-radius: 50%;\n",
              "      cursor: pointer;\n",
              "      display: none;\n",
              "      fill: #1967D2;\n",
              "      height: 32px;\n",
              "      padding: 0 0 0 0;\n",
              "      width: 32px;\n",
              "    }\n",
              "\n",
              "    .colab-df-convert:hover {\n",
              "      background-color: #E2EBFA;\n",
              "      box-shadow: 0px 1px 2px rgba(60, 64, 67, 0.3), 0px 1px 3px 1px rgba(60, 64, 67, 0.15);\n",
              "      fill: #174EA6;\n",
              "    }\n",
              "\n",
              "    [theme=dark] .colab-df-convert {\n",
              "      background-color: #3B4455;\n",
              "      fill: #D2E3FC;\n",
              "    }\n",
              "\n",
              "    [theme=dark] .colab-df-convert:hover {\n",
              "      background-color: #434B5C;\n",
              "      box-shadow: 0px 1px 3px 1px rgba(0, 0, 0, 0.15);\n",
              "      filter: drop-shadow(0px 1px 2px rgba(0, 0, 0, 0.3));\n",
              "      fill: #FFFFFF;\n",
              "    }\n",
              "  </style>\n",
              "\n",
              "      <script>\n",
              "        const buttonEl =\n",
              "          document.querySelector('#df-776ed06c-76f1-43a0-a677-947865b19ff1 button.colab-df-convert');\n",
              "        buttonEl.style.display =\n",
              "          google.colab.kernel.accessAllowed ? 'block' : 'none';\n",
              "\n",
              "        async function convertToInteractive(key) {\n",
              "          const element = document.querySelector('#df-776ed06c-76f1-43a0-a677-947865b19ff1');\n",
              "          const dataTable =\n",
              "            await google.colab.kernel.invokeFunction('convertToInteractive',\n",
              "                                                     [key], {});\n",
              "          if (!dataTable) return;\n",
              "\n",
              "          const docLinkHtml = 'Like what you see? Visit the ' +\n",
              "            '<a target=\"_blank\" href=https://colab.research.google.com/notebooks/data_table.ipynb>data table notebook</a>'\n",
              "            + ' to learn more about interactive tables.';\n",
              "          element.innerHTML = '';\n",
              "          dataTable['output_type'] = 'display_data';\n",
              "          await google.colab.output.renderOutput(dataTable, element);\n",
              "          const docLink = document.createElement('div');\n",
              "          docLink.innerHTML = docLinkHtml;\n",
              "          element.appendChild(docLink);\n",
              "        }\n",
              "      </script>\n",
              "    </div>\n",
              "  </div>\n",
              "  "
            ]
          },
          "metadata": {},
          "execution_count": 20
        }
      ],
      "source": [
        "import math\n",
        "results = pd.DataFrame.from_dict(clf.cv_results_)\n",
        "\n",
        "\n",
        "train_auc= results['mean_train_score']\n",
        "train_auc_std= results['std_train_score']\n",
        "cv_auc = results['mean_test_score'] \n",
        "cv_auc_std= results['std_test_score']\n",
        "\n",
        "\n",
        "plt.plot(max_depth, train_auc, label='Train AUC')\n",
        "plt.plot(max_depth, cv_auc, label='CV AUC')\n",
        "\n",
        "plt.scatter(max_depth, train_auc, label='Train AUC points')\n",
        "plt.scatter(max_depth, cv_auc, label='CV AUC points')\n",
        "\n",
        "\n",
        "plt.legend()\n",
        "plt.xlabel(\"max_depth: hyperparameter\")\n",
        "plt.ylabel(\"AUC\")\n",
        "plt.title(\"Hyper parameter Vs AUC plot\")\n",
        "plt.grid()\n",
        "plt.show()\n",
        "\n",
        "results.head()"
      ]
    },
    {
      "cell_type": "markdown",
      "source": [
        "### 1.2.2 Training the Decision Tree using best hyperparameters"
      ],
      "metadata": {
        "id": "GXwtqwyQ4Wg_"
      }
    },
    {
      "cell_type": "code",
      "execution_count": null,
      "metadata": {
        "id": "5ciOCI-0moNX"
      },
      "outputs": [],
      "source": [
        "clf = DecisionTreeClassifier(max_depth = 2)\n",
        "clf.fit(X_train,y_train)\n",
        "y_cv_pred = clf.predict(X_cv)"
      ]
    },
    {
      "cell_type": "markdown",
      "source": [
        "### 1.2.3 Feature Importance using Decision Tree"
      ],
      "metadata": {
        "id": "pbtIwR-k4h4T"
      }
    },
    {
      "cell_type": "code",
      "source": [
        "# get importance\n",
        "importance = clf.feature_importances_\n",
        "# summarize feature importance\n",
        "for i,v in enumerate(importance):\n",
        "\tprint('%s, Score: %.5f' % (X_train.columns[i],v))"
      ],
      "metadata": {
        "colab": {
          "base_uri": "https://localhost:8080/"
        },
        "id": "n2hdC3YHqXLA",
        "outputId": "37a7e33b-55e8-4e0a-d489-8be6a161c6f9"
      },
      "execution_count": null,
      "outputs": [
        {
          "output_type": "stream",
          "name": "stdout",
          "text": [
            "CODE_GENDER, Score: 0.00000\n",
            "FLAG_OWN_CAR, Score: 0.00000\n",
            "FLAG_OWN_REALTY, Score: 0.00000\n",
            "CNT_CHILDREN, Score: 0.00000\n",
            "AMT_INCOME_TOTAL, Score: 0.00000\n",
            "AGE, Score: 0.00000\n",
            "FLAG_MOBIL, Score: 0.00000\n",
            "FLAG_WORK_PHONE, Score: 0.00000\n",
            "FLAG_PHONE, Score: 0.00000\n",
            "FLAG_EMAIL, Score: 0.00000\n",
            "CNT_FAM_MEMBERS, Score: 0.00000\n",
            "YEARS_EMPLOYED, Score: 0.00000\n",
            "Bad_Debt, Score: 0.99956\n",
            "Good_Debt, Score: 0.00000\n",
            "Neutral_Debt, Score: 0.00000\n",
            "NAME_INCOME_TYPE_Commercial associate, Score: 0.00000\n",
            "NAME_INCOME_TYPE_Pensioner, Score: 0.00000\n",
            "NAME_INCOME_TYPE_State servant, Score: 0.00000\n",
            "NAME_INCOME_TYPE_Student, Score: 0.00000\n",
            "NAME_INCOME_TYPE_Working, Score: 0.00000\n",
            "NAME_EDUCATION_TYPE_Academic degree, Score: 0.00000\n",
            "NAME_EDUCATION_TYPE_Higher education, Score: 0.00000\n",
            "NAME_EDUCATION_TYPE_Incomplete higher, Score: 0.00000\n",
            "NAME_EDUCATION_TYPE_Lower secondary, Score: 0.00000\n",
            "NAME_EDUCATION_TYPE_Secondary / secondary special, Score: 0.00000\n",
            "NAME_FAMILY_STATUS_Civil marriage, Score: 0.00000\n",
            "NAME_FAMILY_STATUS_Married, Score: 0.00000\n",
            "NAME_FAMILY_STATUS_Separated, Score: 0.00000\n",
            "NAME_FAMILY_STATUS_Single / not married, Score: 0.00000\n",
            "NAME_FAMILY_STATUS_Widow, Score: 0.00044\n",
            "NAME_HOUSING_TYPE_Co-op apartment, Score: 0.00000\n",
            "NAME_HOUSING_TYPE_House / apartment, Score: 0.00000\n",
            "NAME_HOUSING_TYPE_Municipal apartment, Score: 0.00000\n",
            "NAME_HOUSING_TYPE_Office apartment, Score: 0.00000\n",
            "NAME_HOUSING_TYPE_Rented apartment, Score: 0.00000\n",
            "NAME_HOUSING_TYPE_With parents, Score: 0.00000\n",
            "OCCUPATION_TYPE_Accountants, Score: 0.00000\n",
            "OCCUPATION_TYPE_Cleaning staff, Score: 0.00000\n",
            "OCCUPATION_TYPE_Cooking staff, Score: 0.00000\n",
            "OCCUPATION_TYPE_Core staff, Score: 0.00000\n",
            "OCCUPATION_TYPE_Drivers, Score: 0.00000\n",
            "OCCUPATION_TYPE_HR staff, Score: 0.00000\n",
            "OCCUPATION_TYPE_High skill tech staff, Score: 0.00000\n",
            "OCCUPATION_TYPE_IT staff, Score: 0.00000\n",
            "OCCUPATION_TYPE_Laborers, Score: 0.00000\n",
            "OCCUPATION_TYPE_Low-skill Laborers, Score: 0.00000\n",
            "OCCUPATION_TYPE_Managers, Score: 0.00000\n",
            "OCCUPATION_TYPE_Medicine staff, Score: 0.00000\n",
            "OCCUPATION_TYPE_NAN, Score: 0.00000\n",
            "OCCUPATION_TYPE_Private service staff, Score: 0.00000\n",
            "OCCUPATION_TYPE_Realty agents, Score: 0.00000\n",
            "OCCUPATION_TYPE_Sales staff, Score: 0.00000\n",
            "OCCUPATION_TYPE_Secretaries, Score: 0.00000\n",
            "OCCUPATION_TYPE_Security staff, Score: 0.00000\n",
            "OCCUPATION_TYPE_Waiters/barmen staff, Score: 0.00000\n"
          ]
        }
      ]
    },
    {
      "cell_type": "markdown",
      "source": [
        "### 1.2.4 Confusion Matrix and other Metrics for Cross Validation Data"
      ],
      "metadata": {
        "id": "ug292qHb4x1C"
      }
    },
    {
      "cell_type": "code",
      "execution_count": null,
      "metadata": {
        "colab": {
          "base_uri": "https://localhost:8080/",
          "height": 524
        },
        "outputId": "4f9dbe08-863d-40d6-b454-d09289a963a6",
        "id": "60QSvI8cmoNq"
      },
      "outputs": [
        {
          "output_type": "stream",
          "name": "stdout",
          "text": [
            "True positive =  8088\n",
            "False positive =  6\n",
            "False negative =  27\n",
            "True negative =  8209\n",
            "ACCURACY SCORE--> 0.9979791794243723\n",
            "              precision    recall  f1-score   support\n",
            "\n",
            "         0.0       1.00      1.00      1.00      8094\n",
            "         1.0       1.00      1.00      1.00      8236\n",
            "\n",
            "    accuracy                           1.00     16330\n",
            "   macro avg       1.00      1.00      1.00     16330\n",
            "weighted avg       1.00      1.00      1.00     16330\n",
            "\n"
          ]
        },
        {
          "output_type": "display_data",
          "data": {
            "text/plain": [
              "<Figure size 432x288 with 2 Axes>"
            ],
            "image/png": "[encoded data removed]"
          },
          "metadata": {
            "needs_background": "light"
          }
        }
      ],
      "source": [
        "cm = confusion_matrix(y_cv, y_cv_pred)\n",
        "print_confusion_matrix(y_cv,y_cv_pred)\n",
        "print(\"ACCURACY SCORE-->\",accuracy_score(y_cv, y_cv_pred))\n",
        "sn.heatmap(cm/np.sum(cm), annot=True,fmt='.2%', cmap='Blues')\n",
        "print(classification_report(y_cv,y_cv_pred))"
      ]
    },
    {
      "cell_type": "markdown",
      "metadata": {
        "id": "QzpffwHqJW3e"
      },
      "source": [
        "## 1.3 Random Forest"
      ]
    },
    {
      "cell_type": "markdown",
      "source": [
        "### 1.3.1 Performing Grid Search CV for hyperparameter tuning"
      ],
      "metadata": {
        "id": "HPJLltv-v0La"
      }
    },
    {
      "cell_type": "code",
      "source": [
        "# define models and parameters\n",
        "model = RandomForestClassifier(random_state = 7)\n",
        "n_estimators = [1,2,3,4,5,10,20,50]\n",
        "\n",
        "# define grid search\n",
        "grid = dict(n_estimators=n_estimators)\n",
        "clf = GridSearchCV(estimator=model, param_grid=grid, verbose = 3, cv=5, scoring='roc_auc',error_score=0,return_train_score=True)\n",
        "clf.fit(X_train, y_train)"
      ],
      "metadata": {
        "colab": {
          "base_uri": "https://localhost:8080/"
        },
        "outputId": "bb9ebe5a-43ed-450f-dfa0-427bb4fcbf1d",
        "id": "DfN3ohunJW3m"
      },
      "execution_count": null,
      "outputs": [
        {
          "output_type": "stream",
          "name": "stdout",
          "text": [
            "Fitting 5 folds for each of 8 candidates, totalling 40 fits\n",
            "[CV 1/5] END n_estimators=1;, score=(train=1.000, test=0.999) total time=   0.1s\n",
            "[CV 2/5] END n_estimators=1;, score=(train=1.000, test=0.998) total time=   0.1s\n",
            "[CV 3/5] END n_estimators=1;, score=(train=0.999, test=0.998) total time=   0.1s\n",
            "[CV 4/5] END n_estimators=1;, score=(train=0.999, test=0.998) total time=   0.1s\n",
            "[CV 5/5] END n_estimators=1;, score=(train=0.999, test=0.998) total time=   0.1s\n",
            "[CV 1/5] END n_estimators=2;, score=(train=1.000, test=1.000) total time=   0.1s\n",
            "[CV 2/5] END n_estimators=2;, score=(train=1.000, test=0.999) total time=   0.1s\n",
            "[CV 3/5] END n_estimators=2;, score=(train=1.000, test=0.999) total time=   0.1s\n",
            "[CV 4/5] END n_estimators=2;, score=(train=1.000, test=1.000) total time=   0.1s\n",
            "[CV 5/5] END n_estimators=2;, score=(train=1.000, test=1.000) total time=   0.1s\n",
            "[CV 1/5] END n_estimators=3;, score=(train=1.000, test=1.000) total time=   0.1s\n",
            "[CV 2/5] END n_estimators=3;, score=(train=1.000, test=1.000) total time=   0.1s\n",
            "[CV 3/5] END n_estimators=3;, score=(train=1.000, test=0.999) total time=   0.1s\n",
            "[CV 4/5] END n_estimators=3;, score=(train=1.000, test=1.000) total time=   0.1s\n",
            "[CV 5/5] END n_estimators=3;, score=(train=1.000, test=1.000) total time=   0.1s\n",
            "[CV 1/5] END n_estimators=4;, score=(train=1.000, test=1.000) total time=   0.1s\n",
            "[CV 2/5] END n_estimators=4;, score=(train=1.000, test=1.000) total time=   0.2s\n",
            "[CV 3/5] END n_estimators=4;, score=(train=1.000, test=1.000) total time=   0.1s\n",
            "[CV 4/5] END n_estimators=4;, score=(train=1.000, test=1.000) total time=   0.2s\n",
            "[CV 5/5] END n_estimators=4;, score=(train=1.000, test=1.000) total time=   0.1s\n",
            "[CV 1/5] END n_estimators=5;, score=(train=1.000, test=1.000) total time=   0.2s\n",
            "[CV 2/5] END n_estimators=5;, score=(train=1.000, test=1.000) total time=   0.2s\n",
            "[CV 3/5] END n_estimators=5;, score=(train=1.000, test=1.000) total time=   0.2s\n",
            "[CV 4/5] END n_estimators=5;, score=(train=1.000, test=1.000) total time=   0.2s\n",
            "[CV 5/5] END n_estimators=5;, score=(train=1.000, test=1.000) total time=   0.2s\n",
            "[CV 1/5] END n_estimators=10;, score=(train=1.000, test=1.000) total time=   0.3s\n",
            "[CV 2/5] END n_estimators=10;, score=(train=1.000, test=1.000) total time=   0.3s\n",
            "[CV 3/5] END n_estimators=10;, score=(train=1.000, test=1.000) total time=   0.3s\n",
            "[CV 4/5] END n_estimators=10;, score=(train=1.000, test=1.000) total time=   0.3s\n",
            "[CV 5/5] END n_estimators=10;, score=(train=1.000, test=1.000) total time=   0.3s\n",
            "[CV 1/5] END n_estimators=20;, score=(train=1.000, test=1.000) total time=   0.5s\n",
            "[CV 2/5] END n_estimators=20;, score=(train=1.000, test=1.000) total time=   0.6s\n",
            "[CV 3/5] END n_estimators=20;, score=(train=1.000, test=1.000) total time=   0.5s\n",
            "[CV 4/5] END n_estimators=20;, score=(train=1.000, test=1.000) total time=   0.7s\n",
            "[CV 5/5] END n_estimators=20;, score=(train=1.000, test=1.000) total time=   0.7s\n",
            "[CV 1/5] END n_estimators=50;, score=(train=1.000, test=1.000) total time=   1.5s\n",
            "[CV 2/5] END n_estimators=50;, score=(train=1.000, test=1.000) total time=   1.3s\n",
            "[CV 3/5] END n_estimators=50;, score=(train=1.000, test=1.000) total time=   1.3s\n",
            "[CV 4/5] END n_estimators=50;, score=(train=1.000, test=1.000) total time=   1.3s\n",
            "[CV 5/5] END n_estimators=50;, score=(train=1.000, test=1.000) total time=   1.3s\n"
          ]
        },
        {
          "output_type": "execute_result",
          "data": {
            "text/plain": [
              "GridSearchCV(cv=5, error_score=0,\n",
              "             estimator=RandomForestClassifier(random_state=7),\n",
              "             param_grid={'n_estimators': [1, 2, 3, 4, 5, 10, 20, 50]},\n",
              "             return_train_score=True, scoring='roc_auc', verbose=3)"
            ]
          },
          "metadata": {},
          "execution_count": 25
        }
      ]
    },
    {
      "cell_type": "code",
      "source": [
        "import math\n",
        "results = pd.DataFrame.from_dict(clf.cv_results_)\n",
        "\n",
        "\n",
        "\n",
        "train_auc= results['mean_train_score']\n",
        "train_auc_std= results['std_train_score']\n",
        "cv_auc = results['mean_test_score'] \n",
        "cv_auc_std= results['std_test_score']\n",
        "\n",
        "\n",
        "plt.plot(n_estimators, train_auc, label='Train AUC')\n",
        "plt.plot(n_estimators, cv_auc, label='CV AUC')\n",
        "\n",
        "plt.scatter(n_estimators, train_auc, label='Train AUC points')\n",
        "plt.scatter(n_estimators, cv_auc, label='CV AUC points')\n",
        "\n",
        "\n",
        "plt.legend()\n",
        "plt.xlabel(\"n_estimators: hyperparameter\")\n",
        "plt.ylabel(\"AUC\")\n",
        "plt.title(\"Hyper parameter Vs AUC plot\")\n",
        "plt.grid()\n",
        "plt.show()\n",
        "\n",
        "results.head()"
      ],
      "metadata": {
        "colab": {
          "base_uri": "https://localhost:8080/"
        },
        "outputId": "fa2cde03-f078-4d88-8c9b-a63c4a671391",
        "id": "X5o0inYwJW3m"
      },
      "execution_count": null,
      "outputs": [
        {
          "output_type": "display_data",
          "data": {
            "text/plain": [
              "<Figure size 432x288 with 1 Axes>"
            ],
            "image/png": "[encoded data removed]"
          },
          "metadata": {
            "needs_background": "light"
          }
        },
        {
          "output_type": "execute_result",
          "data": {
            "text/plain": [
              "   mean_fit_time  std_fit_time  mean_score_time  std_score_time  \\\n",
              "0       0.048935      0.001877         0.009475        0.000244   \n",
              "1       0.071169      0.005559         0.010528        0.000301   \n",
              "2       0.100861      0.006796         0.011710        0.000587   \n",
              "3       0.131148      0.008178         0.013441        0.001362   \n",
              "4       0.154191      0.015436         0.014397        0.000731   \n",
              "\n",
              "  param_n_estimators               params  split0_test_score  \\\n",
              "0                  1  {'n_estimators': 1}           0.998775   \n",
              "1                  2  {'n_estimators': 2}           0.999587   \n",
              "2                  3  {'n_estimators': 3}           0.999895   \n",
              "3                  4  {'n_estimators': 4}           0.999998   \n",
              "4                  5  {'n_estimators': 5}           0.999998   \n",
              "\n",
              "   split1_test_score  split2_test_score  split3_test_score  ...  \\\n",
              "0           0.998063           0.997548           0.998467  ...   \n",
              "1           0.999484           0.999280           0.999587  ...   \n",
              "2           0.999792           0.999383           0.999794  ...   \n",
              "3           0.999997           0.999687           0.999794  ...   \n",
              "4           0.999995           0.999893           0.999794  ...   \n",
              "\n",
              "   mean_test_score  std_test_score  rank_test_score  split0_train_score  \\\n",
              "0         0.998163        0.000423                8            0.999566   \n",
              "1         0.999566        0.000198                7            0.999897   \n",
              "2         0.999773        0.000209                6            0.999923   \n",
              "3         0.999895        0.000131                5            1.000000   \n",
              "4         0.999936        0.000082                4            1.000000   \n",
              "\n",
              "   split1_train_score  split2_train_score  split3_train_score  \\\n",
              "0            0.999515            0.999438            0.999081   \n",
              "1            1.000000            1.000000            0.999948   \n",
              "2            1.000000            1.000000            0.999974   \n",
              "3            1.000000            1.000000            1.000000   \n",
              "4            1.000000            1.000000            1.000000   \n",
              "\n",
              "   split4_train_score  mean_train_score  std_train_score  \n",
              "0            0.999387          0.999397     1.698365e-04  \n",
              "1            0.999974          0.999964     3.838671e-05  \n",
              "2            1.000000          0.999979     2.985519e-05  \n",
              "3            1.000000          1.000000     6.161263e-08  \n",
              "4            1.000000          1.000000     9.497393e-08  \n",
              "\n",
              "[5 rows x 21 columns]"
            ],
            "text/html": [
              "\n",
              "  <div id=\"df-b1910d12-0c1a-4eb1-821e-2214c57f0da5\">\n",
              "    <div class=\"colab-df-container\">\n",
              "      <div>\n",
              "<style scoped>\n",
              "    .dataframe tbody tr th:only-of-type {\n",
              "        vertical-align: middle;\n",
              "    }\n",
              "\n",
              "    .dataframe tbody tr th {\n",
              "        vertical-align: top;\n",
              "    }\n",
              "\n",
              "    .dataframe thead th {\n",
              "        text-align: right;\n",
              "    }\n",
              "</style>\n",
              "<table border=\"1\" class=\"dataframe\">\n",
              "  <thead>\n",
              "    <tr style=\"text-align: right;\">\n",
              "      <th></th>\n",
              "      <th>mean_fit_time</th>\n",
              "      <th>std_fit_time</th>\n",
              "      <th>mean_score_time</th>\n",
              "      <th>std_score_time</th>\n",
              "      <th>param_n_estimators</th>\n",
              "      <th>params</th>\n",
              "      <th>split0_test_score</th>\n",
              "      <th>split1_test_score</th>\n",
              "      <th>split2_test_score</th>\n",
              "      <th>split3_test_score</th>\n",
              "      <th>...</th>\n",
              "      <th>mean_test_score</th>\n",
              "      <th>std_test_score</th>\n",
              "      <th>rank_test_score</th>\n",
              "      <th>split0_train_score</th>\n",
              "      <th>split1_train_score</th>\n",
              "      <th>split2_train_score</th>\n",
              "      <th>split3_train_score</th>\n",
              "      <th>split4_train_score</th>\n",
              "      <th>mean_train_score</th>\n",
              "      <th>std_train_score</th>\n",
              "    </tr>\n",
              "  </thead>\n",
              "  <tbody>\n",
              "    <tr>\n",
              "      <th>0</th>\n",
              "      <td>0.048935</td>\n",
              "      <td>0.001877</td>\n",
              "      <td>0.009475</td>\n",
              "      <td>0.000244</td>\n",
              "      <td>1</td>\n",
              "      <td>{'n_estimators': 1}</td>\n",
              "      <td>0.998775</td>\n",
              "      <td>0.998063</td>\n",
              "      <td>0.997548</td>\n",
              "      <td>0.998467</td>\n",
              "      <td>...</td>\n",
              "      <td>0.998163</td>\n",
              "      <td>0.000423</td>\n",
              "      <td>8</td>\n",
              "      <td>0.999566</td>\n",
              "      <td>0.999515</td>\n",
              "      <td>0.999438</td>\n",
              "      <td>0.999081</td>\n",
              "      <td>0.999387</td>\n",
              "      <td>0.999397</td>\n",
              "      <td>1.698365e-04</td>\n",
              "    </tr>\n",
              "    <tr>\n",
              "      <th>1</th>\n",
              "      <td>0.071169</td>\n",
              "      <td>0.005559</td>\n",
              "      <td>0.010528</td>\n",
              "      <td>0.000301</td>\n",
              "      <td>2</td>\n",
              "      <td>{'n_estimators': 2}</td>\n",
              "      <td>0.999587</td>\n",
              "      <td>0.999484</td>\n",
              "      <td>0.999280</td>\n",
              "      <td>0.999587</td>\n",
              "      <td>...</td>\n",
              "      <td>0.999566</td>\n",
              "      <td>0.000198</td>\n",
              "      <td>7</td>\n",
              "      <td>0.999897</td>\n",
              "      <td>1.000000</td>\n",
              "      <td>1.000000</td>\n",
              "      <td>0.999948</td>\n",
              "      <td>0.999974</td>\n",
              "      <td>0.999964</td>\n",
              "      <td>3.838671e-05</td>\n",
              "    </tr>\n",
              "    <tr>\n",
              "      <th>2</th>\n",
              "      <td>0.100861</td>\n",
              "      <td>0.006796</td>\n",
              "      <td>0.011710</td>\n",
              "      <td>0.000587</td>\n",
              "      <td>3</td>\n",
              "      <td>{'n_estimators': 3}</td>\n",
              "      <td>0.999895</td>\n",
              "      <td>0.999792</td>\n",
              "      <td>0.999383</td>\n",
              "      <td>0.999794</td>\n",
              "      <td>...</td>\n",
              "      <td>0.999773</td>\n",
              "      <td>0.000209</td>\n",
              "      <td>6</td>\n",
              "      <td>0.999923</td>\n",
              "      <td>1.000000</td>\n",
              "      <td>1.000000</td>\n",
              "      <td>0.999974</td>\n",
              "      <td>1.000000</td>\n",
              "      <td>0.999979</td>\n",
              "      <td>2.985519e-05</td>\n",
              "    </tr>\n",
              "    <tr>\n",
              "      <th>3</th>\n",
              "      <td>0.131148</td>\n",
              "      <td>0.008178</td>\n",
              "      <td>0.013441</td>\n",
              "      <td>0.001362</td>\n",
              "      <td>4</td>\n",
              "      <td>{'n_estimators': 4}</td>\n",
              "      <td>0.999998</td>\n",
              "      <td>0.999997</td>\n",
              "      <td>0.999687</td>\n",
              "      <td>0.999794</td>\n",
              "      <td>...</td>\n",
              "      <td>0.999895</td>\n",
              "      <td>0.000131</td>\n",
              "      <td>5</td>\n",
              "      <td>1.000000</td>\n",
              "      <td>1.000000</td>\n",
              "      <td>1.000000</td>\n",
              "      <td>1.000000</td>\n",
              "      <td>1.000000</td>\n",
              "      <td>1.000000</td>\n",
              "      <td>6.161263e-08</td>\n",
              "    </tr>\n",
              "    <tr>\n",
              "      <th>4</th>\n",
              "      <td>0.154191</td>\n",
              "      <td>0.015436</td>\n",
              "      <td>0.014397</td>\n",
              "      <td>0.000731</td>\n",
              "      <td>5</td>\n",
              "      <td>{'n_estimators': 5}</td>\n",
              "      <td>0.999998</td>\n",
              "      <td>0.999995</td>\n",
              "      <td>0.999893</td>\n",
              "      <td>0.999794</td>\n",
              "      <td>...</td>\n",
              "      <td>0.999936</td>\n",
              "      <td>0.000082</td>\n",
              "      <td>4</td>\n",
              "      <td>1.000000</td>\n",
              "      <td>1.000000</td>\n",
              "      <td>1.000000</td>\n",
              "      <td>1.000000</td>\n",
              "      <td>1.000000</td>\n",
              "      <td>1.000000</td>\n",
              "      <td>9.497393e-08</td>\n",
              "    </tr>\n",
              "  </tbody>\n",
              "</table>\n",
              "<p>5 rows × 21 columns</p>\n",
              "</div>\n",
              "      <button class=\"colab-df-convert\" onclick=\"convertToInteractive('df-b1910d12-0c1a-4eb1-821e-2214c57f0da5')\"\n",
              "              title=\"Convert this dataframe to an interactive table.\"\n",
              "              style=\"display:none;\">\n",
              "        \n",
              "  <svg xmlns=\"http://www.w3.org/2000/svg\" height=\"24px\"viewBox=\"0 0 24 24\"\n",
              "       width=\"24px\">\n",
              "    <path d=\"M0 0h24v24H0V0z\" fill=\"none\"/>\n",
              "    <path d=\"M18.56 5.44l.94 2.06.94-2.06 2.06-.94-2.06-.94-.94-2.06-.94 2.06-2.06.94zm-11 1L8.5 8.5l.94-2.06 2.06-.94-2.06-.94L8.5 2.5l-.94 2.06-2.06.94zm10 10l.94 2.06.94-2.06 2.06-.94-2.06-.94-.94-2.06-.94 2.06-2.06.94z\"/><path d=\"M17.41 7.96l-1.37-1.37c-.4-.4-.92-.59-1.43-.59-.52 0-1.04.2-1.43.59L10.3 9.45l-7.72 7.72c-.78.78-.78 2.05 0 2.83L4 21.41c.39.39.9.59 1.41.59.51 0 1.02-.2 1.41-.59l7.78-7.78 2.81-2.81c.8-.78.8-2.07 0-2.86zM5.41 20L4 18.59l7.72-7.72 1.47 1.35L5.41 20z\"/>\n",
              "  </svg>\n",
              "      </button>\n",
              "      \n",
              "  <style>\n",
              "    .colab-df-container {\n",
              "      display:flex;\n",
              "      flex-wrap:wrap;\n",
              "      gap: 12px;\n",
              "    }\n",
              "\n",
              "    .colab-df-convert {\n",
              "      background-color: #E8F0FE;\n",
              "      border: none;\n",
              "      border-radius: 50%;\n",
              "      cursor: pointer;\n",
              "      display: none;\n",
              "      fill: #1967D2;\n",
              "      height: 32px;\n",
              "      padding: 0 0 0 0;\n",
              "      width: 32px;\n",
              "    }\n",
              "\n",
              "    .colab-df-convert:hover {\n",
              "      background-color: #E2EBFA;\n",
              "      box-shadow: 0px 1px 2px rgba(60, 64, 67, 0.3), 0px 1px 3px 1px rgba(60, 64, 67, 0.15);\n",
              "      fill: #174EA6;\n",
              "    }\n",
              "\n",
              "    [theme=dark] .colab-df-convert {\n",
              "      background-color: #3B4455;\n",
              "      fill: #D2E3FC;\n",
              "    }\n",
              "\n",
              "    [theme=dark] .colab-df-convert:hover {\n",
              "      background-color: #434B5C;\n",
              "      box-shadow: 0px 1px 3px 1px rgba(0, 0, 0, 0.15);\n",
              "      filter: drop-shadow(0px 1px 2px rgba(0, 0, 0, 0.3));\n",
              "      fill: #FFFFFF;\n",
              "    }\n",
              "  </style>\n",
              "\n",
              "      <script>\n",
              "        const buttonEl =\n",
              "          document.querySelector('#df-b1910d12-0c1a-4eb1-821e-2214c57f0da5 button.colab-df-convert');\n",
              "        buttonEl.style.display =\n",
              "          google.colab.kernel.accessAllowed ? 'block' : 'none';\n",
              "\n",
              "        async function convertToInteractive(key) {\n",
              "          const element = document.querySelector('#df-b1910d12-0c1a-4eb1-821e-2214c57f0da5');\n",
              "          const dataTable =\n",
              "            await google.colab.kernel.invokeFunction('convertToInteractive',\n",
              "                                                     [key], {});\n",
              "          if (!dataTable) return;\n",
              "\n",
              "          const docLinkHtml = 'Like what you see? Visit the ' +\n",
              "            '<a target=\"_blank\" href=https://colab.research.google.com/notebooks/data_table.ipynb>data table notebook</a>'\n",
              "            + ' to learn more about interactive tables.';\n",
              "          element.innerHTML = '';\n",
              "          dataTable['output_type'] = 'display_data';\n",
              "          await google.colab.output.renderOutput(dataTable, element);\n",
              "          const docLink = document.createElement('div');\n",
              "          docLink.innerHTML = docLinkHtml;\n",
              "          element.appendChild(docLink);\n",
              "        }\n",
              "      </script>\n",
              "    </div>\n",
              "  </div>\n",
              "  "
            ]
          },
          "metadata": {},
          "execution_count": 26
        }
      ]
    },
    {
      "cell_type": "markdown",
      "source": [
        "### 1.3.2 Training the Random Forest using best hyperparameters"
      ],
      "metadata": {
        "id": "PJgV3dEQwJ3P"
      }
    },
    {
      "cell_type": "code",
      "execution_count": null,
      "metadata": {
        "id": "AvalIwnqJW3m"
      },
      "outputs": [],
      "source": [
        "clf = RandomForestClassifier(n_estimators = 2,random_state = 7)\n",
        "clf.fit(X_train,y_train)\n",
        "y_cv_pred = clf.predict(X_cv)"
      ]
    },
    {
      "cell_type": "markdown",
      "source": [
        "### 1.3.3 Feature Importance using Random Forest"
      ],
      "metadata": {
        "id": "jiJNP60ywQYQ"
      }
    },
    {
      "cell_type": "code",
      "source": [
        "# get importance\n",
        "importance = clf.feature_importances_\n",
        "# summarize feature importance\n",
        "for i,v in enumerate(importance):\n",
        "\tprint('%s, Score: %.5f' % (X_train.columns[i],v))"
      ],
      "metadata": {
        "colab": {
          "base_uri": "https://localhost:8080/"
        },
        "outputId": "ed571f7f-7ac0-44fc-d80f-014125e3bee6",
        "id": "suyHulQBJW3m"
      },
      "execution_count": null,
      "outputs": [
        {
          "output_type": "stream",
          "name": "stdout",
          "text": [
            "CODE_GENDER, Score: 0.00221\n",
            "FLAG_OWN_CAR, Score: 0.00180\n",
            "FLAG_OWN_REALTY, Score: 0.00724\n",
            "CNT_CHILDREN, Score: 0.02638\n",
            "AMT_INCOME_TOTAL, Score: 0.00753\n",
            "AGE, Score: 0.00543\n",
            "FLAG_MOBIL, Score: 0.00000\n",
            "FLAG_WORK_PHONE, Score: 0.00142\n",
            "FLAG_PHONE, Score: 0.00031\n",
            "FLAG_EMAIL, Score: 0.00033\n",
            "CNT_FAM_MEMBERS, Score: 0.00582\n",
            "YEARS_EMPLOYED, Score: 0.00433\n",
            "Bad_Debt, Score: 0.77612\n",
            "Good_Debt, Score: 0.00333\n",
            "Neutral_Debt, Score: 0.02974\n",
            "NAME_INCOME_TYPE_Commercial associate, Score: 0.00005\n",
            "NAME_INCOME_TYPE_Pensioner, Score: 0.00021\n",
            "NAME_INCOME_TYPE_State servant, Score: 0.00103\n",
            "NAME_INCOME_TYPE_Student, Score: 0.00000\n",
            "NAME_INCOME_TYPE_Working, Score: 0.00466\n",
            "NAME_EDUCATION_TYPE_Academic degree, Score: 0.00000\n",
            "NAME_EDUCATION_TYPE_Higher education, Score: 0.02130\n",
            "NAME_EDUCATION_TYPE_Incomplete higher, Score: 0.00344\n",
            "NAME_EDUCATION_TYPE_Lower secondary, Score: 0.00033\n",
            "NAME_EDUCATION_TYPE_Secondary / secondary special, Score: 0.07724\n",
            "NAME_FAMILY_STATUS_Civil marriage, Score: 0.00004\n",
            "NAME_FAMILY_STATUS_Married, Score: 0.00155\n",
            "NAME_FAMILY_STATUS_Separated, Score: 0.00011\n",
            "NAME_FAMILY_STATUS_Single / not married, Score: 0.00026\n",
            "NAME_FAMILY_STATUS_Widow, Score: 0.00125\n",
            "NAME_HOUSING_TYPE_Co-op apartment, Score: 0.00004\n",
            "NAME_HOUSING_TYPE_House / apartment, Score: 0.00035\n",
            "NAME_HOUSING_TYPE_Municipal apartment, Score: 0.00000\n",
            "NAME_HOUSING_TYPE_Office apartment, Score: 0.00000\n",
            "NAME_HOUSING_TYPE_Rented apartment, Score: 0.00000\n",
            "NAME_HOUSING_TYPE_With parents, Score: 0.00169\n",
            "OCCUPATION_TYPE_Accountants, Score: 0.00196\n",
            "OCCUPATION_TYPE_Cleaning staff, Score: 0.00000\n",
            "OCCUPATION_TYPE_Cooking staff, Score: 0.00000\n",
            "OCCUPATION_TYPE_Core staff, Score: 0.00089\n",
            "OCCUPATION_TYPE_Drivers, Score: 0.00026\n",
            "OCCUPATION_TYPE_HR staff, Score: 0.00000\n",
            "OCCUPATION_TYPE_High skill tech staff, Score: 0.00024\n",
            "OCCUPATION_TYPE_IT staff, Score: 0.00000\n",
            "OCCUPATION_TYPE_Laborers, Score: 0.00021\n",
            "OCCUPATION_TYPE_Low-skill Laborers, Score: 0.00000\n",
            "OCCUPATION_TYPE_Managers, Score: 0.00079\n",
            "OCCUPATION_TYPE_Medicine staff, Score: 0.00004\n",
            "OCCUPATION_TYPE_NAN, Score: 0.00834\n",
            "OCCUPATION_TYPE_Private service staff, Score: 0.00000\n",
            "OCCUPATION_TYPE_Realty agents, Score: 0.00016\n",
            "OCCUPATION_TYPE_Sales staff, Score: 0.00155\n",
            "OCCUPATION_TYPE_Secretaries, Score: 0.00004\n",
            "OCCUPATION_TYPE_Security staff, Score: 0.00000\n",
            "OCCUPATION_TYPE_Waiters/barmen staff, Score: 0.00000\n"
          ]
        }
      ]
    },
    {
      "cell_type": "markdown",
      "source": [
        "### 1.3.4 Confusion Matrix and other Metrics for Cross Validation Data"
      ],
      "metadata": {
        "id": "PF6kzCh2yJtE"
      }
    },
    {
      "cell_type": "code",
      "execution_count": null,
      "metadata": {
        "colab": {
          "base_uri": "https://localhost:8080/",
          "height": 524
        },
        "outputId": "48edcd70-91b1-45bf-b2ff-7b3abc73c2fe",
        "id": "OnlMt9UqJW3m"
      },
      "outputs": [
        {
          "output_type": "stream",
          "name": "stdout",
          "text": [
            "True positive =  8092\n",
            "False positive =  2\n",
            "False negative =  24\n",
            "True negative =  8212\n",
            "ACCURACY SCORE--> 0.998407838334354\n",
            "              precision    recall  f1-score   support\n",
            "\n",
            "         0.0       1.00      1.00      1.00      8094\n",
            "         1.0       1.00      1.00      1.00      8236\n",
            "\n",
            "    accuracy                           1.00     16330\n",
            "   macro avg       1.00      1.00      1.00     16330\n",
            "weighted avg       1.00      1.00      1.00     16330\n",
            "\n"
          ]
        },
        {
          "output_type": "display_data",
          "data": {
            "text/plain": [
              "<Figure size 432x288 with 2 Axes>"
            ],
            "image/png": "[encoded data removed]"
          },
          "metadata": {
            "needs_background": "light"
          }
        }
      ],
      "source": [
        "cm = confusion_matrix(y_cv, y_cv_pred)\n",
        "print_confusion_matrix(y_cv,y_cv_pred)\n",
        "print(\"ACCURACY SCORE-->\",accuracy_score(y_cv, y_cv_pred))\n",
        "sn.heatmap(cm/np.sum(cm), annot=True,fmt='.2%', cmap='Blues')\n",
        "print(classification_report(y_cv,y_cv_pred))"
      ]
    },
    {
      "cell_type": "markdown",
      "source": [
        "## Observations:\n",
        "\n",
        "\n",
        "1.   The cross validation accuracy for logistic regression is 95.1%\n",
        "2.   The cross validation accuracy for Decision Tree is 99.7%\n",
        "3.   The cross validation accuracy for logistic regression is 99.8%\n",
        "4.   Precision, Recall and F1 Score is almost perfect for both Decision Tree and Random Forest.\n",
        "5.   As, Decision Tree and Random Forest performs almost similar, we will use Decision Tree as our final model, because of **less complexity and better interpretability**.\n"
      ],
      "metadata": {
        "id": "LJN_0kQ89rJ4"
      }
    },
    {
      "cell_type": "markdown",
      "source": [
        "#2. Training Decision Tree "
      ],
      "metadata": {
        "id": "6QKZHQ0hTh5f"
      }
    },
    {
      "cell_type": "markdown",
      "source": [
        "As mentioned above, we have selected Decision Tree as our model of choice. So,we will use the whole of the training data inorder to train our model and then used that to predict the test data set outcomes."
      ],
      "metadata": {
        "id": "g_BgwF9FTxiM"
      }
    },
    {
      "cell_type": "code",
      "execution_count": null,
      "metadata": {
        "id": "dkj3v3szWA9O"
      },
      "outputs": [],
      "source": [
        "#reading the csv files\n",
        "train_data = pd.read_csv('/content/drive/MyDrive/DATA SCIENCE/CASE STUDY 1/FINAL_TRAINING_DATA_NAN_ENCODING.csv',sep=\";\")\n",
        "test_data = pd.read_csv('/content/drive/MyDrive/DATA SCIENCE/CASE STUDY 1/FINAL_TEST_DATA_NAN_ENCODING.csv',sep=\";\")"
      ]
    },
    {
      "cell_type": "code",
      "execution_count": null,
      "metadata": {
        "id": "z82vqPCbWA9P"
      },
      "outputs": [],
      "source": [
        "#Extracting the train and test data\n",
        "X_train = train_data.iloc[:,:-1]\n",
        "y_train = train_data.iloc[:,-1]\n",
        "\n",
        "X_test = test_data.iloc[:,:-1]\n",
        "y_test = test_data.iloc[:,-1]"
      ]
    },
    {
      "cell_type": "code",
      "execution_count": null,
      "metadata": {
        "colab": {
          "base_uri": "https://localhost:8080/"
        },
        "outputId": "321a0c0e-1802-4cfe-c98a-198d594a88ad",
        "id": "q1yLzvTDWHCE"
      },
      "outputs": [
        {
          "output_type": "stream",
          "name": "stdout",
          "text": [
            "Counter({1.0: 32660, 0.0: 151})\n",
            "Counter({1.0: 3621, 0.0: 25})\n"
          ]
        }
      ],
      "source": [
        "print(Counter(y_train))\n",
        "print(Counter(y_test))"
      ]
    },
    {
      "cell_type": "markdown",
      "source": [
        "Oversampling using SMOTE\n",
        "* as the data is highly imbalanced.\n",
        "\n",
        "\n"
      ],
      "metadata": {
        "id": "lVCEmqmAWHCG"
      }
    },
    {
      "cell_type": "code",
      "execution_count": null,
      "metadata": {
        "colab": {
          "base_uri": "https://localhost:8080/"
        },
        "outputId": "d75009d9-7308-4e80-d007-5b8892bb7da3",
        "id": "fw_r7xsEWHCG"
      },
      "outputs": [
        {
          "output_type": "stream",
          "name": "stdout",
          "text": [
            "The number of classes before fit Counter({1.0: 32660, 0.0: 32660})\n",
            "The number of classes after fit Counter({1.0: 32660, 0.0: 32660})\n"
          ]
        }
      ],
      "source": [
        "oversample = SMOTE()\n",
        "X_train, y_train = oversample.fit_resample(X_train, y_train)\n",
        "print(\"The number of classes before fit {}\".format(Counter(y_train)))\n",
        "print(\"The number of classes after fit {}\".format(Counter(y_train)))"
      ]
    },
    {
      "cell_type": "markdown",
      "source": [
        "## 2.1 Training Phase\n"
      ],
      "metadata": {
        "id": "50ZggqN7WfU3"
      }
    },
    {
      "cell_type": "code",
      "source": [
        "clf = DecisionTreeClassifier(max_depth = 2)\n",
        "clf.fit(X_train,y_train)"
      ],
      "metadata": {
        "colab": {
          "base_uri": "https://localhost:8080/"
        },
        "id": "2KBlSiGXWhrL",
        "outputId": "3411260d-5883-4f1f-fa54-43c4ac827529"
      },
      "execution_count": null,
      "outputs": [
        {
          "output_type": "execute_result",
          "data": {
            "text/plain": [
              "DecisionTreeClassifier(max_depth=2)"
            ]
          },
          "metadata": {},
          "execution_count": 8
        }
      ]
    },
    {
      "cell_type": "markdown",
      "source": [
        "### 2.2 Predicting test data"
      ],
      "metadata": {
        "id": "g6HtUTyy0x6l"
      }
    },
    {
      "cell_type": "code",
      "execution_count": null,
      "metadata": {
        "colab": {
          "base_uri": "https://localhost:8080/",
          "height": 521
        },
        "outputId": "6e26383a-5a8f-464e-cdf6-27147e57e073",
        "id": "xF16knPCmoNq"
      },
      "outputs": [
        {
          "output_type": "stream",
          "name": "stdout",
          "text": [
            "True positive =  24\n",
            "False positive =  1\n",
            "False negative =  12\n",
            "True negative =  3609\n",
            "ACCURACY SCORE--> 0.996434448710916\n",
            "              precision    recall  f1-score   support\n",
            "\n",
            "         0.0       0.67      0.96      0.79        25\n",
            "         1.0       1.00      1.00      1.00      3621\n",
            "\n",
            "    accuracy                           1.00      3646\n",
            "   macro avg       0.83      0.98      0.89      3646\n",
            "weighted avg       1.00      1.00      1.00      3646\n",
            "\n"
          ]
        },
        {
          "output_type": "display_data",
          "data": {
            "text/plain": [
              "<Figure size 432x288 with 2 Axes>"
            ],
            "image/png": "[encoded data removed]"
          },
          "metadata": {
            "needs_background": "light"
          }
        }
      ],
      "source": [
        "y_test_pred = clf.predict(X_test)\n",
        "cm = confusion_matrix(y_test, y_test_pred)\n",
        "print_confusion_matrix(y_test, y_test_pred)\n",
        "print(\"ACCURACY SCORE-->\",accuracy_score(y_test, y_test_pred))\n",
        "sn.heatmap(cm/np.sum(cm), annot=True,fmt='.2%', cmap='Blues')\n",
        "print(classification_report(y_test, y_test_pred))"
      ]
    },
    {
      "cell_type": "markdown",
      "source": [
        "## 2.3 Saving the Model for future references"
      ],
      "metadata": {
        "id": "H5q2bkgmZ9gO"
      }
    },
    {
      "cell_type": "code",
      "source": [
        "import pickle\n",
        "filename = '/content/drive/MyDrive/DATA SCIENCE/CASE STUDY 1/finalized_model_DT.sav'\n",
        "pickle.dump(clf, open(filename, 'wb'))"
      ],
      "metadata": {
        "id": "EcTqY5YpnnXY"
      },
      "execution_count": null,
      "outputs": []
    },
    {
      "cell_type": "code",
      "source": [
        ""
      ],
      "metadata": {
        "id": "VjX7LyvQaod1"
      },
      "execution_count": null,
      "outputs": []
    }
  ],
  "metadata": {
    "colab": {
      "collapsed_sections": [
        "M99LBSR0mpMN",
        "64ZePcHok9L-"
      ],
      "name": "Training Models.ipynb",
      "provenance": []
    },
    "kernelspec": {
      "display_name": "Python 3",
      "name": "python3"
    },
    "language_info": {
      "name": "python"
    }
  },
  "nbformat": 4,
  "nbformat_minor": 0
}