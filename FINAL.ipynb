{
  "nbformat": 4,
  "nbformat_minor": 0,
  "metadata": {
    "colab": {
      "name": "FINAL.ipynb",
      "provenance": [],
      "collapsed_sections": []
    },
    "kernelspec": {
      "name": "python3",
      "display_name": "Python 3"
    },
    "language_info": {
      "name": "python"
    }
  },
  "cells": [
    {
      "cell_type": "code",
      "execution_count": 127,
      "metadata": {
        "colab": {
          "base_uri": "https://localhost:8080/"
        },
        "id": "8cYxqeQ4fmeI",
        "outputId": "007cfbc0-ee0a-43e9-8f5c-ef9d84577733"
      },
      "outputs": [
        {
          "output_type": "stream",
          "name": "stdout",
          "text": [
            "Drive already mounted at /content/drive; to attempt to forcibly remount, call drive.mount(\"/content/drive\", force_remount=True).\n"
          ]
        }
      ],
      "source": [
        "from google.colab import drive\n",
        "drive.mount('/content/drive')"
      ]
    },
    {
      "cell_type": "code",
      "source": [
        "import math\n",
        "from tqdm import tqdm\n",
        "import pandas as pd\n",
        "import seaborn as sn\n",
        "import matplotlib.pyplot as plt\n",
        "import numpy as np\n",
        "from sklearn.preprocessing import OneHotEncoder\n",
        "from sklearn.model_selection import train_test_split\n",
        "from sklearn import preprocessing\n",
        "from sklearn.tree import DecisionTreeClassifier\n",
        "from sklearn.model_selection import cross_val_score\n",
        "from sklearn.metrics import accuracy_score\n",
        "from sklearn.ensemble import RandomForestClassifier\n",
        "from sklearn.linear_model import LogisticRegression\n",
        "from sklearn.metrics import f1_score\n",
        "from collections import Counter\n",
        "from imblearn.over_sampling import SMOTE\n",
        "from sklearn.metrics import accuracy_score,confusion_matrix,classification_report\n",
        "from sklearn.model_selection import GridSearchCV\n",
        "from sklearn.linear_model import LogisticRegression\n",
        "from sklearn.metrics import f1_score as f1\n",
        "from sklearn.metrics import precision_score\n",
        "from sklearn.metrics import recall_score\n",
        "from sklearn.tree import DecisionTreeClassifier\n",
        "from sklearn.ensemble import RandomForestClassifier\n",
        "from sklearn.preprocessing import OneHotEncoder\n",
        "from sklearn.preprocessing import StandardScaler\n",
        "import pickle\n",
        "from sklearn.metrics import roc_auc_score"
      ],
      "metadata": {
        "id": "HkGNMLcAawd_"
      },
      "execution_count": 128,
      "outputs": []
    },
    {
      "cell_type": "code",
      "source": [
        "pd.set_option('max_rows', 99999)\n",
        "pd.set_option('max_colwidth', 400)\n",
        "pd.describe_option('max_colwidth')"
      ],
      "metadata": {
        "colab": {
          "base_uri": "https://localhost:8080/"
        },
        "id": "s7tT-Z0AKInF",
        "outputId": "e1c8e569-b348-4d93-bf0c-cf31600eee4e"
      },
      "execution_count": 129,
      "outputs": [
        {
          "output_type": "stream",
          "name": "stdout",
          "text": [
            "display.max_colwidth : int or None\n",
            "    The maximum width in characters of a column in the repr of\n",
            "    a pandas data structure. When the column overflows, a \"...\"\n",
            "    placeholder is embedded in the output. A 'None' value means unlimited.\n",
            "    [default: 50] [currently: 400]\n"
          ]
        }
      ]
    },
    {
      "cell_type": "markdown",
      "source": [
        "# 0. Getting all neccessary models, standarizer, encoder used during training"
      ],
      "metadata": {
        "id": "z9ywDj6qtobV"
      }
    },
    {
      "cell_type": "code",
      "source": [
        "credit_record = pd.read_csv('/content/drive/MyDrive/DATA SCIENCE/CASE STUDY 1/updated_credit_record.csv')\n",
        "\n",
        "# -----------------------------------------------------------------------------------------\n",
        "\n",
        "\n",
        "filename = '/content/drive/MyDrive/DATA SCIENCE/CASE STUDY 1/OHE_CAT_1.sav'\n",
        "OHE_CAT_1 = pickle.load(open(filename, 'rb'))\n",
        "\n",
        "filename = '/content/drive/MyDrive/DATA SCIENCE/CASE STUDY 1/OHE_CAT_OCC.sav'\n",
        "OHE_CAT_OCC = pickle.load(open(filename, 'rb'))\n",
        "\n",
        "\n",
        "# ------------------------------------------------------------------------------------------\n",
        "\n",
        "\n",
        "filename = '/content/drive/MyDrive/DATA SCIENCE/CASE STUDY 1/lab_enc_gender.sav'\n",
        "lab_enc_gender = pickle.load(open(filename, 'rb'))\n",
        "\n",
        "\n",
        "filename = '/content/drive/MyDrive/DATA SCIENCE/CASE STUDY 1/lab_enc_car.sav'\n",
        "lab_enc_car = pickle.load(open(filename, 'rb'))\n",
        "\n",
        "\n",
        "filename = '/content/drive/MyDrive/DATA SCIENCE/CASE STUDY 1/lab_enc_reality.sav'\n",
        "lab_enc_reality = pickle.load(open(filename, 'rb'))\n",
        "\n",
        "\n",
        "filename = '/content/drive/MyDrive/DATA SCIENCE/CASE STUDY 1/lab_enc_work_phone.sav'\n",
        "lab_enc_work_phone = pickle.load(open(filename, 'rb'))\n",
        "\n",
        "\n",
        "filename = '/content/drive/MyDrive/DATA SCIENCE/CASE STUDY 1/lab_enc_phone.sav'\n",
        "lab_enc_phone = pickle.load(open(filename, 'rb'))\n",
        "\n",
        "\n",
        "filename = '/content/drive/MyDrive/DATA SCIENCE/CASE STUDY 1/lab_enc_email.sav'\n",
        "lab_enc_email = pickle.load(open(filename, 'rb'))\n",
        "\n",
        "\n",
        "# ------------------------------------------------------------------------------------------\n",
        "\n",
        "\n",
        "filename = '/content/drive/MyDrive/DATA SCIENCE/CASE STUDY 1/standard_scaler.sav'\n",
        "standard_scaler = pickle.load(open(filename, 'rb'))\n",
        "\n",
        "\n",
        "# ------------------------------------------------------------------------------------------\n",
        "\n",
        "\n",
        "filename = '/content/drive/MyDrive/DATA SCIENCE/CASE STUDY 1/finalized_model_DT.sav'\n",
        "clf = pickle.load(open(filename, 'rb'))"
      ],
      "metadata": {
        "id": "6pUjJHX1ayEh"
      },
      "execution_count": 130,
      "outputs": []
    },
    {
      "cell_type": "code",
      "source": [
        "application_record = pd.read_csv('/content/drive/MyDrive/DATA SCIENCE/CASE STUDY 1/application_record.csv')\n",
        "X = application_record\n",
        "# X = application_record.iloc[0]\n",
        "# X = X.to_frame().T"
      ],
      "metadata": {
        "id": "h-E1WPfeD6l9"
      },
      "execution_count": 131,
      "outputs": []
    },
    {
      "cell_type": "code",
      "source": [
        "X.head()"
      ],
      "metadata": {
        "colab": {
          "base_uri": "https://localhost:8080/",
          "height": 322
        },
        "id": "3H5k6NcyKl9R",
        "outputId": "81460c03-9413-4741-af87-ec9f5d0696fe"
      },
      "execution_count": 132,
      "outputs": [
        {
          "output_type": "execute_result",
          "data": {
            "text/plain": [
              "        ID CODE_GENDER FLAG_OWN_CAR FLAG_OWN_REALTY  CNT_CHILDREN  \\\n",
              "0  5008804           M            Y               Y             0   \n",
              "1  5008805           M            Y               Y             0   \n",
              "2  5008806           M            Y               Y             0   \n",
              "3  5008808           F            N               Y             0   \n",
              "4  5008809           F            N               Y             0   \n",
              "\n",
              "   AMT_INCOME_TOTAL      NAME_INCOME_TYPE            NAME_EDUCATION_TYPE  \\\n",
              "0          427500.0               Working               Higher education   \n",
              "1          427500.0               Working               Higher education   \n",
              "2          112500.0               Working  Secondary / secondary special   \n",
              "3          270000.0  Commercial associate  Secondary / secondary special   \n",
              "4          270000.0  Commercial associate  Secondary / secondary special   \n",
              "\n",
              "     NAME_FAMILY_STATUS  NAME_HOUSING_TYPE  DAYS_BIRTH  DAYS_EMPLOYED  \\\n",
              "0        Civil marriage   Rented apartment      -12005          -4542   \n",
              "1        Civil marriage   Rented apartment      -12005          -4542   \n",
              "2               Married  House / apartment      -21474          -1134   \n",
              "3  Single / not married  House / apartment      -19110          -3051   \n",
              "4  Single / not married  House / apartment      -19110          -3051   \n",
              "\n",
              "   FLAG_MOBIL  FLAG_WORK_PHONE  FLAG_PHONE  FLAG_EMAIL OCCUPATION_TYPE  \\\n",
              "0           1                1           0           0             NaN   \n",
              "1           1                1           0           0             NaN   \n",
              "2           1                0           0           0  Security staff   \n",
              "3           1                0           1           1     Sales staff   \n",
              "4           1                0           1           1     Sales staff   \n",
              "\n",
              "   CNT_FAM_MEMBERS  \n",
              "0              2.0  \n",
              "1              2.0  \n",
              "2              2.0  \n",
              "3              1.0  \n",
              "4              1.0  "
            ],
            "text/html": [
              "\n",
              "  <div id=\"df-6be524f3-8da3-42f0-a2c3-64e356975bdd\">\n",
              "    <div class=\"colab-df-container\">\n",
              "      <div>\n",
              "<style scoped>\n",
              "    .dataframe tbody tr th:only-of-type {\n",
              "        vertical-align: middle;\n",
              "    }\n",
              "\n",
              "    .dataframe tbody tr th {\n",
              "        vertical-align: top;\n",
              "    }\n",
              "\n",
              "    .dataframe thead th {\n",
              "        text-align: right;\n",
              "    }\n",
              "</style>\n",
              "<table border=\"1\" class=\"dataframe\">\n",
              "  <thead>\n",
              "    <tr style=\"text-align: right;\">\n",
              "      <th></th>\n",
              "      <th>ID</th>\n",
              "      <th>CODE_GENDER</th>\n",
              "      <th>FLAG_OWN_CAR</th>\n",
              "      <th>FLAG_OWN_REALTY</th>\n",
              "      <th>CNT_CHILDREN</th>\n",
              "      <th>AMT_INCOME_TOTAL</th>\n",
              "      <th>NAME_INCOME_TYPE</th>\n",
              "      <th>NAME_EDUCATION_TYPE</th>\n",
              "      <th>NAME_FAMILY_STATUS</th>\n",
              "      <th>NAME_HOUSING_TYPE</th>\n",
              "      <th>DAYS_BIRTH</th>\n",
              "      <th>DAYS_EMPLOYED</th>\n",
              "      <th>FLAG_MOBIL</th>\n",
              "      <th>FLAG_WORK_PHONE</th>\n",
              "      <th>FLAG_PHONE</th>\n",
              "      <th>FLAG_EMAIL</th>\n",
              "      <th>OCCUPATION_TYPE</th>\n",
              "      <th>CNT_FAM_MEMBERS</th>\n",
              "    </tr>\n",
              "  </thead>\n",
              "  <tbody>\n",
              "    <tr>\n",
              "      <th>0</th>\n",
              "      <td>5008804</td>\n",
              "      <td>M</td>\n",
              "      <td>Y</td>\n",
              "      <td>Y</td>\n",
              "      <td>0</td>\n",
              "      <td>427500.0</td>\n",
              "      <td>Working</td>\n",
              "      <td>Higher education</td>\n",
              "      <td>Civil marriage</td>\n",
              "      <td>Rented apartment</td>\n",
              "      <td>-12005</td>\n",
              "      <td>-4542</td>\n",
              "      <td>1</td>\n",
              "      <td>1</td>\n",
              "      <td>0</td>\n",
              "      <td>0</td>\n",
              "      <td>NaN</td>\n",
              "      <td>2.0</td>\n",
              "    </tr>\n",
              "    <tr>\n",
              "      <th>1</th>\n",
              "      <td>5008805</td>\n",
              "      <td>M</td>\n",
              "      <td>Y</td>\n",
              "      <td>Y</td>\n",
              "      <td>0</td>\n",
              "      <td>427500.0</td>\n",
              "      <td>Working</td>\n",
              "      <td>Higher education</td>\n",
              "      <td>Civil marriage</td>\n",
              "      <td>Rented apartment</td>\n",
              "      <td>-12005</td>\n",
              "      <td>-4542</td>\n",
              "      <td>1</td>\n",
              "      <td>1</td>\n",
              "      <td>0</td>\n",
              "      <td>0</td>\n",
              "      <td>NaN</td>\n",
              "      <td>2.0</td>\n",
              "    </tr>\n",
              "    <tr>\n",
              "      <th>2</th>\n",
              "      <td>5008806</td>\n",
              "      <td>M</td>\n",
              "      <td>Y</td>\n",
              "      <td>Y</td>\n",
              "      <td>0</td>\n",
              "      <td>112500.0</td>\n",
              "      <td>Working</td>\n",
              "      <td>Secondary / secondary special</td>\n",
              "      <td>Married</td>\n",
              "      <td>House / apartment</td>\n",
              "      <td>-21474</td>\n",
              "      <td>-1134</td>\n",
              "      <td>1</td>\n",
              "      <td>0</td>\n",
              "      <td>0</td>\n",
              "      <td>0</td>\n",
              "      <td>Security staff</td>\n",
              "      <td>2.0</td>\n",
              "    </tr>\n",
              "    <tr>\n",
              "      <th>3</th>\n",
              "      <td>5008808</td>\n",
              "      <td>F</td>\n",
              "      <td>N</td>\n",
              "      <td>Y</td>\n",
              "      <td>0</td>\n",
              "      <td>270000.0</td>\n",
              "      <td>Commercial associate</td>\n",
              "      <td>Secondary / secondary special</td>\n",
              "      <td>Single / not married</td>\n",
              "      <td>House / apartment</td>\n",
              "      <td>-19110</td>\n",
              "      <td>-3051</td>\n",
              "      <td>1</td>\n",
              "      <td>0</td>\n",
              "      <td>1</td>\n",
              "      <td>1</td>\n",
              "      <td>Sales staff</td>\n",
              "      <td>1.0</td>\n",
              "    </tr>\n",
              "    <tr>\n",
              "      <th>4</th>\n",
              "      <td>5008809</td>\n",
              "      <td>F</td>\n",
              "      <td>N</td>\n",
              "      <td>Y</td>\n",
              "      <td>0</td>\n",
              "      <td>270000.0</td>\n",
              "      <td>Commercial associate</td>\n",
              "      <td>Secondary / secondary special</td>\n",
              "      <td>Single / not married</td>\n",
              "      <td>House / apartment</td>\n",
              "      <td>-19110</td>\n",
              "      <td>-3051</td>\n",
              "      <td>1</td>\n",
              "      <td>0</td>\n",
              "      <td>1</td>\n",
              "      <td>1</td>\n",
              "      <td>Sales staff</td>\n",
              "      <td>1.0</td>\n",
              "    </tr>\n",
              "  </tbody>\n",
              "</table>\n",
              "</div>\n",
              "      <button class=\"colab-df-convert\" onclick=\"convertToInteractive('df-6be524f3-8da3-42f0-a2c3-64e356975bdd')\"\n",
              "              title=\"Convert this dataframe to an interactive table.\"\n",
              "              style=\"display:none;\">\n",
              "        \n",
              "  <svg xmlns=\"http://www.w3.org/2000/svg\" height=\"24px\"viewBox=\"0 0 24 24\"\n",
              "       width=\"24px\">\n",
              "    <path d=\"M0 0h24v24H0V0z\" fill=\"none\"/>\n",
              "    <path d=\"M18.56 5.44l.94 2.06.94-2.06 2.06-.94-2.06-.94-.94-2.06-.94 2.06-2.06.94zm-11 1L8.5 8.5l.94-2.06 2.06-.94-2.06-.94L8.5 2.5l-.94 2.06-2.06.94zm10 10l.94 2.06.94-2.06 2.06-.94-2.06-.94-.94-2.06-.94 2.06-2.06.94z\"/><path d=\"M17.41 7.96l-1.37-1.37c-.4-.4-.92-.59-1.43-.59-.52 0-1.04.2-1.43.59L10.3 9.45l-7.72 7.72c-.78.78-.78 2.05 0 2.83L4 21.41c.39.39.9.59 1.41.59.51 0 1.02-.2 1.41-.59l7.78-7.78 2.81-2.81c.8-.78.8-2.07 0-2.86zM5.41 20L4 18.59l7.72-7.72 1.47 1.35L5.41 20z\"/>\n",
              "  </svg>\n",
              "      </button>\n",
              "      \n",
              "  <style>\n",
              "    .colab-df-container {\n",
              "      display:flex;\n",
              "      flex-wrap:wrap;\n",
              "      gap: 12px;\n",
              "    }\n",
              "\n",
              "    .colab-df-convert {\n",
              "      background-color: #E8F0FE;\n",
              "      border: none;\n",
              "      border-radius: 50%;\n",
              "      cursor: pointer;\n",
              "      display: none;\n",
              "      fill: #1967D2;\n",
              "      height: 32px;\n",
              "      padding: 0 0 0 0;\n",
              "      width: 32px;\n",
              "    }\n",
              "\n",
              "    .colab-df-convert:hover {\n",
              "      background-color: #E2EBFA;\n",
              "      box-shadow: 0px 1px 2px rgba(60, 64, 67, 0.3), 0px 1px 3px 1px rgba(60, 64, 67, 0.15);\n",
              "      fill: #174EA6;\n",
              "    }\n",
              "\n",
              "    [theme=dark] .colab-df-convert {\n",
              "      background-color: #3B4455;\n",
              "      fill: #D2E3FC;\n",
              "    }\n",
              "\n",
              "    [theme=dark] .colab-df-convert:hover {\n",
              "      background-color: #434B5C;\n",
              "      box-shadow: 0px 1px 3px 1px rgba(0, 0, 0, 0.15);\n",
              "      filter: drop-shadow(0px 1px 2px rgba(0, 0, 0, 0.3));\n",
              "      fill: #FFFFFF;\n",
              "    }\n",
              "  </style>\n",
              "\n",
              "      <script>\n",
              "        const buttonEl =\n",
              "          document.querySelector('#df-6be524f3-8da3-42f0-a2c3-64e356975bdd button.colab-df-convert');\n",
              "        buttonEl.style.display =\n",
              "          google.colab.kernel.accessAllowed ? 'block' : 'none';\n",
              "\n",
              "        async function convertToInteractive(key) {\n",
              "          const element = document.querySelector('#df-6be524f3-8da3-42f0-a2c3-64e356975bdd');\n",
              "          const dataTable =\n",
              "            await google.colab.kernel.invokeFunction('convertToInteractive',\n",
              "                                                     [key], {});\n",
              "          if (!dataTable) return;\n",
              "\n",
              "          const docLinkHtml = 'Like what you see? Visit the ' +\n",
              "            '<a target=\"_blank\" href=https://colab.research.google.com/notebooks/data_table.ipynb>data table notebook</a>'\n",
              "            + ' to learn more about interactive tables.';\n",
              "          element.innerHTML = '';\n",
              "          dataTable['output_type'] = 'display_data';\n",
              "          await google.colab.output.renderOutput(dataTable, element);\n",
              "          const docLink = document.createElement('div');\n",
              "          docLink.innerHTML = docLinkHtml;\n",
              "          element.appendChild(docLink);\n",
              "        }\n",
              "      </script>\n",
              "    </div>\n",
              "  </div>\n",
              "  "
            ]
          },
          "metadata": {},
          "execution_count": 132
        }
      ]
    },
    {
      "cell_type": "code",
      "source": [
        "def get_ohe(df,categorical_cols,ohe):\n",
        "    temp_df = pd.DataFrame(data=ohe.transform(df[categorical_cols]), columns=ohe.get_feature_names_out())\n",
        "    df.drop(columns=categorical_cols, axis=1, inplace=True)\n",
        "    df = pd.concat([df.reset_index(drop=True), temp_df], axis=1)\n",
        "    return df"
      ],
      "metadata": {
        "id": "J27nxIxH46s7"
      },
      "execution_count": 134,
      "outputs": []
    },
    {
      "cell_type": "markdown",
      "source": [
        "# 1. final_fun_1"
      ],
      "metadata": {
        "id": "v95oyiZbt0mm"
      }
    },
    {
      "cell_type": "code",
      "source": [
        "application_record = pd.read_csv('/content/drive/MyDrive/DATA SCIENCE/CASE STUDY 1/application_record.csv')\n",
        "X = application_record\n",
        "X = application_record.iloc[0:2]\n",
        "# X = X.to_frame().T"
      ],
      "metadata": {
        "id": "sC-UCkq0fb0G"
      },
      "execution_count": 135,
      "outputs": []
    },
    {
      "cell_type": "code",
      "source": [
        "\n",
        "def final_fun_1(X):\n",
        "\n",
        "  \"\"\"\n",
        "  Replacing null values with \"NAN\" for occupation type.\n",
        "  We found this is the best imputation technique.\n",
        "  \"\"\"\n",
        "  # X = X.replace(np.nan, 'NAN', regex=True)\n",
        "  X[\"OCCUPATION_TYPE\"].fillna(\"NAN\",inplace = True)\n",
        "\n",
        "\n",
        "  \"\"\"\n",
        "  Converting birthdate in days into age\n",
        "  \"\"\"\n",
        "  X[\"DAYS_BIRTH\"] = X[\"DAYS_BIRTH\"]//(-365)\n",
        "  X.rename(columns = {'DAYS_BIRTH':'AGE'}, inplace = True)\n",
        "\n",
        "\n",
        "  \"\"\"\n",
        "  Converting number of days employed into years\n",
        "  \"\"\"\n",
        "  X[\"YEARS_EMPLOYED\"] = X[\"DAYS_EMPLOYED\"]//(-365)\n",
        "  year_employed_list = X[\"YEARS_EMPLOYED\"].to_list()\n",
        "  age_list = X[\"AGE\"].to_list()\n",
        "  temp_list = []\n",
        "  # replacing all negative YEARS_EMPLOYED by their AGE\n",
        "  for i,each in enumerate(year_employed_list):\n",
        "    if each < 0:\n",
        "      temp_list.append((-1)*age_list[i])\n",
        "    else:\n",
        "      temp_list.append(each)\n",
        "  X[\"YEARS_EMPLOYED\"] = temp_list\n",
        "  X = X.drop(['DAYS_EMPLOYED'],axis = 1)\n",
        "\n",
        "\n",
        "  \"\"\" \n",
        "  All the applicants in train set had mobile phones.\n",
        "  So, ignored this feature.\n",
        "  \"\"\"\n",
        "  X.drop(['FLAG_MOBIL'],axis=1)\n",
        "\n",
        "\n",
        "  \"\"\"\n",
        "  credit_record\n",
        "  \"\"\"\n",
        "  credit_record = pd.read_csv('/content/drive/MyDrive/DATA SCIENCE/CASE STUDY 1/updated_credit_record.csv')  \n",
        "  credit_record = credit_record.value_counts(subset=['ID', 'STATUS']).unstack(fill_value=0)\n",
        "  merged_data = X.merge(credit_record, how='left', on=['ID'])\n",
        "  merged_data[\"Bad_Debt\"].fillna(0,inplace = True)\n",
        "  merged_data[\"Good_Debt\"].fillna(0,inplace = True)\n",
        "  merged_data[\"Neutral_Debt\"].fillna(0,inplace = True)\n",
        "  X = merged_data\n",
        "\n",
        "\n",
        "  \"\"\"\n",
        "  One Hot Encoding for CATEGORICAL DATA\n",
        "  \"\"\"\n",
        "  categorical_cols = ['NAME_INCOME_TYPE', 'NAME_EDUCATION_TYPE','NAME_FAMILY_STATUS','NAME_HOUSING_TYPE']\n",
        "  X = get_ohe(X,categorical_cols,OHE_CAT_1)\n",
        "  categorical_cols = ['OCCUPATION_TYPE']\n",
        "  X = get_ohe(X,categorical_cols,OHE_CAT_OCC)\n",
        "\n",
        "\n",
        "  \"\"\"\n",
        "  LABEL ENCODER FOR BINARY CATEGORICAL VARIABLE\n",
        "  \"\"\"\n",
        "  X['CODE_GENDER'] = lab_enc_gender.transform(X['CODE_GENDER'])\n",
        "  X['FLAG_OWN_CAR'] = lab_enc_car.transform(X['FLAG_OWN_CAR'])\n",
        "  X['FLAG_OWN_REALTY'] = lab_enc_reality.transform(X['FLAG_OWN_REALTY'])\n",
        "  X['FLAG_WORK_PHONE'] = lab_enc_work_phone.transform(X['FLAG_WORK_PHONE'])\n",
        "  X['FLAG_PHONE'] = lab_enc_phone.transform(X['FLAG_PHONE'])\n",
        "  X['FLAG_EMAIL'] = lab_enc_email.transform(X['FLAG_EMAIL'])\n",
        "\n",
        "\n",
        "  \"\"\"\n",
        "  STANDARIZING NUMERICAL FEATURES\n",
        "  \"\"\"\n",
        "  col_names = ['CNT_CHILDREN', 'AMT_INCOME_TOTAL','AGE','YEARS_EMPLOYED','CNT_FAM_MEMBERS']\n",
        "  X[col_names] = standard_scaler.transform(X[col_names])\n",
        "\n",
        "  \"\"\"\n",
        "  Dropping the ID feature\n",
        "  \"\"\"\n",
        "  X = X.drop(\"ID\",1) \n",
        "\n",
        "\n",
        "  y_pred = clf.predict(X)\n",
        "  return y_pred"
      ],
      "metadata": {
        "id": "qu8jGyLwa_h_"
      },
      "execution_count": 136,
      "outputs": []
    },
    {
      "cell_type": "code",
      "source": [
        "y_pred = final_fun_1(X)"
      ],
      "metadata": {
        "id": "d2c1jv0LbNAm",
        "colab": {
          "base_uri": "https://localhost:8080/"
        },
        "outputId": "c1926924-39aa-4dca-c01e-ff0c80101439"
      },
      "execution_count": 137,
      "outputs": [
        {
          "output_type": "stream",
          "name": "stderr",
          "text": [
            "/usr/local/lib/python3.7/dist-packages/pandas/core/generic.py:6392: SettingWithCopyWarning: \n",
            "A value is trying to be set on a copy of a slice from a DataFrame\n",
            "\n",
            "See the caveats in the documentation: https://pandas.pydata.org/pandas-docs/stable/user_guide/indexing.html#returning-a-view-versus-a-copy\n",
            "  return self._update_inplace(result)\n",
            "/usr/local/lib/python3.7/dist-packages/ipykernel_launcher.py:15: SettingWithCopyWarning: \n",
            "A value is trying to be set on a copy of a slice from a DataFrame.\n",
            "Try using .loc[row_indexer,col_indexer] = value instead\n",
            "\n",
            "See the caveats in the documentation: https://pandas.pydata.org/pandas-docs/stable/user_guide/indexing.html#returning-a-view-versus-a-copy\n",
            "  from ipykernel import kernelapp as app\n",
            "/usr/local/lib/python3.7/dist-packages/pandas/core/frame.py:5047: SettingWithCopyWarning: \n",
            "A value is trying to be set on a copy of a slice from a DataFrame\n",
            "\n",
            "See the caveats in the documentation: https://pandas.pydata.org/pandas-docs/stable/user_guide/indexing.html#returning-a-view-versus-a-copy\n",
            "  errors=errors,\n",
            "/usr/local/lib/python3.7/dist-packages/ipykernel_launcher.py:22: SettingWithCopyWarning: \n",
            "A value is trying to be set on a copy of a slice from a DataFrame.\n",
            "Try using .loc[row_indexer,col_indexer] = value instead\n",
            "\n",
            "See the caveats in the documentation: https://pandas.pydata.org/pandas-docs/stable/user_guide/indexing.html#returning-a-view-versus-a-copy\n",
            "/usr/local/lib/python3.7/dist-packages/ipykernel_launcher.py:32: SettingWithCopyWarning: \n",
            "A value is trying to be set on a copy of a slice from a DataFrame.\n",
            "Try using .loc[row_indexer,col_indexer] = value instead\n",
            "\n",
            "See the caveats in the documentation: https://pandas.pydata.org/pandas-docs/stable/user_guide/indexing.html#returning-a-view-versus-a-copy\n",
            "/usr/local/lib/python3.7/dist-packages/ipykernel_launcher.py:84: FutureWarning: In a future version of pandas all arguments of DataFrame.drop except for the argument 'labels' will be keyword-only\n"
          ]
        }
      ]
    },
    {
      "cell_type": "code",
      "source": [
        "y_pred"
      ],
      "metadata": {
        "colab": {
          "base_uri": "https://localhost:8080/"
        },
        "id": "KcFMetwue8Cu",
        "outputId": "68260657-6d83-46de-d7bf-3588c05bfbf3"
      },
      "execution_count": 138,
      "outputs": [
        {
          "output_type": "execute_result",
          "data": {
            "text/plain": [
              "array([1., 1.])"
            ]
          },
          "metadata": {},
          "execution_count": 138
        }
      ]
    },
    {
      "cell_type": "markdown",
      "source": [
        "# 2.final_fun_2"
      ],
      "metadata": {
        "id": "zaJ0mqMZfPw_"
      }
    },
    {
      "cell_type": "code",
      "source": [
        "application_record = pd.read_csv('/content/drive/MyDrive/DATA SCIENCE/CASE STUDY 1/application_record.csv')\n",
        "X = application_record.iloc[0:5000]\n",
        "# X = X.to_frame().T"
      ],
      "metadata": {
        "id": "YJWRxvfkfZL7"
      },
      "execution_count": 139,
      "outputs": []
    },
    {
      "cell_type": "code",
      "source": [
        "# creating the target variable for the given inputs\n",
        "\n",
        "credit_record_temp = credit_record.value_counts(subset=['ID', 'STATUS']).unstack(fill_value=0)\n",
        "credit_record_temp.loc[(credit_record_temp['Good_Debt'] > credit_record_temp['Neutral_Debt']), 'CREDIT_APPROVAL_STATUS'] = 1\n",
        "credit_record_temp.loc[(credit_record_temp['Good_Debt'] > credit_record_temp['Bad_Debt']), 'CREDIT_APPROVAL_STATUS'] = 1\n",
        "credit_record_temp.loc[(credit_record_temp['Neutral_Debt'] > credit_record_temp['Good_Debt']), 'CREDIT_APPROVAL_STATUS'] = 0\n",
        "credit_record_temp.loc[(credit_record_temp['Neutral_Debt'] > credit_record_temp['Bad_Debt']), 'CREDIT_APPROVAL_STATUS'] = 1\n",
        "credit_record_temp.loc[(credit_record_temp['Bad_Debt'] > credit_record_temp['Good_Debt']), 'CREDIT_APPROVAL_STATUS'] = 0\n",
        "credit_record_temp.loc[(credit_record_temp['Bad_Debt'] > credit_record_temp['Neutral_Debt']), 'CREDIT_APPROVAL_STATUS'] = 0\n",
        "\n",
        "merged_data = X.merge(credit_record_temp, how='inner', on=['ID'])\n",
        "merged_data = merged_data.drop(['Good_Debt','Neutral_Debt','Bad_Debt'],axis = 1)"
      ],
      "metadata": {
        "id": "guO8FlI7k9sA"
      },
      "execution_count": 140,
      "outputs": []
    },
    {
      "cell_type": "code",
      "source": [
        "# Defining X and Y accordingly as for many data points we donot have the target variable as those applications doesnot have any previous record\n",
        "\n",
        "X = merged_data.iloc[:,:-1]\n",
        "Y = merged_data.iloc[:,-1]\n",
        "\n",
        "\n",
        "\n",
        "print(X.shape)\n",
        "print(Y.shape)"
      ],
      "metadata": {
        "colab": {
          "base_uri": "https://localhost:8080/"
        },
        "id": "9N1r7P5tlzyW",
        "outputId": "31a728ec-1f45-4b3b-e939-bfe1d7b3dafd"
      },
      "execution_count": 141,
      "outputs": [
        {
          "output_type": "stream",
          "name": "stdout",
          "text": [
            "(4478, 18)\n",
            "(4478,)\n"
          ]
        }
      ]
    },
    {
      "cell_type": "code",
      "source": [
        "def final_fun_2(X,Y):\n",
        "\n",
        "  \"\"\"\n",
        "  Replacing null values with \"NAN\" for occupation type.\n",
        "  We found this is the best imputation technique.\n",
        "  \"\"\"\n",
        "  # X = X.replace(np.nan, 'NAN', regex=True)\n",
        "  X[\"OCCUPATION_TYPE\"].fillna(\"NAN\",inplace = True)\n",
        "\n",
        "\n",
        "  \"\"\"\n",
        "  Converting birthdate in days into age\n",
        "  \"\"\"\n",
        "  X[\"DAYS_BIRTH\"] = X[\"DAYS_BIRTH\"]//(-365)\n",
        "  X.rename(columns = {'DAYS_BIRTH':'AGE'}, inplace = True)\n",
        "\n",
        "\n",
        "  \"\"\"\n",
        "  Converting number of days employed into years\n",
        "  \"\"\"\n",
        "  X[\"YEARS_EMPLOYED\"] = X[\"DAYS_EMPLOYED\"]//(-365)\n",
        "  year_employed_list = X[\"YEARS_EMPLOYED\"].to_list()\n",
        "  age_list = X[\"AGE\"].to_list()\n",
        "  temp_list = []\n",
        "  # replacing all negative YEARS_EMPLOYED by their AGE\n",
        "  for i,each in enumerate(year_employed_list):\n",
        "    if each < 0:\n",
        "      temp_list.append((-1)*age_list[i])\n",
        "    else:\n",
        "      temp_list.append(each)\n",
        "  X[\"YEARS_EMPLOYED\"] = temp_list\n",
        "  X = X.drop(['DAYS_EMPLOYED'],axis = 1)\n",
        "\n",
        "\n",
        "  \"\"\" \n",
        "  All the applicants in train set had mobile phones.\n",
        "  So, ignored this feature.\n",
        "  \"\"\"\n",
        "  X.drop(['FLAG_MOBIL'],axis=1)\n",
        "\n",
        "\n",
        "  \"\"\"\n",
        "  credit_record\n",
        "  \"\"\"\n",
        "  credit_record = pd.read_csv('/content/drive/MyDrive/DATA SCIENCE/CASE STUDY 1/updated_credit_record.csv')  \n",
        "  credit_record = credit_record.value_counts(subset=['ID', 'STATUS']).unstack(fill_value=0)\n",
        "  merged_data = X.merge(credit_record, how='left', on=['ID'])\n",
        "  merged_data[\"Bad_Debt\"].fillna(0,inplace = True)\n",
        "  merged_data[\"Good_Debt\"].fillna(0,inplace = True)\n",
        "  merged_data[\"Neutral_Debt\"].fillna(0,inplace = True)\n",
        "  X = merged_data\n",
        "\n",
        "\n",
        "  \"\"\"\n",
        "  One Hot Encoding for CATEGORICAL DATA\n",
        "  \"\"\"\n",
        "  categorical_cols = ['NAME_INCOME_TYPE', 'NAME_EDUCATION_TYPE','NAME_FAMILY_STATUS','NAME_HOUSING_TYPE']\n",
        "  X = get_ohe(X,categorical_cols,OHE_CAT_1)\n",
        "  categorical_cols = ['OCCUPATION_TYPE']\n",
        "  X = get_ohe(X,categorical_cols,OHE_CAT_OCC)\n",
        "\n",
        "\n",
        "  \"\"\"\n",
        "  LABEL ENCODER FOR BINARY CATEGORICAL VARIABLE\n",
        "  \"\"\"\n",
        "  X['CODE_GENDER'] = lab_enc_gender.transform(X['CODE_GENDER'])\n",
        "  X['FLAG_OWN_CAR'] = lab_enc_car.transform(X['FLAG_OWN_CAR'])\n",
        "  X['FLAG_OWN_REALTY'] = lab_enc_reality.transform(X['FLAG_OWN_REALTY'])\n",
        "  X['FLAG_WORK_PHONE'] = lab_enc_work_phone.transform(X['FLAG_WORK_PHONE'])\n",
        "  X['FLAG_PHONE'] = lab_enc_phone.transform(X['FLAG_PHONE'])\n",
        "  X['FLAG_EMAIL'] = lab_enc_email.transform(X['FLAG_EMAIL'])\n",
        "\n",
        "\n",
        "  \"\"\"\n",
        "  STANDARIZING NUMERICAL FEATURES\n",
        "  \"\"\"\n",
        "  col_names = ['CNT_CHILDREN', 'AMT_INCOME_TOTAL','AGE','YEARS_EMPLOYED','CNT_FAM_MEMBERS']\n",
        "  X[col_names] = standard_scaler.transform(X[col_names])\n",
        "\n",
        "  \"\"\"\n",
        "  Dropping the ID feature\n",
        "  \"\"\"\n",
        "  X = X.drop(\"ID\",1) \n",
        "\n",
        "\n",
        "  y_pred = clf.predict(X)\n",
        "  \n",
        "\n",
        "  \"\"\"\n",
        "  METRICS:\n",
        "  \"\"\"\n",
        "  cm = confusion_matrix(Y,y_pred)\n",
        "  print(\"ACCURACY SCORE-->\",accuracy_score(Y,y_pred))\n",
        "  sn.heatmap(cm/np.sum(cm), annot=True,fmt='.2%', cmap='Blues')\n",
        "  print(classification_report(Y,y_pred))\n",
        "\n",
        "  return roc_auc_score(Y, y_pred)\n"
      ],
      "metadata": {
        "id": "ED8Qu7iREZYb"
      },
      "execution_count": 142,
      "outputs": []
    },
    {
      "cell_type": "code",
      "source": [
        "metrics = final_fun_2(X,Y.to_list())\n",
        "print(\"THE AUC ROC score is \",metrics)"
      ],
      "metadata": {
        "colab": {
          "base_uri": "https://localhost:8080/",
          "height": 504
        },
        "id": "01zrBfvnhJH3",
        "outputId": "5f8ed6c7-ead4-4495-e47a-4f3c0837f9d9"
      },
      "execution_count": 143,
      "outputs": [
        {
          "output_type": "stream",
          "name": "stderr",
          "text": [
            "/usr/local/lib/python3.7/dist-packages/ipykernel_launcher.py:83: FutureWarning: In a future version of pandas all arguments of DataFrame.drop except for the argument 'labels' will be keyword-only\n"
          ]
        },
        {
          "output_type": "stream",
          "name": "stdout",
          "text": [
            "ACCURACY SCORE--> 0.9991067440821796\n",
            "              precision    recall  f1-score   support\n",
            "\n",
            "         0.0       0.71      1.00      0.83        10\n",
            "         1.0       1.00      1.00      1.00      4468\n",
            "\n",
            "    accuracy                           1.00      4478\n",
            "   macro avg       0.86      1.00      0.92      4478\n",
            "weighted avg       1.00      1.00      1.00      4478\n",
            "\n",
            "THE AUC ROC score is  0.9995523724261415\n"
          ]
        },
        {
          "output_type": "display_data",
          "data": {
            "text/plain": [
              "<Figure size 432x288 with 2 Axes>"
            ],
            "image/png": "[encoded data removed]"
          },
          "metadata": {
            "needs_background": "light"
          }
        }
      ]
    }
  ]
}