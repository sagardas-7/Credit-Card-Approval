{
  "nbformat": 4,
  "nbformat_minor": 0,
  "metadata": {
    "colab": {
      "name": "EDA AND FE.ipynb",
      "provenance": [],
      "collapsed_sections": [
        "quOCXF9TPL1e",
        "g1OBytGY4foC",
        "mxUTOo-_nM5d",
        "dvQ96iET2mgp",
        "fIF3GJ4rF5lM",
        "soQSys1e2umh",
        "8mce3XTz1v9S",
        "y0w3_-bn4sUZ",
        "9sIrGgKnlqOa",
        "utxhWDnw06F8",
        "mMloY2OSRg58",
        "FA3tq7fm2Tpe",
        "2jH0R4isuerZ",
        "OrLlmRWY1iK8",
        "aQO8EFKyOXY4",
        "JFPqZSMmBOe0",
        "hbeHlZsw2Re5"
      ]
    },
    "kernelspec": {
      "name": "python3",
      "display_name": "Python 3"
    },
    "language_info": {
      "name": "python"
    }
  },
  "cells": [
    {
      "cell_type": "code",
      "execution_count": 502,
      "metadata": {
        "colab": {
          "base_uri": "https://localhost:8080/"
        },
        "id": "drLq2uZxjCsC",
        "outputId": "eebd207b-dd3c-466a-bf83-622cc1e5082f"
      },
      "outputs": [
        {
          "output_type": "stream",
          "name": "stdout",
          "text": [
            "Drive already mounted at /content/drive; to attempt to forcibly remount, call drive.mount(\"/content/drive\", force_remount=True).\n"
          ]
        }
      ],
      "source": [
        "from google.colab import drive\n",
        "drive.mount('/content/drive')"
      ]
    },
    {
      "cell_type": "code",
      "source": [
        "import pandas as pd\n",
        "import seaborn as sns\n",
        "import matplotlib.pyplot as plt\n",
        "import numpy as np\n",
        "from sklearn.preprocessing import OneHotEncoder\n",
        "from sklearn.model_selection import train_test_split\n",
        "from sklearn import preprocessing\n",
        "from sklearn.tree import DecisionTreeClassifier\n",
        "from sklearn.model_selection import cross_val_score\n",
        "from sklearn.metrics import accuracy_score\n",
        "from sklearn.ensemble import RandomForestClassifier\n",
        "from sklearn.linear_model import LogisticRegression\n",
        "from sklearn.metrics import f1_score\n",
        "from sklearn.preprocessing import OneHotEncoder\n",
        "from sklearn.preprocessing import StandardScaler\n",
        "import pickle"
      ],
      "metadata": {
        "id": "EN_jzqUTl7kp"
      },
      "execution_count": 503,
      "outputs": []
    },
    {
      "cell_type": "code",
      "source": [
        "pd.set_option('max_rows', 99999)\n",
        "pd.set_option('max_colwidth', 400)\n",
        "pd.describe_option('max_colwidth')"
      ],
      "metadata": {
        "id": "D-4JzVwyef3f"
      },
      "execution_count": null,
      "outputs": []
    },
    {
      "cell_type": "code",
      "source": [
        "#reading the csv files\n",
        "application_record = pd.read_csv('/content/drive/MyDrive/DATA SCIENCE/CASE STUDY 1/application_record.csv')\n",
        "credit_record = pd.read_csv('/content/drive/MyDrive/DATA SCIENCE/CASE STUDY 1/credit_record.csv')"
      ],
      "metadata": {
        "id": "Em_bGG0qlNr1"
      },
      "execution_count": 504,
      "outputs": []
    },
    {
      "cell_type": "code",
      "source": [
        "application_record.head()"
      ],
      "metadata": {
        "colab": {
          "base_uri": "https://localhost:8080/",
          "height": 322
        },
        "id": "ItKor5BhnLkf",
        "outputId": "1a78fe4d-d3f7-4cbd-bf10-f49c017b1a9e"
      },
      "execution_count": 505,
      "outputs": [
        {
          "output_type": "execute_result",
          "data": {
            "text/plain": [
              "        ID CODE_GENDER FLAG_OWN_CAR FLAG_OWN_REALTY  CNT_CHILDREN  \\\n",
              "0  5008804           M            Y               Y             0   \n",
              "1  5008805           M            Y               Y             0   \n",
              "2  5008806           M            Y               Y             0   \n",
              "3  5008808           F            N               Y             0   \n",
              "4  5008809           F            N               Y             0   \n",
              "\n",
              "   AMT_INCOME_TOTAL      NAME_INCOME_TYPE            NAME_EDUCATION_TYPE  \\\n",
              "0          427500.0               Working               Higher education   \n",
              "1          427500.0               Working               Higher education   \n",
              "2          112500.0               Working  Secondary / secondary special   \n",
              "3          270000.0  Commercial associate  Secondary / secondary special   \n",
              "4          270000.0  Commercial associate  Secondary / secondary special   \n",
              "\n",
              "     NAME_FAMILY_STATUS  NAME_HOUSING_TYPE  DAYS_BIRTH  DAYS_EMPLOYED  \\\n",
              "0        Civil marriage   Rented apartment      -12005          -4542   \n",
              "1        Civil marriage   Rented apartment      -12005          -4542   \n",
              "2               Married  House / apartment      -21474          -1134   \n",
              "3  Single / not married  House / apartment      -19110          -3051   \n",
              "4  Single / not married  House / apartment      -19110          -3051   \n",
              "\n",
              "   FLAG_MOBIL  FLAG_WORK_PHONE  FLAG_PHONE  FLAG_EMAIL OCCUPATION_TYPE  \\\n",
              "0           1                1           0           0             NaN   \n",
              "1           1                1           0           0             NaN   \n",
              "2           1                0           0           0  Security staff   \n",
              "3           1                0           1           1     Sales staff   \n",
              "4           1                0           1           1     Sales staff   \n",
              "\n",
              "   CNT_FAM_MEMBERS  \n",
              "0              2.0  \n",
              "1              2.0  \n",
              "2              2.0  \n",
              "3              1.0  \n",
              "4              1.0  "
            ],
            "text/html": [
              "\n",
              "  <div id=\"df-7118fe29-e2f9-4acc-8105-7d60acaf3bac\">\n",
              "    <div class=\"colab-df-container\">\n",
              "      <div>\n",
              "<style scoped>\n",
              "    .dataframe tbody tr th:only-of-type {\n",
              "        vertical-align: middle;\n",
              "    }\n",
              "\n",
              "    .dataframe tbody tr th {\n",
              "        vertical-align: top;\n",
              "    }\n",
              "\n",
              "    .dataframe thead th {\n",
              "        text-align: right;\n",
              "    }\n",
              "</style>\n",
              "<table border=\"1\" class=\"dataframe\">\n",
              "  <thead>\n",
              "    <tr style=\"text-align: right;\">\n",
              "      <th></th>\n",
              "      <th>ID</th>\n",
              "      <th>CODE_GENDER</th>\n",
              "      <th>FLAG_OWN_CAR</th>\n",
              "      <th>FLAG_OWN_REALTY</th>\n",
              "      <th>CNT_CHILDREN</th>\n",
              "      <th>AMT_INCOME_TOTAL</th>\n",
              "      <th>NAME_INCOME_TYPE</th>\n",
              "      <th>NAME_EDUCATION_TYPE</th>\n",
              "      <th>NAME_FAMILY_STATUS</th>\n",
              "      <th>NAME_HOUSING_TYPE</th>\n",
              "      <th>DAYS_BIRTH</th>\n",
              "      <th>DAYS_EMPLOYED</th>\n",
              "      <th>FLAG_MOBIL</th>\n",
              "      <th>FLAG_WORK_PHONE</th>\n",
              "      <th>FLAG_PHONE</th>\n",
              "      <th>FLAG_EMAIL</th>\n",
              "      <th>OCCUPATION_TYPE</th>\n",
              "      <th>CNT_FAM_MEMBERS</th>\n",
              "    </tr>\n",
              "  </thead>\n",
              "  <tbody>\n",
              "    <tr>\n",
              "      <th>0</th>\n",
              "      <td>5008804</td>\n",
              "      <td>M</td>\n",
              "      <td>Y</td>\n",
              "      <td>Y</td>\n",
              "      <td>0</td>\n",
              "      <td>427500.0</td>\n",
              "      <td>Working</td>\n",
              "      <td>Higher education</td>\n",
              "      <td>Civil marriage</td>\n",
              "      <td>Rented apartment</td>\n",
              "      <td>-12005</td>\n",
              "      <td>-4542</td>\n",
              "      <td>1</td>\n",
              "      <td>1</td>\n",
              "      <td>0</td>\n",
              "      <td>0</td>\n",
              "      <td>NaN</td>\n",
              "      <td>2.0</td>\n",
              "    </tr>\n",
              "    <tr>\n",
              "      <th>1</th>\n",
              "      <td>5008805</td>\n",
              "      <td>M</td>\n",
              "      <td>Y</td>\n",
              "      <td>Y</td>\n",
              "      <td>0</td>\n",
              "      <td>427500.0</td>\n",
              "      <td>Working</td>\n",
              "      <td>Higher education</td>\n",
              "      <td>Civil marriage</td>\n",
              "      <td>Rented apartment</td>\n",
              "      <td>-12005</td>\n",
              "      <td>-4542</td>\n",
              "      <td>1</td>\n",
              "      <td>1</td>\n",
              "      <td>0</td>\n",
              "      <td>0</td>\n",
              "      <td>NaN</td>\n",
              "      <td>2.0</td>\n",
              "    </tr>\n",
              "    <tr>\n",
              "      <th>2</th>\n",
              "      <td>5008806</td>\n",
              "      <td>M</td>\n",
              "      <td>Y</td>\n",
              "      <td>Y</td>\n",
              "      <td>0</td>\n",
              "      <td>112500.0</td>\n",
              "      <td>Working</td>\n",
              "      <td>Secondary / secondary special</td>\n",
              "      <td>Married</td>\n",
              "      <td>House / apartment</td>\n",
              "      <td>-21474</td>\n",
              "      <td>-1134</td>\n",
              "      <td>1</td>\n",
              "      <td>0</td>\n",
              "      <td>0</td>\n",
              "      <td>0</td>\n",
              "      <td>Security staff</td>\n",
              "      <td>2.0</td>\n",
              "    </tr>\n",
              "    <tr>\n",
              "      <th>3</th>\n",
              "      <td>5008808</td>\n",
              "      <td>F</td>\n",
              "      <td>N</td>\n",
              "      <td>Y</td>\n",
              "      <td>0</td>\n",
              "      <td>270000.0</td>\n",
              "      <td>Commercial associate</td>\n",
              "      <td>Secondary / secondary special</td>\n",
              "      <td>Single / not married</td>\n",
              "      <td>House / apartment</td>\n",
              "      <td>-19110</td>\n",
              "      <td>-3051</td>\n",
              "      <td>1</td>\n",
              "      <td>0</td>\n",
              "      <td>1</td>\n",
              "      <td>1</td>\n",
              "      <td>Sales staff</td>\n",
              "      <td>1.0</td>\n",
              "    </tr>\n",
              "    <tr>\n",
              "      <th>4</th>\n",
              "      <td>5008809</td>\n",
              "      <td>F</td>\n",
              "      <td>N</td>\n",
              "      <td>Y</td>\n",
              "      <td>0</td>\n",
              "      <td>270000.0</td>\n",
              "      <td>Commercial associate</td>\n",
              "      <td>Secondary / secondary special</td>\n",
              "      <td>Single / not married</td>\n",
              "      <td>House / apartment</td>\n",
              "      <td>-19110</td>\n",
              "      <td>-3051</td>\n",
              "      <td>1</td>\n",
              "      <td>0</td>\n",
              "      <td>1</td>\n",
              "      <td>1</td>\n",
              "      <td>Sales staff</td>\n",
              "      <td>1.0</td>\n",
              "    </tr>\n",
              "  </tbody>\n",
              "</table>\n",
              "</div>\n",
              "      <button class=\"colab-df-convert\" onclick=\"convertToInteractive('df-7118fe29-e2f9-4acc-8105-7d60acaf3bac')\"\n",
              "              title=\"Convert this dataframe to an interactive table.\"\n",
              "              style=\"display:none;\">\n",
              "        \n",
              "  <svg xmlns=\"http://www.w3.org/2000/svg\" height=\"24px\"viewBox=\"0 0 24 24\"\n",
              "       width=\"24px\">\n",
              "    <path d=\"M0 0h24v24H0V0z\" fill=\"none\"/>\n",
              "    <path d=\"M18.56 5.44l.94 2.06.94-2.06 2.06-.94-2.06-.94-.94-2.06-.94 2.06-2.06.94zm-11 1L8.5 8.5l.94-2.06 2.06-.94-2.06-.94L8.5 2.5l-.94 2.06-2.06.94zm10 10l.94 2.06.94-2.06 2.06-.94-2.06-.94-.94-2.06-.94 2.06-2.06.94z\"/><path d=\"M17.41 7.96l-1.37-1.37c-.4-.4-.92-.59-1.43-.59-.52 0-1.04.2-1.43.59L10.3 9.45l-7.72 7.72c-.78.78-.78 2.05 0 2.83L4 21.41c.39.39.9.59 1.41.59.51 0 1.02-.2 1.41-.59l7.78-7.78 2.81-2.81c.8-.78.8-2.07 0-2.86zM5.41 20L4 18.59l7.72-7.72 1.47 1.35L5.41 20z\"/>\n",
              "  </svg>\n",
              "      </button>\n",
              "      \n",
              "  <style>\n",
              "    .colab-df-container {\n",
              "      display:flex;\n",
              "      flex-wrap:wrap;\n",
              "      gap: 12px;\n",
              "    }\n",
              "\n",
              "    .colab-df-convert {\n",
              "      background-color: #E8F0FE;\n",
              "      border: none;\n",
              "      border-radius: 50%;\n",
              "      cursor: pointer;\n",
              "      display: none;\n",
              "      fill: #1967D2;\n",
              "      height: 32px;\n",
              "      padding: 0 0 0 0;\n",
              "      width: 32px;\n",
              "    }\n",
              "\n",
              "    .colab-df-convert:hover {\n",
              "      background-color: #E2EBFA;\n",
              "      box-shadow: 0px 1px 2px rgba(60, 64, 67, 0.3), 0px 1px 3px 1px rgba(60, 64, 67, 0.15);\n",
              "      fill: #174EA6;\n",
              "    }\n",
              "\n",
              "    [theme=dark] .colab-df-convert {\n",
              "      background-color: #3B4455;\n",
              "      fill: #D2E3FC;\n",
              "    }\n",
              "\n",
              "    [theme=dark] .colab-df-convert:hover {\n",
              "      background-color: #434B5C;\n",
              "      box-shadow: 0px 1px 3px 1px rgba(0, 0, 0, 0.15);\n",
              "      filter: drop-shadow(0px 1px 2px rgba(0, 0, 0, 0.3));\n",
              "      fill: #FFFFFF;\n",
              "    }\n",
              "  </style>\n",
              "\n",
              "      <script>\n",
              "        const buttonEl =\n",
              "          document.querySelector('#df-7118fe29-e2f9-4acc-8105-7d60acaf3bac button.colab-df-convert');\n",
              "        buttonEl.style.display =\n",
              "          google.colab.kernel.accessAllowed ? 'block' : 'none';\n",
              "\n",
              "        async function convertToInteractive(key) {\n",
              "          const element = document.querySelector('#df-7118fe29-e2f9-4acc-8105-7d60acaf3bac');\n",
              "          const dataTable =\n",
              "            await google.colab.kernel.invokeFunction('convertToInteractive',\n",
              "                                                     [key], {});\n",
              "          if (!dataTable) return;\n",
              "\n",
              "          const docLinkHtml = 'Like what you see? Visit the ' +\n",
              "            '<a target=\"_blank\" href=https://colab.research.google.com/notebooks/data_table.ipynb>data table notebook</a>'\n",
              "            + ' to learn more about interactive tables.';\n",
              "          element.innerHTML = '';\n",
              "          dataTable['output_type'] = 'display_data';\n",
              "          await google.colab.output.renderOutput(dataTable, element);\n",
              "          const docLink = document.createElement('div');\n",
              "          docLink.innerHTML = docLinkHtml;\n",
              "          element.appendChild(docLink);\n",
              "        }\n",
              "      </script>\n",
              "    </div>\n",
              "  </div>\n",
              "  "
            ]
          },
          "metadata": {},
          "execution_count": 505
        }
      ]
    },
    {
      "cell_type": "markdown",
      "source": [
        "# 1. DATA PREPROCESSING"
      ],
      "metadata": {
        "id": "quOCXF9TPL1e"
      }
    },
    {
      "cell_type": "code",
      "source": [
        "application_record.shape"
      ],
      "metadata": {
        "colab": {
          "base_uri": "https://localhost:8080/"
        },
        "id": "Yi0r0yjvkbRA",
        "outputId": "651b63b4-a8ba-4f50-ff0b-15c4020867e4"
      },
      "execution_count": 506,
      "outputs": [
        {
          "output_type": "execute_result",
          "data": {
            "text/plain": [
              "(438557, 18)"
            ]
          },
          "metadata": {},
          "execution_count": 506
        }
      ]
    },
    {
      "cell_type": "code",
      "source": [
        "application_record.info()"
      ],
      "metadata": {
        "id": "ZdgbwkPdmm_4",
        "colab": {
          "base_uri": "https://localhost:8080/"
        },
        "outputId": "9db4870e-74c5-451d-b802-1b84578bc4ba"
      },
      "execution_count": 507,
      "outputs": [
        {
          "output_type": "stream",
          "name": "stdout",
          "text": [
            "<class 'pandas.core.frame.DataFrame'>\n",
            "RangeIndex: 438557 entries, 0 to 438556\n",
            "Data columns (total 18 columns):\n",
            " #   Column               Non-Null Count   Dtype  \n",
            "---  ------               --------------   -----  \n",
            " 0   ID                   438557 non-null  int64  \n",
            " 1   CODE_GENDER          438557 non-null  object \n",
            " 2   FLAG_OWN_CAR         438557 non-null  object \n",
            " 3   FLAG_OWN_REALTY      438557 non-null  object \n",
            " 4   CNT_CHILDREN         438557 non-null  int64  \n",
            " 5   AMT_INCOME_TOTAL     438557 non-null  float64\n",
            " 6   NAME_INCOME_TYPE     438557 non-null  object \n",
            " 7   NAME_EDUCATION_TYPE  438557 non-null  object \n",
            " 8   NAME_FAMILY_STATUS   438557 non-null  object \n",
            " 9   NAME_HOUSING_TYPE    438557 non-null  object \n",
            " 10  DAYS_BIRTH           438557 non-null  int64  \n",
            " 11  DAYS_EMPLOYED        438557 non-null  int64  \n",
            " 12  FLAG_MOBIL           438557 non-null  int64  \n",
            " 13  FLAG_WORK_PHONE      438557 non-null  int64  \n",
            " 14  FLAG_PHONE           438557 non-null  int64  \n",
            " 15  FLAG_EMAIL           438557 non-null  int64  \n",
            " 16  OCCUPATION_TYPE      304354 non-null  object \n",
            " 17  CNT_FAM_MEMBERS      438557 non-null  float64\n",
            "dtypes: float64(2), int64(8), object(8)\n",
            "memory usage: 60.2+ MB\n"
          ]
        }
      ]
    },
    {
      "cell_type": "code",
      "source": [
        "application_record.isnull().sum(axis = 0)"
      ],
      "metadata": {
        "colab": {
          "base_uri": "https://localhost:8080/"
        },
        "id": "TrHbTr8Kdi40",
        "outputId": "bcaaf867-536e-48b4-d4fb-7490d997fa0a"
      },
      "execution_count": 508,
      "outputs": [
        {
          "output_type": "execute_result",
          "data": {
            "text/plain": [
              "ID                          0\n",
              "CODE_GENDER                 0\n",
              "FLAG_OWN_CAR                0\n",
              "FLAG_OWN_REALTY             0\n",
              "CNT_CHILDREN                0\n",
              "AMT_INCOME_TOTAL            0\n",
              "NAME_INCOME_TYPE            0\n",
              "NAME_EDUCATION_TYPE         0\n",
              "NAME_FAMILY_STATUS          0\n",
              "NAME_HOUSING_TYPE           0\n",
              "DAYS_BIRTH                  0\n",
              "DAYS_EMPLOYED               0\n",
              "FLAG_MOBIL                  0\n",
              "FLAG_WORK_PHONE             0\n",
              "FLAG_PHONE                  0\n",
              "FLAG_EMAIL                  0\n",
              "OCCUPATION_TYPE        134203\n",
              "CNT_FAM_MEMBERS             0\n",
              "dtype: int64"
            ]
          },
          "metadata": {},
          "execution_count": 508
        }
      ]
    },
    {
      "cell_type": "markdown",
      "source": [
        "Observations:\n",
        "\n",
        "*   We see that there are many applicants whose occupation type is not mentioned.\n",
        "* Apart from OCCUPATION_TYPE, we donot have any NULL VALUES.\n"
      ],
      "metadata": {
        "id": "uDVo8ieLkLfU"
      }
    },
    {
      "cell_type": "markdown",
      "source": [
        "### 1.1 OCCUPATION_TYPE\n",
        "\n",
        "*   We have seen that there are many fields which does not have any occupation. For those, we can use use Nan as a new category.\n",
        "*   This will help while performing EDA\n",
        "*   Later **we will use other features to train and determine the occupation types of the applicants who does not have their occupation types**\n"
      ],
      "metadata": {
        "id": "g1OBytGY4foC"
      }
    },
    {
      "cell_type": "code",
      "source": [
        "application_record[\"OCCUPATION_TYPE\"].fillna(\"NAN\",inplace = True)"
      ],
      "metadata": {
        "id": "7YGugULs4foD"
      },
      "execution_count": 509,
      "outputs": []
    },
    {
      "cell_type": "code",
      "source": [
        "application_record[\"OCCUPATION_TYPE\"].unique()"
      ],
      "metadata": {
        "colab": {
          "base_uri": "https://localhost:8080/"
        },
        "outputId": "9b701fda-3592-4a21-a8ca-f6103c249d32",
        "id": "JCxDty7H4foD"
      },
      "execution_count": 510,
      "outputs": [
        {
          "output_type": "execute_result",
          "data": {
            "text/plain": [
              "array(['NAN', 'Security staff', 'Sales staff', 'Accountants', 'Laborers',\n",
              "       'Managers', 'Drivers', 'Core staff', 'High skill tech staff',\n",
              "       'Cleaning staff', 'Private service staff', 'Cooking staff',\n",
              "       'Low-skill Laborers', 'Medicine staff', 'Secretaries',\n",
              "       'Waiters/barmen staff', 'HR staff', 'Realty agents', 'IT staff'],\n",
              "      dtype=object)"
            ]
          },
          "metadata": {},
          "execution_count": 510
        }
      ]
    },
    {
      "cell_type": "markdown",
      "source": [
        "### 1.2 DAYS_BIRTH --> AGE\n",
        "\n",
        "> This basically indicates the date of birth. It is a negative number that indicates number of days prior to which the applicant was born.\n",
        "*  For Example, if the value is -10, then it means the applicant was born 10 days ago\n",
        "\n",
        "> This being not in a readable format, we will convert this number into the applicants age which has much more clarity. **Instead of this feature, we will be using a feature named AGE**\n",
        "* For example if the `days_birth` value is -365, the new feature AGE will be 1(years old)\n",
        "* Also we will be using the floor value. Suppose the `days_birth` value is -700 it still will be 1\n"
      ],
      "metadata": {
        "id": "jEig3KZSohdV"
      }
    },
    {
      "cell_type": "code",
      "source": [
        "application_record[\"DAYS_BIRTH\"] = application_record[\"DAYS_BIRTH\"]//(-365)"
      ],
      "metadata": {
        "id": "UQJihwglohdV"
      },
      "execution_count": 511,
      "outputs": []
    },
    {
      "cell_type": "code",
      "source": [
        "application_record.rename(columns = {'DAYS_BIRTH':'AGE'}, inplace = True)"
      ],
      "metadata": {
        "id": "RuKyDjayohdW"
      },
      "execution_count": 512,
      "outputs": []
    },
    {
      "cell_type": "markdown",
      "source": [
        "### 1.3 DAYS_EMPLOYED\n",
        "\n",
        "> This basically indicates the number of days the applicant has been employed. It is a number that indicates number of days prior to which the applicant was born.For Example,\n",
        "*  if the value is -10, then it means the applicant has been 10 days ago\n",
        "*  if the value is 10, then it means that the applicant is unemployed for 10 days(*If positive, it means the person currently unemployed.*)\n",
        "\n",
        "> **We will convert this number in terms of years which has much more clarity.** \n",
        "* For example if the `DAYS_EMPLOYED` value is -365, the new feature YEAR_EMPLOYED will be 1(years)\n",
        "* Also we will be using the floor value. Suppose the `days_birth` value is -700 it still will be 1\n",
        "* We will drop the DAYS_EMPLOYED feature"
      ],
      "metadata": {
        "id": "ZXBOGZcUo5Dw"
      }
    },
    {
      "cell_type": "code",
      "source": [
        "application_record[\"DAYS_EMPLOYED\"].unique()"
      ],
      "metadata": {
        "colab": {
          "base_uri": "https://localhost:8080/"
        },
        "outputId": "86732d6e-7d7c-4a43-f633-7f3cad6193b6",
        "id": "G_SkcT6Uo5Dw"
      },
      "execution_count": 513,
      "outputs": [
        {
          "output_type": "execute_result",
          "data": {
            "text/plain": [
              "array([-4542, -1134, -3051, ..., -8300, -9020, -4884])"
            ]
          },
          "metadata": {},
          "execution_count": 513
        }
      ]
    },
    {
      "cell_type": "code",
      "source": [
        "application_record[\"DAYS_EMPLOYED\"].value_counts()"
      ],
      "metadata": {
        "outputId": "5fb661ae-c88b-42f0-8284-c06f7cc17ce0",
        "colab": {
          "base_uri": "https://localhost:8080/"
        },
        "id": "1kq3PfcLo5Dx"
      },
      "execution_count": 514,
      "outputs": [
        {
          "output_type": "execute_result",
          "data": {
            "text/plain": [
              " 365243    75329\n",
              "-218         262\n",
              "-1678        251\n",
              "-249         241\n",
              "-978         240\n",
              "           ...  \n",
              "-13529         1\n",
              "-10223         1\n",
              "-8917          1\n",
              "-11429         1\n",
              "-8105          1\n",
              "Name: DAYS_EMPLOYED, Length: 9406, dtype: int64"
            ]
          },
          "metadata": {},
          "execution_count": 514
        }
      ]
    },
    {
      "cell_type": "code",
      "source": [
        "application_record[\"YEARS_EMPLOYED\"] = application_record[\"DAYS_EMPLOYED\"]//(-365)"
      ],
      "metadata": {
        "id": "1F27z9MTo5Dx"
      },
      "execution_count": 515,
      "outputs": []
    },
    {
      "cell_type": "code",
      "source": [
        "application_record[\"YEARS_EMPLOYED\"].unique()"
      ],
      "metadata": {
        "colab": {
          "base_uri": "https://localhost:8080/"
        },
        "outputId": "70de0fc9-353a-4239-e5b9-9a4c502b313a",
        "id": "Bf-pw90Oo5Dx"
      },
      "execution_count": 516,
      "outputs": [
        {
          "output_type": "execute_result",
          "data": {
            "text/plain": [
              "array([   12,     3,     8, -1001,     2,     4,     5,    19,    14,\n",
              "          13,     7,     6,    17,    29,     1,    15,    11,     0,\n",
              "          10,    23,    24,    20,     9,    27,    26,    18,    21,\n",
              "          22,    16,    28,    38,    32,    31,    36,    37,    30,\n",
              "          39,    25,    34,    33,    41,    40,    35,    43,    42,\n",
              "          44,    48,    45])"
            ]
          },
          "metadata": {},
          "execution_count": 516
        }
      ]
    },
    {
      "cell_type": "markdown",
      "source": [
        "#### Observations and Modifications:\n",
        "* We see that people who are not employed (represented in negative in years), **each and everyone of them have the same no of unemployment years which is 1001** years\n",
        "\n",
        "* So we will **replace the number of days of unemployment with their age.**\n"
      ],
      "metadata": {
        "id": "ww2vEvt60k50"
      }
    },
    {
      "cell_type": "code",
      "source": [
        "year_employed_list = application_record[\"YEARS_EMPLOYED\"].to_list()\n",
        "age_list = application_record[\"AGE\"].to_list()\n",
        "temp_list = []\n",
        "# replacing all negative YEARS_EMPLOYED by their AGE\n",
        "for i,each in enumerate(year_employed_list):\n",
        "  if each < 0:\n",
        "    temp_list.append((-1)*age_list[i])\n",
        "  else:\n",
        "    temp_list.append(each)\n"
      ],
      "metadata": {
        "id": "q_mvC4E0o5Dx"
      },
      "execution_count": 517,
      "outputs": []
    },
    {
      "cell_type": "code",
      "source": [
        "x = np.array(temp_list)\n",
        "np.unique(x)"
      ],
      "metadata": {
        "colab": {
          "base_uri": "https://localhost:8080/"
        },
        "outputId": "8fd49bef-f26f-4caa-ac2b-8d320b5645bc",
        "id": "eIJO7VFSo5Dy"
      },
      "execution_count": 518,
      "outputs": [
        {
          "output_type": "execute_result",
          "data": {
            "text/plain": [
              "array([-69, -68, -67, -66, -65, -64, -63, -62, -61, -60, -59, -58, -57,\n",
              "       -56, -55, -54, -53, -52, -51, -50, -49, -48, -47, -46, -45, -44,\n",
              "       -43, -42, -41, -40, -39, -38, -37, -36, -35, -34, -33, -32, -31,\n",
              "       -30, -29, -28, -27, -26, -25, -24, -23, -22,   0,   1,   2,   3,\n",
              "         4,   5,   6,   7,   8,   9,  10,  11,  12,  13,  14,  15,  16,\n",
              "        17,  18,  19,  20,  21,  22,  23,  24,  25,  26,  27,  28,  29,\n",
              "        30,  31,  32,  33,  34,  35,  36,  37,  38,  39,  40,  41,  42,\n",
              "        43,  44,  45,  48])"
            ]
          },
          "metadata": {},
          "execution_count": 518
        }
      ]
    },
    {
      "cell_type": "code",
      "source": [
        "application_record[\"YEARS_EMPLOYED\"] = temp_list\n",
        "application_record[\"YEARS_EMPLOYED\"].value_counts()"
      ],
      "metadata": {
        "colab": {
          "base_uri": "https://localhost:8080/"
        },
        "outputId": "b97275cd-763f-4b03-8655-87dce6ce97ce",
        "id": "rriTBL9Lo5Dy"
      },
      "execution_count": 519,
      "outputs": [
        {
          "output_type": "execute_result",
          "data": {
            "text/plain": [
              " 1     38719\n",
              " 2     37405\n",
              " 0     33628\n",
              " 3     33524\n",
              " 4     30922\n",
              "       ...  \n",
              " 48        6\n",
              "-22        4\n",
              "-25        3\n",
              "-69        2\n",
              "-24        1\n",
              "Name: YEARS_EMPLOYED, Length: 95, dtype: int64"
            ]
          },
          "metadata": {},
          "execution_count": 519
        }
      ]
    },
    {
      "cell_type": "code",
      "source": [
        "application_record = application_record.drop(['DAYS_EMPLOYED'],axis = 1)"
      ],
      "metadata": {
        "id": "Rgg86GoMnBiD"
      },
      "execution_count": 520,
      "outputs": []
    },
    {
      "cell_type": "markdown",
      "source": [
        "# 2. Exploratory Data Analysis\n"
      ],
      "metadata": {
        "id": "mxUTOo-_nM5d"
      }
    },
    {
      "cell_type": "markdown",
      "source": [
        "## 2.1 Application Record Table"
      ],
      "metadata": {
        "id": "P0FylzPenVaA"
      }
    },
    {
      "cell_type": "code",
      "source": [
        "application_record.describe()"
      ],
      "metadata": {
        "colab": {
          "base_uri": "https://localhost:8080/",
          "height": 0
        },
        "id": "A6cuQws1sBqb",
        "outputId": "6bb3e902-c9f8-436b-9819-5ee515a551fe"
      },
      "execution_count": 521,
      "outputs": [
        {
          "output_type": "execute_result",
          "data": {
            "text/plain": [
              "                 ID   CNT_CHILDREN  AMT_INCOME_TOTAL            AGE  \\\n",
              "count  4.385570e+05  438557.000000      4.385570e+05  438557.000000   \n",
              "mean   6.022176e+06       0.427390      1.875243e+05      43.326489   \n",
              "std    5.716370e+05       0.724882      1.100869e+05      11.467500   \n",
              "min    5.008804e+06       0.000000      2.610000e+04      20.000000   \n",
              "25%    5.609375e+06       0.000000      1.215000e+05      34.000000   \n",
              "50%    6.047745e+06       0.000000      1.607805e+05      42.000000   \n",
              "75%    6.456971e+06       1.000000      2.250000e+05      53.000000   \n",
              "max    7.999952e+06      19.000000      6.750000e+06      69.000000   \n",
              "\n",
              "       FLAG_MOBIL  FLAG_WORK_PHONE     FLAG_PHONE     FLAG_EMAIL  \\\n",
              "count    438557.0    438557.000000  438557.000000  438557.000000   \n",
              "mean          1.0         0.206133       0.287771       0.108207   \n",
              "std           0.0         0.404527       0.452724       0.310642   \n",
              "min           1.0         0.000000       0.000000       0.000000   \n",
              "25%           1.0         0.000000       0.000000       0.000000   \n",
              "50%           1.0         0.000000       0.000000       0.000000   \n",
              "75%           1.0         0.000000       1.000000       0.000000   \n",
              "max           1.0         1.000000       1.000000       1.000000   \n",
              "\n",
              "       CNT_FAM_MEMBERS  YEARS_EMPLOYED  \n",
              "count    438557.000000   438557.000000  \n",
              "mean          2.194465       -4.596930  \n",
              "std           0.897207       25.571063  \n",
              "min           1.000000      -69.000000  \n",
              "25%           2.000000        1.000000  \n",
              "50%           2.000000        4.000000  \n",
              "75%           3.000000        8.000000  \n",
              "max          20.000000       48.000000  "
            ],
            "text/html": [
              "\n",
              "  <div id=\"df-bc69f884-843f-4c04-a3de-5f5ae4e75ac7\">\n",
              "    <div class=\"colab-df-container\">\n",
              "      <div>\n",
              "<style scoped>\n",
              "    .dataframe tbody tr th:only-of-type {\n",
              "        vertical-align: middle;\n",
              "    }\n",
              "\n",
              "    .dataframe tbody tr th {\n",
              "        vertical-align: top;\n",
              "    }\n",
              "\n",
              "    .dataframe thead th {\n",
              "        text-align: right;\n",
              "    }\n",
              "</style>\n",
              "<table border=\"1\" class=\"dataframe\">\n",
              "  <thead>\n",
              "    <tr style=\"text-align: right;\">\n",
              "      <th></th>\n",
              "      <th>ID</th>\n",
              "      <th>CNT_CHILDREN</th>\n",
              "      <th>AMT_INCOME_TOTAL</th>\n",
              "      <th>AGE</th>\n",
              "      <th>FLAG_MOBIL</th>\n",
              "      <th>FLAG_WORK_PHONE</th>\n",
              "      <th>FLAG_PHONE</th>\n",
              "      <th>FLAG_EMAIL</th>\n",
              "      <th>CNT_FAM_MEMBERS</th>\n",
              "      <th>YEARS_EMPLOYED</th>\n",
              "    </tr>\n",
              "  </thead>\n",
              "  <tbody>\n",
              "    <tr>\n",
              "      <th>count</th>\n",
              "      <td>4.385570e+05</td>\n",
              "      <td>438557.000000</td>\n",
              "      <td>4.385570e+05</td>\n",
              "      <td>438557.000000</td>\n",
              "      <td>438557.0</td>\n",
              "      <td>438557.000000</td>\n",
              "      <td>438557.000000</td>\n",
              "      <td>438557.000000</td>\n",
              "      <td>438557.000000</td>\n",
              "      <td>438557.000000</td>\n",
              "    </tr>\n",
              "    <tr>\n",
              "      <th>mean</th>\n",
              "      <td>6.022176e+06</td>\n",
              "      <td>0.427390</td>\n",
              "      <td>1.875243e+05</td>\n",
              "      <td>43.326489</td>\n",
              "      <td>1.0</td>\n",
              "      <td>0.206133</td>\n",
              "      <td>0.287771</td>\n",
              "      <td>0.108207</td>\n",
              "      <td>2.194465</td>\n",
              "      <td>-4.596930</td>\n",
              "    </tr>\n",
              "    <tr>\n",
              "      <th>std</th>\n",
              "      <td>5.716370e+05</td>\n",
              "      <td>0.724882</td>\n",
              "      <td>1.100869e+05</td>\n",
              "      <td>11.467500</td>\n",
              "      <td>0.0</td>\n",
              "      <td>0.404527</td>\n",
              "      <td>0.452724</td>\n",
              "      <td>0.310642</td>\n",
              "      <td>0.897207</td>\n",
              "      <td>25.571063</td>\n",
              "    </tr>\n",
              "    <tr>\n",
              "      <th>min</th>\n",
              "      <td>5.008804e+06</td>\n",
              "      <td>0.000000</td>\n",
              "      <td>2.610000e+04</td>\n",
              "      <td>20.000000</td>\n",
              "      <td>1.0</td>\n",
              "      <td>0.000000</td>\n",
              "      <td>0.000000</td>\n",
              "      <td>0.000000</td>\n",
              "      <td>1.000000</td>\n",
              "      <td>-69.000000</td>\n",
              "    </tr>\n",
              "    <tr>\n",
              "      <th>25%</th>\n",
              "      <td>5.609375e+06</td>\n",
              "      <td>0.000000</td>\n",
              "      <td>1.215000e+05</td>\n",
              "      <td>34.000000</td>\n",
              "      <td>1.0</td>\n",
              "      <td>0.000000</td>\n",
              "      <td>0.000000</td>\n",
              "      <td>0.000000</td>\n",
              "      <td>2.000000</td>\n",
              "      <td>1.000000</td>\n",
              "    </tr>\n",
              "    <tr>\n",
              "      <th>50%</th>\n",
              "      <td>6.047745e+06</td>\n",
              "      <td>0.000000</td>\n",
              "      <td>1.607805e+05</td>\n",
              "      <td>42.000000</td>\n",
              "      <td>1.0</td>\n",
              "      <td>0.000000</td>\n",
              "      <td>0.000000</td>\n",
              "      <td>0.000000</td>\n",
              "      <td>2.000000</td>\n",
              "      <td>4.000000</td>\n",
              "    </tr>\n",
              "    <tr>\n",
              "      <th>75%</th>\n",
              "      <td>6.456971e+06</td>\n",
              "      <td>1.000000</td>\n",
              "      <td>2.250000e+05</td>\n",
              "      <td>53.000000</td>\n",
              "      <td>1.0</td>\n",
              "      <td>0.000000</td>\n",
              "      <td>1.000000</td>\n",
              "      <td>0.000000</td>\n",
              "      <td>3.000000</td>\n",
              "      <td>8.000000</td>\n",
              "    </tr>\n",
              "    <tr>\n",
              "      <th>max</th>\n",
              "      <td>7.999952e+06</td>\n",
              "      <td>19.000000</td>\n",
              "      <td>6.750000e+06</td>\n",
              "      <td>69.000000</td>\n",
              "      <td>1.0</td>\n",
              "      <td>1.000000</td>\n",
              "      <td>1.000000</td>\n",
              "      <td>1.000000</td>\n",
              "      <td>20.000000</td>\n",
              "      <td>48.000000</td>\n",
              "    </tr>\n",
              "  </tbody>\n",
              "</table>\n",
              "</div>\n",
              "      <button class=\"colab-df-convert\" onclick=\"convertToInteractive('df-bc69f884-843f-4c04-a3de-5f5ae4e75ac7')\"\n",
              "              title=\"Convert this dataframe to an interactive table.\"\n",
              "              style=\"display:none;\">\n",
              "        \n",
              "  <svg xmlns=\"http://www.w3.org/2000/svg\" height=\"24px\"viewBox=\"0 0 24 24\"\n",
              "       width=\"24px\">\n",
              "    <path d=\"M0 0h24v24H0V0z\" fill=\"none\"/>\n",
              "    <path d=\"M18.56 5.44l.94 2.06.94-2.06 2.06-.94-2.06-.94-.94-2.06-.94 2.06-2.06.94zm-11 1L8.5 8.5l.94-2.06 2.06-.94-2.06-.94L8.5 2.5l-.94 2.06-2.06.94zm10 10l.94 2.06.94-2.06 2.06-.94-2.06-.94-.94-2.06-.94 2.06-2.06.94z\"/><path d=\"M17.41 7.96l-1.37-1.37c-.4-.4-.92-.59-1.43-.59-.52 0-1.04.2-1.43.59L10.3 9.45l-7.72 7.72c-.78.78-.78 2.05 0 2.83L4 21.41c.39.39.9.59 1.41.59.51 0 1.02-.2 1.41-.59l7.78-7.78 2.81-2.81c.8-.78.8-2.07 0-2.86zM5.41 20L4 18.59l7.72-7.72 1.47 1.35L5.41 20z\"/>\n",
              "  </svg>\n",
              "      </button>\n",
              "      \n",
              "  <style>\n",
              "    .colab-df-container {\n",
              "      display:flex;\n",
              "      flex-wrap:wrap;\n",
              "      gap: 12px;\n",
              "    }\n",
              "\n",
              "    .colab-df-convert {\n",
              "      background-color: #E8F0FE;\n",
              "      border: none;\n",
              "      border-radius: 50%;\n",
              "      cursor: pointer;\n",
              "      display: none;\n",
              "      fill: #1967D2;\n",
              "      height: 32px;\n",
              "      padding: 0 0 0 0;\n",
              "      width: 32px;\n",
              "    }\n",
              "\n",
              "    .colab-df-convert:hover {\n",
              "      background-color: #E2EBFA;\n",
              "      box-shadow: 0px 1px 2px rgba(60, 64, 67, 0.3), 0px 1px 3px 1px rgba(60, 64, 67, 0.15);\n",
              "      fill: #174EA6;\n",
              "    }\n",
              "\n",
              "    [theme=dark] .colab-df-convert {\n",
              "      background-color: #3B4455;\n",
              "      fill: #D2E3FC;\n",
              "    }\n",
              "\n",
              "    [theme=dark] .colab-df-convert:hover {\n",
              "      background-color: #434B5C;\n",
              "      box-shadow: 0px 1px 3px 1px rgba(0, 0, 0, 0.15);\n",
              "      filter: drop-shadow(0px 1px 2px rgba(0, 0, 0, 0.3));\n",
              "      fill: #FFFFFF;\n",
              "    }\n",
              "  </style>\n",
              "\n",
              "      <script>\n",
              "        const buttonEl =\n",
              "          document.querySelector('#df-bc69f884-843f-4c04-a3de-5f5ae4e75ac7 button.colab-df-convert');\n",
              "        buttonEl.style.display =\n",
              "          google.colab.kernel.accessAllowed ? 'block' : 'none';\n",
              "\n",
              "        async function convertToInteractive(key) {\n",
              "          const element = document.querySelector('#df-bc69f884-843f-4c04-a3de-5f5ae4e75ac7');\n",
              "          const dataTable =\n",
              "            await google.colab.kernel.invokeFunction('convertToInteractive',\n",
              "                                                     [key], {});\n",
              "          if (!dataTable) return;\n",
              "\n",
              "          const docLinkHtml = 'Like what you see? Visit the ' +\n",
              "            '<a target=\"_blank\" href=https://colab.research.google.com/notebooks/data_table.ipynb>data table notebook</a>'\n",
              "            + ' to learn more about interactive tables.';\n",
              "          element.innerHTML = '';\n",
              "          dataTable['output_type'] = 'display_data';\n",
              "          await google.colab.output.renderOutput(dataTable, element);\n",
              "          const docLink = document.createElement('div');\n",
              "          docLink.innerHTML = docLinkHtml;\n",
              "          element.appendChild(docLink);\n",
              "        }\n",
              "      </script>\n",
              "    </div>\n",
              "  </div>\n",
              "  "
            ]
          },
          "metadata": {},
          "execution_count": 521
        }
      ]
    },
    {
      "cell_type": "markdown",
      "source": [
        "### CODE_GENDER\n",
        "\n",
        "* Represents the gender of the applicants\n",
        "* M-male and F-Female\n",
        "\n"
      ],
      "metadata": {
        "id": "ETW2SO86r4xv"
      }
    },
    {
      "cell_type": "code",
      "source": [
        "application_record[\"CODE_GENDER\"].unique()"
      ],
      "metadata": {
        "colab": {
          "base_uri": "https://localhost:8080/"
        },
        "id": "1Hkk7wGGrKUN",
        "outputId": "619f8c50-71d4-41c1-8ed3-734558244f2b"
      },
      "execution_count": 522,
      "outputs": [
        {
          "output_type": "execute_result",
          "data": {
            "text/plain": [
              "array(['M', 'F'], dtype=object)"
            ]
          },
          "metadata": {},
          "execution_count": 522
        }
      ]
    },
    {
      "cell_type": "code",
      "source": [
        "application_record[\"CODE_GENDER\"].value_counts()"
      ],
      "metadata": {
        "colab": {
          "base_uri": "https://localhost:8080/"
        },
        "id": "GL2Lz5NmseJP",
        "outputId": "90d06566-f6ad-4c8d-c140-9fece62bbd87"
      },
      "execution_count": 523,
      "outputs": [
        {
          "output_type": "execute_result",
          "data": {
            "text/plain": [
              "F    294440\n",
              "M    144117\n",
              "Name: CODE_GENDER, dtype: int64"
            ]
          },
          "metadata": {},
          "execution_count": 523
        }
      ]
    },
    {
      "cell_type": "code",
      "source": [
        "application_record['CODE_GENDER'].value_counts().plot(kind='bar')\n",
        "plt.title('GENDER vs FREQUENCY')\n",
        "plt.xlabel('gender')\n",
        "plt.ylabel('frequency')"
      ],
      "metadata": {
        "colab": {
          "base_uri": "https://localhost:8080/",
          "height": 0
        },
        "id": "zbi6dOh6rKRf",
        "outputId": "83a20340-9ce3-4e8f-fc2b-490dd6cf24d3"
      },
      "execution_count": 524,
      "outputs": [
        {
          "output_type": "execute_result",
          "data": {
            "text/plain": [
              "Text(0, 0.5, 'frequency')"
            ]
          },
          "metadata": {},
          "execution_count": 524
        },
        {
          "output_type": "display_data",
          "data": {
            "text/plain": [
              "<Figure size 432x288 with 1 Axes>"
            ],
            "image/png": "[encoded data removed]"
          },
          "metadata": {
            "needs_background": "light"
          }
        }
      ]
    },
    {
      "cell_type": "markdown",
      "source": [
        "Observations:\n",
        "\n",
        "\n",
        "*   There is significantly more number of female applicants as compared to that of male applicants\n",
        "* Numbe of female applicants are almost double the number of male applicants.\n"
      ],
      "metadata": {
        "id": "GBNYumNqs-sK"
      }
    },
    {
      "cell_type": "markdown",
      "source": [
        "### FLAG_OWN_CAR\n",
        "* Represents if the owner owns a car or not\n",
        "* N represents applicant doesnot own a car\n",
        "* Y represents applicant owns a car"
      ],
      "metadata": {
        "id": "bQpUOzDItOCL"
      }
    },
    {
      "cell_type": "code",
      "source": [
        "application_record[\"FLAG_OWN_CAR\"].unique()"
      ],
      "metadata": {
        "colab": {
          "base_uri": "https://localhost:8080/"
        },
        "outputId": "8b2bac5d-2029-41f1-f281-39e449ca1b5e",
        "id": "fr6dC1PotVl0"
      },
      "execution_count": 525,
      "outputs": [
        {
          "output_type": "execute_result",
          "data": {
            "text/plain": [
              "array(['Y', 'N'], dtype=object)"
            ]
          },
          "metadata": {},
          "execution_count": 525
        }
      ]
    },
    {
      "cell_type": "code",
      "source": [
        "application_record[\"FLAG_OWN_CAR\"].value_counts()"
      ],
      "metadata": {
        "colab": {
          "base_uri": "https://localhost:8080/"
        },
        "id": "ymRZQC1Qslg1",
        "outputId": "d47e5bec-16b8-4008-8e13-132cdec8f9b3"
      },
      "execution_count": 526,
      "outputs": [
        {
          "output_type": "execute_result",
          "data": {
            "text/plain": [
              "N    275459\n",
              "Y    163098\n",
              "Name: FLAG_OWN_CAR, dtype: int64"
            ]
          },
          "metadata": {},
          "execution_count": 526
        }
      ]
    },
    {
      "cell_type": "code",
      "source": [
        "application_record['FLAG_OWN_CAR'].value_counts().plot(kind='bar')\n",
        "plt.title('OWN_CAR vs FREQUENCY')\n",
        "plt.xlabel('FLAG OWN CAR')\n",
        "plt.ylabel('frequency')"
      ],
      "metadata": {
        "colab": {
          "base_uri": "https://localhost:8080/",
          "height": 0
        },
        "outputId": "2a3d9f2d-b437-4d3c-e133-d0fc931d95d8",
        "id": "KzEkS_cAtVl4"
      },
      "execution_count": 527,
      "outputs": [
        {
          "output_type": "execute_result",
          "data": {
            "text/plain": [
              "Text(0, 0.5, 'frequency')"
            ]
          },
          "metadata": {},
          "execution_count": 527
        },
        {
          "output_type": "display_data",
          "data": {
            "text/plain": [
              "<Figure size 432x288 with 1 Axes>"
            ],
            "image/png": "[encoded data removed]"
          },
          "metadata": {
            "needs_background": "light"
          }
        }
      ]
    },
    {
      "cell_type": "code",
      "source": [
        "application_record.groupby([\"FLAG_OWN_CAR\", \"CODE_GENDER\"]).size().unstack(level=1).plot(kind='bar')\n",
        "plt.title('GENDER COMPARISON OF OWN_CAR vs FREQUENCY')\n",
        "plt.xlabel('FLAG OWN CAR')\n",
        "plt.ylabel('frequency')"
      ],
      "metadata": {
        "colab": {
          "base_uri": "https://localhost:8080/",
          "height": 0
        },
        "id": "ebi06YpyxAzj",
        "outputId": "6fc70e07-d8a1-4fbf-cc58-ed4e934c7bd2"
      },
      "execution_count": 528,
      "outputs": [
        {
          "output_type": "execute_result",
          "data": {
            "text/plain": [
              "Text(0, 0.5, 'frequency')"
            ]
          },
          "metadata": {},
          "execution_count": 528
        },
        {
          "output_type": "display_data",
          "data": {
            "text/plain": [
              "<Figure size 432x288 with 1 Axes>"
            ],
            "image/png": "[encoded data removed]"
          },
          "metadata": {
            "needs_background": "light"
          }
        }
      ]
    },
    {
      "cell_type": "markdown",
      "source": [
        "Observations:\n",
        "\n",
        "\n",
        "*   There is significantly more number applicants who does not own a car\n",
        "*   Comparatively more number of Male applicants have a car\n",
        "\n"
      ],
      "metadata": {
        "id": "pGXz0aZltVl5"
      }
    },
    {
      "cell_type": "markdown",
      "source": [
        "### FLAG_OWN_REALTY\n",
        "* Represents if the owner owns a reality estate or not\n",
        "* N represents applicant doesnot own a reality estate\n",
        "* Y represents applicant owns a reailty estate"
      ],
      "metadata": {
        "id": "uVhQlCvyuCsb"
      }
    },
    {
      "cell_type": "code",
      "source": [
        "application_record[\"FLAG_OWN_REALTY\"].unique()"
      ],
      "metadata": {
        "colab": {
          "base_uri": "https://localhost:8080/"
        },
        "outputId": "c7537889-35bd-425e-f655-f359f7d5765f",
        "id": "4tPZkF2VuCsb"
      },
      "execution_count": 529,
      "outputs": [
        {
          "output_type": "execute_result",
          "data": {
            "text/plain": [
              "array(['Y', 'N'], dtype=object)"
            ]
          },
          "metadata": {},
          "execution_count": 529
        }
      ]
    },
    {
      "cell_type": "code",
      "source": [
        "application_record[\"FLAG_OWN_REALTY\"].value_counts()"
      ],
      "metadata": {
        "colab": {
          "base_uri": "https://localhost:8080/"
        },
        "id": "kFFTyGUvsoo7",
        "outputId": "bbe4b3a0-efc9-484a-c69b-c549b59b1257"
      },
      "execution_count": 530,
      "outputs": [
        {
          "output_type": "execute_result",
          "data": {
            "text/plain": [
              "Y    304074\n",
              "N    134483\n",
              "Name: FLAG_OWN_REALTY, dtype: int64"
            ]
          },
          "metadata": {},
          "execution_count": 530
        }
      ]
    },
    {
      "cell_type": "code",
      "source": [
        "application_record['FLAG_OWN_REALTY'].value_counts().plot(kind='bar')\n",
        "plt.title('OWN REAL ESTATE vs FREQUENCY')\n",
        "plt.xlabel('FLAG OWN CAR')\n",
        "plt.ylabel('frequency')"
      ],
      "metadata": {
        "colab": {
          "base_uri": "https://localhost:8080/",
          "height": 0
        },
        "outputId": "70969776-11aa-4eb4-8ce5-12490060326d",
        "id": "SQepD7zRuCsb"
      },
      "execution_count": 531,
      "outputs": [
        {
          "output_type": "execute_result",
          "data": {
            "text/plain": [
              "Text(0, 0.5, 'frequency')"
            ]
          },
          "metadata": {},
          "execution_count": 531
        },
        {
          "output_type": "display_data",
          "data": {
            "text/plain": [
              "<Figure size 432x288 with 1 Axes>"
            ],
            "image/png": "[encoded data removed]"
          },
          "metadata": {
            "needs_background": "light"
          }
        }
      ]
    },
    {
      "cell_type": "code",
      "source": [
        "application_record.groupby([\"FLAG_OWN_REALTY\", \"CODE_GENDER\"]).size().unstack(level=1).plot(kind='bar')\n",
        "plt.title('GENDER COMPARISON OF OWN_REALITY vs FREQUENCY')\n",
        "plt.xlabel('FLAG OWN REAL ESTATE')\n",
        "plt.ylabel('frequency')"
      ],
      "metadata": {
        "id": "UPZr1Vo1uCsc",
        "colab": {
          "base_uri": "https://localhost:8080/",
          "height": 0
        },
        "outputId": "dd963ff8-1a5a-4181-93c1-7a2ff5627713"
      },
      "execution_count": 532,
      "outputs": [
        {
          "output_type": "execute_result",
          "data": {
            "text/plain": [
              "Text(0, 0.5, 'frequency')"
            ]
          },
          "metadata": {},
          "execution_count": 532
        },
        {
          "output_type": "display_data",
          "data": {
            "text/plain": [
              "<Figure size 432x288 with 1 Axes>"
            ],
            "image/png": "[encoded data removed]"
          },
          "metadata": {
            "needs_background": "light"
          }
        }
      ]
    },
    {
      "cell_type": "markdown",
      "source": [
        "Conclusion:\n",
        "\n",
        "\n",
        "*   There is significantly more number applicants who owns a reality estate\n",
        "\n",
        "* Keeping in mind that number of female applicants are double, ratio of owning a real estate is almost similar between male and female."
      ],
      "metadata": {
        "id": "OBcdMq6wuCsb"
      }
    },
    {
      "cell_type": "markdown",
      "source": [
        "### NAME_INCOME_TYPE\n",
        "\n",
        "\n",
        "*   Tells us about the source of income for the applicants.\n"
      ],
      "metadata": {
        "id": "zcPFtYvZxQdI"
      }
    },
    {
      "cell_type": "code",
      "source": [
        "application_record[\"NAME_INCOME_TYPE\"].unique()"
      ],
      "metadata": {
        "colab": {
          "base_uri": "https://localhost:8080/"
        },
        "outputId": "1ca69a20-5be1-41fc-827c-76541581e152",
        "id": "-x7wOyDZxQdU"
      },
      "execution_count": 533,
      "outputs": [
        {
          "output_type": "execute_result",
          "data": {
            "text/plain": [
              "array(['Working', 'Commercial associate', 'Pensioner', 'State servant',\n",
              "       'Student'], dtype=object)"
            ]
          },
          "metadata": {},
          "execution_count": 533
        }
      ]
    },
    {
      "cell_type": "code",
      "source": [
        "application_record[\"NAME_INCOME_TYPE\"].value_counts()"
      ],
      "metadata": {
        "colab": {
          "base_uri": "https://localhost:8080/"
        },
        "id": "QrLgDBDGsuSh",
        "outputId": "0beddcdb-a842-4803-ca28-256371d1b492"
      },
      "execution_count": 534,
      "outputs": [
        {
          "output_type": "execute_result",
          "data": {
            "text/plain": [
              "Working                 226104\n",
              "Commercial associate    100757\n",
              "Pensioner                75493\n",
              "State servant            36186\n",
              "Student                     17\n",
              "Name: NAME_INCOME_TYPE, dtype: int64"
            ]
          },
          "metadata": {},
          "execution_count": 534
        }
      ]
    },
    {
      "cell_type": "code",
      "source": [
        "application_record['NAME_INCOME_TYPE'].value_counts().plot(kind='bar')\n",
        "plt.title('INCOME TYPE vs FREQUENCY')\n",
        "plt.xlabel('FLAG OWN CAR')\n",
        "plt.ylabel('frequency')"
      ],
      "metadata": {
        "colab": {
          "base_uri": "https://localhost:8080/",
          "height": 0
        },
        "outputId": "f795f9b0-ddb6-447c-ef3a-47a7859140be",
        "id": "sLrE9_NyxQdV"
      },
      "execution_count": 535,
      "outputs": [
        {
          "output_type": "execute_result",
          "data": {
            "text/plain": [
              "Text(0, 0.5, 'frequency')"
            ]
          },
          "metadata": {},
          "execution_count": 535
        },
        {
          "output_type": "display_data",
          "data": {
            "text/plain": [
              "<Figure size 432x288 with 1 Axes>"
            ],
            "image/png": "[encoded data removed]"
          },
          "metadata": {
            "needs_background": "light"
          }
        }
      ]
    },
    {
      "cell_type": "code",
      "source": [
        "application_record.groupby([\"NAME_INCOME_TYPE\", \"CODE_GENDER\"]).size().unstack(level=1).plot(kind='bar')\n",
        "plt.title('GENDER COMPARISON OF INCOME TYPE vs FREQUENCY')\n",
        "plt.xlabel('FLAG OWN CAR')\n",
        "plt.ylabel('frequency')"
      ],
      "metadata": {
        "colab": {
          "base_uri": "https://localhost:8080/",
          "height": 0
        },
        "id": "wsK8LqonwlH8",
        "outputId": "3d00fe80-8f10-4503-db11-f5a02c073b12"
      },
      "execution_count": 536,
      "outputs": [
        {
          "output_type": "execute_result",
          "data": {
            "text/plain": [
              "Text(0, 0.5, 'frequency')"
            ]
          },
          "metadata": {},
          "execution_count": 536
        },
        {
          "output_type": "display_data",
          "data": {
            "text/plain": [
              "<Figure size 432x288 with 1 Axes>"
            ],
            "image/png": "[encoded data removed]"
          },
          "metadata": {
            "needs_background": "light"
          }
        }
      ]
    },
    {
      "cell_type": "markdown",
      "source": [
        "Observations:\n",
        "\n",
        "* There are total five types income types in the records i.e. 'Working', 'Commercial associate', 'Pensioner', 'State servant', 'Student'\n",
        "*   Most of the applicants are working professionals.\n",
        "*   There good number people whose are commercial associate or pensioner or state servant"
      ],
      "metadata": {
        "id": "6PJGiwYOxQdV"
      }
    },
    {
      "cell_type": "markdown",
      "source": [
        "### NAME_EDUCATION_TYPE\n",
        "* Tells us about the education type of the applicants"
      ],
      "metadata": {
        "id": "XtyZpbfZxQdV"
      }
    },
    {
      "cell_type": "code",
      "source": [
        "application_record[\"NAME_EDUCATION_TYPE\"].unique()"
      ],
      "metadata": {
        "colab": {
          "base_uri": "https://localhost:8080/"
        },
        "outputId": "d318fdac-c6c2-4fc6-d7f0-e7766bb00f59",
        "id": "QtETblOtxQdV"
      },
      "execution_count": 537,
      "outputs": [
        {
          "output_type": "execute_result",
          "data": {
            "text/plain": [
              "array(['Higher education', 'Secondary / secondary special',\n",
              "       'Incomplete higher', 'Lower secondary', 'Academic degree'],\n",
              "      dtype=object)"
            ]
          },
          "metadata": {},
          "execution_count": 537
        }
      ]
    },
    {
      "cell_type": "code",
      "source": [
        "application_record[\"NAME_EDUCATION_TYPE\"].value_counts()"
      ],
      "metadata": {
        "colab": {
          "base_uri": "https://localhost:8080/"
        },
        "id": "EOG2abV6sy_U",
        "outputId": "f2039609-5132-4389-f416-33cc9ede7fbd"
      },
      "execution_count": 538,
      "outputs": [
        {
          "output_type": "execute_result",
          "data": {
            "text/plain": [
              "Secondary / secondary special    301821\n",
              "Higher education                 117522\n",
              "Incomplete higher                 14851\n",
              "Lower secondary                    4051\n",
              "Academic degree                     312\n",
              "Name: NAME_EDUCATION_TYPE, dtype: int64"
            ]
          },
          "metadata": {},
          "execution_count": 538
        }
      ]
    },
    {
      "cell_type": "code",
      "source": [
        "application_record['NAME_EDUCATION_TYPE'].value_counts().plot(kind='bar')\n",
        "plt.title('EDUCATION TYPE vs FREQUENCY')\n",
        "plt.xlabel('EDUCATION TYPE')\n",
        "plt.ylabel('frequency')"
      ],
      "metadata": {
        "colab": {
          "base_uri": "https://localhost:8080/",
          "height": 0
        },
        "outputId": "572c8bc7-7bfa-45c5-cafe-c46ad1fa27be",
        "id": "hUh0W9-GxQdW"
      },
      "execution_count": 539,
      "outputs": [
        {
          "output_type": "execute_result",
          "data": {
            "text/plain": [
              "Text(0, 0.5, 'frequency')"
            ]
          },
          "metadata": {},
          "execution_count": 539
        },
        {
          "output_type": "display_data",
          "data": {
            "text/plain": [
              "<Figure size 432x288 with 1 Axes>"
            ],
            "image/png": "[encoded data removed]"
          },
          "metadata": {
            "needs_background": "light"
          }
        }
      ]
    },
    {
      "cell_type": "code",
      "source": [
        "application_record.groupby([\"NAME_EDUCATION_TYPE\", \"CODE_GENDER\"]).size().unstack(level=1).plot(kind='bar')\n",
        "plt.title('GENDER COMPARISON OF EDUCATION TYPE vs FREQUENCY')\n",
        "plt.xlabel('FLAG OWN CAR')\n",
        "plt.ylabel('frequency')"
      ],
      "metadata": {
        "colab": {
          "base_uri": "https://localhost:8080/",
          "height": 0
        },
        "id": "WTpLfjWDwCSR",
        "outputId": "11a6db63-2a10-40cc-8caa-7df83c687d4d"
      },
      "execution_count": 540,
      "outputs": [
        {
          "output_type": "execute_result",
          "data": {
            "text/plain": [
              "Text(0, 0.5, 'frequency')"
            ]
          },
          "metadata": {},
          "execution_count": 540
        },
        {
          "output_type": "display_data",
          "data": {
            "text/plain": [
              "<Figure size 432x288 with 1 Axes>"
            ],
            "image/png": "[encoded data removed]"
          },
          "metadata": {
            "needs_background": "light"
          }
        }
      ]
    },
    {
      "cell_type": "markdown",
      "source": [
        "Observations:\n",
        "\n",
        "* There are in total 5 types of educational qualifications and those are 'Higher education', 'Secondary / secondary special',       'Incomplete higher', 'Lower secondary', 'Academic degree'\n",
        "*   Most of the applicants are have secondary education and only a few have a academic degree\n",
        "*   There are quite good number of applicants with higher education\n",
        "*   Also a few applicants did not complete there Higer Secondary education\n",
        "* Keeping in mind that female to male ratio is almost double, we can say male applicants has higher ratio of having incomplete higher studies."
      ],
      "metadata": {
        "id": "qwN99wK7xQdW"
      }
    },
    {
      "cell_type": "markdown",
      "source": [
        "### NAME_FAMILY_STATUS\n",
        "* Represents the family status of the applicant"
      ],
      "metadata": {
        "id": "2IjpyMiRxQdW"
      }
    },
    {
      "cell_type": "code",
      "source": [
        "application_record[\"NAME_FAMILY_STATUS\"].unique()"
      ],
      "metadata": {
        "colab": {
          "base_uri": "https://localhost:8080/"
        },
        "outputId": "4715eead-01ed-4f69-d715-059b92950c75",
        "id": "QPlcA94TxQdW"
      },
      "execution_count": 541,
      "outputs": [
        {
          "output_type": "execute_result",
          "data": {
            "text/plain": [
              "array(['Civil marriage', 'Married', 'Single / not married', 'Separated',\n",
              "       'Widow'], dtype=object)"
            ]
          },
          "metadata": {},
          "execution_count": 541
        }
      ]
    },
    {
      "cell_type": "code",
      "source": [
        "application_record[\"NAME_FAMILY_STATUS\"].value_counts()"
      ],
      "metadata": {
        "colab": {
          "base_uri": "https://localhost:8080/"
        },
        "id": "cSFuQgV-s3rl",
        "outputId": "73982c0e-b554-4cbc-e43d-8799abf0ddf2"
      },
      "execution_count": 542,
      "outputs": [
        {
          "output_type": "execute_result",
          "data": {
            "text/plain": [
              "Married                 299828\n",
              "Single / not married     55271\n",
              "Civil marriage           36532\n",
              "Separated                27251\n",
              "Widow                    19675\n",
              "Name: NAME_FAMILY_STATUS, dtype: int64"
            ]
          },
          "metadata": {},
          "execution_count": 542
        }
      ]
    },
    {
      "cell_type": "code",
      "source": [
        "application_record['NAME_FAMILY_STATUS'].value_counts().plot(kind='bar')\n",
        "plt.title('FAMILY vs FREQUENCY')\n",
        "plt.xlabel('FLAG OWN CAR')\n",
        "plt.ylabel('frequency')"
      ],
      "metadata": {
        "colab": {
          "base_uri": "https://localhost:8080/",
          "height": 0
        },
        "outputId": "512d9cf8-34a2-4c5e-c672-4478277f4bc8",
        "id": "VpBsa1qVxQdX"
      },
      "execution_count": 543,
      "outputs": [
        {
          "output_type": "execute_result",
          "data": {
            "text/plain": [
              "Text(0, 0.5, 'frequency')"
            ]
          },
          "metadata": {},
          "execution_count": 543
        },
        {
          "output_type": "display_data",
          "data": {
            "text/plain": [
              "<Figure size 432x288 with 1 Axes>"
            ],
            "image/png": "[encoded data removed]"
          },
          "metadata": {
            "needs_background": "light"
          }
        }
      ]
    },
    {
      "cell_type": "code",
      "source": [
        "application_record.groupby([\"NAME_FAMILY_STATUS\", \"CODE_GENDER\"]).size().unstack(level=1).plot(kind='bar')\n",
        "plt.title('GENDER COMPARISON OF FAMILY STATUS vs FREQUENCY')\n",
        "plt.xlabel('FLAG OWN CAR')\n",
        "plt.ylabel('frequency')"
      ],
      "metadata": {
        "colab": {
          "base_uri": "https://localhost:8080/",
          "height": 0
        },
        "id": "OGLXThxKuq-b",
        "outputId": "91911d1d-ab9d-4cd6-fa3c-fab20ed1cad4"
      },
      "execution_count": 544,
      "outputs": [
        {
          "output_type": "execute_result",
          "data": {
            "text/plain": [
              "Text(0, 0.5, 'frequency')"
            ]
          },
          "metadata": {},
          "execution_count": 544
        },
        {
          "output_type": "display_data",
          "data": {
            "text/plain": [
              "<Figure size 432x288 with 1 Axes>"
            ],
            "image/png": "[encoded data removed]"
          },
          "metadata": {
            "needs_background": "light"
          }
        }
      ]
    },
    {
      "cell_type": "markdown",
      "source": [
        "Observations:\n",
        "\n",
        "\n",
        "*   Most of the applicants are married\n",
        "*   The number of applicants who are single or seperated or widow or had civil marriage are similar"
      ],
      "metadata": {
        "id": "rmx5xzvRxQdX"
      }
    },
    {
      "cell_type": "markdown",
      "source": [
        "### NAME_HOUSING_TYPE\n",
        "* Represents the type of housing of the applicant"
      ],
      "metadata": {
        "id": "hc1hiF74xQdX"
      }
    },
    {
      "cell_type": "code",
      "source": [
        "application_record[\"NAME_HOUSING_TYPE\"].unique()"
      ],
      "metadata": {
        "colab": {
          "base_uri": "https://localhost:8080/"
        },
        "outputId": "37494df7-6ec2-4f45-a7d1-ccd4bc4c88a8",
        "id": "D09wowQtxQdX"
      },
      "execution_count": 545,
      "outputs": [
        {
          "output_type": "execute_result",
          "data": {
            "text/plain": [
              "array(['Rented apartment', 'House / apartment', 'Municipal apartment',\n",
              "       'With parents', 'Co-op apartment', 'Office apartment'],\n",
              "      dtype=object)"
            ]
          },
          "metadata": {},
          "execution_count": 545
        }
      ]
    },
    {
      "cell_type": "code",
      "source": [
        "application_record[\"NAME_HOUSING_TYPE\"].value_counts()"
      ],
      "metadata": {
        "colab": {
          "base_uri": "https://localhost:8080/"
        },
        "id": "p_b152h0s7K9",
        "outputId": "01605d44-e6de-489a-fa6f-b6baf9b58aad"
      },
      "execution_count": 546,
      "outputs": [
        {
          "output_type": "execute_result",
          "data": {
            "text/plain": [
              "House / apartment      393831\n",
              "With parents            19077\n",
              "Municipal apartment     14214\n",
              "Rented apartment         5974\n",
              "Office apartment         3922\n",
              "Co-op apartment          1539\n",
              "Name: NAME_HOUSING_TYPE, dtype: int64"
            ]
          },
          "metadata": {},
          "execution_count": 546
        }
      ]
    },
    {
      "cell_type": "code",
      "source": [
        "application_record['NAME_HOUSING_TYPE'].value_counts().plot(kind='bar')\n",
        "plt.title('HOUSING TYPE vs FREQUENCY')\n",
        "plt.xlabel('HOUSING TYPE')\n",
        "plt.ylabel('frequency')"
      ],
      "metadata": {
        "colab": {
          "base_uri": "https://localhost:8080/",
          "height": 0
        },
        "outputId": "42a1fb9e-430a-4e08-8603-98b42102b872",
        "id": "ml2eEk01xQdY"
      },
      "execution_count": 547,
      "outputs": [
        {
          "output_type": "execute_result",
          "data": {
            "text/plain": [
              "Text(0, 0.5, 'frequency')"
            ]
          },
          "metadata": {},
          "execution_count": 547
        },
        {
          "output_type": "display_data",
          "data": {
            "text/plain": [
              "<Figure size 432x288 with 1 Axes>"
            ],
            "image/png": "[encoded data removed]"
          },
          "metadata": {
            "needs_background": "light"
          }
        }
      ]
    },
    {
      "cell_type": "code",
      "source": [
        "application_record.groupby([\"NAME_HOUSING_TYPE\", \"CODE_GENDER\"]).size().unstack(level=1).plot(kind='bar')\n",
        "plt.title('Gender comparison of HOUSING TYPE vs FREQUENCY')\n",
        "plt.xlabel('HOUSING TYPE')\n",
        "plt.ylabel('frequency')"
      ],
      "metadata": {
        "colab": {
          "base_uri": "https://localhost:8080/",
          "height": 0
        },
        "id": "rSCzz8eJsoAr",
        "outputId": "c7b45bde-4e95-47bd-c135-efeba5a1dc2c"
      },
      "execution_count": 548,
      "outputs": [
        {
          "output_type": "execute_result",
          "data": {
            "text/plain": [
              "Text(0, 0.5, 'frequency')"
            ]
          },
          "metadata": {},
          "execution_count": 548
        },
        {
          "output_type": "display_data",
          "data": {
            "text/plain": [
              "<Figure size 432x288 with 1 Axes>"
            ],
            "image/png": "[encoded data removed]"
          },
          "metadata": {
            "needs_background": "light"
          }
        }
      ]
    },
    {
      "cell_type": "markdown",
      "source": [
        "Observations:\n",
        "\n",
        "* There are total six type of housing in this record: 'Rented apartment', 'House / apartment', 'Municipal apartment',       'With parents', 'Co-op apartment', 'Office apartment'\n",
        "*   Most of the applicants live in Apartments/houses.\n",
        "*   Few live with parents,in office appartment or rented apartment or municipal \n",
        "apartments\n",
        "*  Pretty similar distributions for both genders"
      ],
      "metadata": {
        "id": "VxOVDKQmxQdY"
      }
    },
    {
      "cell_type": "markdown",
      "source": [
        "### OCCUPATION_TYPE\n",
        "* Type of occupation of the applicant\n",
        "\n"
      ],
      "metadata": {
        "id": "Qae3KFWArhXP"
      }
    },
    {
      "cell_type": "code",
      "source": [
        "application_record[\"OCCUPATION_TYPE\"].unique()"
      ],
      "metadata": {
        "colab": {
          "base_uri": "https://localhost:8080/"
        },
        "outputId": "1acd3e59-be6a-4dd8-c889-37eef24675c6",
        "id": "o9PPLdrRrhXT"
      },
      "execution_count": 549,
      "outputs": [
        {
          "output_type": "execute_result",
          "data": {
            "text/plain": [
              "array(['NAN', 'Security staff', 'Sales staff', 'Accountants', 'Laborers',\n",
              "       'Managers', 'Drivers', 'Core staff', 'High skill tech staff',\n",
              "       'Cleaning staff', 'Private service staff', 'Cooking staff',\n",
              "       'Low-skill Laborers', 'Medicine staff', 'Secretaries',\n",
              "       'Waiters/barmen staff', 'HR staff', 'Realty agents', 'IT staff'],\n",
              "      dtype=object)"
            ]
          },
          "metadata": {},
          "execution_count": 549
        }
      ]
    },
    {
      "cell_type": "code",
      "source": [
        "application_record[\"OCCUPATION_TYPE\"].value_counts()"
      ],
      "metadata": {
        "colab": {
          "base_uri": "https://localhost:8080/"
        },
        "id": "GjAFrzPps_-7",
        "outputId": "4d65b747-f754-42eb-99e7-d755f49b2ab3"
      },
      "execution_count": 550,
      "outputs": [
        {
          "output_type": "execute_result",
          "data": {
            "text/plain": [
              "NAN                      134203\n",
              "Laborers                  78240\n",
              "Core staff                43007\n",
              "Sales staff               41098\n",
              "Managers                  35487\n",
              "Drivers                   26090\n",
              "High skill tech staff     17289\n",
              "Accountants               15985\n",
              "Medicine staff            13520\n",
              "Cooking staff              8076\n",
              "Security staff             7993\n",
              "Cleaning staff             5845\n",
              "Private service staff      3456\n",
              "Low-skill Laborers         2140\n",
              "Secretaries                2044\n",
              "Waiters/barmen staff       1665\n",
              "Realty agents              1041\n",
              "HR staff                    774\n",
              "IT staff                    604\n",
              "Name: OCCUPATION_TYPE, dtype: int64"
            ]
          },
          "metadata": {},
          "execution_count": 550
        }
      ]
    },
    {
      "cell_type": "code",
      "source": [
        "application_record['OCCUPATION_TYPE'].value_counts().plot(kind='bar')\n",
        "plt.title('OCCUPATION_TYPE vs FREQUENCY')\n",
        "plt.xlabel('OCCUPATION_TYPE')\n",
        "plt.ylabel('frequency')"
      ],
      "metadata": {
        "colab": {
          "base_uri": "https://localhost:8080/",
          "height": 0
        },
        "outputId": "b7eac675-736b-4f1f-d3c8-9b33e38153a6",
        "id": "U880joYcrhXV"
      },
      "execution_count": 551,
      "outputs": [
        {
          "output_type": "execute_result",
          "data": {
            "text/plain": [
              "Text(0, 0.5, 'frequency')"
            ]
          },
          "metadata": {},
          "execution_count": 551
        },
        {
          "output_type": "display_data",
          "data": {
            "text/plain": [
              "<Figure size 432x288 with 1 Axes>"
            ],
            "image/png": "[encoded data removed]"
          },
          "metadata": {
            "needs_background": "light"
          }
        }
      ]
    },
    {
      "cell_type": "code",
      "source": [
        "application_record.groupby([\"OCCUPATION_TYPE\", \"CODE_GENDER\"]).size().unstack(level=1).plot(kind='bar')\n",
        "plt.title('Gender comparison of OCCUPATION_TYPE vs FREQUENCY')\n",
        "plt.xlabel('OCCUPATION_TYPE')\n",
        "plt.ylabel('frequency')"
      ],
      "metadata": {
        "colab": {
          "base_uri": "https://localhost:8080/",
          "height": 0
        },
        "id": "nkJ3HXPFtNsC",
        "outputId": "dc2d23f9-5453-4dc5-e333-0f0a17dae76d"
      },
      "execution_count": 552,
      "outputs": [
        {
          "output_type": "execute_result",
          "data": {
            "text/plain": [
              "Text(0, 0.5, 'frequency')"
            ]
          },
          "metadata": {},
          "execution_count": 552
        },
        {
          "output_type": "display_data",
          "data": {
            "text/plain": [
              "<Figure size 432x288 with 1 Axes>"
            ],
            "image/png": "[encoded data removed]"
          },
          "metadata": {
            "needs_background": "light"
          }
        }
      ]
    },
    {
      "cell_type": "markdown",
      "source": [
        "Conclusion:\n",
        "\n",
        "\n",
        "*   There are many applicants whose occupation has not been mentioned, and for those we have created a new category-`NAN` \n",
        "*   Among those whose occupation was mentioned, most of them were Laborers or core staff or Sales Stuff or Managers or Drivers\n",
        "*   Few applicants were IT staff, HR Staff, reality agents or others\n",
        "*   We see there are lot more number of male applicants than the female applicants for occupation type - \"LABORERS\",\"LOW-SKILL LABORERS\",\"SECURITY-STAFF\",\"DRIVERS\"\n",
        "*   For rest of the occupation types, we have similar distributions\n",
        "\n"
      ],
      "metadata": {
        "id": "Vzjc4DGxrhXW"
      }
    },
    {
      "cell_type": "markdown",
      "source": [
        "### FLAG_MOBIL\n",
        "\n",
        "\n",
        "*   Represents if the applicant owns a mobile or not\n",
        "\n"
      ],
      "metadata": {
        "id": "3yD7wxSLjkVc"
      }
    },
    {
      "cell_type": "code",
      "source": [
        "application_record[\"FLAG_MOBIL\"].unique()"
      ],
      "metadata": {
        "colab": {
          "base_uri": "https://localhost:8080/"
        },
        "outputId": "6437281a-982c-4c6b-f2e6-8f6bbcac080b",
        "id": "C-xkCQxljkVd"
      },
      "execution_count": 553,
      "outputs": [
        {
          "output_type": "execute_result",
          "data": {
            "text/plain": [
              "array([1])"
            ]
          },
          "metadata": {},
          "execution_count": 553
        }
      ]
    },
    {
      "cell_type": "code",
      "source": [
        "application_record[\"FLAG_MOBIL\"].value_counts()"
      ],
      "metadata": {
        "colab": {
          "base_uri": "https://localhost:8080/"
        },
        "outputId": "3bba5228-4538-40f1-b832-c0ac71804986",
        "id": "-ITxFquajkVe"
      },
      "execution_count": 554,
      "outputs": [
        {
          "output_type": "execute_result",
          "data": {
            "text/plain": [
              "1    438557\n",
              "Name: FLAG_MOBIL, dtype: int64"
            ]
          },
          "metadata": {},
          "execution_count": 554
        }
      ]
    },
    {
      "cell_type": "code",
      "source": [
        "application_record['FLAG_MOBIL'].value_counts().plot(kind='bar')\n",
        "plt.title('OWNS MOBILE vs FREQUENCY')\n",
        "plt.xlabel('OWNS MOBILE')\n",
        "plt.ylabel('frequency')"
      ],
      "metadata": {
        "colab": {
          "base_uri": "https://localhost:8080/",
          "height": 0
        },
        "outputId": "e65c4f7f-97b3-46fb-b08a-a3200b8d99a8",
        "id": "JamVDJwvjkVf"
      },
      "execution_count": 555,
      "outputs": [
        {
          "output_type": "execute_result",
          "data": {
            "text/plain": [
              "Text(0, 0.5, 'frequency')"
            ]
          },
          "metadata": {},
          "execution_count": 555
        },
        {
          "output_type": "display_data",
          "data": {
            "text/plain": [
              "<Figure size 432x288 with 1 Axes>"
            ],
            "image/png": "[encoded data removed]"
          },
          "metadata": {
            "needs_background": "light"
          }
        }
      ]
    },
    {
      "cell_type": "markdown",
      "source": [
        "Observations:\n",
        "\n",
        "\n",
        "*   All the applicants have their mobile phones. \n",
        "*   So, we can ignore this feature while training the models"
      ],
      "metadata": {
        "id": "o1PhcJtnjkVf"
      }
    },
    {
      "cell_type": "code",
      "source": [
        "application_record.drop(['FLAG_MOBIL'],axis=1)"
      ],
      "metadata": {
        "id": "ilPL53jljkVg",
        "colab": {
          "base_uri": "https://localhost:8080/",
          "height": 0
        },
        "outputId": "9dc1490f-7922-48df-8e56-a7905ad669c4"
      },
      "execution_count": 556,
      "outputs": [
        {
          "output_type": "execute_result",
          "data": {
            "text/plain": [
              "             ID CODE_GENDER FLAG_OWN_CAR FLAG_OWN_REALTY  CNT_CHILDREN  \\\n",
              "0       5008804           M            Y               Y             0   \n",
              "1       5008805           M            Y               Y             0   \n",
              "2       5008806           M            Y               Y             0   \n",
              "3       5008808           F            N               Y             0   \n",
              "4       5008809           F            N               Y             0   \n",
              "...         ...         ...          ...             ...           ...   \n",
              "438552  6840104           M            N               Y             0   \n",
              "438553  6840222           F            N               N             0   \n",
              "438554  6841878           F            N               N             0   \n",
              "438555  6842765           F            N               Y             0   \n",
              "438556  6842885           F            N               Y             0   \n",
              "\n",
              "        AMT_INCOME_TOTAL      NAME_INCOME_TYPE            NAME_EDUCATION_TYPE  \\\n",
              "0               427500.0               Working               Higher education   \n",
              "1               427500.0               Working               Higher education   \n",
              "2               112500.0               Working  Secondary / secondary special   \n",
              "3               270000.0  Commercial associate  Secondary / secondary special   \n",
              "4               270000.0  Commercial associate  Secondary / secondary special   \n",
              "...                  ...                   ...                            ...   \n",
              "438552          135000.0             Pensioner  Secondary / secondary special   \n",
              "438553          103500.0               Working  Secondary / secondary special   \n",
              "438554           54000.0  Commercial associate               Higher education   \n",
              "438555           72000.0             Pensioner  Secondary / secondary special   \n",
              "438556          121500.0               Working  Secondary / secondary special   \n",
              "\n",
              "          NAME_FAMILY_STATUS  NAME_HOUSING_TYPE  AGE  FLAG_WORK_PHONE  \\\n",
              "0             Civil marriage   Rented apartment   32                1   \n",
              "1             Civil marriage   Rented apartment   32                1   \n",
              "2                    Married  House / apartment   58                0   \n",
              "3       Single / not married  House / apartment   52                0   \n",
              "4       Single / not married  House / apartment   52                0   \n",
              "...                      ...                ...  ...              ...   \n",
              "438552             Separated  House / apartment   62                0   \n",
              "438553  Single / not married  House / apartment   43                0   \n",
              "438554  Single / not married       With parents   22                1   \n",
              "438555               Married  House / apartment   59                0   \n",
              "438556               Married  House / apartment   51                0   \n",
              "\n",
              "        FLAG_PHONE  FLAG_EMAIL OCCUPATION_TYPE  CNT_FAM_MEMBERS  \\\n",
              "0                0           0             NAN              2.0   \n",
              "1                0           0             NAN              2.0   \n",
              "2                0           0  Security staff              2.0   \n",
              "3                1           1     Sales staff              1.0   \n",
              "4                1           1     Sales staff              1.0   \n",
              "...            ...         ...             ...              ...   \n",
              "438552           0           0             NAN              1.0   \n",
              "438553           0           0        Laborers              1.0   \n",
              "438554           0           0     Sales staff              1.0   \n",
              "438555           0           0             NAN              2.0   \n",
              "438556           1           0     Sales staff              2.0   \n",
              "\n",
              "        YEARS_EMPLOYED  \n",
              "0                   12  \n",
              "1                   12  \n",
              "2                    3  \n",
              "3                    8  \n",
              "4                    8  \n",
              "...                ...  \n",
              "438552             -62  \n",
              "438553               8  \n",
              "438554               1  \n",
              "438555             -59  \n",
              "438556               3  \n",
              "\n",
              "[438557 rows x 17 columns]"
            ],
            "text/html": [
              "\n",
              "  <div id=\"df-353729ac-a093-4d70-9380-a759eca91da9\">\n",
              "    <div class=\"colab-df-container\">\n",
              "      <div>\n",
              "<style scoped>\n",
              "    .dataframe tbody tr th:only-of-type {\n",
              "        vertical-align: middle;\n",
              "    }\n",
              "\n",
              "    .dataframe tbody tr th {\n",
              "        vertical-align: top;\n",
              "    }\n",
              "\n",
              "    .dataframe thead th {\n",
              "        text-align: right;\n",
              "    }\n",
              "</style>\n",
              "<table border=\"1\" class=\"dataframe\">\n",
              "  <thead>\n",
              "    <tr style=\"text-align: right;\">\n",
              "      <th></th>\n",
              "      <th>ID</th>\n",
              "      <th>CODE_GENDER</th>\n",
              "      <th>FLAG_OWN_CAR</th>\n",
              "      <th>FLAG_OWN_REALTY</th>\n",
              "      <th>CNT_CHILDREN</th>\n",
              "      <th>AMT_INCOME_TOTAL</th>\n",
              "      <th>NAME_INCOME_TYPE</th>\n",
              "      <th>NAME_EDUCATION_TYPE</th>\n",
              "      <th>NAME_FAMILY_STATUS</th>\n",
              "      <th>NAME_HOUSING_TYPE</th>\n",
              "      <th>AGE</th>\n",
              "      <th>FLAG_WORK_PHONE</th>\n",
              "      <th>FLAG_PHONE</th>\n",
              "      <th>FLAG_EMAIL</th>\n",
              "      <th>OCCUPATION_TYPE</th>\n",
              "      <th>CNT_FAM_MEMBERS</th>\n",
              "      <th>YEARS_EMPLOYED</th>\n",
              "    </tr>\n",
              "  </thead>\n",
              "  <tbody>\n",
              "    <tr>\n",
              "      <th>0</th>\n",
              "      <td>5008804</td>\n",
              "      <td>M</td>\n",
              "      <td>Y</td>\n",
              "      <td>Y</td>\n",
              "      <td>0</td>\n",
              "      <td>427500.0</td>\n",
              "      <td>Working</td>\n",
              "      <td>Higher education</td>\n",
              "      <td>Civil marriage</td>\n",
              "      <td>Rented apartment</td>\n",
              "      <td>32</td>\n",
              "      <td>1</td>\n",
              "      <td>0</td>\n",
              "      <td>0</td>\n",
              "      <td>NAN</td>\n",
              "      <td>2.0</td>\n",
              "      <td>12</td>\n",
              "    </tr>\n",
              "    <tr>\n",
              "      <th>1</th>\n",
              "      <td>5008805</td>\n",
              "      <td>M</td>\n",
              "      <td>Y</td>\n",
              "      <td>Y</td>\n",
              "      <td>0</td>\n",
              "      <td>427500.0</td>\n",
              "      <td>Working</td>\n",
              "      <td>Higher education</td>\n",
              "      <td>Civil marriage</td>\n",
              "      <td>Rented apartment</td>\n",
              "      <td>32</td>\n",
              "      <td>1</td>\n",
              "      <td>0</td>\n",
              "      <td>0</td>\n",
              "      <td>NAN</td>\n",
              "      <td>2.0</td>\n",
              "      <td>12</td>\n",
              "    </tr>\n",
              "    <tr>\n",
              "      <th>2</th>\n",
              "      <td>5008806</td>\n",
              "      <td>M</td>\n",
              "      <td>Y</td>\n",
              "      <td>Y</td>\n",
              "      <td>0</td>\n",
              "      <td>112500.0</td>\n",
              "      <td>Working</td>\n",
              "      <td>Secondary / secondary special</td>\n",
              "      <td>Married</td>\n",
              "      <td>House / apartment</td>\n",
              "      <td>58</td>\n",
              "      <td>0</td>\n",
              "      <td>0</td>\n",
              "      <td>0</td>\n",
              "      <td>Security staff</td>\n",
              "      <td>2.0</td>\n",
              "      <td>3</td>\n",
              "    </tr>\n",
              "    <tr>\n",
              "      <th>3</th>\n",
              "      <td>5008808</td>\n",
              "      <td>F</td>\n",
              "      <td>N</td>\n",
              "      <td>Y</td>\n",
              "      <td>0</td>\n",
              "      <td>270000.0</td>\n",
              "      <td>Commercial associate</td>\n",
              "      <td>Secondary / secondary special</td>\n",
              "      <td>Single / not married</td>\n",
              "      <td>House / apartment</td>\n",
              "      <td>52</td>\n",
              "      <td>0</td>\n",
              "      <td>1</td>\n",
              "      <td>1</td>\n",
              "      <td>Sales staff</td>\n",
              "      <td>1.0</td>\n",
              "      <td>8</td>\n",
              "    </tr>\n",
              "    <tr>\n",
              "      <th>4</th>\n",
              "      <td>5008809</td>\n",
              "      <td>F</td>\n",
              "      <td>N</td>\n",
              "      <td>Y</td>\n",
              "      <td>0</td>\n",
              "      <td>270000.0</td>\n",
              "      <td>Commercial associate</td>\n",
              "      <td>Secondary / secondary special</td>\n",
              "      <td>Single / not married</td>\n",
              "      <td>House / apartment</td>\n",
              "      <td>52</td>\n",
              "      <td>0</td>\n",
              "      <td>1</td>\n",
              "      <td>1</td>\n",
              "      <td>Sales staff</td>\n",
              "      <td>1.0</td>\n",
              "      <td>8</td>\n",
              "    </tr>\n",
              "    <tr>\n",
              "      <th>...</th>\n",
              "      <td>...</td>\n",
              "      <td>...</td>\n",
              "      <td>...</td>\n",
              "      <td>...</td>\n",
              "      <td>...</td>\n",
              "      <td>...</td>\n",
              "      <td>...</td>\n",
              "      <td>...</td>\n",
              "      <td>...</td>\n",
              "      <td>...</td>\n",
              "      <td>...</td>\n",
              "      <td>...</td>\n",
              "      <td>...</td>\n",
              "      <td>...</td>\n",
              "      <td>...</td>\n",
              "      <td>...</td>\n",
              "      <td>...</td>\n",
              "    </tr>\n",
              "    <tr>\n",
              "      <th>438552</th>\n",
              "      <td>6840104</td>\n",
              "      <td>M</td>\n",
              "      <td>N</td>\n",
              "      <td>Y</td>\n",
              "      <td>0</td>\n",
              "      <td>135000.0</td>\n",
              "      <td>Pensioner</td>\n",
              "      <td>Secondary / secondary special</td>\n",
              "      <td>Separated</td>\n",
              "      <td>House / apartment</td>\n",
              "      <td>62</td>\n",
              "      <td>0</td>\n",
              "      <td>0</td>\n",
              "      <td>0</td>\n",
              "      <td>NAN</td>\n",
              "      <td>1.0</td>\n",
              "      <td>-62</td>\n",
              "    </tr>\n",
              "    <tr>\n",
              "      <th>438553</th>\n",
              "      <td>6840222</td>\n",
              "      <td>F</td>\n",
              "      <td>N</td>\n",
              "      <td>N</td>\n",
              "      <td>0</td>\n",
              "      <td>103500.0</td>\n",
              "      <td>Working</td>\n",
              "      <td>Secondary / secondary special</td>\n",
              "      <td>Single / not married</td>\n",
              "      <td>House / apartment</td>\n",
              "      <td>43</td>\n",
              "      <td>0</td>\n",
              "      <td>0</td>\n",
              "      <td>0</td>\n",
              "      <td>Laborers</td>\n",
              "      <td>1.0</td>\n",
              "      <td>8</td>\n",
              "    </tr>\n",
              "    <tr>\n",
              "      <th>438554</th>\n",
              "      <td>6841878</td>\n",
              "      <td>F</td>\n",
              "      <td>N</td>\n",
              "      <td>N</td>\n",
              "      <td>0</td>\n",
              "      <td>54000.0</td>\n",
              "      <td>Commercial associate</td>\n",
              "      <td>Higher education</td>\n",
              "      <td>Single / not married</td>\n",
              "      <td>With parents</td>\n",
              "      <td>22</td>\n",
              "      <td>1</td>\n",
              "      <td>0</td>\n",
              "      <td>0</td>\n",
              "      <td>Sales staff</td>\n",
              "      <td>1.0</td>\n",
              "      <td>1</td>\n",
              "    </tr>\n",
              "    <tr>\n",
              "      <th>438555</th>\n",
              "      <td>6842765</td>\n",
              "      <td>F</td>\n",
              "      <td>N</td>\n",
              "      <td>Y</td>\n",
              "      <td>0</td>\n",
              "      <td>72000.0</td>\n",
              "      <td>Pensioner</td>\n",
              "      <td>Secondary / secondary special</td>\n",
              "      <td>Married</td>\n",
              "      <td>House / apartment</td>\n",
              "      <td>59</td>\n",
              "      <td>0</td>\n",
              "      <td>0</td>\n",
              "      <td>0</td>\n",
              "      <td>NAN</td>\n",
              "      <td>2.0</td>\n",
              "      <td>-59</td>\n",
              "    </tr>\n",
              "    <tr>\n",
              "      <th>438556</th>\n",
              "      <td>6842885</td>\n",
              "      <td>F</td>\n",
              "      <td>N</td>\n",
              "      <td>Y</td>\n",
              "      <td>0</td>\n",
              "      <td>121500.0</td>\n",
              "      <td>Working</td>\n",
              "      <td>Secondary / secondary special</td>\n",
              "      <td>Married</td>\n",
              "      <td>House / apartment</td>\n",
              "      <td>51</td>\n",
              "      <td>0</td>\n",
              "      <td>1</td>\n",
              "      <td>0</td>\n",
              "      <td>Sales staff</td>\n",
              "      <td>2.0</td>\n",
              "      <td>3</td>\n",
              "    </tr>\n",
              "  </tbody>\n",
              "</table>\n",
              "<p>438557 rows × 17 columns</p>\n",
              "</div>\n",
              "      <button class=\"colab-df-convert\" onclick=\"convertToInteractive('df-353729ac-a093-4d70-9380-a759eca91da9')\"\n",
              "              title=\"Convert this dataframe to an interactive table.\"\n",
              "              style=\"display:none;\">\n",
              "        \n",
              "  <svg xmlns=\"http://www.w3.org/2000/svg\" height=\"24px\"viewBox=\"0 0 24 24\"\n",
              "       width=\"24px\">\n",
              "    <path d=\"M0 0h24v24H0V0z\" fill=\"none\"/>\n",
              "    <path d=\"M18.56 5.44l.94 2.06.94-2.06 2.06-.94-2.06-.94-.94-2.06-.94 2.06-2.06.94zm-11 1L8.5 8.5l.94-2.06 2.06-.94-2.06-.94L8.5 2.5l-.94 2.06-2.06.94zm10 10l.94 2.06.94-2.06 2.06-.94-2.06-.94-.94-2.06-.94 2.06-2.06.94z\"/><path d=\"M17.41 7.96l-1.37-1.37c-.4-.4-.92-.59-1.43-.59-.52 0-1.04.2-1.43.59L10.3 9.45l-7.72 7.72c-.78.78-.78 2.05 0 2.83L4 21.41c.39.39.9.59 1.41.59.51 0 1.02-.2 1.41-.59l7.78-7.78 2.81-2.81c.8-.78.8-2.07 0-2.86zM5.41 20L4 18.59l7.72-7.72 1.47 1.35L5.41 20z\"/>\n",
              "  </svg>\n",
              "      </button>\n",
              "      \n",
              "  <style>\n",
              "    .colab-df-container {\n",
              "      display:flex;\n",
              "      flex-wrap:wrap;\n",
              "      gap: 12px;\n",
              "    }\n",
              "\n",
              "    .colab-df-convert {\n",
              "      background-color: #E8F0FE;\n",
              "      border: none;\n",
              "      border-radius: 50%;\n",
              "      cursor: pointer;\n",
              "      display: none;\n",
              "      fill: #1967D2;\n",
              "      height: 32px;\n",
              "      padding: 0 0 0 0;\n",
              "      width: 32px;\n",
              "    }\n",
              "\n",
              "    .colab-df-convert:hover {\n",
              "      background-color: #E2EBFA;\n",
              "      box-shadow: 0px 1px 2px rgba(60, 64, 67, 0.3), 0px 1px 3px 1px rgba(60, 64, 67, 0.15);\n",
              "      fill: #174EA6;\n",
              "    }\n",
              "\n",
              "    [theme=dark] .colab-df-convert {\n",
              "      background-color: #3B4455;\n",
              "      fill: #D2E3FC;\n",
              "    }\n",
              "\n",
              "    [theme=dark] .colab-df-convert:hover {\n",
              "      background-color: #434B5C;\n",
              "      box-shadow: 0px 1px 3px 1px rgba(0, 0, 0, 0.15);\n",
              "      filter: drop-shadow(0px 1px 2px rgba(0, 0, 0, 0.3));\n",
              "      fill: #FFFFFF;\n",
              "    }\n",
              "  </style>\n",
              "\n",
              "      <script>\n",
              "        const buttonEl =\n",
              "          document.querySelector('#df-353729ac-a093-4d70-9380-a759eca91da9 button.colab-df-convert');\n",
              "        buttonEl.style.display =\n",
              "          google.colab.kernel.accessAllowed ? 'block' : 'none';\n",
              "\n",
              "        async function convertToInteractive(key) {\n",
              "          const element = document.querySelector('#df-353729ac-a093-4d70-9380-a759eca91da9');\n",
              "          const dataTable =\n",
              "            await google.colab.kernel.invokeFunction('convertToInteractive',\n",
              "                                                     [key], {});\n",
              "          if (!dataTable) return;\n",
              "\n",
              "          const docLinkHtml = 'Like what you see? Visit the ' +\n",
              "            '<a target=\"_blank\" href=https://colab.research.google.com/notebooks/data_table.ipynb>data table notebook</a>'\n",
              "            + ' to learn more about interactive tables.';\n",
              "          element.innerHTML = '';\n",
              "          dataTable['output_type'] = 'display_data';\n",
              "          await google.colab.output.renderOutput(dataTable, element);\n",
              "          const docLink = document.createElement('div');\n",
              "          docLink.innerHTML = docLinkHtml;\n",
              "          element.appendChild(docLink);\n",
              "        }\n",
              "      </script>\n",
              "    </div>\n",
              "  </div>\n",
              "  "
            ]
          },
          "metadata": {},
          "execution_count": 556
        }
      ]
    },
    {
      "cell_type": "markdown",
      "source": [
        "### FLAG_WORK_PHONE"
      ],
      "metadata": {
        "id": "HM0_k9tWkKxe"
      }
    },
    {
      "cell_type": "code",
      "source": [
        "application_record[\"FLAG_WORK_PHONE\"].unique()"
      ],
      "metadata": {
        "colab": {
          "base_uri": "https://localhost:8080/"
        },
        "outputId": "086d91bb-ab15-4181-f994-5ffe5e19e752",
        "id": "hRqAP0E5kKxg"
      },
      "execution_count": 557,
      "outputs": [
        {
          "output_type": "execute_result",
          "data": {
            "text/plain": [
              "array([1, 0])"
            ]
          },
          "metadata": {},
          "execution_count": 557
        }
      ]
    },
    {
      "cell_type": "code",
      "source": [
        "application_record[\"FLAG_WORK_PHONE\"].value_counts()"
      ],
      "metadata": {
        "colab": {
          "base_uri": "https://localhost:8080/"
        },
        "outputId": "1e5844bd-1cc9-41e9-af9c-89a835885b16",
        "id": "5pU5KTBIkKxh"
      },
      "execution_count": 558,
      "outputs": [
        {
          "output_type": "execute_result",
          "data": {
            "text/plain": [
              "0    348156\n",
              "1     90401\n",
              "Name: FLAG_WORK_PHONE, dtype: int64"
            ]
          },
          "metadata": {},
          "execution_count": 558
        }
      ]
    },
    {
      "cell_type": "code",
      "source": [
        "application_record['FLAG_WORK_PHONE'].value_counts().plot(kind='bar')\n",
        "plt.title('OWNS WORK PHONE vs FREQUENCY')\n",
        "plt.xlabel('OWNS WORK PHONE')\n",
        "plt.ylabel('frequency')"
      ],
      "metadata": {
        "colab": {
          "base_uri": "https://localhost:8080/",
          "height": 0
        },
        "outputId": "f3884046-21c4-4dba-da1c-f5814c6730af",
        "id": "EoN3gx0AkKxi"
      },
      "execution_count": 559,
      "outputs": [
        {
          "output_type": "execute_result",
          "data": {
            "text/plain": [
              "Text(0, 0.5, 'frequency')"
            ]
          },
          "metadata": {},
          "execution_count": 559
        },
        {
          "output_type": "display_data",
          "data": {
            "text/plain": [
              "<Figure size 432x288 with 1 Axes>"
            ],
            "image/png": "[encoded data removed]"
          },
          "metadata": {
            "needs_background": "light"
          }
        }
      ]
    },
    {
      "cell_type": "code",
      "source": [
        "application_record.groupby([\"FLAG_WORK_PHONE\", \"CODE_GENDER\"]).size().unstack(level=1).plot(kind='bar')\n",
        "plt.title('GENDER COMPARISON OF OWNS WORK PHONE vs FREQUENCY')\n",
        "plt.xlabel('OWNS PHONE')\n",
        "plt.ylabel('frequency')"
      ],
      "metadata": {
        "colab": {
          "base_uri": "https://localhost:8080/",
          "height": 0
        },
        "id": "CtxpX1uZCTAh",
        "outputId": "a463bf7a-fc6a-48a8-f84f-04e679698c82"
      },
      "execution_count": 560,
      "outputs": [
        {
          "output_type": "execute_result",
          "data": {
            "text/plain": [
              "Text(0, 0.5, 'frequency')"
            ]
          },
          "metadata": {},
          "execution_count": 560
        },
        {
          "output_type": "display_data",
          "data": {
            "text/plain": [
              "<Figure size 432x288 with 1 Axes>"
            ],
            "image/png": "[encoded data removed]"
          },
          "metadata": {
            "needs_background": "light"
          }
        }
      ]
    },
    {
      "cell_type": "markdown",
      "source": [
        "Observations:\n",
        "\n",
        "\n",
        "*   Most of the applicants had no work phone."
      ],
      "metadata": {
        "id": "-1f4ROn_kKxi"
      }
    },
    {
      "cell_type": "markdown",
      "source": [
        "### FLAG_PHONE"
      ],
      "metadata": {
        "id": "IMs8Ht2ckq1g"
      }
    },
    {
      "cell_type": "code",
      "source": [
        "application_record[\"FLAG_PHONE\"].unique()"
      ],
      "metadata": {
        "colab": {
          "base_uri": "https://localhost:8080/"
        },
        "outputId": "a2466e52-6941-496f-de33-6364d82cde4b",
        "id": "pV5quDfWkq1h"
      },
      "execution_count": 561,
      "outputs": [
        {
          "output_type": "execute_result",
          "data": {
            "text/plain": [
              "array([0, 1])"
            ]
          },
          "metadata": {},
          "execution_count": 561
        }
      ]
    },
    {
      "cell_type": "code",
      "source": [
        "application_record[\"FLAG_PHONE\"].value_counts()"
      ],
      "metadata": {
        "colab": {
          "base_uri": "https://localhost:8080/"
        },
        "outputId": "1c3e266e-43c7-4bdc-bb12-171c921205ee",
        "id": "OwX7KC61kq1j"
      },
      "execution_count": 562,
      "outputs": [
        {
          "output_type": "execute_result",
          "data": {
            "text/plain": [
              "0    312353\n",
              "1    126204\n",
              "Name: FLAG_PHONE, dtype: int64"
            ]
          },
          "metadata": {},
          "execution_count": 562
        }
      ]
    },
    {
      "cell_type": "code",
      "source": [
        "application_record['FLAG_PHONE'].value_counts().plot(kind='bar')"
      ],
      "metadata": {
        "colab": {
          "base_uri": "https://localhost:8080/",
          "height": 0
        },
        "outputId": "a370b0ab-283d-4424-cdbe-8c4e954ac7ec",
        "id": "ZXAGuxJ1kq1k"
      },
      "execution_count": 563,
      "outputs": [
        {
          "output_type": "execute_result",
          "data": {
            "text/plain": [
              "<matplotlib.axes._subplots.AxesSubplot at 0x7f7277eb0250>"
            ]
          },
          "metadata": {},
          "execution_count": 563
        },
        {
          "output_type": "display_data",
          "data": {
            "text/plain": [
              "<Figure size 432x288 with 1 Axes>"
            ],
            "image/png": "[encoded data removed]"
          },
          "metadata": {
            "needs_background": "light"
          }
        }
      ]
    },
    {
      "cell_type": "markdown",
      "source": [
        "Observations:\n",
        "\n",
        "\n",
        "*   Most of the applicants do not have phone"
      ],
      "metadata": {
        "id": "HzoyMrJzkq1k"
      }
    },
    {
      "cell_type": "markdown",
      "source": [
        "### FLAG_EMAIL"
      ],
      "metadata": {
        "id": "ohwYKAQ9kq1l"
      }
    },
    {
      "cell_type": "code",
      "source": [
        "application_record[\"FLAG_EMAIL\"].unique()"
      ],
      "metadata": {
        "colab": {
          "base_uri": "https://localhost:8080/"
        },
        "outputId": "4c391ab3-1e4a-436d-aa64-a0e6bb6d7853",
        "id": "bQL7CGvlkq1m"
      },
      "execution_count": 564,
      "outputs": [
        {
          "output_type": "execute_result",
          "data": {
            "text/plain": [
              "array([0, 1])"
            ]
          },
          "metadata": {},
          "execution_count": 564
        }
      ]
    },
    {
      "cell_type": "code",
      "source": [
        "application_record[\"FLAG_EMAIL\"].value_counts()"
      ],
      "metadata": {
        "colab": {
          "base_uri": "https://localhost:8080/"
        },
        "outputId": "9796a281-7a2c-4cd1-e62d-e670e6d8f841",
        "id": "cRdtE9z0kq1n"
      },
      "execution_count": 565,
      "outputs": [
        {
          "output_type": "execute_result",
          "data": {
            "text/plain": [
              "0    391102\n",
              "1     47455\n",
              "Name: FLAG_EMAIL, dtype: int64"
            ]
          },
          "metadata": {},
          "execution_count": 565
        }
      ]
    },
    {
      "cell_type": "code",
      "source": [
        "application_record['FLAG_EMAIL'].value_counts().plot(kind='bar')"
      ],
      "metadata": {
        "colab": {
          "base_uri": "https://localhost:8080/",
          "height": 0
        },
        "outputId": "4881b63e-3300-49bb-a29d-6b544c461881",
        "id": "x_quI-tWkq1n"
      },
      "execution_count": 566,
      "outputs": [
        {
          "output_type": "execute_result",
          "data": {
            "text/plain": [
              "<matplotlib.axes._subplots.AxesSubplot at 0x7f7277e94610>"
            ]
          },
          "metadata": {},
          "execution_count": 566
        },
        {
          "output_type": "display_data",
          "data": {
            "text/plain": [
              "<Figure size 432x288 with 1 Axes>"
            ],
            "image/png": "[encoded data removed]"
          },
          "metadata": {
            "needs_background": "light"
          }
        }
      ]
    },
    {
      "cell_type": "markdown",
      "source": [
        "Observations:\n",
        "\n",
        "\n",
        "*   Almost all the applicant used email or had email id."
      ],
      "metadata": {
        "id": "cQpWbqJekq1o"
      }
    },
    {
      "cell_type": "markdown",
      "source": [
        "### CNT_CHILDREN"
      ],
      "metadata": {
        "id": "8yPjBn9yuTxZ"
      }
    },
    {
      "cell_type": "code",
      "source": [
        "application_record[\"CNT_CHILDREN\"].unique()"
      ],
      "metadata": {
        "colab": {
          "base_uri": "https://localhost:8080/"
        },
        "outputId": "08029d33-305a-430b-94f6-3fcd5267fb4a",
        "id": "dkeIV9mVuTxa"
      },
      "execution_count": 567,
      "outputs": [
        {
          "output_type": "execute_result",
          "data": {
            "text/plain": [
              "array([ 0,  1,  3,  2,  4,  5, 14, 19,  7,  9, 12,  6])"
            ]
          },
          "metadata": {},
          "execution_count": 567
        }
      ]
    },
    {
      "cell_type": "code",
      "source": [
        "application_record[\"CNT_CHILDREN\"].value_counts()"
      ],
      "metadata": {
        "colab": {
          "base_uri": "https://localhost:8080/"
        },
        "id": "IjgQKyMxtPk8",
        "outputId": "e379ac9f-8a8d-4d24-ca93-686fdc4b9a4d"
      },
      "execution_count": 568,
      "outputs": [
        {
          "output_type": "execute_result",
          "data": {
            "text/plain": [
              "0     304071\n",
              "1      88527\n",
              "2      39884\n",
              "3       5430\n",
              "4        486\n",
              "5        133\n",
              "7          9\n",
              "9          5\n",
              "12         4\n",
              "6          4\n",
              "14         3\n",
              "19         1\n",
              "Name: CNT_CHILDREN, dtype: int64"
            ]
          },
          "metadata": {},
          "execution_count": 568
        }
      ]
    },
    {
      "cell_type": "code",
      "source": [
        "application_record['CNT_CHILDREN'].value_counts().sort_index(ascending=True).plot(kind='bar')"
      ],
      "metadata": {
        "colab": {
          "base_uri": "https://localhost:8080/",
          "height": 0
        },
        "outputId": "e1c56f4f-37d9-42c4-eeb7-1827bc5cae73",
        "id": "znXfDVTDuTxb"
      },
      "execution_count": 569,
      "outputs": [
        {
          "output_type": "execute_result",
          "data": {
            "text/plain": [
              "<matplotlib.axes._subplots.AxesSubplot at 0x7f7277d97c10>"
            ]
          },
          "metadata": {},
          "execution_count": 569
        },
        {
          "output_type": "display_data",
          "data": {
            "text/plain": [
              "<Figure size 432x288 with 1 Axes>"
            ],
            "image/png": "[encoded data removed]"
          },
          "metadata": {
            "needs_background": "light"
          }
        }
      ]
    },
    {
      "cell_type": "code",
      "source": [
        "application_record.groupby([\"CNT_CHILDREN\", \"CODE_GENDER\"]).size().unstack(level=1).plot(kind='bar')"
      ],
      "metadata": {
        "colab": {
          "base_uri": "https://localhost:8080/",
          "height": 0
        },
        "id": "ipHLl8SmuaWA",
        "outputId": "1d67e085-8c34-4ba7-b64e-f1e48d1e5c58"
      },
      "execution_count": 570,
      "outputs": [
        {
          "output_type": "execute_result",
          "data": {
            "text/plain": [
              "<matplotlib.axes._subplots.AxesSubplot at 0x7f7277d3e490>"
            ]
          },
          "metadata": {},
          "execution_count": 570
        },
        {
          "output_type": "display_data",
          "data": {
            "text/plain": [
              "<Figure size 432x288 with 1 Axes>"
            ],
            "image/png": "[encoded data removed]"
          },
          "metadata": {
            "needs_background": "light"
          }
        }
      ]
    },
    {
      "cell_type": "markdown",
      "source": [
        "Conclusion:\n",
        "\n",
        "\n",
        "*   The number of children of the applicant varies from 0 to 19\n",
        "*   Most of the applicants has zero child and few have one, two or more children\n",
        "*   Gender wise they have a pretty similar distributions\n",
        "\n"
      ],
      "metadata": {
        "id": "9kBHlezFuTxb"
      }
    },
    {
      "cell_type": "markdown",
      "source": [
        "### CNT_FAM_MEMBERS"
      ],
      "metadata": {
        "id": "dK1cAoSge7VB"
      }
    },
    {
      "cell_type": "code",
      "source": [
        "application_record[\"CNT_FAM_MEMBERS\"].unique()"
      ],
      "metadata": {
        "colab": {
          "base_uri": "https://localhost:8080/"
        },
        "outputId": "77e9d881-cdb3-41f2-d996-41985b009316",
        "id": "99acrIMYe7VC"
      },
      "execution_count": 571,
      "outputs": [
        {
          "output_type": "execute_result",
          "data": {
            "text/plain": [
              "array([ 2.,  1.,  5.,  3.,  4.,  6., 15.,  7., 20.,  9., 11., 14.,  8.])"
            ]
          },
          "metadata": {},
          "execution_count": 571
        }
      ]
    },
    {
      "cell_type": "code",
      "source": [
        "application_record[\"CNT_FAM_MEMBERS\"].value_counts()"
      ],
      "metadata": {
        "colab": {
          "base_uri": "https://localhost:8080/"
        },
        "outputId": "70e0164b-9b87-417f-e895-800a2644ec92",
        "id": "mlEXkbwHe7VD"
      },
      "execution_count": 572,
      "outputs": [
        {
          "output_type": "execute_result",
          "data": {
            "text/plain": [
              "2.0     233891\n",
              "1.0      84492\n",
              "3.0      77128\n",
              "4.0      37356\n",
              "5.0       5081\n",
              "6.0        459\n",
              "7.0        124\n",
              "9.0          9\n",
              "11.0         5\n",
              "14.0         4\n",
              "8.0          4\n",
              "15.0         3\n",
              "20.0         1\n",
              "Name: CNT_FAM_MEMBERS, dtype: int64"
            ]
          },
          "metadata": {},
          "execution_count": 572
        }
      ]
    },
    {
      "cell_type": "code",
      "source": [
        "application_record['CNT_FAM_MEMBERS'].value_counts().sort_index(ascending = True).plot(kind='bar')"
      ],
      "metadata": {
        "colab": {
          "base_uri": "https://localhost:8080/",
          "height": 0
        },
        "outputId": "59bbadec-45cd-4e59-a0e1-2fbdd7bd760b",
        "id": "FepTJYPMe7VE"
      },
      "execution_count": 573,
      "outputs": [
        {
          "output_type": "execute_result",
          "data": {
            "text/plain": [
              "<matplotlib.axes._subplots.AxesSubplot at 0x7f7277c73f90>"
            ]
          },
          "metadata": {},
          "execution_count": 573
        },
        {
          "output_type": "display_data",
          "data": {
            "text/plain": [
              "<Figure size 432x288 with 1 Axes>"
            ],
            "image/png": "[encoded data removed]"
          },
          "metadata": {
            "needs_background": "light"
          }
        }
      ]
    },
    {
      "cell_type": "markdown",
      "source": [
        "Observations:\n",
        "\n",
        "\n",
        "*   Most of the applicants had two members in their family\n",
        "*   There are significant number of applicants with one,three or four family members\n",
        "*   A very few applicants had more than 6 family members\n",
        "*   Maximum number of members in the family for a single applicant is 20"
      ],
      "metadata": {
        "id": "M2AmS7kBe7VF"
      }
    },
    {
      "cell_type": "markdown",
      "source": [
        "### AGE\n"
      ],
      "metadata": {
        "id": "PU1q2PWruBD3"
      }
    },
    {
      "cell_type": "code",
      "source": [
        "application_record[\"AGE\"].unique()"
      ],
      "metadata": {
        "colab": {
          "base_uri": "https://localhost:8080/"
        },
        "id": "0x_54ma0xcce",
        "outputId": "56a51f99-27af-409b-9ef6-dfb9bd9f709e"
      },
      "execution_count": 574,
      "outputs": [
        {
          "output_type": "execute_result",
          "data": {
            "text/plain": [
              "array([32, 58, 52, 61, 46, 48, 29, 27, 30, 34, 56, 43, 44, 45, 55, 42, 37,\n",
              "       28, 57, 51, 54, 39, 24, 20, 38, 40, 33, 36, 35, 41, 59, 26, 50, 53,\n",
              "       62, 60, 63, 25, 22, 23, 64, 47, 31, 49, 65, 21, 66, 67, 68, 69])"
            ]
          },
          "metadata": {},
          "execution_count": 574
        }
      ]
    },
    {
      "cell_type": "code",
      "source": [
        "application_record['AGE'].plot(kind='kde')"
      ],
      "metadata": {
        "colab": {
          "base_uri": "https://localhost:8080/",
          "height": 0
        },
        "id": "M0rA09QFzEL6",
        "outputId": "ceafb8c9-d2cf-462a-e93a-f656da28be04"
      },
      "execution_count": 575,
      "outputs": [
        {
          "output_type": "execute_result",
          "data": {
            "text/plain": [
              "<matplotlib.axes._subplots.AxesSubplot at 0x7f7277b97710>"
            ]
          },
          "metadata": {},
          "execution_count": 575
        },
        {
          "output_type": "display_data",
          "data": {
            "text/plain": [
              "<Figure size 432x288 with 1 Axes>"
            ],
            "image/png": "[encoded data removed]"
          },
          "metadata": {
            "needs_background": "light"
          }
        }
      ]
    },
    {
      "cell_type": "code",
      "source": [
        "application_record['AGE'].plot.hist()"
      ],
      "metadata": {
        "colab": {
          "base_uri": "https://localhost:8080/",
          "height": 0
        },
        "outputId": "9951f6ac-8553-463d-8d40-e0f0fc2e4247",
        "id": "2qcCyq4LuBEP"
      },
      "execution_count": 576,
      "outputs": [
        {
          "output_type": "execute_result",
          "data": {
            "text/plain": [
              "<matplotlib.axes._subplots.AxesSubplot at 0x7f7277b80510>"
            ]
          },
          "metadata": {},
          "execution_count": 576
        },
        {
          "output_type": "display_data",
          "data": {
            "text/plain": [
              "<Figure size 432x288 with 1 Axes>"
            ],
            "image/png": "[encoded data removed]"
          },
          "metadata": {
            "needs_background": "light"
          }
        }
      ]
    },
    {
      "cell_type": "code",
      "source": [
        "application_record.groupby('CODE_GENDER').AGE.plot.hist()\n",
        "plt.legend()"
      ],
      "metadata": {
        "colab": {
          "base_uri": "https://localhost:8080/",
          "height": 0
        },
        "id": "l4Y9g3K7zYtw",
        "outputId": "1321edeb-b928-4d28-9874-086b518aa5c3"
      },
      "execution_count": 577,
      "outputs": [
        {
          "output_type": "execute_result",
          "data": {
            "text/plain": [
              "<matplotlib.legend.Legend at 0x7f7277aeee90>"
            ]
          },
          "metadata": {},
          "execution_count": 577
        },
        {
          "output_type": "display_data",
          "data": {
            "text/plain": [
              "<Figure size 432x288 with 1 Axes>"
            ],
            "image/png": "[encoded data removed]"
          },
          "metadata": {
            "needs_background": "light"
          }
        }
      ]
    },
    {
      "cell_type": "markdown",
      "source": [
        "Conclusion:\n",
        "\n",
        "\n",
        "*   The age range of the applicants varies from 20 to 70 yrs\n",
        "*   Maximum number of applicants lies in the age range of 30-40 yrs\n",
        "*   For female applicant, most number applicants are in the range of 35 to 45 yrs\n",
        "*   For male applicant, most number of applicants are in the range of 25 to 35 yrs.\n",
        "\n"
      ],
      "metadata": {
        "id": "bjCL9mnPuBEQ"
      }
    },
    {
      "cell_type": "code",
      "source": [
        "### YEARS_EMPLOYED"
      ],
      "metadata": {
        "id": "QYJX5PgE05Bx"
      },
      "execution_count": 578,
      "outputs": []
    },
    {
      "cell_type": "code",
      "source": [
        "application_record['YEARS_EMPLOYED'].plot(kind='kde')"
      ],
      "metadata": {
        "colab": {
          "base_uri": "https://localhost:8080/",
          "height": 0
        },
        "outputId": "574dd62e-8069-4236-8ffb-37b6861b2a26",
        "id": "FVf18_ia05Bz"
      },
      "execution_count": 579,
      "outputs": [
        {
          "output_type": "execute_result",
          "data": {
            "text/plain": [
              "<matplotlib.axes._subplots.AxesSubplot at 0x7f7277a43650>"
            ]
          },
          "metadata": {},
          "execution_count": 579
        },
        {
          "output_type": "display_data",
          "data": {
            "text/plain": [
              "<Figure size 432x288 with 1 Axes>"
            ],
            "image/png": "[encoded data removed]"
          },
          "metadata": {
            "needs_background": "light"
          }
        }
      ]
    },
    {
      "cell_type": "code",
      "source": [
        "application_record.groupby('CODE_GENDER').YEARS_EMPLOYED.plot.hist()\n",
        "plt.legend()"
      ],
      "metadata": {
        "colab": {
          "base_uri": "https://localhost:8080/",
          "height": 0
        },
        "outputId": "be53b6c7-af6a-460b-8160-0d7eb1147f29",
        "id": "OV1iDeep05Bz"
      },
      "execution_count": 580,
      "outputs": [
        {
          "output_type": "execute_result",
          "data": {
            "text/plain": [
              "<matplotlib.legend.Legend at 0x7f72779f83d0>"
            ]
          },
          "metadata": {},
          "execution_count": 580
        },
        {
          "output_type": "display_data",
          "data": {
            "text/plain": [
              "<Figure size 432x288 with 1 Axes>"
            ],
            "image/png": "[encoded data removed]"
          },
          "metadata": {
            "needs_background": "light"
          }
        }
      ]
    },
    {
      "cell_type": "markdown",
      "source": [
        "Conclusion:\n",
        "\n",
        "\n",
        "*   From the analysis, I found that, people who were unemployed had the same value. That is, number of days that they have been unemployed is same for all which is `365243` that nearly equal to 1001 years.\n",
        "*   So for such values we replaced the number of days of unemployment as their age\n",
        "*   Apart from that we see, most of the people who have been working from 0 to 10 years has the most number of applications and frequency exponentially decreases as the years of employement increase.\n",
        "*   Also we observe that, people who are umemployed for more than 40 years(their current age) also are applying for credit cards."
      ],
      "metadata": {
        "id": "zDaBsfdw05Bz"
      }
    },
    {
      "cell_type": "code",
      "source": [
        ""
      ],
      "metadata": {
        "id": "dGm6S8PupDdx"
      },
      "execution_count": 580,
      "outputs": []
    },
    {
      "cell_type": "markdown",
      "source": [
        "## 2.2 Credit Record Table"
      ],
      "metadata": {
        "id": "_gLds_GMnbLe"
      }
    },
    {
      "cell_type": "markdown",
      "source": [
        "**Credit Record Notations**\n",
        "\n",
        "\n",
        "*   **0**: 1-29 days past due \n",
        "*   **1**: 30-59 days past due \n",
        "*   **3**: 90-119 days overdue\n",
        "*   **4**: 120-149 days overdue \n",
        "*   **5**: Overdue or bad debts, write-offs for more than 150 days \n",
        "*   **C**: paid off that month X: No loan for the month\n",
        "*   **X**: No loan for the month"
      ],
      "metadata": {
        "id": "VwiTukYCmGle"
      }
    },
    {
      "cell_type": "code",
      "source": [
        "credit_record.head()"
      ],
      "metadata": {
        "colab": {
          "base_uri": "https://localhost:8080/",
          "height": 0
        },
        "id": "niIGFeBNFC7z",
        "outputId": "2d18023e-a20a-4c6c-b69c-66be9518653b"
      },
      "execution_count": 581,
      "outputs": [
        {
          "output_type": "execute_result",
          "data": {
            "text/plain": [
              "        ID  MONTHS_BALANCE STATUS\n",
              "0  5001711               0      X\n",
              "1  5001711              -1      0\n",
              "2  5001711              -2      0\n",
              "3  5001711              -3      0\n",
              "4  5001712               0      C"
            ],
            "text/html": [
              "\n",
              "  <div id=\"df-2c86563d-e7ab-4985-9579-d494a35739ea\">\n",
              "    <div class=\"colab-df-container\">\n",
              "      <div>\n",
              "<style scoped>\n",
              "    .dataframe tbody tr th:only-of-type {\n",
              "        vertical-align: middle;\n",
              "    }\n",
              "\n",
              "    .dataframe tbody tr th {\n",
              "        vertical-align: top;\n",
              "    }\n",
              "\n",
              "    .dataframe thead th {\n",
              "        text-align: right;\n",
              "    }\n",
              "</style>\n",
              "<table border=\"1\" class=\"dataframe\">\n",
              "  <thead>\n",
              "    <tr style=\"text-align: right;\">\n",
              "      <th></th>\n",
              "      <th>ID</th>\n",
              "      <th>MONTHS_BALANCE</th>\n",
              "      <th>STATUS</th>\n",
              "    </tr>\n",
              "  </thead>\n",
              "  <tbody>\n",
              "    <tr>\n",
              "      <th>0</th>\n",
              "      <td>5001711</td>\n",
              "      <td>0</td>\n",
              "      <td>X</td>\n",
              "    </tr>\n",
              "    <tr>\n",
              "      <th>1</th>\n",
              "      <td>5001711</td>\n",
              "      <td>-1</td>\n",
              "      <td>0</td>\n",
              "    </tr>\n",
              "    <tr>\n",
              "      <th>2</th>\n",
              "      <td>5001711</td>\n",
              "      <td>-2</td>\n",
              "      <td>0</td>\n",
              "    </tr>\n",
              "    <tr>\n",
              "      <th>3</th>\n",
              "      <td>5001711</td>\n",
              "      <td>-3</td>\n",
              "      <td>0</td>\n",
              "    </tr>\n",
              "    <tr>\n",
              "      <th>4</th>\n",
              "      <td>5001712</td>\n",
              "      <td>0</td>\n",
              "      <td>C</td>\n",
              "    </tr>\n",
              "  </tbody>\n",
              "</table>\n",
              "</div>\n",
              "      <button class=\"colab-df-convert\" onclick=\"convertToInteractive('df-2c86563d-e7ab-4985-9579-d494a35739ea')\"\n",
              "              title=\"Convert this dataframe to an interactive table.\"\n",
              "              style=\"display:none;\">\n",
              "        \n",
              "  <svg xmlns=\"http://www.w3.org/2000/svg\" height=\"24px\"viewBox=\"0 0 24 24\"\n",
              "       width=\"24px\">\n",
              "    <path d=\"M0 0h24v24H0V0z\" fill=\"none\"/>\n",
              "    <path d=\"M18.56 5.44l.94 2.06.94-2.06 2.06-.94-2.06-.94-.94-2.06-.94 2.06-2.06.94zm-11 1L8.5 8.5l.94-2.06 2.06-.94-2.06-.94L8.5 2.5l-.94 2.06-2.06.94zm10 10l.94 2.06.94-2.06 2.06-.94-2.06-.94-.94-2.06-.94 2.06-2.06.94z\"/><path d=\"M17.41 7.96l-1.37-1.37c-.4-.4-.92-.59-1.43-.59-.52 0-1.04.2-1.43.59L10.3 9.45l-7.72 7.72c-.78.78-.78 2.05 0 2.83L4 21.41c.39.39.9.59 1.41.59.51 0 1.02-.2 1.41-.59l7.78-7.78 2.81-2.81c.8-.78.8-2.07 0-2.86zM5.41 20L4 18.59l7.72-7.72 1.47 1.35L5.41 20z\"/>\n",
              "  </svg>\n",
              "      </button>\n",
              "      \n",
              "  <style>\n",
              "    .colab-df-container {\n",
              "      display:flex;\n",
              "      flex-wrap:wrap;\n",
              "      gap: 12px;\n",
              "    }\n",
              "\n",
              "    .colab-df-convert {\n",
              "      background-color: #E8F0FE;\n",
              "      border: none;\n",
              "      border-radius: 50%;\n",
              "      cursor: pointer;\n",
              "      display: none;\n",
              "      fill: #1967D2;\n",
              "      height: 32px;\n",
              "      padding: 0 0 0 0;\n",
              "      width: 32px;\n",
              "    }\n",
              "\n",
              "    .colab-df-convert:hover {\n",
              "      background-color: #E2EBFA;\n",
              "      box-shadow: 0px 1px 2px rgba(60, 64, 67, 0.3), 0px 1px 3px 1px rgba(60, 64, 67, 0.15);\n",
              "      fill: #174EA6;\n",
              "    }\n",
              "\n",
              "    [theme=dark] .colab-df-convert {\n",
              "      background-color: #3B4455;\n",
              "      fill: #D2E3FC;\n",
              "    }\n",
              "\n",
              "    [theme=dark] .colab-df-convert:hover {\n",
              "      background-color: #434B5C;\n",
              "      box-shadow: 0px 1px 3px 1px rgba(0, 0, 0, 0.15);\n",
              "      filter: drop-shadow(0px 1px 2px rgba(0, 0, 0, 0.3));\n",
              "      fill: #FFFFFF;\n",
              "    }\n",
              "  </style>\n",
              "\n",
              "      <script>\n",
              "        const buttonEl =\n",
              "          document.querySelector('#df-2c86563d-e7ab-4985-9579-d494a35739ea button.colab-df-convert');\n",
              "        buttonEl.style.display =\n",
              "          google.colab.kernel.accessAllowed ? 'block' : 'none';\n",
              "\n",
              "        async function convertToInteractive(key) {\n",
              "          const element = document.querySelector('#df-2c86563d-e7ab-4985-9579-d494a35739ea');\n",
              "          const dataTable =\n",
              "            await google.colab.kernel.invokeFunction('convertToInteractive',\n",
              "                                                     [key], {});\n",
              "          if (!dataTable) return;\n",
              "\n",
              "          const docLinkHtml = 'Like what you see? Visit the ' +\n",
              "            '<a target=\"_blank\" href=https://colab.research.google.com/notebooks/data_table.ipynb>data table notebook</a>'\n",
              "            + ' to learn more about interactive tables.';\n",
              "          element.innerHTML = '';\n",
              "          dataTable['output_type'] = 'display_data';\n",
              "          await google.colab.output.renderOutput(dataTable, element);\n",
              "          const docLink = document.createElement('div');\n",
              "          docLink.innerHTML = docLinkHtml;\n",
              "          element.appendChild(docLink);\n",
              "        }\n",
              "      </script>\n",
              "    </div>\n",
              "  </div>\n",
              "  "
            ]
          },
          "metadata": {},
          "execution_count": 581
        }
      ]
    },
    {
      "cell_type": "code",
      "source": [
        "credit_record.shape"
      ],
      "metadata": {
        "id": "4RH85Q8pNxWW",
        "colab": {
          "base_uri": "https://localhost:8080/"
        },
        "outputId": "efefdf54-b5ec-4c6a-f4cc-5192607d81e8"
      },
      "execution_count": 582,
      "outputs": [
        {
          "output_type": "execute_result",
          "data": {
            "text/plain": [
              "(1048575, 3)"
            ]
          },
          "metadata": {},
          "execution_count": 582
        }
      ]
    },
    {
      "cell_type": "code",
      "source": [
        "credit_record.describe()"
      ],
      "metadata": {
        "id": "CMYtZBQAN88x",
        "colab": {
          "base_uri": "https://localhost:8080/",
          "height": 0
        },
        "outputId": "f92ba12a-dea2-424c-a9e7-6995420e0d8b"
      },
      "execution_count": 583,
      "outputs": [
        {
          "output_type": "execute_result",
          "data": {
            "text/plain": [
              "                 ID  MONTHS_BALANCE\n",
              "count  1.048575e+06    1.048575e+06\n",
              "mean   5.068286e+06   -1.913700e+01\n",
              "std    4.615058e+04    1.402350e+01\n",
              "min    5.001711e+06   -6.000000e+01\n",
              "25%    5.023644e+06   -2.900000e+01\n",
              "50%    5.062104e+06   -1.700000e+01\n",
              "75%    5.113856e+06   -7.000000e+00\n",
              "max    5.150487e+06    0.000000e+00"
            ],
            "text/html": [
              "\n",
              "  <div id=\"df-d1d2eb8a-080b-4bfa-859c-6add7394f2cd\">\n",
              "    <div class=\"colab-df-container\">\n",
              "      <div>\n",
              "<style scoped>\n",
              "    .dataframe tbody tr th:only-of-type {\n",
              "        vertical-align: middle;\n",
              "    }\n",
              "\n",
              "    .dataframe tbody tr th {\n",
              "        vertical-align: top;\n",
              "    }\n",
              "\n",
              "    .dataframe thead th {\n",
              "        text-align: right;\n",
              "    }\n",
              "</style>\n",
              "<table border=\"1\" class=\"dataframe\">\n",
              "  <thead>\n",
              "    <tr style=\"text-align: right;\">\n",
              "      <th></th>\n",
              "      <th>ID</th>\n",
              "      <th>MONTHS_BALANCE</th>\n",
              "    </tr>\n",
              "  </thead>\n",
              "  <tbody>\n",
              "    <tr>\n",
              "      <th>count</th>\n",
              "      <td>1.048575e+06</td>\n",
              "      <td>1.048575e+06</td>\n",
              "    </tr>\n",
              "    <tr>\n",
              "      <th>mean</th>\n",
              "      <td>5.068286e+06</td>\n",
              "      <td>-1.913700e+01</td>\n",
              "    </tr>\n",
              "    <tr>\n",
              "      <th>std</th>\n",
              "      <td>4.615058e+04</td>\n",
              "      <td>1.402350e+01</td>\n",
              "    </tr>\n",
              "    <tr>\n",
              "      <th>min</th>\n",
              "      <td>5.001711e+06</td>\n",
              "      <td>-6.000000e+01</td>\n",
              "    </tr>\n",
              "    <tr>\n",
              "      <th>25%</th>\n",
              "      <td>5.023644e+06</td>\n",
              "      <td>-2.900000e+01</td>\n",
              "    </tr>\n",
              "    <tr>\n",
              "      <th>50%</th>\n",
              "      <td>5.062104e+06</td>\n",
              "      <td>-1.700000e+01</td>\n",
              "    </tr>\n",
              "    <tr>\n",
              "      <th>75%</th>\n",
              "      <td>5.113856e+06</td>\n",
              "      <td>-7.000000e+00</td>\n",
              "    </tr>\n",
              "    <tr>\n",
              "      <th>max</th>\n",
              "      <td>5.150487e+06</td>\n",
              "      <td>0.000000e+00</td>\n",
              "    </tr>\n",
              "  </tbody>\n",
              "</table>\n",
              "</div>\n",
              "      <button class=\"colab-df-convert\" onclick=\"convertToInteractive('df-d1d2eb8a-080b-4bfa-859c-6add7394f2cd')\"\n",
              "              title=\"Convert this dataframe to an interactive table.\"\n",
              "              style=\"display:none;\">\n",
              "        \n",
              "  <svg xmlns=\"http://www.w3.org/2000/svg\" height=\"24px\"viewBox=\"0 0 24 24\"\n",
              "       width=\"24px\">\n",
              "    <path d=\"M0 0h24v24H0V0z\" fill=\"none\"/>\n",
              "    <path d=\"M18.56 5.44l.94 2.06.94-2.06 2.06-.94-2.06-.94-.94-2.06-.94 2.06-2.06.94zm-11 1L8.5 8.5l.94-2.06 2.06-.94-2.06-.94L8.5 2.5l-.94 2.06-2.06.94zm10 10l.94 2.06.94-2.06 2.06-.94-2.06-.94-.94-2.06-.94 2.06-2.06.94z\"/><path d=\"M17.41 7.96l-1.37-1.37c-.4-.4-.92-.59-1.43-.59-.52 0-1.04.2-1.43.59L10.3 9.45l-7.72 7.72c-.78.78-.78 2.05 0 2.83L4 21.41c.39.39.9.59 1.41.59.51 0 1.02-.2 1.41-.59l7.78-7.78 2.81-2.81c.8-.78.8-2.07 0-2.86zM5.41 20L4 18.59l7.72-7.72 1.47 1.35L5.41 20z\"/>\n",
              "  </svg>\n",
              "      </button>\n",
              "      \n",
              "  <style>\n",
              "    .colab-df-container {\n",
              "      display:flex;\n",
              "      flex-wrap:wrap;\n",
              "      gap: 12px;\n",
              "    }\n",
              "\n",
              "    .colab-df-convert {\n",
              "      background-color: #E8F0FE;\n",
              "      border: none;\n",
              "      border-radius: 50%;\n",
              "      cursor: pointer;\n",
              "      display: none;\n",
              "      fill: #1967D2;\n",
              "      height: 32px;\n",
              "      padding: 0 0 0 0;\n",
              "      width: 32px;\n",
              "    }\n",
              "\n",
              "    .colab-df-convert:hover {\n",
              "      background-color: #E2EBFA;\n",
              "      box-shadow: 0px 1px 2px rgba(60, 64, 67, 0.3), 0px 1px 3px 1px rgba(60, 64, 67, 0.15);\n",
              "      fill: #174EA6;\n",
              "    }\n",
              "\n",
              "    [theme=dark] .colab-df-convert {\n",
              "      background-color: #3B4455;\n",
              "      fill: #D2E3FC;\n",
              "    }\n",
              "\n",
              "    [theme=dark] .colab-df-convert:hover {\n",
              "      background-color: #434B5C;\n",
              "      box-shadow: 0px 1px 3px 1px rgba(0, 0, 0, 0.15);\n",
              "      filter: drop-shadow(0px 1px 2px rgba(0, 0, 0, 0.3));\n",
              "      fill: #FFFFFF;\n",
              "    }\n",
              "  </style>\n",
              "\n",
              "      <script>\n",
              "        const buttonEl =\n",
              "          document.querySelector('#df-d1d2eb8a-080b-4bfa-859c-6add7394f2cd button.colab-df-convert');\n",
              "        buttonEl.style.display =\n",
              "          google.colab.kernel.accessAllowed ? 'block' : 'none';\n",
              "\n",
              "        async function convertToInteractive(key) {\n",
              "          const element = document.querySelector('#df-d1d2eb8a-080b-4bfa-859c-6add7394f2cd');\n",
              "          const dataTable =\n",
              "            await google.colab.kernel.invokeFunction('convertToInteractive',\n",
              "                                                     [key], {});\n",
              "          if (!dataTable) return;\n",
              "\n",
              "          const docLinkHtml = 'Like what you see? Visit the ' +\n",
              "            '<a target=\"_blank\" href=https://colab.research.google.com/notebooks/data_table.ipynb>data table notebook</a>'\n",
              "            + ' to learn more about interactive tables.';\n",
              "          element.innerHTML = '';\n",
              "          dataTable['output_type'] = 'display_data';\n",
              "          await google.colab.output.renderOutput(dataTable, element);\n",
              "          const docLink = document.createElement('div');\n",
              "          docLink.innerHTML = docLinkHtml;\n",
              "          element.appendChild(docLink);\n",
              "        }\n",
              "      </script>\n",
              "    </div>\n",
              "  </div>\n",
              "  "
            ]
          },
          "metadata": {},
          "execution_count": 583
        }
      ]
    },
    {
      "cell_type": "code",
      "source": [
        "credit_record.isnull().sum(axis = 0)"
      ],
      "metadata": {
        "id": "qzWhaebaN5B8",
        "colab": {
          "base_uri": "https://localhost:8080/"
        },
        "outputId": "6633144b-33c9-41e1-8fe1-d955c2747f61"
      },
      "execution_count": 584,
      "outputs": [
        {
          "output_type": "execute_result",
          "data": {
            "text/plain": [
              "ID                0\n",
              "MONTHS_BALANCE    0\n",
              "STATUS            0\n",
              "dtype: int64"
            ]
          },
          "metadata": {},
          "execution_count": 584
        }
      ]
    },
    {
      "cell_type": "code",
      "source": [
        "credit_record[\"MONTHS_BALANCE\"].unique()"
      ],
      "metadata": {
        "colab": {
          "base_uri": "https://localhost:8080/"
        },
        "id": "gE-5bTetJYUq",
        "outputId": "7ae9ad36-2087-43a9-d836-1b0cd5b5dcd8"
      },
      "execution_count": 585,
      "outputs": [
        {
          "output_type": "execute_result",
          "data": {
            "text/plain": [
              "array([  0,  -1,  -2,  -3,  -4,  -5,  -6,  -7,  -8,  -9, -10, -11, -12,\n",
              "       -13, -14, -15, -16, -17, -18, -19, -20, -21, -22, -23, -24, -25,\n",
              "       -26, -27, -28, -29, -30, -31, -32, -33, -34, -35, -36, -37, -38,\n",
              "       -39, -40, -41, -42, -43, -44, -45, -46, -47, -48, -49, -50, -51,\n",
              "       -52, -53, -54, -55, -56, -57, -58, -59, -60])"
            ]
          },
          "metadata": {},
          "execution_count": 585
        }
      ]
    },
    {
      "cell_type": "code",
      "source": [
        "credit_record.STATUS.value_counts().plot(kind = \"bar\")\n",
        "plt.legend()"
      ],
      "metadata": {
        "colab": {
          "base_uri": "https://localhost:8080/",
          "height": 0
        },
        "id": "9NBTKX08NO9z",
        "outputId": "0ed1f6c8-260e-4930-deb1-cd9befdd458a"
      },
      "execution_count": 586,
      "outputs": [
        {
          "output_type": "execute_result",
          "data": {
            "text/plain": [
              "<matplotlib.legend.Legend at 0x7f72779366d0>"
            ]
          },
          "metadata": {},
          "execution_count": 586
        },
        {
          "output_type": "display_data",
          "data": {
            "text/plain": [
              "<Figure size 432x288 with 1 Axes>"
            ],
            "image/png": "[encoded data removed]"
          },
          "metadata": {
            "needs_background": "light"
          }
        }
      ]
    },
    {
      "cell_type": "markdown",
      "source": [
        "### Observations:\n",
        "\n",
        "\n",
        "*   Among all the credit records, most of the loans are paid or are due for a month\n",
        "* Few applicants has \n",
        "\n"
      ],
      "metadata": {
        "id": "YkYsHaQEE2EQ"
      }
    },
    {
      "cell_type": "markdown",
      "source": [
        "## 2.3 Comparing APPLICATION RECORD and CREDIT RECORD"
      ],
      "metadata": {
        "id": "MHUrGi1bAyZ3"
      }
    },
    {
      "cell_type": "code",
      "source": [
        "print(len(application_record.ID.unique()))\n",
        "print(len(credit_record.ID.unique()))"
      ],
      "metadata": {
        "colab": {
          "base_uri": "https://localhost:8080/"
        },
        "id": "K9JOJvwtAoSq",
        "outputId": "cbd6eda5-f117-4a73-fa6a-dbc2952a6039"
      },
      "execution_count": 587,
      "outputs": [
        {
          "output_type": "stream",
          "name": "stdout",
          "text": [
            "438510\n",
            "45985\n"
          ]
        }
      ]
    },
    {
      "cell_type": "code",
      "source": [
        "app_record_id_list = application_record.ID.unique()\n",
        "cred_record_id_list = credit_record.ID.unique()\n",
        "print(len(np.intersect1d(app_record_id_list, cred_record_id_list)))"
      ],
      "metadata": {
        "colab": {
          "base_uri": "https://localhost:8080/"
        },
        "id": "BuPsYfYWBITt",
        "outputId": "6371b885-1437-4c2d-fd79-de0098dc8a90"
      },
      "execution_count": 588,
      "outputs": [
        {
          "output_type": "stream",
          "name": "stdout",
          "text": [
            "36457\n"
          ]
        }
      ]
    },
    {
      "cell_type": "markdown",
      "source": [
        "### Observations:\n",
        "* There are a lot applicants who are applying for credit cards and does not have any prior loans.\n",
        "* Out of the 438,510 applicants, only 36,457 applicants had prior loan records.\n",
        "* So, for training our model, we will have 36,457 data points only."
      ],
      "metadata": {
        "id": "9WTKelXYW9tE"
      }
    },
    {
      "cell_type": "markdown",
      "source": [
        "# 3. FEATURE ENGINEERING"
      ],
      "metadata": {
        "id": "7_Ir3EboqWHr"
      }
    },
    {
      "cell_type": "markdown",
      "source": [
        "* Right now, we do not have any target variable with us. So our first task is to create the target variable. We will be able to create the target variable from the `credit_record` table.\n",
        "* Followed by that, we will merge the two tables and create our final data.\n",
        "* Now, we will split the data into train and test and then perform feature engineering on the dataset."
      ],
      "metadata": {
        "id": "FYrL7YBMNhx9"
      }
    },
    {
      "cell_type": "markdown",
      "source": [
        "## 3.1 CREDIT RECORD"
      ],
      "metadata": {
        "id": "dvQ96iET2mgp"
      }
    },
    {
      "cell_type": "markdown",
      "source": [
        "Now that, we do not have any target variable, we would like to generate the target variable from the `credit record` table. To do so,\n",
        "*  We will first classify the STATUS of each credit record into GOOD, BAD and NEUTRAL records. \n",
        "*  Followed by that, we will count the number of GOOD, BAD and NEUTRAL records for each ID.\n",
        "*  Now depending on the number of Good, Bad and Neutral records, we will classify each applicant either AS GOOD(1) or BAD(0).\n",
        "\n",
        "\n",
        "1.   #Good_Debt > #Neutral_Deb --> 1\n",
        "2. #Good_Debt > #Bad_Debt --> 1\n",
        "3.  #Neutral_Debt > #Good_Debt --> 0\n",
        "4.  #Neutral_Debt > #Bad_Debt --> 1\n",
        "5.  #Bad_Debt > #Good_Debt --> 0\n",
        "6.  #Bad_Debt > #Neutral_Debt --> 0\n",
        "\n",
        "\n",
        "The idea and the code for this credit_approval_status was taken from https://www.kaggle.com/code/tanulkumarsrivastava/99-4-accuracy-credit-card-approval-model \n"
      ],
      "metadata": {
        "id": "rKmEAeiLsGxP"
      }
    },
    {
      "cell_type": "code",
      "source": [
        ""
      ],
      "metadata": {
        "id": "vNX9JfH78VKp"
      },
      "execution_count": 588,
      "outputs": []
    },
    {
      "cell_type": "code",
      "source": [
        "convert_to = {'C' : 'Good_Debt', 'X' : 'Good_Debt', '0' : 'Good_Debt', '1' : 'Neutral_Debt', '2' : 'Neutral_Debt', '3' : 'Bad_Debt', '4' : 'Bad_Debt', '5' : 'Bad_Debt'}\n",
        "credit_record.replace({'STATUS' : convert_to}, inplace=True)\n",
        "print(credit_record.columns)\n",
        "credit_record.head()"
      ],
      "metadata": {
        "id": "arYg-IktqVg7",
        "colab": {
          "base_uri": "https://localhost:8080/",
          "height": 224
        },
        "outputId": "85c70154-5a07-41eb-ad28-6da45579cab0"
      },
      "execution_count": 589,
      "outputs": [
        {
          "output_type": "stream",
          "name": "stdout",
          "text": [
            "Index(['ID', 'MONTHS_BALANCE', 'STATUS'], dtype='object')\n"
          ]
        },
        {
          "output_type": "execute_result",
          "data": {
            "text/plain": [
              "        ID  MONTHS_BALANCE     STATUS\n",
              "0  5001711               0  Good_Debt\n",
              "1  5001711              -1  Good_Debt\n",
              "2  5001711              -2  Good_Debt\n",
              "3  5001711              -3  Good_Debt\n",
              "4  5001712               0  Good_Debt"
            ],
            "text/html": [
              "\n",
              "  <div id=\"df-1bfcc4c5-0232-436d-b668-99b9bef466b9\">\n",
              "    <div class=\"colab-df-container\">\n",
              "      <div>\n",
              "<style scoped>\n",
              "    .dataframe tbody tr th:only-of-type {\n",
              "        vertical-align: middle;\n",
              "    }\n",
              "\n",
              "    .dataframe tbody tr th {\n",
              "        vertical-align: top;\n",
              "    }\n",
              "\n",
              "    .dataframe thead th {\n",
              "        text-align: right;\n",
              "    }\n",
              "</style>\n",
              "<table border=\"1\" class=\"dataframe\">\n",
              "  <thead>\n",
              "    <tr style=\"text-align: right;\">\n",
              "      <th></th>\n",
              "      <th>ID</th>\n",
              "      <th>MONTHS_BALANCE</th>\n",
              "      <th>STATUS</th>\n",
              "    </tr>\n",
              "  </thead>\n",
              "  <tbody>\n",
              "    <tr>\n",
              "      <th>0</th>\n",
              "      <td>5001711</td>\n",
              "      <td>0</td>\n",
              "      <td>Good_Debt</td>\n",
              "    </tr>\n",
              "    <tr>\n",
              "      <th>1</th>\n",
              "      <td>5001711</td>\n",
              "      <td>-1</td>\n",
              "      <td>Good_Debt</td>\n",
              "    </tr>\n",
              "    <tr>\n",
              "      <th>2</th>\n",
              "      <td>5001711</td>\n",
              "      <td>-2</td>\n",
              "      <td>Good_Debt</td>\n",
              "    </tr>\n",
              "    <tr>\n",
              "      <th>3</th>\n",
              "      <td>5001711</td>\n",
              "      <td>-3</td>\n",
              "      <td>Good_Debt</td>\n",
              "    </tr>\n",
              "    <tr>\n",
              "      <th>4</th>\n",
              "      <td>5001712</td>\n",
              "      <td>0</td>\n",
              "      <td>Good_Debt</td>\n",
              "    </tr>\n",
              "  </tbody>\n",
              "</table>\n",
              "</div>\n",
              "      <button class=\"colab-df-convert\" onclick=\"convertToInteractive('df-1bfcc4c5-0232-436d-b668-99b9bef466b9')\"\n",
              "              title=\"Convert this dataframe to an interactive table.\"\n",
              "              style=\"display:none;\">\n",
              "        \n",
              "  <svg xmlns=\"http://www.w3.org/2000/svg\" height=\"24px\"viewBox=\"0 0 24 24\"\n",
              "       width=\"24px\">\n",
              "    <path d=\"M0 0h24v24H0V0z\" fill=\"none\"/>\n",
              "    <path d=\"M18.56 5.44l.94 2.06.94-2.06 2.06-.94-2.06-.94-.94-2.06-.94 2.06-2.06.94zm-11 1L8.5 8.5l.94-2.06 2.06-.94-2.06-.94L8.5 2.5l-.94 2.06-2.06.94zm10 10l.94 2.06.94-2.06 2.06-.94-2.06-.94-.94-2.06-.94 2.06-2.06.94z\"/><path d=\"M17.41 7.96l-1.37-1.37c-.4-.4-.92-.59-1.43-.59-.52 0-1.04.2-1.43.59L10.3 9.45l-7.72 7.72c-.78.78-.78 2.05 0 2.83L4 21.41c.39.39.9.59 1.41.59.51 0 1.02-.2 1.41-.59l7.78-7.78 2.81-2.81c.8-.78.8-2.07 0-2.86zM5.41 20L4 18.59l7.72-7.72 1.47 1.35L5.41 20z\"/>\n",
              "  </svg>\n",
              "      </button>\n",
              "      \n",
              "  <style>\n",
              "    .colab-df-container {\n",
              "      display:flex;\n",
              "      flex-wrap:wrap;\n",
              "      gap: 12px;\n",
              "    }\n",
              "\n",
              "    .colab-df-convert {\n",
              "      background-color: #E8F0FE;\n",
              "      border: none;\n",
              "      border-radius: 50%;\n",
              "      cursor: pointer;\n",
              "      display: none;\n",
              "      fill: #1967D2;\n",
              "      height: 32px;\n",
              "      padding: 0 0 0 0;\n",
              "      width: 32px;\n",
              "    }\n",
              "\n",
              "    .colab-df-convert:hover {\n",
              "      background-color: #E2EBFA;\n",
              "      box-shadow: 0px 1px 2px rgba(60, 64, 67, 0.3), 0px 1px 3px 1px rgba(60, 64, 67, 0.15);\n",
              "      fill: #174EA6;\n",
              "    }\n",
              "\n",
              "    [theme=dark] .colab-df-convert {\n",
              "      background-color: #3B4455;\n",
              "      fill: #D2E3FC;\n",
              "    }\n",
              "\n",
              "    [theme=dark] .colab-df-convert:hover {\n",
              "      background-color: #434B5C;\n",
              "      box-shadow: 0px 1px 3px 1px rgba(0, 0, 0, 0.15);\n",
              "      filter: drop-shadow(0px 1px 2px rgba(0, 0, 0, 0.3));\n",
              "      fill: #FFFFFF;\n",
              "    }\n",
              "  </style>\n",
              "\n",
              "      <script>\n",
              "        const buttonEl =\n",
              "          document.querySelector('#df-1bfcc4c5-0232-436d-b668-99b9bef466b9 button.colab-df-convert');\n",
              "        buttonEl.style.display =\n",
              "          google.colab.kernel.accessAllowed ? 'block' : 'none';\n",
              "\n",
              "        async function convertToInteractive(key) {\n",
              "          const element = document.querySelector('#df-1bfcc4c5-0232-436d-b668-99b9bef466b9');\n",
              "          const dataTable =\n",
              "            await google.colab.kernel.invokeFunction('convertToInteractive',\n",
              "                                                     [key], {});\n",
              "          if (!dataTable) return;\n",
              "\n",
              "          const docLinkHtml = 'Like what you see? Visit the ' +\n",
              "            '<a target=\"_blank\" href=https://colab.research.google.com/notebooks/data_table.ipynb>data table notebook</a>'\n",
              "            + ' to learn more about interactive tables.';\n",
              "          element.innerHTML = '';\n",
              "          dataTable['output_type'] = 'display_data';\n",
              "          await google.colab.output.renderOutput(dataTable, element);\n",
              "          const docLink = document.createElement('div');\n",
              "          docLink.innerHTML = docLinkHtml;\n",
              "          element.appendChild(docLink);\n",
              "        }\n",
              "      </script>\n",
              "    </div>\n",
              "  </div>\n",
              "  "
            ]
          },
          "metadata": {},
          "execution_count": 589
        }
      ]
    },
    {
      "cell_type": "code",
      "source": [
        "credit_record.to_csv('/content/drive/MyDrive/DATA SCIENCE/CASE STUDY 1/updated_credit_record.csv',index = False,encoding = 'utf-8')"
      ],
      "metadata": {
        "id": "yXkWpWdeE1Ej"
      },
      "execution_count": 590,
      "outputs": []
    },
    {
      "cell_type": "code",
      "source": [
        "credit_record = credit_record.value_counts(subset=['ID', 'STATUS']).unstack(fill_value=0)\n",
        "print(credit_record.columns)\n",
        "credit_record.head()"
      ],
      "metadata": {
        "id": "qZsjfgMgTTHH",
        "colab": {
          "base_uri": "https://localhost:8080/",
          "height": 256
        },
        "outputId": "92ed8873-5896-4aa6-d6d1-7c724656dd01"
      },
      "execution_count": 591,
      "outputs": [
        {
          "output_type": "stream",
          "name": "stdout",
          "text": [
            "Index(['Bad_Debt', 'Good_Debt', 'Neutral_Debt'], dtype='object', name='STATUS')\n"
          ]
        },
        {
          "output_type": "execute_result",
          "data": {
            "text/plain": [
              "STATUS   Bad_Debt  Good_Debt  Neutral_Debt\n",
              "ID                                        \n",
              "5001711         0          4             0\n",
              "5001712         0         19             0\n",
              "5001713         0         22             0\n",
              "5001714         0         15             0\n",
              "5001715         0         60             0"
            ],
            "text/html": [
              "\n",
              "  <div id=\"df-f8cc43ff-2a53-46dc-90bb-bb0e4b092b37\">\n",
              "    <div class=\"colab-df-container\">\n",
              "      <div>\n",
              "<style scoped>\n",
              "    .dataframe tbody tr th:only-of-type {\n",
              "        vertical-align: middle;\n",
              "    }\n",
              "\n",
              "    .dataframe tbody tr th {\n",
              "        vertical-align: top;\n",
              "    }\n",
              "\n",
              "    .dataframe thead th {\n",
              "        text-align: right;\n",
              "    }\n",
              "</style>\n",
              "<table border=\"1\" class=\"dataframe\">\n",
              "  <thead>\n",
              "    <tr style=\"text-align: right;\">\n",
              "      <th>STATUS</th>\n",
              "      <th>Bad_Debt</th>\n",
              "      <th>Good_Debt</th>\n",
              "      <th>Neutral_Debt</th>\n",
              "    </tr>\n",
              "    <tr>\n",
              "      <th>ID</th>\n",
              "      <th></th>\n",
              "      <th></th>\n",
              "      <th></th>\n",
              "    </tr>\n",
              "  </thead>\n",
              "  <tbody>\n",
              "    <tr>\n",
              "      <th>5001711</th>\n",
              "      <td>0</td>\n",
              "      <td>4</td>\n",
              "      <td>0</td>\n",
              "    </tr>\n",
              "    <tr>\n",
              "      <th>5001712</th>\n",
              "      <td>0</td>\n",
              "      <td>19</td>\n",
              "      <td>0</td>\n",
              "    </tr>\n",
              "    <tr>\n",
              "      <th>5001713</th>\n",
              "      <td>0</td>\n",
              "      <td>22</td>\n",
              "      <td>0</td>\n",
              "    </tr>\n",
              "    <tr>\n",
              "      <th>5001714</th>\n",
              "      <td>0</td>\n",
              "      <td>15</td>\n",
              "      <td>0</td>\n",
              "    </tr>\n",
              "    <tr>\n",
              "      <th>5001715</th>\n",
              "      <td>0</td>\n",
              "      <td>60</td>\n",
              "      <td>0</td>\n",
              "    </tr>\n",
              "  </tbody>\n",
              "</table>\n",
              "</div>\n",
              "      <button class=\"colab-df-convert\" onclick=\"convertToInteractive('df-f8cc43ff-2a53-46dc-90bb-bb0e4b092b37')\"\n",
              "              title=\"Convert this dataframe to an interactive table.\"\n",
              "              style=\"display:none;\">\n",
              "        \n",
              "  <svg xmlns=\"http://www.w3.org/2000/svg\" height=\"24px\"viewBox=\"0 0 24 24\"\n",
              "       width=\"24px\">\n",
              "    <path d=\"M0 0h24v24H0V0z\" fill=\"none\"/>\n",
              "    <path d=\"M18.56 5.44l.94 2.06.94-2.06 2.06-.94-2.06-.94-.94-2.06-.94 2.06-2.06.94zm-11 1L8.5 8.5l.94-2.06 2.06-.94-2.06-.94L8.5 2.5l-.94 2.06-2.06.94zm10 10l.94 2.06.94-2.06 2.06-.94-2.06-.94-.94-2.06-.94 2.06-2.06.94z\"/><path d=\"M17.41 7.96l-1.37-1.37c-.4-.4-.92-.59-1.43-.59-.52 0-1.04.2-1.43.59L10.3 9.45l-7.72 7.72c-.78.78-.78 2.05 0 2.83L4 21.41c.39.39.9.59 1.41.59.51 0 1.02-.2 1.41-.59l7.78-7.78 2.81-2.81c.8-.78.8-2.07 0-2.86zM5.41 20L4 18.59l7.72-7.72 1.47 1.35L5.41 20z\"/>\n",
              "  </svg>\n",
              "      </button>\n",
              "      \n",
              "  <style>\n",
              "    .colab-df-container {\n",
              "      display:flex;\n",
              "      flex-wrap:wrap;\n",
              "      gap: 12px;\n",
              "    }\n",
              "\n",
              "    .colab-df-convert {\n",
              "      background-color: #E8F0FE;\n",
              "      border: none;\n",
              "      border-radius: 50%;\n",
              "      cursor: pointer;\n",
              "      display: none;\n",
              "      fill: #1967D2;\n",
              "      height: 32px;\n",
              "      padding: 0 0 0 0;\n",
              "      width: 32px;\n",
              "    }\n",
              "\n",
              "    .colab-df-convert:hover {\n",
              "      background-color: #E2EBFA;\n",
              "      box-shadow: 0px 1px 2px rgba(60, 64, 67, 0.3), 0px 1px 3px 1px rgba(60, 64, 67, 0.15);\n",
              "      fill: #174EA6;\n",
              "    }\n",
              "\n",
              "    [theme=dark] .colab-df-convert {\n",
              "      background-color: #3B4455;\n",
              "      fill: #D2E3FC;\n",
              "    }\n",
              "\n",
              "    [theme=dark] .colab-df-convert:hover {\n",
              "      background-color: #434B5C;\n",
              "      box-shadow: 0px 1px 3px 1px rgba(0, 0, 0, 0.15);\n",
              "      filter: drop-shadow(0px 1px 2px rgba(0, 0, 0, 0.3));\n",
              "      fill: #FFFFFF;\n",
              "    }\n",
              "  </style>\n",
              "\n",
              "      <script>\n",
              "        const buttonEl =\n",
              "          document.querySelector('#df-f8cc43ff-2a53-46dc-90bb-bb0e4b092b37 button.colab-df-convert');\n",
              "        buttonEl.style.display =\n",
              "          google.colab.kernel.accessAllowed ? 'block' : 'none';\n",
              "\n",
              "        async function convertToInteractive(key) {\n",
              "          const element = document.querySelector('#df-f8cc43ff-2a53-46dc-90bb-bb0e4b092b37');\n",
              "          const dataTable =\n",
              "            await google.colab.kernel.invokeFunction('convertToInteractive',\n",
              "                                                     [key], {});\n",
              "          if (!dataTable) return;\n",
              "\n",
              "          const docLinkHtml = 'Like what you see? Visit the ' +\n",
              "            '<a target=\"_blank\" href=https://colab.research.google.com/notebooks/data_table.ipynb>data table notebook</a>'\n",
              "            + ' to learn more about interactive tables.';\n",
              "          element.innerHTML = '';\n",
              "          dataTable['output_type'] = 'display_data';\n",
              "          await google.colab.output.renderOutput(dataTable, element);\n",
              "          const docLink = document.createElement('div');\n",
              "          docLink.innerHTML = docLinkHtml;\n",
              "          element.appendChild(docLink);\n",
              "        }\n",
              "      </script>\n",
              "    </div>\n",
              "  </div>\n",
              "  "
            ]
          },
          "metadata": {},
          "execution_count": 591
        }
      ]
    },
    {
      "cell_type": "code",
      "source": [
        "credit_record.loc[(credit_record['Good_Debt'] > credit_record['Neutral_Debt']), 'CREDIT_APPROVAL_STATUS'] = 1\n",
        "credit_record.loc[(credit_record['Good_Debt'] > credit_record['Bad_Debt']), 'CREDIT_APPROVAL_STATUS'] = 1\n",
        "credit_record.loc[(credit_record['Neutral_Debt'] > credit_record['Good_Debt']), 'CREDIT_APPROVAL_STATUS'] = 0\n",
        "credit_record.loc[(credit_record['Neutral_Debt'] > credit_record['Bad_Debt']), 'CREDIT_APPROVAL_STATUS'] = 1\n",
        "credit_record.loc[(credit_record['Bad_Debt'] > credit_record['Good_Debt']), 'CREDIT_APPROVAL_STATUS'] = 0\n",
        "credit_record.loc[(credit_record['Bad_Debt'] > credit_record['Neutral_Debt']), 'CREDIT_APPROVAL_STATUS'] = 0"
      ],
      "metadata": {
        "id": "gbZN6L7Yx9t7"
      },
      "execution_count": 592,
      "outputs": []
    },
    {
      "cell_type": "code",
      "source": [
        "credit_record.head()"
      ],
      "metadata": {
        "id": "9uMxzyHGyDrs",
        "colab": {
          "base_uri": "https://localhost:8080/",
          "height": 237
        },
        "outputId": "738771e2-21b6-4bff-b882-9a1250bf8476"
      },
      "execution_count": 593,
      "outputs": [
        {
          "output_type": "execute_result",
          "data": {
            "text/plain": [
              "STATUS   Bad_Debt  Good_Debt  Neutral_Debt  CREDIT_APPROVAL_STATUS\n",
              "ID                                                                \n",
              "5001711         0          4             0                     1.0\n",
              "5001712         0         19             0                     1.0\n",
              "5001713         0         22             0                     1.0\n",
              "5001714         0         15             0                     1.0\n",
              "5001715         0         60             0                     1.0"
            ],
            "text/html": [
              "\n",
              "  <div id=\"df-71db869b-fd80-42b2-9f08-01f575223301\">\n",
              "    <div class=\"colab-df-container\">\n",
              "      <div>\n",
              "<style scoped>\n",
              "    .dataframe tbody tr th:only-of-type {\n",
              "        vertical-align: middle;\n",
              "    }\n",
              "\n",
              "    .dataframe tbody tr th {\n",
              "        vertical-align: top;\n",
              "    }\n",
              "\n",
              "    .dataframe thead th {\n",
              "        text-align: right;\n",
              "    }\n",
              "</style>\n",
              "<table border=\"1\" class=\"dataframe\">\n",
              "  <thead>\n",
              "    <tr style=\"text-align: right;\">\n",
              "      <th>STATUS</th>\n",
              "      <th>Bad_Debt</th>\n",
              "      <th>Good_Debt</th>\n",
              "      <th>Neutral_Debt</th>\n",
              "      <th>CREDIT_APPROVAL_STATUS</th>\n",
              "    </tr>\n",
              "    <tr>\n",
              "      <th>ID</th>\n",
              "      <th></th>\n",
              "      <th></th>\n",
              "      <th></th>\n",
              "      <th></th>\n",
              "    </tr>\n",
              "  </thead>\n",
              "  <tbody>\n",
              "    <tr>\n",
              "      <th>5001711</th>\n",
              "      <td>0</td>\n",
              "      <td>4</td>\n",
              "      <td>0</td>\n",
              "      <td>1.0</td>\n",
              "    </tr>\n",
              "    <tr>\n",
              "      <th>5001712</th>\n",
              "      <td>0</td>\n",
              "      <td>19</td>\n",
              "      <td>0</td>\n",
              "      <td>1.0</td>\n",
              "    </tr>\n",
              "    <tr>\n",
              "      <th>5001713</th>\n",
              "      <td>0</td>\n",
              "      <td>22</td>\n",
              "      <td>0</td>\n",
              "      <td>1.0</td>\n",
              "    </tr>\n",
              "    <tr>\n",
              "      <th>5001714</th>\n",
              "      <td>0</td>\n",
              "      <td>15</td>\n",
              "      <td>0</td>\n",
              "      <td>1.0</td>\n",
              "    </tr>\n",
              "    <tr>\n",
              "      <th>5001715</th>\n",
              "      <td>0</td>\n",
              "      <td>60</td>\n",
              "      <td>0</td>\n",
              "      <td>1.0</td>\n",
              "    </tr>\n",
              "  </tbody>\n",
              "</table>\n",
              "</div>\n",
              "      <button class=\"colab-df-convert\" onclick=\"convertToInteractive('df-71db869b-fd80-42b2-9f08-01f575223301')\"\n",
              "              title=\"Convert this dataframe to an interactive table.\"\n",
              "              style=\"display:none;\">\n",
              "        \n",
              "  <svg xmlns=\"http://www.w3.org/2000/svg\" height=\"24px\"viewBox=\"0 0 24 24\"\n",
              "       width=\"24px\">\n",
              "    <path d=\"M0 0h24v24H0V0z\" fill=\"none\"/>\n",
              "    <path d=\"M18.56 5.44l.94 2.06.94-2.06 2.06-.94-2.06-.94-.94-2.06-.94 2.06-2.06.94zm-11 1L8.5 8.5l.94-2.06 2.06-.94-2.06-.94L8.5 2.5l-.94 2.06-2.06.94zm10 10l.94 2.06.94-2.06 2.06-.94-2.06-.94-.94-2.06-.94 2.06-2.06.94z\"/><path d=\"M17.41 7.96l-1.37-1.37c-.4-.4-.92-.59-1.43-.59-.52 0-1.04.2-1.43.59L10.3 9.45l-7.72 7.72c-.78.78-.78 2.05 0 2.83L4 21.41c.39.39.9.59 1.41.59.51 0 1.02-.2 1.41-.59l7.78-7.78 2.81-2.81c.8-.78.8-2.07 0-2.86zM5.41 20L4 18.59l7.72-7.72 1.47 1.35L5.41 20z\"/>\n",
              "  </svg>\n",
              "      </button>\n",
              "      \n",
              "  <style>\n",
              "    .colab-df-container {\n",
              "      display:flex;\n",
              "      flex-wrap:wrap;\n",
              "      gap: 12px;\n",
              "    }\n",
              "\n",
              "    .colab-df-convert {\n",
              "      background-color: #E8F0FE;\n",
              "      border: none;\n",
              "      border-radius: 50%;\n",
              "      cursor: pointer;\n",
              "      display: none;\n",
              "      fill: #1967D2;\n",
              "      height: 32px;\n",
              "      padding: 0 0 0 0;\n",
              "      width: 32px;\n",
              "    }\n",
              "\n",
              "    .colab-df-convert:hover {\n",
              "      background-color: #E2EBFA;\n",
              "      box-shadow: 0px 1px 2px rgba(60, 64, 67, 0.3), 0px 1px 3px 1px rgba(60, 64, 67, 0.15);\n",
              "      fill: #174EA6;\n",
              "    }\n",
              "\n",
              "    [theme=dark] .colab-df-convert {\n",
              "      background-color: #3B4455;\n",
              "      fill: #D2E3FC;\n",
              "    }\n",
              "\n",
              "    [theme=dark] .colab-df-convert:hover {\n",
              "      background-color: #434B5C;\n",
              "      box-shadow: 0px 1px 3px 1px rgba(0, 0, 0, 0.15);\n",
              "      filter: drop-shadow(0px 1px 2px rgba(0, 0, 0, 0.3));\n",
              "      fill: #FFFFFF;\n",
              "    }\n",
              "  </style>\n",
              "\n",
              "      <script>\n",
              "        const buttonEl =\n",
              "          document.querySelector('#df-71db869b-fd80-42b2-9f08-01f575223301 button.colab-df-convert');\n",
              "        buttonEl.style.display =\n",
              "          google.colab.kernel.accessAllowed ? 'block' : 'none';\n",
              "\n",
              "        async function convertToInteractive(key) {\n",
              "          const element = document.querySelector('#df-71db869b-fd80-42b2-9f08-01f575223301');\n",
              "          const dataTable =\n",
              "            await google.colab.kernel.invokeFunction('convertToInteractive',\n",
              "                                                     [key], {});\n",
              "          if (!dataTable) return;\n",
              "\n",
              "          const docLinkHtml = 'Like what you see? Visit the ' +\n",
              "            '<a target=\"_blank\" href=https://colab.research.google.com/notebooks/data_table.ipynb>data table notebook</a>'\n",
              "            + ' to learn more about interactive tables.';\n",
              "          element.innerHTML = '';\n",
              "          dataTable['output_type'] = 'display_data';\n",
              "          await google.colab.output.renderOutput(dataTable, element);\n",
              "          const docLink = document.createElement('div');\n",
              "          docLink.innerHTML = docLinkHtml;\n",
              "          element.appendChild(docLink);\n",
              "        }\n",
              "      </script>\n",
              "    </div>\n",
              "  </div>\n",
              "  "
            ]
          },
          "metadata": {},
          "execution_count": 593
        }
      ]
    },
    {
      "cell_type": "code",
      "source": [
        "credit_record.columns"
      ],
      "metadata": {
        "id": "FmCxnLWd8Jib",
        "colab": {
          "base_uri": "https://localhost:8080/"
        },
        "outputId": "29e7d434-1ef5-4c48-f527-66e2049aae2c"
      },
      "execution_count": 594,
      "outputs": [
        {
          "output_type": "execute_result",
          "data": {
            "text/plain": [
              "Index(['Bad_Debt', 'Good_Debt', 'Neutral_Debt', 'CREDIT_APPROVAL_STATUS'], dtype='object', name='STATUS')"
            ]
          },
          "metadata": {},
          "execution_count": 594
        }
      ]
    },
    {
      "cell_type": "code",
      "source": [
        ""
      ],
      "metadata": {
        "id": "RddAt0kl1E0t"
      },
      "execution_count": 594,
      "outputs": []
    },
    {
      "cell_type": "markdown",
      "source": [
        ""
      ],
      "metadata": {
        "id": "Oeu4o4fOKbuC"
      }
    },
    {
      "cell_type": "markdown",
      "source": [
        "## 3.2 Merging Application Record and Credit Record"
      ],
      "metadata": {
        "id": "fIF3GJ4rF5lM"
      }
    },
    {
      "cell_type": "code",
      "source": [
        "merged_data = application_record.merge(credit_record, how='inner', on=['ID'])\n",
        "print(merged_data.columns)\n",
        "print(merged_data.shape)\n",
        "merged_data.head()"
      ],
      "metadata": {
        "colab": {
          "base_uri": "https://localhost:8080/",
          "height": 498
        },
        "id": "IZxhiVF5JD0W",
        "outputId": "5632cf9a-82b8-4d45-dbf7-3da8937366a0"
      },
      "execution_count": 595,
      "outputs": [
        {
          "output_type": "stream",
          "name": "stdout",
          "text": [
            "Index(['ID', 'CODE_GENDER', 'FLAG_OWN_CAR', 'FLAG_OWN_REALTY', 'CNT_CHILDREN',\n",
            "       'AMT_INCOME_TOTAL', 'NAME_INCOME_TYPE', 'NAME_EDUCATION_TYPE',\n",
            "       'NAME_FAMILY_STATUS', 'NAME_HOUSING_TYPE', 'AGE', 'FLAG_MOBIL',\n",
            "       'FLAG_WORK_PHONE', 'FLAG_PHONE', 'FLAG_EMAIL', 'OCCUPATION_TYPE',\n",
            "       'CNT_FAM_MEMBERS', 'YEARS_EMPLOYED', 'Bad_Debt', 'Good_Debt',\n",
            "       'Neutral_Debt', 'CREDIT_APPROVAL_STATUS'],\n",
            "      dtype='object')\n",
            "(36457, 22)\n"
          ]
        },
        {
          "output_type": "execute_result",
          "data": {
            "text/plain": [
              "        ID CODE_GENDER FLAG_OWN_CAR FLAG_OWN_REALTY  CNT_CHILDREN  \\\n",
              "0  5008804           M            Y               Y             0   \n",
              "1  5008805           M            Y               Y             0   \n",
              "2  5008806           M            Y               Y             0   \n",
              "3  5008808           F            N               Y             0   \n",
              "4  5008809           F            N               Y             0   \n",
              "\n",
              "   AMT_INCOME_TOTAL      NAME_INCOME_TYPE            NAME_EDUCATION_TYPE  \\\n",
              "0          427500.0               Working               Higher education   \n",
              "1          427500.0               Working               Higher education   \n",
              "2          112500.0               Working  Secondary / secondary special   \n",
              "3          270000.0  Commercial associate  Secondary / secondary special   \n",
              "4          270000.0  Commercial associate  Secondary / secondary special   \n",
              "\n",
              "     NAME_FAMILY_STATUS  NAME_HOUSING_TYPE  ...  FLAG_WORK_PHONE  FLAG_PHONE  \\\n",
              "0        Civil marriage   Rented apartment  ...                1           0   \n",
              "1        Civil marriage   Rented apartment  ...                1           0   \n",
              "2               Married  House / apartment  ...                0           0   \n",
              "3  Single / not married  House / apartment  ...                0           1   \n",
              "4  Single / not married  House / apartment  ...                0           1   \n",
              "\n",
              "   FLAG_EMAIL  OCCUPATION_TYPE  CNT_FAM_MEMBERS YEARS_EMPLOYED  Bad_Debt  \\\n",
              "0           0              NAN              2.0             12         0   \n",
              "1           0              NAN              2.0             12         0   \n",
              "2           0   Security staff              2.0              3         0   \n",
              "3           1      Sales staff              1.0              8         0   \n",
              "4           1      Sales staff              1.0              8         0   \n",
              "\n",
              "   Good_Debt  Neutral_Debt  CREDIT_APPROVAL_STATUS  \n",
              "0         15             1                     1.0  \n",
              "1         14             1                     1.0  \n",
              "2         30             0                     1.0  \n",
              "3          5             0                     1.0  \n",
              "4          5             0                     1.0  \n",
              "\n",
              "[5 rows x 22 columns]"
            ],
            "text/html": [
              "\n",
              "  <div id=\"df-3a739804-122d-4c62-b784-a7f711787307\">\n",
              "    <div class=\"colab-df-container\">\n",
              "      <div>\n",
              "<style scoped>\n",
              "    .dataframe tbody tr th:only-of-type {\n",
              "        vertical-align: middle;\n",
              "    }\n",
              "\n",
              "    .dataframe tbody tr th {\n",
              "        vertical-align: top;\n",
              "    }\n",
              "\n",
              "    .dataframe thead th {\n",
              "        text-align: right;\n",
              "    }\n",
              "</style>\n",
              "<table border=\"1\" class=\"dataframe\">\n",
              "  <thead>\n",
              "    <tr style=\"text-align: right;\">\n",
              "      <th></th>\n",
              "      <th>ID</th>\n",
              "      <th>CODE_GENDER</th>\n",
              "      <th>FLAG_OWN_CAR</th>\n",
              "      <th>FLAG_OWN_REALTY</th>\n",
              "      <th>CNT_CHILDREN</th>\n",
              "      <th>AMT_INCOME_TOTAL</th>\n",
              "      <th>NAME_INCOME_TYPE</th>\n",
              "      <th>NAME_EDUCATION_TYPE</th>\n",
              "      <th>NAME_FAMILY_STATUS</th>\n",
              "      <th>NAME_HOUSING_TYPE</th>\n",
              "      <th>...</th>\n",
              "      <th>FLAG_WORK_PHONE</th>\n",
              "      <th>FLAG_PHONE</th>\n",
              "      <th>FLAG_EMAIL</th>\n",
              "      <th>OCCUPATION_TYPE</th>\n",
              "      <th>CNT_FAM_MEMBERS</th>\n",
              "      <th>YEARS_EMPLOYED</th>\n",
              "      <th>Bad_Debt</th>\n",
              "      <th>Good_Debt</th>\n",
              "      <th>Neutral_Debt</th>\n",
              "      <th>CREDIT_APPROVAL_STATUS</th>\n",
              "    </tr>\n",
              "  </thead>\n",
              "  <tbody>\n",
              "    <tr>\n",
              "      <th>0</th>\n",
              "      <td>5008804</td>\n",
              "      <td>M</td>\n",
              "      <td>Y</td>\n",
              "      <td>Y</td>\n",
              "      <td>0</td>\n",
              "      <td>427500.0</td>\n",
              "      <td>Working</td>\n",
              "      <td>Higher education</td>\n",
              "      <td>Civil marriage</td>\n",
              "      <td>Rented apartment</td>\n",
              "      <td>...</td>\n",
              "      <td>1</td>\n",
              "      <td>0</td>\n",
              "      <td>0</td>\n",
              "      <td>NAN</td>\n",
              "      <td>2.0</td>\n",
              "      <td>12</td>\n",
              "      <td>0</td>\n",
              "      <td>15</td>\n",
              "      <td>1</td>\n",
              "      <td>1.0</td>\n",
              "    </tr>\n",
              "    <tr>\n",
              "      <th>1</th>\n",
              "      <td>5008805</td>\n",
              "      <td>M</td>\n",
              "      <td>Y</td>\n",
              "      <td>Y</td>\n",
              "      <td>0</td>\n",
              "      <td>427500.0</td>\n",
              "      <td>Working</td>\n",
              "      <td>Higher education</td>\n",
              "      <td>Civil marriage</td>\n",
              "      <td>Rented apartment</td>\n",
              "      <td>...</td>\n",
              "      <td>1</td>\n",
              "      <td>0</td>\n",
              "      <td>0</td>\n",
              "      <td>NAN</td>\n",
              "      <td>2.0</td>\n",
              "      <td>12</td>\n",
              "      <td>0</td>\n",
              "      <td>14</td>\n",
              "      <td>1</td>\n",
              "      <td>1.0</td>\n",
              "    </tr>\n",
              "    <tr>\n",
              "      <th>2</th>\n",
              "      <td>5008806</td>\n",
              "      <td>M</td>\n",
              "      <td>Y</td>\n",
              "      <td>Y</td>\n",
              "      <td>0</td>\n",
              "      <td>112500.0</td>\n",
              "      <td>Working</td>\n",
              "      <td>Secondary / secondary special</td>\n",
              "      <td>Married</td>\n",
              "      <td>House / apartment</td>\n",
              "      <td>...</td>\n",
              "      <td>0</td>\n",
              "      <td>0</td>\n",
              "      <td>0</td>\n",
              "      <td>Security staff</td>\n",
              "      <td>2.0</td>\n",
              "      <td>3</td>\n",
              "      <td>0</td>\n",
              "      <td>30</td>\n",
              "      <td>0</td>\n",
              "      <td>1.0</td>\n",
              "    </tr>\n",
              "    <tr>\n",
              "      <th>3</th>\n",
              "      <td>5008808</td>\n",
              "      <td>F</td>\n",
              "      <td>N</td>\n",
              "      <td>Y</td>\n",
              "      <td>0</td>\n",
              "      <td>270000.0</td>\n",
              "      <td>Commercial associate</td>\n",
              "      <td>Secondary / secondary special</td>\n",
              "      <td>Single / not married</td>\n",
              "      <td>House / apartment</td>\n",
              "      <td>...</td>\n",
              "      <td>0</td>\n",
              "      <td>1</td>\n",
              "      <td>1</td>\n",
              "      <td>Sales staff</td>\n",
              "      <td>1.0</td>\n",
              "      <td>8</td>\n",
              "      <td>0</td>\n",
              "      <td>5</td>\n",
              "      <td>0</td>\n",
              "      <td>1.0</td>\n",
              "    </tr>\n",
              "    <tr>\n",
              "      <th>4</th>\n",
              "      <td>5008809</td>\n",
              "      <td>F</td>\n",
              "      <td>N</td>\n",
              "      <td>Y</td>\n",
              "      <td>0</td>\n",
              "      <td>270000.0</td>\n",
              "      <td>Commercial associate</td>\n",
              "      <td>Secondary / secondary special</td>\n",
              "      <td>Single / not married</td>\n",
              "      <td>House / apartment</td>\n",
              "      <td>...</td>\n",
              "      <td>0</td>\n",
              "      <td>1</td>\n",
              "      <td>1</td>\n",
              "      <td>Sales staff</td>\n",
              "      <td>1.0</td>\n",
              "      <td>8</td>\n",
              "      <td>0</td>\n",
              "      <td>5</td>\n",
              "      <td>0</td>\n",
              "      <td>1.0</td>\n",
              "    </tr>\n",
              "  </tbody>\n",
              "</table>\n",
              "<p>5 rows × 22 columns</p>\n",
              "</div>\n",
              "      <button class=\"colab-df-convert\" onclick=\"convertToInteractive('df-3a739804-122d-4c62-b784-a7f711787307')\"\n",
              "              title=\"Convert this dataframe to an interactive table.\"\n",
              "              style=\"display:none;\">\n",
              "        \n",
              "  <svg xmlns=\"http://www.w3.org/2000/svg\" height=\"24px\"viewBox=\"0 0 24 24\"\n",
              "       width=\"24px\">\n",
              "    <path d=\"M0 0h24v24H0V0z\" fill=\"none\"/>\n",
              "    <path d=\"M18.56 5.44l.94 2.06.94-2.06 2.06-.94-2.06-.94-.94-2.06-.94 2.06-2.06.94zm-11 1L8.5 8.5l.94-2.06 2.06-.94-2.06-.94L8.5 2.5l-.94 2.06-2.06.94zm10 10l.94 2.06.94-2.06 2.06-.94-2.06-.94-.94-2.06-.94 2.06-2.06.94z\"/><path d=\"M17.41 7.96l-1.37-1.37c-.4-.4-.92-.59-1.43-.59-.52 0-1.04.2-1.43.59L10.3 9.45l-7.72 7.72c-.78.78-.78 2.05 0 2.83L4 21.41c.39.39.9.59 1.41.59.51 0 1.02-.2 1.41-.59l7.78-7.78 2.81-2.81c.8-.78.8-2.07 0-2.86zM5.41 20L4 18.59l7.72-7.72 1.47 1.35L5.41 20z\"/>\n",
              "  </svg>\n",
              "      </button>\n",
              "      \n",
              "  <style>\n",
              "    .colab-df-container {\n",
              "      display:flex;\n",
              "      flex-wrap:wrap;\n",
              "      gap: 12px;\n",
              "    }\n",
              "\n",
              "    .colab-df-convert {\n",
              "      background-color: #E8F0FE;\n",
              "      border: none;\n",
              "      border-radius: 50%;\n",
              "      cursor: pointer;\n",
              "      display: none;\n",
              "      fill: #1967D2;\n",
              "      height: 32px;\n",
              "      padding: 0 0 0 0;\n",
              "      width: 32px;\n",
              "    }\n",
              "\n",
              "    .colab-df-convert:hover {\n",
              "      background-color: #E2EBFA;\n",
              "      box-shadow: 0px 1px 2px rgba(60, 64, 67, 0.3), 0px 1px 3px 1px rgba(60, 64, 67, 0.15);\n",
              "      fill: #174EA6;\n",
              "    }\n",
              "\n",
              "    [theme=dark] .colab-df-convert {\n",
              "      background-color: #3B4455;\n",
              "      fill: #D2E3FC;\n",
              "    }\n",
              "\n",
              "    [theme=dark] .colab-df-convert:hover {\n",
              "      background-color: #434B5C;\n",
              "      box-shadow: 0px 1px 3px 1px rgba(0, 0, 0, 0.15);\n",
              "      filter: drop-shadow(0px 1px 2px rgba(0, 0, 0, 0.3));\n",
              "      fill: #FFFFFF;\n",
              "    }\n",
              "  </style>\n",
              "\n",
              "      <script>\n",
              "        const buttonEl =\n",
              "          document.querySelector('#df-3a739804-122d-4c62-b784-a7f711787307 button.colab-df-convert');\n",
              "        buttonEl.style.display =\n",
              "          google.colab.kernel.accessAllowed ? 'block' : 'none';\n",
              "\n",
              "        async function convertToInteractive(key) {\n",
              "          const element = document.querySelector('#df-3a739804-122d-4c62-b784-a7f711787307');\n",
              "          const dataTable =\n",
              "            await google.colab.kernel.invokeFunction('convertToInteractive',\n",
              "                                                     [key], {});\n",
              "          if (!dataTable) return;\n",
              "\n",
              "          const docLinkHtml = 'Like what you see? Visit the ' +\n",
              "            '<a target=\"_blank\" href=https://colab.research.google.com/notebooks/data_table.ipynb>data table notebook</a>'\n",
              "            + ' to learn more about interactive tables.';\n",
              "          element.innerHTML = '';\n",
              "          dataTable['output_type'] = 'display_data';\n",
              "          await google.colab.output.renderOutput(dataTable, element);\n",
              "          const docLink = document.createElement('div');\n",
              "          docLink.innerHTML = docLinkHtml;\n",
              "          element.appendChild(docLink);\n",
              "        }\n",
              "      </script>\n",
              "    </div>\n",
              "  </div>\n",
              "  "
            ]
          },
          "metadata": {},
          "execution_count": 595
        }
      ]
    },
    {
      "cell_type": "code",
      "source": [
        "merged_data.to_csv('/content/drive/MyDrive/DATA SCIENCE/CASE STUDY 1/merged_data.csv',index = False,encoding = 'utf-8')"
      ],
      "metadata": {
        "id": "1WZjw7H2_KRa"
      },
      "execution_count": 596,
      "outputs": []
    },
    {
      "cell_type": "markdown",
      "source": [
        "## 3.3 Train Test Split"
      ],
      "metadata": {
        "id": "soQSys1e2umh"
      }
    },
    {
      "cell_type": "code",
      "source": [
        "df = pd.read_csv('/content/drive/MyDrive/DATA SCIENCE/CASE STUDY 1/merged_data.csv')\n",
        "print(df.columns)\n",
        "print(df.shape)\n",
        "df.head()"
      ],
      "metadata": {
        "colab": {
          "base_uri": "https://localhost:8080/",
          "height": 498
        },
        "id": "0S6LqBzlMe7w",
        "outputId": "2d04cb90-7f8c-4c3b-d52a-8abceb4fa7ee"
      },
      "execution_count": 597,
      "outputs": [
        {
          "output_type": "stream",
          "name": "stdout",
          "text": [
            "Index(['ID', 'CODE_GENDER', 'FLAG_OWN_CAR', 'FLAG_OWN_REALTY', 'CNT_CHILDREN',\n",
            "       'AMT_INCOME_TOTAL', 'NAME_INCOME_TYPE', 'NAME_EDUCATION_TYPE',\n",
            "       'NAME_FAMILY_STATUS', 'NAME_HOUSING_TYPE', 'AGE', 'FLAG_MOBIL',\n",
            "       'FLAG_WORK_PHONE', 'FLAG_PHONE', 'FLAG_EMAIL', 'OCCUPATION_TYPE',\n",
            "       'CNT_FAM_MEMBERS', 'YEARS_EMPLOYED', 'Bad_Debt', 'Good_Debt',\n",
            "       'Neutral_Debt', 'CREDIT_APPROVAL_STATUS'],\n",
            "      dtype='object')\n",
            "(36457, 22)\n"
          ]
        },
        {
          "output_type": "execute_result",
          "data": {
            "text/plain": [
              "        ID CODE_GENDER FLAG_OWN_CAR FLAG_OWN_REALTY  CNT_CHILDREN  \\\n",
              "0  5008804           M            Y               Y             0   \n",
              "1  5008805           M            Y               Y             0   \n",
              "2  5008806           M            Y               Y             0   \n",
              "3  5008808           F            N               Y             0   \n",
              "4  5008809           F            N               Y             0   \n",
              "\n",
              "   AMT_INCOME_TOTAL      NAME_INCOME_TYPE            NAME_EDUCATION_TYPE  \\\n",
              "0          427500.0               Working               Higher education   \n",
              "1          427500.0               Working               Higher education   \n",
              "2          112500.0               Working  Secondary / secondary special   \n",
              "3          270000.0  Commercial associate  Secondary / secondary special   \n",
              "4          270000.0  Commercial associate  Secondary / secondary special   \n",
              "\n",
              "     NAME_FAMILY_STATUS  NAME_HOUSING_TYPE  ...  FLAG_WORK_PHONE  FLAG_PHONE  \\\n",
              "0        Civil marriage   Rented apartment  ...                1           0   \n",
              "1        Civil marriage   Rented apartment  ...                1           0   \n",
              "2               Married  House / apartment  ...                0           0   \n",
              "3  Single / not married  House / apartment  ...                0           1   \n",
              "4  Single / not married  House / apartment  ...                0           1   \n",
              "\n",
              "   FLAG_EMAIL  OCCUPATION_TYPE  CNT_FAM_MEMBERS YEARS_EMPLOYED  Bad_Debt  \\\n",
              "0           0              NAN              2.0             12         0   \n",
              "1           0              NAN              2.0             12         0   \n",
              "2           0   Security staff              2.0              3         0   \n",
              "3           1      Sales staff              1.0              8         0   \n",
              "4           1      Sales staff              1.0              8         0   \n",
              "\n",
              "   Good_Debt  Neutral_Debt  CREDIT_APPROVAL_STATUS  \n",
              "0         15             1                     1.0  \n",
              "1         14             1                     1.0  \n",
              "2         30             0                     1.0  \n",
              "3          5             0                     1.0  \n",
              "4          5             0                     1.0  \n",
              "\n",
              "[5 rows x 22 columns]"
            ],
            "text/html": [
              "\n",
              "  <div id=\"df-0c6e041b-4f31-4a2d-bda5-e92472ab19ab\">\n",
              "    <div class=\"colab-df-container\">\n",
              "      <div>\n",
              "<style scoped>\n",
              "    .dataframe tbody tr th:only-of-type {\n",
              "        vertical-align: middle;\n",
              "    }\n",
              "\n",
              "    .dataframe tbody tr th {\n",
              "        vertical-align: top;\n",
              "    }\n",
              "\n",
              "    .dataframe thead th {\n",
              "        text-align: right;\n",
              "    }\n",
              "</style>\n",
              "<table border=\"1\" class=\"dataframe\">\n",
              "  <thead>\n",
              "    <tr style=\"text-align: right;\">\n",
              "      <th></th>\n",
              "      <th>ID</th>\n",
              "      <th>CODE_GENDER</th>\n",
              "      <th>FLAG_OWN_CAR</th>\n",
              "      <th>FLAG_OWN_REALTY</th>\n",
              "      <th>CNT_CHILDREN</th>\n",
              "      <th>AMT_INCOME_TOTAL</th>\n",
              "      <th>NAME_INCOME_TYPE</th>\n",
              "      <th>NAME_EDUCATION_TYPE</th>\n",
              "      <th>NAME_FAMILY_STATUS</th>\n",
              "      <th>NAME_HOUSING_TYPE</th>\n",
              "      <th>...</th>\n",
              "      <th>FLAG_WORK_PHONE</th>\n",
              "      <th>FLAG_PHONE</th>\n",
              "      <th>FLAG_EMAIL</th>\n",
              "      <th>OCCUPATION_TYPE</th>\n",
              "      <th>CNT_FAM_MEMBERS</th>\n",
              "      <th>YEARS_EMPLOYED</th>\n",
              "      <th>Bad_Debt</th>\n",
              "      <th>Good_Debt</th>\n",
              "      <th>Neutral_Debt</th>\n",
              "      <th>CREDIT_APPROVAL_STATUS</th>\n",
              "    </tr>\n",
              "  </thead>\n",
              "  <tbody>\n",
              "    <tr>\n",
              "      <th>0</th>\n",
              "      <td>5008804</td>\n",
              "      <td>M</td>\n",
              "      <td>Y</td>\n",
              "      <td>Y</td>\n",
              "      <td>0</td>\n",
              "      <td>427500.0</td>\n",
              "      <td>Working</td>\n",
              "      <td>Higher education</td>\n",
              "      <td>Civil marriage</td>\n",
              "      <td>Rented apartment</td>\n",
              "      <td>...</td>\n",
              "      <td>1</td>\n",
              "      <td>0</td>\n",
              "      <td>0</td>\n",
              "      <td>NAN</td>\n",
              "      <td>2.0</td>\n",
              "      <td>12</td>\n",
              "      <td>0</td>\n",
              "      <td>15</td>\n",
              "      <td>1</td>\n",
              "      <td>1.0</td>\n",
              "    </tr>\n",
              "    <tr>\n",
              "      <th>1</th>\n",
              "      <td>5008805</td>\n",
              "      <td>M</td>\n",
              "      <td>Y</td>\n",
              "      <td>Y</td>\n",
              "      <td>0</td>\n",
              "      <td>427500.0</td>\n",
              "      <td>Working</td>\n",
              "      <td>Higher education</td>\n",
              "      <td>Civil marriage</td>\n",
              "      <td>Rented apartment</td>\n",
              "      <td>...</td>\n",
              "      <td>1</td>\n",
              "      <td>0</td>\n",
              "      <td>0</td>\n",
              "      <td>NAN</td>\n",
              "      <td>2.0</td>\n",
              "      <td>12</td>\n",
              "      <td>0</td>\n",
              "      <td>14</td>\n",
              "      <td>1</td>\n",
              "      <td>1.0</td>\n",
              "    </tr>\n",
              "    <tr>\n",
              "      <th>2</th>\n",
              "      <td>5008806</td>\n",
              "      <td>M</td>\n",
              "      <td>Y</td>\n",
              "      <td>Y</td>\n",
              "      <td>0</td>\n",
              "      <td>112500.0</td>\n",
              "      <td>Working</td>\n",
              "      <td>Secondary / secondary special</td>\n",
              "      <td>Married</td>\n",
              "      <td>House / apartment</td>\n",
              "      <td>...</td>\n",
              "      <td>0</td>\n",
              "      <td>0</td>\n",
              "      <td>0</td>\n",
              "      <td>Security staff</td>\n",
              "      <td>2.0</td>\n",
              "      <td>3</td>\n",
              "      <td>0</td>\n",
              "      <td>30</td>\n",
              "      <td>0</td>\n",
              "      <td>1.0</td>\n",
              "    </tr>\n",
              "    <tr>\n",
              "      <th>3</th>\n",
              "      <td>5008808</td>\n",
              "      <td>F</td>\n",
              "      <td>N</td>\n",
              "      <td>Y</td>\n",
              "      <td>0</td>\n",
              "      <td>270000.0</td>\n",
              "      <td>Commercial associate</td>\n",
              "      <td>Secondary / secondary special</td>\n",
              "      <td>Single / not married</td>\n",
              "      <td>House / apartment</td>\n",
              "      <td>...</td>\n",
              "      <td>0</td>\n",
              "      <td>1</td>\n",
              "      <td>1</td>\n",
              "      <td>Sales staff</td>\n",
              "      <td>1.0</td>\n",
              "      <td>8</td>\n",
              "      <td>0</td>\n",
              "      <td>5</td>\n",
              "      <td>0</td>\n",
              "      <td>1.0</td>\n",
              "    </tr>\n",
              "    <tr>\n",
              "      <th>4</th>\n",
              "      <td>5008809</td>\n",
              "      <td>F</td>\n",
              "      <td>N</td>\n",
              "      <td>Y</td>\n",
              "      <td>0</td>\n",
              "      <td>270000.0</td>\n",
              "      <td>Commercial associate</td>\n",
              "      <td>Secondary / secondary special</td>\n",
              "      <td>Single / not married</td>\n",
              "      <td>House / apartment</td>\n",
              "      <td>...</td>\n",
              "      <td>0</td>\n",
              "      <td>1</td>\n",
              "      <td>1</td>\n",
              "      <td>Sales staff</td>\n",
              "      <td>1.0</td>\n",
              "      <td>8</td>\n",
              "      <td>0</td>\n",
              "      <td>5</td>\n",
              "      <td>0</td>\n",
              "      <td>1.0</td>\n",
              "    </tr>\n",
              "  </tbody>\n",
              "</table>\n",
              "<p>5 rows × 22 columns</p>\n",
              "</div>\n",
              "      <button class=\"colab-df-convert\" onclick=\"convertToInteractive('df-0c6e041b-4f31-4a2d-bda5-e92472ab19ab')\"\n",
              "              title=\"Convert this dataframe to an interactive table.\"\n",
              "              style=\"display:none;\">\n",
              "        \n",
              "  <svg xmlns=\"http://www.w3.org/2000/svg\" height=\"24px\"viewBox=\"0 0 24 24\"\n",
              "       width=\"24px\">\n",
              "    <path d=\"M0 0h24v24H0V0z\" fill=\"none\"/>\n",
              "    <path d=\"M18.56 5.44l.94 2.06.94-2.06 2.06-.94-2.06-.94-.94-2.06-.94 2.06-2.06.94zm-11 1L8.5 8.5l.94-2.06 2.06-.94-2.06-.94L8.5 2.5l-.94 2.06-2.06.94zm10 10l.94 2.06.94-2.06 2.06-.94-2.06-.94-.94-2.06-.94 2.06-2.06.94z\"/><path d=\"M17.41 7.96l-1.37-1.37c-.4-.4-.92-.59-1.43-.59-.52 0-1.04.2-1.43.59L10.3 9.45l-7.72 7.72c-.78.78-.78 2.05 0 2.83L4 21.41c.39.39.9.59 1.41.59.51 0 1.02-.2 1.41-.59l7.78-7.78 2.81-2.81c.8-.78.8-2.07 0-2.86zM5.41 20L4 18.59l7.72-7.72 1.47 1.35L5.41 20z\"/>\n",
              "  </svg>\n",
              "      </button>\n",
              "      \n",
              "  <style>\n",
              "    .colab-df-container {\n",
              "      display:flex;\n",
              "      flex-wrap:wrap;\n",
              "      gap: 12px;\n",
              "    }\n",
              "\n",
              "    .colab-df-convert {\n",
              "      background-color: #E8F0FE;\n",
              "      border: none;\n",
              "      border-radius: 50%;\n",
              "      cursor: pointer;\n",
              "      display: none;\n",
              "      fill: #1967D2;\n",
              "      height: 32px;\n",
              "      padding: 0 0 0 0;\n",
              "      width: 32px;\n",
              "    }\n",
              "\n",
              "    .colab-df-convert:hover {\n",
              "      background-color: #E2EBFA;\n",
              "      box-shadow: 0px 1px 2px rgba(60, 64, 67, 0.3), 0px 1px 3px 1px rgba(60, 64, 67, 0.15);\n",
              "      fill: #174EA6;\n",
              "    }\n",
              "\n",
              "    [theme=dark] .colab-df-convert {\n",
              "      background-color: #3B4455;\n",
              "      fill: #D2E3FC;\n",
              "    }\n",
              "\n",
              "    [theme=dark] .colab-df-convert:hover {\n",
              "      background-color: #434B5C;\n",
              "      box-shadow: 0px 1px 3px 1px rgba(0, 0, 0, 0.15);\n",
              "      filter: drop-shadow(0px 1px 2px rgba(0, 0, 0, 0.3));\n",
              "      fill: #FFFFFF;\n",
              "    }\n",
              "  </style>\n",
              "\n",
              "      <script>\n",
              "        const buttonEl =\n",
              "          document.querySelector('#df-0c6e041b-4f31-4a2d-bda5-e92472ab19ab button.colab-df-convert');\n",
              "        buttonEl.style.display =\n",
              "          google.colab.kernel.accessAllowed ? 'block' : 'none';\n",
              "\n",
              "        async function convertToInteractive(key) {\n",
              "          const element = document.querySelector('#df-0c6e041b-4f31-4a2d-bda5-e92472ab19ab');\n",
              "          const dataTable =\n",
              "            await google.colab.kernel.invokeFunction('convertToInteractive',\n",
              "                                                     [key], {});\n",
              "          if (!dataTable) return;\n",
              "\n",
              "          const docLinkHtml = 'Like what you see? Visit the ' +\n",
              "            '<a target=\"_blank\" href=https://colab.research.google.com/notebooks/data_table.ipynb>data table notebook</a>'\n",
              "            + ' to learn more about interactive tables.';\n",
              "          element.innerHTML = '';\n",
              "          dataTable['output_type'] = 'display_data';\n",
              "          await google.colab.output.renderOutput(dataTable, element);\n",
              "          const docLink = document.createElement('div');\n",
              "          docLink.innerHTML = docLinkHtml;\n",
              "          element.appendChild(docLink);\n",
              "        }\n",
              "      </script>\n",
              "    </div>\n",
              "  </div>\n",
              "  "
            ]
          },
          "metadata": {},
          "execution_count": 597
        }
      ]
    },
    {
      "cell_type": "code",
      "source": [
        "X = df.iloc[:,:-1]\n",
        "y = df.iloc[:,-1]"
      ],
      "metadata": {
        "id": "0ow8htkHMeoS"
      },
      "execution_count": 598,
      "outputs": []
    },
    {
      "cell_type": "code",
      "source": [
        "print(X.shape)\n",
        "print(y.shape)"
      ],
      "metadata": {
        "colab": {
          "base_uri": "https://localhost:8080/"
        },
        "id": "YgQiNcDuRcqV",
        "outputId": "20411348-9aff-4da5-8e8b-a9395ee7582a"
      },
      "execution_count": 599,
      "outputs": [
        {
          "output_type": "stream",
          "name": "stdout",
          "text": [
            "(36457, 21)\n",
            "(36457,)\n"
          ]
        }
      ]
    },
    {
      "cell_type": "code",
      "source": [
        "from collections import Counter\n",
        "counter = Counter(y)\n",
        "print(counter)"
      ],
      "metadata": {
        "colab": {
          "base_uri": "https://localhost:8080/"
        },
        "id": "buPr8Gzh80D3",
        "outputId": "ca000c5a-4d34-411f-a512-36bd80cac97e"
      },
      "execution_count": 600,
      "outputs": [
        {
          "output_type": "stream",
          "name": "stdout",
          "text": [
            "Counter({1.0: 36281, 0.0: 176})\n"
          ]
        }
      ]
    },
    {
      "cell_type": "code",
      "source": [
        "from imblearn.over_sampling import SMOTE"
      ],
      "metadata": {
        "id": "coZRj17l88HC"
      },
      "execution_count": 601,
      "outputs": []
    },
    {
      "cell_type": "code",
      "source": [
        "X_train, X_test, y_train, y_test = train_test_split(X, y, test_size=0.10, random_state=7)\n",
        "X_train, X_cv, y_train, y_cv = train_test_split(X_train, y_train, test_size=0.10, random_state=7)\n",
        "print(\"TRAINING DATA SHAPES\")\n",
        "print(X_train.shape)\n",
        "print(y_train.shape)\n",
        "print(\"CROSS VALIDATION DATA SHAPES\")\n",
        "print(X_cv.shape)\n",
        "print(y_cv.shape)\n",
        "print(\"TEST DATA SHAPES\")\n",
        "print(X_test.shape)\n",
        "print(y_test.shape)"
      ],
      "metadata": {
        "colab": {
          "base_uri": "https://localhost:8080/"
        },
        "id": "jTxB47E9dRJM",
        "outputId": "0f24f733-40f2-46f5-f7bf-b56c1450b699"
      },
      "execution_count": 602,
      "outputs": [
        {
          "output_type": "stream",
          "name": "stdout",
          "text": [
            "TRAINING DATA SHAPES\n",
            "(29529, 21)\n",
            "(29529,)\n",
            "CROSS VALIDATION DATA SHAPES\n",
            "(3282, 21)\n",
            "(3282,)\n",
            "TEST DATA SHAPES\n",
            "(3646, 21)\n",
            "(3646,)\n"
          ]
        }
      ]
    },
    {
      "cell_type": "code",
      "source": [
        "X_cv.isnull().sum(axis = 0)"
      ],
      "metadata": {
        "colab": {
          "base_uri": "https://localhost:8080/"
        },
        "id": "uKkd-EnvpdAp",
        "outputId": "0a4b224d-96b9-43cc-def2-14c119b7c4c2"
      },
      "execution_count": 603,
      "outputs": [
        {
          "output_type": "execute_result",
          "data": {
            "text/plain": [
              "ID                     0\n",
              "CODE_GENDER            0\n",
              "FLAG_OWN_CAR           0\n",
              "FLAG_OWN_REALTY        0\n",
              "CNT_CHILDREN           0\n",
              "AMT_INCOME_TOTAL       0\n",
              "NAME_INCOME_TYPE       0\n",
              "NAME_EDUCATION_TYPE    0\n",
              "NAME_FAMILY_STATUS     0\n",
              "NAME_HOUSING_TYPE      0\n",
              "AGE                    0\n",
              "FLAG_MOBIL             0\n",
              "FLAG_WORK_PHONE        0\n",
              "FLAG_PHONE             0\n",
              "FLAG_EMAIL             0\n",
              "OCCUPATION_TYPE        0\n",
              "CNT_FAM_MEMBERS        0\n",
              "YEARS_EMPLOYED         0\n",
              "Bad_Debt               0\n",
              "Good_Debt              0\n",
              "Neutral_Debt           0\n",
              "dtype: int64"
            ]
          },
          "metadata": {},
          "execution_count": 603
        }
      ]
    },
    {
      "cell_type": "markdown",
      "source": [
        "## 3.4. Feature Engineering"
      ],
      "metadata": {
        "id": "ypQETxRJMgCF"
      }
    },
    {
      "cell_type": "markdown",
      "source": [
        "### 3.4.1 One-hot Encoding\n",
        "\n",
        "\n",
        "*   In the dataset we have, there are not many features.\n",
        "*   Among the features with categorical data, there are not many categories for each of them.\n",
        "*   So we can use the One-hot encoding.\n",
        "* **I prefer to use one-hot encoding over the Label Encoding as it gives a perspective of higher or lower to the categories.**\n",
        "\n"
      ],
      "metadata": {
        "id": "8mce3XTz1v9S"
      }
    },
    {
      "cell_type": "code",
      "source": [
        "# #converting the categorical data into ONE HOT ENCODED FEATURES\n",
        "# X_train = pd.get_dummies(X_train, columns = ['NAME_INCOME_TYPE', 'NAME_EDUCATION_TYPE','NAME_FAMILY_STATUS','NAME_HOUSING_TYPE'])\n",
        "# X_cv = pd.get_dummies(X_cv, columns = ['NAME_INCOME_TYPE', 'NAME_EDUCATION_TYPE','NAME_FAMILY_STATUS','NAME_HOUSING_TYPE'])\n",
        "# X_test = pd.get_dummies(X_test, columns = ['NAME_INCOME_TYPE', 'NAME_EDUCATION_TYPE','NAME_FAMILY_STATUS','NAME_HOUSING_TYPE'])"
      ],
      "metadata": {
        "id": "NYmidubu3ZdC"
      },
      "execution_count": 604,
      "outputs": []
    },
    {
      "cell_type": "code",
      "source": [
        "\n",
        "ohe = OneHotEncoder(sparse=False)\n",
        "categorical_cols = ['NAME_INCOME_TYPE', 'NAME_EDUCATION_TYPE','NAME_FAMILY_STATUS','NAME_HOUSING_TYPE']\n",
        "ohe.fit(X_train[categorical_cols])\n",
        "\n",
        "\n",
        "\n",
        "def get_ohe(df):\n",
        "    temp_df = pd.DataFrame(data=ohe.transform(df[categorical_cols]), columns=ohe.get_feature_names_out())\n",
        "    df.drop(columns=categorical_cols, axis=1, inplace=True)\n",
        "    df = pd.concat([df.reset_index(drop=True), temp_df], axis=1)\n",
        "    return df\n",
        "\n",
        "\n",
        "X_train = get_ohe(X_train)\n",
        "X_cv = get_ohe(X_cv)\n",
        "X_test = get_ohe(X_test)\n"
      ],
      "metadata": {
        "id": "ddCn3l6h_JTU"
      },
      "execution_count": 605,
      "outputs": []
    },
    {
      "cell_type": "code",
      "source": [
        "\n",
        "filename = '/content/drive/MyDrive/DATA SCIENCE/CASE STUDY 1/OHE_CAT_1.sav'\n",
        "pickle.dump(ohe, open(filename, 'wb'))"
      ],
      "metadata": {
        "id": "FIb7IP6q0cVF"
      },
      "execution_count": 606,
      "outputs": []
    },
    {
      "cell_type": "markdown",
      "source": [
        "This shows that there are no new types of categorical data in the cross validation or test set. So we can continue."
      ],
      "metadata": {
        "id": "WXPt07T3k94S"
      }
    },
    {
      "cell_type": "markdown",
      "source": [
        "### 3.1.2 Converting Binary Categorical features to numeric (0/1)"
      ],
      "metadata": {
        "id": "y0w3_-bn4sUZ"
      }
    },
    {
      "cell_type": "code",
      "source": [
        "# label_encoder = preprocessing.LabelEncoder()\n",
        "\n",
        "# # FOR X_TRAIN\n",
        "# # Encode labels in column 'CODE_GENDER'.\n",
        "# X_train['CODE_GENDER']= label_encoder.fit_transform(X_train['CODE_GENDER'])\n",
        "# # Encode labels in column 'FLAG_OWN_CAR'.\n",
        "# X_train['FLAG_OWN_CAR']= label_encoder.fit_transform(X_train['FLAG_OWN_CAR'])\n",
        "# # Encode labels in column 'FLAG_OWN_REALTY'.\n",
        "# X_train['FLAG_OWN_REALTY']= label_encoder.fit_transform(X_train['FLAG_OWN_REALTY'])\n",
        "# # Encode labels in column 'FLAG_WORK_PHONE'.\n",
        "# X_train['FLAG_WORK_PHONE']= label_encoder.fit_transform(X_train['FLAG_WORK_PHONE'])\n",
        "# # Encode labels in column 'FLAG_PHONE'.\n",
        "# X_train['FLAG_PHONE']= label_encoder.fit_transform(X_train['FLAG_PHONE'])\n",
        "# # Encode labels in column 'FLAG_EMAIL'.\n",
        "# X_train['FLAG_EMAIL']= label_encoder.fit_transform(X_train['FLAG_EMAIL'])\n",
        "\n",
        "\n",
        "\n",
        "\n",
        "\n",
        "# #FOR X_cv\n",
        "# # Encode labels in column 'CODE_GENDER'.\n",
        "# X_cv['CODE_GENDER']= label_encoder.fit_transform(X_cv['CODE_GENDER'])\n",
        "# # Encode labels in column 'FLAG_OWN_CAR'.\n",
        "# X_cv['FLAG_OWN_CAR']= label_encoder.fit_transform(X_cv['FLAG_OWN_CAR'])\n",
        "# # Encode labels in column 'FLAG_OWN_REALTY'.\n",
        "# X_cv['FLAG_OWN_REALTY']= label_encoder.fit_transform(X_cv['FLAG_OWN_REALTY'])\n",
        "# # Encode labels in column 'FLAG_WORK_PHONE'.\n",
        "# X_cv['FLAG_WORK_PHONE']= label_encoder.fit_transform(X_cv['FLAG_WORK_PHONE'])\n",
        "# # Encode labels in column 'FLAG_PHONE'.\n",
        "# X_cv['FLAG_PHONE']= label_encoder.fit_transform(X_cv['FLAG_PHONE'])\n",
        "# # Encode labels in column 'FLAG_EMAIL'.\n",
        "# X_cv['FLAG_EMAIL']= label_encoder.fit_transform(X_cv['FLAG_EMAIL'])\n",
        "\n",
        "\n",
        "\n",
        "\n",
        "\n",
        "\n",
        "\n",
        "\n",
        "\n",
        "# #FOR X_test\n",
        "# # Encode labels in column 'CODE_GENDER'.\n",
        "# X_test['CODE_GENDER']= label_encoder.fit_transform(X_test['CODE_GENDER'])\n",
        "# # Encode labels in column 'FLAG_OWN_CAR'.\n",
        "# X_test['FLAG_OWN_CAR']= label_encoder.fit_transform(X_test['FLAG_OWN_CAR'])\n",
        "# # Encode labels in column 'FLAG_OWN_REALTY'.\n",
        "# X_test['FLAG_OWN_REALTY']= label_encoder.fit_transform(X_test['FLAG_OWN_REALTY'])\n",
        "# # Encode labels in column 'FLAG_WORK_PHONE'.\n",
        "# X_test['FLAG_WORK_PHONE']= label_encoder.fit_transform(X_test['FLAG_WORK_PHONE'])\n",
        "# # Encode labels in column 'FLAG_PHONE'.\n",
        "# X_test['FLAG_PHONE']= label_encoder.fit_transform(X_test['FLAG_PHONE'])\n",
        "# # Encode labels in column 'FLAG_EMAIL'.\n",
        "# X_test['FLAG_EMAIL']= label_encoder.fit_transform(X_test['FLAG_EMAIL'])"
      ],
      "metadata": {
        "id": "f7kJXMwi4zU4"
      },
      "execution_count": 607,
      "outputs": []
    },
    {
      "cell_type": "code",
      "source": [
        "# label_encoder = preprocessing.LabelEncoder()\n",
        "# binary_categorical_columns = ['CODE_GENDER','FLAG_OWN_CAR','FLAG_OWN_REALTY','FLAG_WORK_PHONE','FLAG_PHONE','FLAG_EMAIL']\n",
        "\n",
        "# X_train[binary_categorical_columns] = X_train[binary_categorical_columns].apply(label_encoder().fit_transform)\n",
        "# X_cv[binary_categorical_columns] = X_cv[binary_categorical_columns].apply(label_encoder().transform)\n",
        "# X_test[binary_categorical_columns] = X_test[binary_categorical_columns].apply(label_encoder().transform)"
      ],
      "metadata": {
        "id": "xufaV_i84L-y"
      },
      "execution_count": 608,
      "outputs": []
    },
    {
      "cell_type": "code",
      "source": [
        "lab_enc_gender = preprocessing.LabelEncoder()\n",
        "lab_enc_gender.fit(X_train['CODE_GENDER'])\n",
        "X_train['CODE_GENDER'] = lab_enc_gender.transform(X_train['CODE_GENDER'])\n",
        "X_cv['CODE_GENDER'] = lab_enc_gender.transform(X_cv['CODE_GENDER'])\n",
        "X_test['CODE_GENDER'] = lab_enc_gender.transform(X_test['CODE_GENDER'])\n",
        "\n",
        "filename = '/content/drive/MyDrive/DATA SCIENCE/CASE STUDY 1/lab_enc_gender.sav'\n",
        "pickle.dump(lab_enc_gender, open(filename, 'wb'))"
      ],
      "metadata": {
        "id": "QQRUA_tO1iWp"
      },
      "execution_count": 609,
      "outputs": []
    },
    {
      "cell_type": "code",
      "source": [
        "lab_enc_car = preprocessing.LabelEncoder()\n",
        "lab_enc_car.fit(X_train['FLAG_OWN_CAR'])\n",
        "X_train['FLAG_OWN_CAR'] = lab_enc_car.transform(X_train['FLAG_OWN_CAR'])\n",
        "X_cv['FLAG_OWN_CAR'] = lab_enc_car.transform(X_cv['FLAG_OWN_CAR'])\n",
        "X_test['FLAG_OWN_CAR'] = lab_enc_car.transform(X_test['FLAG_OWN_CAR'])\n",
        "\n",
        "filename = '/content/drive/MyDrive/DATA SCIENCE/CASE STUDY 1/lab_enc_car.sav'\n",
        "pickle.dump(lab_enc_car, open(filename, 'wb'))"
      ],
      "metadata": {
        "id": "jOMyBzOE2EoJ"
      },
      "execution_count": 610,
      "outputs": []
    },
    {
      "cell_type": "code",
      "source": [
        "lab_enc_reality = preprocessing.LabelEncoder()\n",
        "lab_enc_reality.fit(X_train['FLAG_OWN_REALTY'])\n",
        "X_train['FLAG_OWN_REALTY'] = lab_enc_reality.transform(X_train['FLAG_OWN_REALTY'])\n",
        "X_cv['FLAG_OWN_REALTY'] = lab_enc_reality.transform(X_cv['FLAG_OWN_REALTY'])\n",
        "X_test['FLAG_OWN_REALTY'] = lab_enc_reality.transform(X_test['FLAG_OWN_REALTY'])\n",
        "\n",
        "filename = '/content/drive/MyDrive/DATA SCIENCE/CASE STUDY 1/lab_enc_reality.sav'\n",
        "pickle.dump(lab_enc_reality, open(filename, 'wb'))"
      ],
      "metadata": {
        "id": "IOGRVya52i9k"
      },
      "execution_count": 611,
      "outputs": []
    },
    {
      "cell_type": "code",
      "source": [
        "lab_enc_work_phone = preprocessing.LabelEncoder()\n",
        "lab_enc_work_phone.fit(X_train['FLAG_WORK_PHONE'])\n",
        "X_train['FLAG_WORK_PHONE'] = lab_enc_work_phone.transform(X_train['FLAG_WORK_PHONE'])\n",
        "X_cv['FLAG_WORK_PHONE'] = lab_enc_work_phone.transform(X_cv['FLAG_WORK_PHONE'])\n",
        "X_test['FLAG_WORK_PHONE'] = lab_enc_work_phone.transform(X_test['FLAG_WORK_PHONE'])\n",
        "\n",
        "filename = '/content/drive/MyDrive/DATA SCIENCE/CASE STUDY 1/lab_enc_work_phone.sav'\n",
        "pickle.dump(lab_enc_work_phone, open(filename, 'wb'))"
      ],
      "metadata": {
        "id": "jOeGimHP7RCl"
      },
      "execution_count": 612,
      "outputs": []
    },
    {
      "cell_type": "code",
      "source": [
        "lab_enc_phone = preprocessing.LabelEncoder()\n",
        "lab_enc_phone.fit(X_train['FLAG_PHONE'])\n",
        "X_train['FLAG_PHONE'] = lab_enc_phone.transform(X_train['FLAG_PHONE'])\n",
        "X_cv['FLAG_PHONE'] = lab_enc_phone.transform(X_cv['FLAG_PHONE'])\n",
        "X_test['FLAG_PHONE'] = lab_enc_phone.transform(X_test['FLAG_PHONE'])\n",
        "\n",
        "filename = '/content/drive/MyDrive/DATA SCIENCE/CASE STUDY 1/lab_enc_phone.sav'\n",
        "pickle.dump(lab_enc_phone, open(filename, 'wb'))"
      ],
      "metadata": {
        "id": "5aDWaXmE7cmF"
      },
      "execution_count": 613,
      "outputs": []
    },
    {
      "cell_type": "code",
      "source": [
        "lab_enc_email = preprocessing.LabelEncoder()\n",
        "lab_enc_email.fit(X_train['FLAG_EMAIL'])\n",
        "X_train['FLAG_EMAIL'] = lab_enc_email.transform(X_train['FLAG_EMAIL'])\n",
        "X_cv['FLAG_EMAIL'] = lab_enc_email.transform(X_cv['FLAG_EMAIL'])\n",
        "X_test['FLAG_EMAIL'] = lab_enc_email.transform(X_test['FLAG_EMAIL'])\n",
        "\n",
        "filename = '/content/drive/MyDrive/DATA SCIENCE/CASE STUDY 1/lab_enc_email.sav'\n",
        "pickle.dump(lab_enc_email, open(filename, 'wb'))"
      ],
      "metadata": {
        "id": "iBqPpNvo8E7u"
      },
      "execution_count": 614,
      "outputs": []
    },
    {
      "cell_type": "markdown",
      "source": [
        "### 3.1.3 Standardizing the numeric features\n",
        " We will standarize the numeric features for better model performance. The feature that we will standarize are:\n",
        "* CNT_CHILDREN\n",
        "* AMT_INCOME_TOTAL\n",
        "* AGE\n",
        "* YEARS_EMPLOYED\n",
        "* CNT_FAM_MEMBERS"
      ],
      "metadata": {
        "id": "9sIrGgKnlqOa"
      }
    },
    {
      "cell_type": "code",
      "source": [
        "col_names = ['CNT_CHILDREN', 'AMT_INCOME_TOTAL','AGE','YEARS_EMPLOYED','CNT_FAM_MEMBERS']\n",
        "scaler = StandardScaler()\n",
        "scaler.fit(X_train[col_names])\n",
        "\n",
        "filename = '/content/drive/MyDrive/DATA SCIENCE/CASE STUDY 1/standard_scaler.sav'\n",
        "pickle.dump(scaler, open(filename, 'wb'))\n",
        "\n",
        "X_train[col_names] = scaler.transform(X_train[col_names])\n",
        "X_cv[col_names] = scaler.transform(X_cv[col_names])\n",
        "X_test[col_names] = scaler.transform(X_test[col_names])"
      ],
      "metadata": {
        "id": "L66VaMFSEydy"
      },
      "execution_count": 615,
      "outputs": []
    },
    {
      "cell_type": "code",
      "source": [
        "# X_train['CNT_CHILDREN'] = (X_train['CNT_CHILDREN'] - X_train['CNT_CHILDREN'].mean()) / X_train['CNT_CHILDREN'].std()\n",
        "# X_train['AMT_INCOME_TOTAL'] = (X_train['AMT_INCOME_TOTAL'] - X_train['AMT_INCOME_TOTAL'].mean()) / X_train['AMT_INCOME_TOTAL'].std()\n",
        "# X_train['AGE'] = (X_train['AGE'] - X_train['AGE'].mean()) / X_train['AGE'].std()\n",
        "# X_train['YEARS_EMPLOYED'] = (X_train['YEARS_EMPLOYED'] - X_train['YEARS_EMPLOYED'].mean()) / X_train['YEARS_EMPLOYED'].std()\n",
        "# X_train['CNT_FAM_MEMBERS'] = (X_train['CNT_FAM_MEMBERS'] - X_train['CNT_FAM_MEMBERS'].mean()) / X_train['CNT_FAM_MEMBERS'].std()"
      ],
      "metadata": {
        "id": "f5vpJjLomadm"
      },
      "execution_count": 616,
      "outputs": []
    },
    {
      "cell_type": "code",
      "source": [
        "# # Standardizing the cross validation and test data using TRAIN DATA\n",
        "\n",
        "# X_cv['CNT_CHILDREN'] = (X_cv['CNT_CHILDREN'] - X_train['CNT_CHILDREN'].mean()) / X_train['CNT_CHILDREN'].std()\n",
        "# X_cv['AMT_INCOME_TOTAL'] = (X_cv['AMT_INCOME_TOTAL'] - X_train['AMT_INCOME_TOTAL'].mean()) / X_train['AMT_INCOME_TOTAL'].std()\n",
        "# X_cv['AGE'] = (X_cv['AGE'] - X_train['AGE'].mean()) / X_train['AGE'].std()\n",
        "# X_cv['YEARS_EMPLOYED'] = (X_cv['YEARS_EMPLOYED'] - X_train['YEARS_EMPLOYED'].mean()) / X_train['YEARS_EMPLOYED'].std()\n",
        "# X_cv['CNT_FAM_MEMBERS'] = (X_cv['CNT_FAM_MEMBERS'] - X_train['CNT_FAM_MEMBERS'].mean()) / X_train['CNT_FAM_MEMBERS'].std()\n",
        "\n",
        "\n",
        "\n",
        "\n",
        "# X_test['CNT_CHILDREN'] = (X_test['CNT_CHILDREN'] - X_train['CNT_CHILDREN'].mean()) / X_train['CNT_CHILDREN'].std()\n",
        "# X_test['AMT_INCOME_TOTAL'] = (X_test['AMT_INCOME_TOTAL'] - X_train['AMT_INCOME_TOTAL'].mean()) / X_train['AMT_INCOME_TOTAL'].std()\n",
        "# X_test['AGE'] = (X_test['AGE'] - X_train['AGE'].mean()) / X_train['AGE'].std()\n",
        "# X_test['YEARS_EMPLOYED'] = (X_test['YEARS_EMPLOYED'] - X_train['YEARS_EMPLOYED'].mean()) / X_train['YEARS_EMPLOYED'].std()\n",
        "# X_test['CNT_FAM_MEMBERS'] = (X_test['CNT_FAM_MEMBERS'] - X_train['CNT_FAM_MEMBERS'].mean()) / X_train['CNT_FAM_MEMBERS'].std()"
      ],
      "metadata": {
        "id": "8B_1KLmnmabJ"
      },
      "execution_count": 617,
      "outputs": []
    },
    {
      "cell_type": "markdown",
      "source": [
        "### 3.1.3 OCCUPATION_TYPES\n",
        "\n",
        "\n",
        "\n",
        "*   There are a lot occupations that are missing.\n",
        "*   We will use a few imputation techniques and then determine using logistic regression which imputation technique works best for us.\n",
        "\n"
      ],
      "metadata": {
        "id": "Cnl6HKcG4G9V"
      }
    },
    {
      "cell_type": "code",
      "source": [
        "X_train['OCCUPATION_TYPE'] = X_train['OCCUPATION_TYPE'].replace(['NAN'],np.nan)\n",
        "X_cv['OCCUPATION_TYPE'] = X_cv['OCCUPATION_TYPE'].replace(['NAN'],np.nan)\n",
        "X_test['OCCUPATION_TYPE'] = X_test['OCCUPATION_TYPE'].replace(['NAN'],np.nan)"
      ],
      "metadata": {
        "id": "NZ207heU7J6v"
      },
      "execution_count": 618,
      "outputs": []
    },
    {
      "cell_type": "markdown",
      "source": [
        "#### Trying to determine the type of missing value:\n"
      ],
      "metadata": {
        "id": "8RQ9lV4VINue"
      }
    },
    {
      "cell_type": "markdown",
      "source": [
        "##### Detect the MCAR pattern\n"
      ],
      "metadata": {
        "id": "utxhWDnw06F8"
      }
    },
    {
      "cell_type": "markdown",
      "source": [
        "In order to detect an MCAR pattern, we can use statistical tests. One famous statistical test for this purpose is the  χ2  test. The  χ2  could be used to test goodness of fit, homogenity test and independence test. The latter will be used in this case to figure out if the missigness of data in the Height column is dependent (or not) on the other variables (columns).\n",
        "\n",
        "The test starts by stating a first hypothesis called (the null hypothesis) and calculates a measure of closness between the observed data and the expected data (in the case where the null hypothesis is satisfied).\n",
        "\n",
        "The null hypothesis in this case is the following:\n",
        "\n",
        "H0 : There is no association between the missingness in the OCCUPATION column and the other columns. The critical  p -value associated to this test is equal to 0.05.\n",
        "\n",
        "Let us first define the columns \"Height_missing\" that equals to True if Height is missing and False otherwise.\n",
        "\n",
        "\n",
        "\n",
        "https://www.kaggle.com/code/yassirarezki/handling-missing-data-mcar-mar-and-mnar-part-i?scriptVersionId=35715263&cellId=36"
      ],
      "metadata": {
        "id": "LjJaggLp1FFQ"
      }
    },
    {
      "cell_type": "code",
      "source": [
        "# Initialize the missing columns\n",
        "X_train[\"occ_missing\"] = X_train[\"OCCUPATION_TYPE\"]\n",
        "# The column is false\n",
        "X_train[\"occ_missing\"] = False\n",
        "# Replace where Occupation_missing with True where Occupation is missing\n",
        "X_train.loc[X_train[X_train['OCCUPATION_TYPE'].isnull()].index, \"occ_missing\"] = True"
      ],
      "metadata": {
        "id": "zxOweomi1RPY"
      },
      "execution_count": 619,
      "outputs": []
    },
    {
      "cell_type": "code",
      "source": [
        "# The first step is to detect if the missingness in the Height variable is relate to the Sex variable. \n",
        "# The Chi2 contngency test from the scipy library will be used. This requires tge establishement of the contengeny table.\n",
        "\n",
        "X_train[X_train[\"occ_missing\"]==True].groupby(\"CODE_GENDER\")[\"occ_missing\"].count()"
      ],
      "metadata": {
        "colab": {
          "base_uri": "https://localhost:8080/"
        },
        "id": "ZVbAwfaf1RML",
        "outputId": "415b372f-631b-4173-88d1-5111cd9d6f2f"
      },
      "execution_count": 620,
      "outputs": [
        {
          "output_type": "execute_result",
          "data": {
            "text/plain": [
              "CODE_GENDER\n",
              "0    7091\n",
              "1    2068\n",
              "Name: occ_missing, dtype: int64"
            ]
          },
          "metadata": {},
          "execution_count": 620
        }
      ]
    },
    {
      "cell_type": "code",
      "source": [
        "X_train[X_train[\"occ_missing\"]==False].groupby(\"CODE_GENDER\")[\"occ_missing\"].count()"
      ],
      "metadata": {
        "colab": {
          "base_uri": "https://localhost:8080/"
        },
        "id": "y_Nr3mJm1RJX",
        "outputId": "7044e333-d756-4412-8cb5-1a8c73a2f183"
      },
      "execution_count": 621,
      "outputs": [
        {
          "output_type": "execute_result",
          "data": {
            "text/plain": [
              "CODE_GENDER\n",
              "0    12583\n",
              "1     7787\n",
              "Name: occ_missing, dtype: int64"
            ]
          },
          "metadata": {},
          "execution_count": 621
        }
      ]
    },
    {
      "cell_type": "code",
      "source": [
        "table = [[7091, 2068],[12583,7787]]\n",
        "from scipy.stats import chi2_contingency\n",
        "chi2, p, dof, ex = chi2_contingency(table)\n",
        "print(\"The p-value is esqual to {}\".format(p))"
      ],
      "metadata": {
        "colab": {
          "base_uri": "https://localhost:8080/"
        },
        "id": "zbaGAiyt455A",
        "outputId": "347eb362-729e-4e6d-e510-5a71a2c631be"
      },
      "execution_count": 622,
      "outputs": [
        {
          "output_type": "stream",
          "name": "stdout",
          "text": [
            "The p-value is esqual to 3.4230998776222706e-153\n"
          ]
        }
      ]
    },
    {
      "cell_type": "markdown",
      "source": [
        "**Conclusion 1:**\n",
        "\n",
        "Since the  p -value is **less that 5%**, and that is statistically significant, so WE CAN REJECT THE NULL HYPOTHESIS.\n",
        "\n",
        "**THUS THIS TYPE OF MISSING VALUE IS NOT OF MCAR TYPE.**"
      ],
      "metadata": {
        "id": "hzV4jov55RKH"
      }
    },
    {
      "cell_type": "code",
      "source": [
        "X_train = X_train.drop('occ_missing', 1)\n",
        "X_train.columns"
      ],
      "metadata": {
        "colab": {
          "base_uri": "https://localhost:8080/"
        },
        "id": "PmdL7Fu0DAiw",
        "outputId": "a68f265e-028e-4dcb-9e8a-e41eb73eede9"
      },
      "execution_count": 623,
      "outputs": [
        {
          "output_type": "stream",
          "name": "stderr",
          "text": [
            "/usr/local/lib/python3.7/dist-packages/ipykernel_launcher.py:1: FutureWarning: In a future version of pandas all arguments of DataFrame.drop except for the argument 'labels' will be keyword-only\n",
            "  \"\"\"Entry point for launching an IPython kernel.\n"
          ]
        },
        {
          "output_type": "execute_result",
          "data": {
            "text/plain": [
              "Index(['ID', 'CODE_GENDER', 'FLAG_OWN_CAR', 'FLAG_OWN_REALTY', 'CNT_CHILDREN',\n",
              "       'AMT_INCOME_TOTAL', 'AGE', 'FLAG_MOBIL', 'FLAG_WORK_PHONE',\n",
              "       'FLAG_PHONE', 'FLAG_EMAIL', 'OCCUPATION_TYPE', 'CNT_FAM_MEMBERS',\n",
              "       'YEARS_EMPLOYED', 'Bad_Debt', 'Good_Debt', 'Neutral_Debt',\n",
              "       'NAME_INCOME_TYPE_Commercial associate', 'NAME_INCOME_TYPE_Pensioner',\n",
              "       'NAME_INCOME_TYPE_State servant', 'NAME_INCOME_TYPE_Student',\n",
              "       'NAME_INCOME_TYPE_Working', 'NAME_EDUCATION_TYPE_Academic degree',\n",
              "       'NAME_EDUCATION_TYPE_Higher education',\n",
              "       'NAME_EDUCATION_TYPE_Incomplete higher',\n",
              "       'NAME_EDUCATION_TYPE_Lower secondary',\n",
              "       'NAME_EDUCATION_TYPE_Secondary / secondary special',\n",
              "       'NAME_FAMILY_STATUS_Civil marriage', 'NAME_FAMILY_STATUS_Married',\n",
              "       'NAME_FAMILY_STATUS_Separated',\n",
              "       'NAME_FAMILY_STATUS_Single / not married', 'NAME_FAMILY_STATUS_Widow',\n",
              "       'NAME_HOUSING_TYPE_Co-op apartment',\n",
              "       'NAME_HOUSING_TYPE_House / apartment',\n",
              "       'NAME_HOUSING_TYPE_Municipal apartment',\n",
              "       'NAME_HOUSING_TYPE_Office apartment',\n",
              "       'NAME_HOUSING_TYPE_Rented apartment', 'NAME_HOUSING_TYPE_With parents'],\n",
              "      dtype='object')"
            ]
          },
          "metadata": {},
          "execution_count": 623
        }
      ]
    },
    {
      "cell_type": "markdown",
      "source": [
        "##### IMPUATATION TECHNIQUE : 0 --> DELETING THE FEATURE : `OCCUPATION_TYPE`\n",
        "\n",
        "* We will delete the occupation_type feature"
      ],
      "metadata": {
        "id": "mMloY2OSRg58"
      }
    },
    {
      "cell_type": "code",
      "source": [
        "X_train_del = X_train.copy()\n",
        "X_train_del = X_train_del.drop(['OCCUPATION_TYPE','ID'],1)\n",
        "X_train_del.columns"
      ],
      "metadata": {
        "colab": {
          "base_uri": "https://localhost:8080/"
        },
        "id": "5zXjBILJRdZA",
        "outputId": "a1d585b4-ab61-44f3-ef48-a0266b94d58c"
      },
      "execution_count": 624,
      "outputs": [
        {
          "output_type": "stream",
          "name": "stderr",
          "text": [
            "/usr/local/lib/python3.7/dist-packages/ipykernel_launcher.py:2: FutureWarning: In a future version of pandas all arguments of DataFrame.drop except for the argument 'labels' will be keyword-only\n",
            "  \n"
          ]
        },
        {
          "output_type": "execute_result",
          "data": {
            "text/plain": [
              "Index(['CODE_GENDER', 'FLAG_OWN_CAR', 'FLAG_OWN_REALTY', 'CNT_CHILDREN',\n",
              "       'AMT_INCOME_TOTAL', 'AGE', 'FLAG_MOBIL', 'FLAG_WORK_PHONE',\n",
              "       'FLAG_PHONE', 'FLAG_EMAIL', 'CNT_FAM_MEMBERS', 'YEARS_EMPLOYED',\n",
              "       'Bad_Debt', 'Good_Debt', 'Neutral_Debt',\n",
              "       'NAME_INCOME_TYPE_Commercial associate', 'NAME_INCOME_TYPE_Pensioner',\n",
              "       'NAME_INCOME_TYPE_State servant', 'NAME_INCOME_TYPE_Student',\n",
              "       'NAME_INCOME_TYPE_Working', 'NAME_EDUCATION_TYPE_Academic degree',\n",
              "       'NAME_EDUCATION_TYPE_Higher education',\n",
              "       'NAME_EDUCATION_TYPE_Incomplete higher',\n",
              "       'NAME_EDUCATION_TYPE_Lower secondary',\n",
              "       'NAME_EDUCATION_TYPE_Secondary / secondary special',\n",
              "       'NAME_FAMILY_STATUS_Civil marriage', 'NAME_FAMILY_STATUS_Married',\n",
              "       'NAME_FAMILY_STATUS_Separated',\n",
              "       'NAME_FAMILY_STATUS_Single / not married', 'NAME_FAMILY_STATUS_Widow',\n",
              "       'NAME_HOUSING_TYPE_Co-op apartment',\n",
              "       'NAME_HOUSING_TYPE_House / apartment',\n",
              "       'NAME_HOUSING_TYPE_Municipal apartment',\n",
              "       'NAME_HOUSING_TYPE_Office apartment',\n",
              "       'NAME_HOUSING_TYPE_Rented apartment', 'NAME_HOUSING_TYPE_With parents'],\n",
              "      dtype='object')"
            ]
          },
          "metadata": {},
          "execution_count": 624
        }
      ]
    },
    {
      "cell_type": "code",
      "source": [
        "X_cv_del = X_cv.drop(['OCCUPATION_TYPE','ID'],1)\n",
        "X_test_del = X_test.drop(['OCCUPATION_TYPE','ID'],1)"
      ],
      "metadata": {
        "colab": {
          "base_uri": "https://localhost:8080/"
        },
        "id": "QCcNS2Rwcnwb",
        "outputId": "26940194-659c-49de-f3bc-27bb51f1bfbe"
      },
      "execution_count": 625,
      "outputs": [
        {
          "output_type": "stream",
          "name": "stderr",
          "text": [
            "/usr/local/lib/python3.7/dist-packages/ipykernel_launcher.py:1: FutureWarning: In a future version of pandas all arguments of DataFrame.drop except for the argument 'labels' will be keyword-only\n",
            "  \"\"\"Entry point for launching an IPython kernel.\n",
            "/usr/local/lib/python3.7/dist-packages/ipykernel_launcher.py:2: FutureWarning: In a future version of pandas all arguments of DataFrame.drop except for the argument 'labels' will be keyword-only\n",
            "  \n"
          ]
        }
      ]
    },
    {
      "cell_type": "code",
      "source": [
        "print(X_train_del.shape)\n",
        "print(X_cv_del.shape)\n",
        "print(X_test_del.shape)"
      ],
      "metadata": {
        "colab": {
          "base_uri": "https://localhost:8080/"
        },
        "id": "BEPAgE_fc0B7",
        "outputId": "259671d6-e9ef-45dc-97e6-e1da9483966c"
      },
      "execution_count": 626,
      "outputs": [
        {
          "output_type": "stream",
          "name": "stdout",
          "text": [
            "(29529, 36)\n",
            "(3282, 36)\n",
            "(3646, 36)\n"
          ]
        }
      ]
    },
    {
      "cell_type": "markdown",
      "source": [
        "##### IMPUATATION TECHNIQUE : 1 --> Using NAN for IMPUTATION\n",
        "\n",
        "* Here, we are replacing all the missing OCCUPATION TYPES by NAN which acts as a new category for OCCUPATION TYPE.\n",
        "* This is what we have implemented earlier and will use it to check the performance of the model later on."
      ],
      "metadata": {
        "id": "FA3tq7fm2Tpe"
      }
    },
    {
      "cell_type": "code",
      "source": [
        "X_train_NAN = X_train.copy()\n",
        "X_train_NAN['OCCUPATION_TYPE'] = X_train_NAN['OCCUPATION_TYPE'].fillna(\"NAN\")"
      ],
      "metadata": {
        "id": "7fNMtSBl2THg"
      },
      "execution_count": 627,
      "outputs": []
    },
    {
      "cell_type": "code",
      "source": [
        "X_cv_NAN = X_cv.copy()\n",
        "X_cv_NAN['OCCUPATION_TYPE'] = X_cv_NAN['OCCUPATION_TYPE'].fillna(\"NAN\")\n",
        "\n",
        "X_test_NAN = X_test.copy()\n",
        "X_test_NAN['OCCUPATION_TYPE'] = X_test_NAN['OCCUPATION_TYPE'].fillna(\"NAN\")"
      ],
      "metadata": {
        "id": "bEWXqql3dpuw"
      },
      "execution_count": 628,
      "outputs": []
    },
    {
      "cell_type": "code",
      "source": [
        "print(X_train_NAN.shape)\n",
        "print(X_cv_NAN.shape)\n",
        "print(X_test_NAN.shape)"
      ],
      "metadata": {
        "colab": {
          "base_uri": "https://localhost:8080/"
        },
        "id": "ydLurij7d_ix",
        "outputId": "87e596b6-03e6-4398-b664-c77c5c14c6bc"
      },
      "execution_count": 629,
      "outputs": [
        {
          "output_type": "stream",
          "name": "stdout",
          "text": [
            "(29529, 38)\n",
            "(3282, 38)\n",
            "(3646, 38)\n"
          ]
        }
      ]
    },
    {
      "cell_type": "markdown",
      "source": [
        "##### IMPUATATION TECHNIQUE : 2 --> Training Decision Tree\n",
        "\n",
        "\n",
        "*   With the available features, we will train the data using Decision Tree, in order to find the occupation_type for those applicants who does not have their occupation listed.\n",
        "*   First we will check if the model give us satisfactory results and only then we will use this method to predict the occupation_type\n"
      ],
      "metadata": {
        "id": "2jH0R4isuerZ"
      }
    },
    {
      "cell_type": "code",
      "source": [
        "temp_df = X_train.copy()\n",
        "temp_df['OCCUPATION_TYPE'].fillna(value=\"NAN\", inplace=True)\n",
        "X_cv['OCCUPATION_TYPE'].fillna(value=\"NAN\", inplace=True)\n",
        "X_test['OCCUPATION_TYPE'].fillna(value=\"NAN\", inplace=True)\n",
        "temp_df.head()"
      ],
      "metadata": {
        "id": "f8r6B3pn4GQJ",
        "colab": {
          "base_uri": "https://localhost:8080/",
          "height": 0
        },
        "outputId": "d8ceabaf-1187-4d89-f0b0-922d99fe4ff9"
      },
      "execution_count": 630,
      "outputs": [
        {
          "output_type": "execute_result",
          "data": {
            "text/plain": [
              "        ID  CODE_GENDER  FLAG_OWN_CAR  FLAG_OWN_REALTY  CNT_CHILDREN  \\\n",
              "0  5074676            1             0                1     -0.575768   \n",
              "1  5038759            0             0                1      0.764016   \n",
              "2  5056111            0             0                0      2.103799   \n",
              "3  5078904            0             0                1      0.764016   \n",
              "4  5095018            0             0                1     -0.575768   \n",
              "\n",
              "   AMT_INCOME_TOTAL       AGE  FLAG_MOBIL  FLAG_WORK_PHONE  FLAG_PHONE  ...  \\\n",
              "0          0.597058 -0.541385           1                0           0  ...   \n",
              "1         -0.729431 -0.541385           1                0           0  ...   \n",
              "2         -0.862079 -0.367678           1                0           1  ...   \n",
              "3         -0.066186 -0.541385           1                0           0  ...   \n",
              "4          0.375976 -0.715091           1                0           0  ...   \n",
              "\n",
              "   NAME_FAMILY_STATUS_Married NAME_FAMILY_STATUS_Separated  \\\n",
              "0                         1.0                          0.0   \n",
              "1                         1.0                          0.0   \n",
              "2                         1.0                          0.0   \n",
              "3                         0.0                          0.0   \n",
              "4                         0.0                          0.0   \n",
              "\n",
              "   NAME_FAMILY_STATUS_Single / not married  NAME_FAMILY_STATUS_Widow  \\\n",
              "0                                      0.0                       0.0   \n",
              "1                                      0.0                       0.0   \n",
              "2                                      0.0                       0.0   \n",
              "3                                      0.0                       0.0   \n",
              "4                                      0.0                       0.0   \n",
              "\n",
              "   NAME_HOUSING_TYPE_Co-op apartment  NAME_HOUSING_TYPE_House / apartment  \\\n",
              "0                                0.0                                  1.0   \n",
              "1                                0.0                                  1.0   \n",
              "2                                0.0                                  1.0   \n",
              "3                                0.0                                  1.0   \n",
              "4                                0.0                                  1.0   \n",
              "\n",
              "   NAME_HOUSING_TYPE_Municipal apartment  NAME_HOUSING_TYPE_Office apartment  \\\n",
              "0                                    0.0                                 0.0   \n",
              "1                                    0.0                                 0.0   \n",
              "2                                    0.0                                 0.0   \n",
              "3                                    0.0                                 0.0   \n",
              "4                                    0.0                                 0.0   \n",
              "\n",
              "   NAME_HOUSING_TYPE_Rented apartment  NAME_HOUSING_TYPE_With parents  \n",
              "0                                 0.0                             0.0  \n",
              "1                                 0.0                             0.0  \n",
              "2                                 0.0                             0.0  \n",
              "3                                 0.0                             0.0  \n",
              "4                                 0.0                             0.0  \n",
              "\n",
              "[5 rows x 38 columns]"
            ],
            "text/html": [
              "\n",
              "  <div id=\"df-28bb4c39-f5a5-47c2-8bc7-e930362fa078\">\n",
              "    <div class=\"colab-df-container\">\n",
              "      <div>\n",
              "<style scoped>\n",
              "    .dataframe tbody tr th:only-of-type {\n",
              "        vertical-align: middle;\n",
              "    }\n",
              "\n",
              "    .dataframe tbody tr th {\n",
              "        vertical-align: top;\n",
              "    }\n",
              "\n",
              "    .dataframe thead th {\n",
              "        text-align: right;\n",
              "    }\n",
              "</style>\n",
              "<table border=\"1\" class=\"dataframe\">\n",
              "  <thead>\n",
              "    <tr style=\"text-align: right;\">\n",
              "      <th></th>\n",
              "      <th>ID</th>\n",
              "      <th>CODE_GENDER</th>\n",
              "      <th>FLAG_OWN_CAR</th>\n",
              "      <th>FLAG_OWN_REALTY</th>\n",
              "      <th>CNT_CHILDREN</th>\n",
              "      <th>AMT_INCOME_TOTAL</th>\n",
              "      <th>AGE</th>\n",
              "      <th>FLAG_MOBIL</th>\n",
              "      <th>FLAG_WORK_PHONE</th>\n",
              "      <th>FLAG_PHONE</th>\n",
              "      <th>...</th>\n",
              "      <th>NAME_FAMILY_STATUS_Married</th>\n",
              "      <th>NAME_FAMILY_STATUS_Separated</th>\n",
              "      <th>NAME_FAMILY_STATUS_Single / not married</th>\n",
              "      <th>NAME_FAMILY_STATUS_Widow</th>\n",
              "      <th>NAME_HOUSING_TYPE_Co-op apartment</th>\n",
              "      <th>NAME_HOUSING_TYPE_House / apartment</th>\n",
              "      <th>NAME_HOUSING_TYPE_Municipal apartment</th>\n",
              "      <th>NAME_HOUSING_TYPE_Office apartment</th>\n",
              "      <th>NAME_HOUSING_TYPE_Rented apartment</th>\n",
              "      <th>NAME_HOUSING_TYPE_With parents</th>\n",
              "    </tr>\n",
              "  </thead>\n",
              "  <tbody>\n",
              "    <tr>\n",
              "      <th>0</th>\n",
              "      <td>5074676</td>\n",
              "      <td>1</td>\n",
              "      <td>0</td>\n",
              "      <td>1</td>\n",
              "      <td>-0.575768</td>\n",
              "      <td>0.597058</td>\n",
              "      <td>-0.541385</td>\n",
              "      <td>1</td>\n",
              "      <td>0</td>\n",
              "      <td>0</td>\n",
              "      <td>...</td>\n",
              "      <td>1.0</td>\n",
              "      <td>0.0</td>\n",
              "      <td>0.0</td>\n",
              "      <td>0.0</td>\n",
              "      <td>0.0</td>\n",
              "      <td>1.0</td>\n",
              "      <td>0.0</td>\n",
              "      <td>0.0</td>\n",
              "      <td>0.0</td>\n",
              "      <td>0.0</td>\n",
              "    </tr>\n",
              "    <tr>\n",
              "      <th>1</th>\n",
              "      <td>5038759</td>\n",
              "      <td>0</td>\n",
              "      <td>0</td>\n",
              "      <td>1</td>\n",
              "      <td>0.764016</td>\n",
              "      <td>-0.729431</td>\n",
              "      <td>-0.541385</td>\n",
              "      <td>1</td>\n",
              "      <td>0</td>\n",
              "      <td>0</td>\n",
              "      <td>...</td>\n",
              "      <td>1.0</td>\n",
              "      <td>0.0</td>\n",
              "      <td>0.0</td>\n",
              "      <td>0.0</td>\n",
              "      <td>0.0</td>\n",
              "      <td>1.0</td>\n",
              "      <td>0.0</td>\n",
              "      <td>0.0</td>\n",
              "      <td>0.0</td>\n",
              "      <td>0.0</td>\n",
              "    </tr>\n",
              "    <tr>\n",
              "      <th>2</th>\n",
              "      <td>5056111</td>\n",
              "      <td>0</td>\n",
              "      <td>0</td>\n",
              "      <td>0</td>\n",
              "      <td>2.103799</td>\n",
              "      <td>-0.862079</td>\n",
              "      <td>-0.367678</td>\n",
              "      <td>1</td>\n",
              "      <td>0</td>\n",
              "      <td>1</td>\n",
              "      <td>...</td>\n",
              "      <td>1.0</td>\n",
              "      <td>0.0</td>\n",
              "      <td>0.0</td>\n",
              "      <td>0.0</td>\n",
              "      <td>0.0</td>\n",
              "      <td>1.0</td>\n",
              "      <td>0.0</td>\n",
              "      <td>0.0</td>\n",
              "      <td>0.0</td>\n",
              "      <td>0.0</td>\n",
              "    </tr>\n",
              "    <tr>\n",
              "      <th>3</th>\n",
              "      <td>5078904</td>\n",
              "      <td>0</td>\n",
              "      <td>0</td>\n",
              "      <td>1</td>\n",
              "      <td>0.764016</td>\n",
              "      <td>-0.066186</td>\n",
              "      <td>-0.541385</td>\n",
              "      <td>1</td>\n",
              "      <td>0</td>\n",
              "      <td>0</td>\n",
              "      <td>...</td>\n",
              "      <td>0.0</td>\n",
              "      <td>0.0</td>\n",
              "      <td>0.0</td>\n",
              "      <td>0.0</td>\n",
              "      <td>0.0</td>\n",
              "      <td>1.0</td>\n",
              "      <td>0.0</td>\n",
              "      <td>0.0</td>\n",
              "      <td>0.0</td>\n",
              "      <td>0.0</td>\n",
              "    </tr>\n",
              "    <tr>\n",
              "      <th>4</th>\n",
              "      <td>5095018</td>\n",
              "      <td>0</td>\n",
              "      <td>0</td>\n",
              "      <td>1</td>\n",
              "      <td>-0.575768</td>\n",
              "      <td>0.375976</td>\n",
              "      <td>-0.715091</td>\n",
              "      <td>1</td>\n",
              "      <td>0</td>\n",
              "      <td>0</td>\n",
              "      <td>...</td>\n",
              "      <td>0.0</td>\n",
              "      <td>0.0</td>\n",
              "      <td>0.0</td>\n",
              "      <td>0.0</td>\n",
              "      <td>0.0</td>\n",
              "      <td>1.0</td>\n",
              "      <td>0.0</td>\n",
              "      <td>0.0</td>\n",
              "      <td>0.0</td>\n",
              "      <td>0.0</td>\n",
              "    </tr>\n",
              "  </tbody>\n",
              "</table>\n",
              "<p>5 rows × 38 columns</p>\n",
              "</div>\n",
              "      <button class=\"colab-df-convert\" onclick=\"convertToInteractive('df-28bb4c39-f5a5-47c2-8bc7-e930362fa078')\"\n",
              "              title=\"Convert this dataframe to an interactive table.\"\n",
              "              style=\"display:none;\">\n",
              "        \n",
              "  <svg xmlns=\"http://www.w3.org/2000/svg\" height=\"24px\"viewBox=\"0 0 24 24\"\n",
              "       width=\"24px\">\n",
              "    <path d=\"M0 0h24v24H0V0z\" fill=\"none\"/>\n",
              "    <path d=\"M18.56 5.44l.94 2.06.94-2.06 2.06-.94-2.06-.94-.94-2.06-.94 2.06-2.06.94zm-11 1L8.5 8.5l.94-2.06 2.06-.94-2.06-.94L8.5 2.5l-.94 2.06-2.06.94zm10 10l.94 2.06.94-2.06 2.06-.94-2.06-.94-.94-2.06-.94 2.06-2.06.94z\"/><path d=\"M17.41 7.96l-1.37-1.37c-.4-.4-.92-.59-1.43-.59-.52 0-1.04.2-1.43.59L10.3 9.45l-7.72 7.72c-.78.78-.78 2.05 0 2.83L4 21.41c.39.39.9.59 1.41.59.51 0 1.02-.2 1.41-.59l7.78-7.78 2.81-2.81c.8-.78.8-2.07 0-2.86zM5.41 20L4 18.59l7.72-7.72 1.47 1.35L5.41 20z\"/>\n",
              "  </svg>\n",
              "      </button>\n",
              "      \n",
              "  <style>\n",
              "    .colab-df-container {\n",
              "      display:flex;\n",
              "      flex-wrap:wrap;\n",
              "      gap: 12px;\n",
              "    }\n",
              "\n",
              "    .colab-df-convert {\n",
              "      background-color: #E8F0FE;\n",
              "      border: none;\n",
              "      border-radius: 50%;\n",
              "      cursor: pointer;\n",
              "      display: none;\n",
              "      fill: #1967D2;\n",
              "      height: 32px;\n",
              "      padding: 0 0 0 0;\n",
              "      width: 32px;\n",
              "    }\n",
              "\n",
              "    .colab-df-convert:hover {\n",
              "      background-color: #E2EBFA;\n",
              "      box-shadow: 0px 1px 2px rgba(60, 64, 67, 0.3), 0px 1px 3px 1px rgba(60, 64, 67, 0.15);\n",
              "      fill: #174EA6;\n",
              "    }\n",
              "\n",
              "    [theme=dark] .colab-df-convert {\n",
              "      background-color: #3B4455;\n",
              "      fill: #D2E3FC;\n",
              "    }\n",
              "\n",
              "    [theme=dark] .colab-df-convert:hover {\n",
              "      background-color: #434B5C;\n",
              "      box-shadow: 0px 1px 3px 1px rgba(0, 0, 0, 0.15);\n",
              "      filter: drop-shadow(0px 1px 2px rgba(0, 0, 0, 0.3));\n",
              "      fill: #FFFFFF;\n",
              "    }\n",
              "  </style>\n",
              "\n",
              "      <script>\n",
              "        const buttonEl =\n",
              "          document.querySelector('#df-28bb4c39-f5a5-47c2-8bc7-e930362fa078 button.colab-df-convert');\n",
              "        buttonEl.style.display =\n",
              "          google.colab.kernel.accessAllowed ? 'block' : 'none';\n",
              "\n",
              "        async function convertToInteractive(key) {\n",
              "          const element = document.querySelector('#df-28bb4c39-f5a5-47c2-8bc7-e930362fa078');\n",
              "          const dataTable =\n",
              "            await google.colab.kernel.invokeFunction('convertToInteractive',\n",
              "                                                     [key], {});\n",
              "          if (!dataTable) return;\n",
              "\n",
              "          const docLinkHtml = 'Like what you see? Visit the ' +\n",
              "            '<a target=\"_blank\" href=https://colab.research.google.com/notebooks/data_table.ipynb>data table notebook</a>'\n",
              "            + ' to learn more about interactive tables.';\n",
              "          element.innerHTML = '';\n",
              "          dataTable['output_type'] = 'display_data';\n",
              "          await google.colab.output.renderOutput(dataTable, element);\n",
              "          const docLink = document.createElement('div');\n",
              "          docLink.innerHTML = docLinkHtml;\n",
              "          element.appendChild(docLink);\n",
              "        }\n",
              "      </script>\n",
              "    </div>\n",
              "  </div>\n",
              "  "
            ]
          },
          "metadata": {},
          "execution_count": 630
        }
      ]
    },
    {
      "cell_type": "code",
      "source": [
        "result_df_1 = temp_df.loc[temp_df['OCCUPATION_TYPE'] != \"NAN\"]\n",
        "print(result_df_1.shape)\n",
        "result_cv_1 = X_cv.loc[X_cv['OCCUPATION_TYPE'] != \"NAN\"]\n",
        "print(result_cv_1.shape)\n",
        "result_test_1 = X_test.loc[X_test['OCCUPATION_TYPE'] != \"NAN\"]\n",
        "print(result_test_1.shape)"
      ],
      "metadata": {
        "id": "5Ypw7JW43PD1",
        "colab": {
          "base_uri": "https://localhost:8080/"
        },
        "outputId": "ff8ec586-3064-405d-88ac-b4a00f2e9a67"
      },
      "execution_count": 631,
      "outputs": [
        {
          "output_type": "stream",
          "name": "stdout",
          "text": [
            "(20370, 38)\n",
            "(2239, 38)\n",
            "(2525, 38)\n"
          ]
        }
      ]
    },
    {
      "cell_type": "code",
      "source": [
        "X_temp = result_df_1.drop(['OCCUPATION_TYPE','ID'],axis=1).values\n",
        "y_temp = result_df_1['OCCUPATION_TYPE'].values\n",
        "X_train_temp,X_test_temp,y_train_temp,y_test_temp = train_test_split(X_temp,y_temp,test_size=0.20,random_state=0)"
      ],
      "metadata": {
        "id": "1tDG16FT3O9w"
      },
      "execution_count": 632,
      "outputs": []
    },
    {
      "cell_type": "code",
      "source": [
        "print(X_train_temp.shape)\n",
        "print(y_train_temp.shape)\n",
        "print(X_test_temp.shape)\n",
        "print(y_test_temp.shape)"
      ],
      "metadata": {
        "colab": {
          "base_uri": "https://localhost:8080/"
        },
        "id": "O0mfSeLx1FVV",
        "outputId": "c2fb20c3-0e2a-4cc1-ccc3-b4cfc8ad07ac"
      },
      "execution_count": 633,
      "outputs": [
        {
          "output_type": "stream",
          "name": "stdout",
          "text": [
            "(16296, 36)\n",
            "(16296,)\n",
            "(4074, 36)\n",
            "(4074,)\n"
          ]
        }
      ]
    },
    {
      "cell_type": "code",
      "source": [
        "clf = DecisionTreeClassifier(random_state=0)\n",
        "print(cross_val_score(clf, X_train_temp, y_train_temp, cv=5))"
      ],
      "metadata": {
        "id": "8uxDuVbm1FSZ",
        "colab": {
          "base_uri": "https://localhost:8080/"
        },
        "outputId": "29fc7b07-a17e-4d64-fc3d-b829bd3d1fb2"
      },
      "execution_count": 634,
      "outputs": [
        {
          "output_type": "stream",
          "name": "stdout",
          "text": [
            "[0.80797546 0.82233814 0.82387235 0.81712182 0.81006444]\n"
          ]
        }
      ]
    },
    {
      "cell_type": "code",
      "source": [
        "# after checking the cross validation score on training the DECISION TREE, we see that,\n",
        "# DT provides us with more than 80% accuracy for the OCCUPATION TYPE\n",
        "# SO we will train the DECISION TREE on data for which we have the OCCUPATION TYPE\n",
        "clf.fit(X_train_temp, y_train_temp)\n",
        "y_pred = clf.predict(X_test_temp)"
      ],
      "metadata": {
        "id": "nT7wFu1t1FPu"
      },
      "execution_count": 635,
      "outputs": []
    },
    {
      "cell_type": "code",
      "source": [
        "accuracy_score(y_test_temp, y_pred, normalize=True)"
      ],
      "metadata": {
        "id": "1lW6fXTI1FMw",
        "colab": {
          "base_uri": "https://localhost:8080/"
        },
        "outputId": "98894e97-bc22-4776-c16e-a4e0c31a4027"
      },
      "execution_count": 636,
      "outputs": [
        {
          "output_type": "execute_result",
          "data": {
            "text/plain": [
              "0.854688267059401"
            ]
          },
          "metadata": {},
          "execution_count": 636
        }
      ]
    },
    {
      "cell_type": "code",
      "source": [
        "result_df_1.columns"
      ],
      "metadata": {
        "colab": {
          "base_uri": "https://localhost:8080/"
        },
        "id": "f7MOq7yl5XI4",
        "outputId": "e54db84d-4292-45ec-da6f-fe1159fd584d"
      },
      "execution_count": 637,
      "outputs": [
        {
          "output_type": "execute_result",
          "data": {
            "text/plain": [
              "Index(['ID', 'CODE_GENDER', 'FLAG_OWN_CAR', 'FLAG_OWN_REALTY', 'CNT_CHILDREN',\n",
              "       'AMT_INCOME_TOTAL', 'AGE', 'FLAG_MOBIL', 'FLAG_WORK_PHONE',\n",
              "       'FLAG_PHONE', 'FLAG_EMAIL', 'OCCUPATION_TYPE', 'CNT_FAM_MEMBERS',\n",
              "       'YEARS_EMPLOYED', 'Bad_Debt', 'Good_Debt', 'Neutral_Debt',\n",
              "       'NAME_INCOME_TYPE_Commercial associate', 'NAME_INCOME_TYPE_Pensioner',\n",
              "       'NAME_INCOME_TYPE_State servant', 'NAME_INCOME_TYPE_Student',\n",
              "       'NAME_INCOME_TYPE_Working', 'NAME_EDUCATION_TYPE_Academic degree',\n",
              "       'NAME_EDUCATION_TYPE_Higher education',\n",
              "       'NAME_EDUCATION_TYPE_Incomplete higher',\n",
              "       'NAME_EDUCATION_TYPE_Lower secondary',\n",
              "       'NAME_EDUCATION_TYPE_Secondary / secondary special',\n",
              "       'NAME_FAMILY_STATUS_Civil marriage', 'NAME_FAMILY_STATUS_Married',\n",
              "       'NAME_FAMILY_STATUS_Separated',\n",
              "       'NAME_FAMILY_STATUS_Single / not married', 'NAME_FAMILY_STATUS_Widow',\n",
              "       'NAME_HOUSING_TYPE_Co-op apartment',\n",
              "       'NAME_HOUSING_TYPE_House / apartment',\n",
              "       'NAME_HOUSING_TYPE_Municipal apartment',\n",
              "       'NAME_HOUSING_TYPE_Office apartment',\n",
              "       'NAME_HOUSING_TYPE_Rented apartment', 'NAME_HOUSING_TYPE_With parents'],\n",
              "      dtype='object')"
            ]
          },
          "metadata": {},
          "execution_count": 637
        }
      ]
    },
    {
      "cell_type": "code",
      "source": [
        "result_df_1.insert(result_df_1.shape[1] - 1, 'OCCUPATION_TYPE', result_df_1.pop('OCCUPATION_TYPE'))"
      ],
      "metadata": {
        "id": "biWZ7dpu5lV6"
      },
      "execution_count": 638,
      "outputs": []
    },
    {
      "cell_type": "markdown",
      "source": [
        "###### Predicting Occupation Types"
      ],
      "metadata": {
        "id": "5sowPZRiwJd5"
      }
    },
    {
      "cell_type": "code",
      "source": [
        "#EXTRACTING DATA FOR THE APPLICANTS WHOSE OCCUPATION TYPE IS NOT MENTIONED\n",
        "result_df_2 = temp_df.loc[temp_df['OCCUPATION_TYPE'] == \"NAN\"]\n",
        "result_cv_2 = X_cv.loc[X_cv['OCCUPATION_TYPE'] == \"NAN\"]\n",
        "result_test_2 = X_test.loc[X_test['OCCUPATION_TYPE'] == \"NAN\"]\n",
        "print(result_df_2.shape)\n",
        "print(result_cv_2.shape)\n",
        "print(result_test_2.shape)"
      ],
      "metadata": {
        "id": "EYkCLzBg1FHt",
        "colab": {
          "base_uri": "https://localhost:8080/"
        },
        "outputId": "4c8ac656-ffa3-413e-aca3-e411cacd7230"
      },
      "execution_count": 639,
      "outputs": [
        {
          "output_type": "stream",
          "name": "stdout",
          "text": [
            "(9159, 38)\n",
            "(1043, 38)\n",
            "(1121, 38)\n"
          ]
        }
      ]
    },
    {
      "cell_type": "code",
      "source": [
        "#PREDICTING DATA FOR THE APPLICANTS WHOSE OCCUPATION TYPE IS NOT MENTIONED\n",
        "X_pred_occ = result_df_2.drop(['OCCUPATION_TYPE','ID'],axis=1).values\n",
        "X_pred_occ_cv = result_cv_2.drop(['OCCUPATION_TYPE','ID'],axis=1).values\n",
        "X_pred_occ_test = result_test_2.drop(['OCCUPATION_TYPE','ID'],axis=1).values\n",
        "y_pred_occ = clf.predict(X_pred_occ)\n",
        "y_pred_cv = clf.predict(X_pred_occ_cv)\n",
        "y_pred_test = clf.predict(X_pred_occ_test)\n",
        "print(y_pred_occ.shape)\n",
        "print(y_pred_cv.shape)\n",
        "print(y_pred_test.shape)"
      ],
      "metadata": {
        "id": "vP25L7dM1FE_",
        "colab": {
          "base_uri": "https://localhost:8080/"
        },
        "outputId": "4f8a6405-4e9e-44e5-c436-25479ba0d277"
      },
      "execution_count": 640,
      "outputs": [
        {
          "output_type": "stream",
          "name": "stdout",
          "text": [
            "(9159,)\n",
            "(1043,)\n",
            "(1121,)\n"
          ]
        }
      ]
    },
    {
      "cell_type": "code",
      "source": [
        "result_df_2['OCCUPATION_TYPE'] = y_pred_occ\n",
        "result_cv_2['OCCUPATION_TYPE'] = y_pred_cv\n",
        "result_test_2['OCCUPATION_TYPE'] = y_pred_test"
      ],
      "metadata": {
        "colab": {
          "base_uri": "https://localhost:8080/"
        },
        "id": "ZvP31NcdzAEm",
        "outputId": "efca18e7-05ad-449b-be4e-34354807abd5"
      },
      "execution_count": 641,
      "outputs": [
        {
          "output_type": "stream",
          "name": "stderr",
          "text": [
            "/usr/local/lib/python3.7/dist-packages/ipykernel_launcher.py:1: SettingWithCopyWarning: \n",
            "A value is trying to be set on a copy of a slice from a DataFrame.\n",
            "Try using .loc[row_indexer,col_indexer] = value instead\n",
            "\n",
            "See the caveats in the documentation: https://pandas.pydata.org/pandas-docs/stable/user_guide/indexing.html#returning-a-view-versus-a-copy\n",
            "  \"\"\"Entry point for launching an IPython kernel.\n",
            "/usr/local/lib/python3.7/dist-packages/ipykernel_launcher.py:2: SettingWithCopyWarning: \n",
            "A value is trying to be set on a copy of a slice from a DataFrame.\n",
            "Try using .loc[row_indexer,col_indexer] = value instead\n",
            "\n",
            "See the caveats in the documentation: https://pandas.pydata.org/pandas-docs/stable/user_guide/indexing.html#returning-a-view-versus-a-copy\n",
            "  \n",
            "/usr/local/lib/python3.7/dist-packages/ipykernel_launcher.py:3: SettingWithCopyWarning: \n",
            "A value is trying to be set on a copy of a slice from a DataFrame.\n",
            "Try using .loc[row_indexer,col_indexer] = value instead\n",
            "\n",
            "See the caveats in the documentation: https://pandas.pydata.org/pandas-docs/stable/user_guide/indexing.html#returning-a-view-versus-a-copy\n",
            "  This is separate from the ipykernel package so we can avoid doing imports until\n"
          ]
        }
      ]
    },
    {
      "cell_type": "code",
      "source": [
        "result_df_2.insert(result_df_2.shape[1] - 1, 'OCCUPATION_TYPE', result_df_2.pop('OCCUPATION_TYPE'))\n",
        "result_cv_2.insert(result_cv_2.shape[1] - 1, 'OCCUPATION_TYPE', result_cv_2.pop('OCCUPATION_TYPE'))\n",
        "result_test_2.insert(result_test_2.shape[1] - 1, 'OCCUPATION_TYPE', result_test_2.pop('OCCUPATION_TYPE'))"
      ],
      "metadata": {
        "id": "5BaAuGto6eb_"
      },
      "execution_count": 642,
      "outputs": []
    },
    {
      "cell_type": "markdown",
      "source": [
        "###### Merging the two dataframes"
      ],
      "metadata": {
        "id": "OrLlmRWY1iK8"
      }
    },
    {
      "cell_type": "code",
      "source": [
        "X_train_DT = result_df_1.append(result_df_2, ignore_index=True)\n",
        "X_cv_DT = result_cv_1.append(result_cv_2, ignore_index=True)\n",
        "X_test_DT = result_test_1.append(result_test_2, ignore_index=True)"
      ],
      "metadata": {
        "id": "R6i6TUqT3O7J"
      },
      "execution_count": 643,
      "outputs": []
    },
    {
      "cell_type": "markdown",
      "source": [
        "##### IMPUATATION TECHNIQUE : 3 --> Training Random Forest\n",
        "\n",
        "\n",
        "*   With the available features, we will train the data using Random Forest, in order to find the occupation_type for those applicants who does not have their occupation listed.\n",
        "*   First we will check if the model give us satisfactory results and only then we will use this method to predict the occupation_type\n"
      ],
      "metadata": {
        "id": "aQO8EFKyOXY4"
      }
    },
    {
      "cell_type": "code",
      "source": [
        "temp_df = X_train.copy()\n",
        "temp_df['OCCUPATION_TYPE'].fillna(value=\"NAN\", inplace=True)\n",
        "X_cv['OCCUPATION_TYPE'].fillna(value=\"NAN\", inplace=True)\n",
        "X_test['OCCUPATION_TYPE'].fillna(value=\"NAN\", inplace=True)\n",
        "temp_df.head()"
      ],
      "metadata": {
        "colab": {
          "base_uri": "https://localhost:8080/",
          "height": 0
        },
        "outputId": "867db92e-0665-4452-9efb-24237c0b6236",
        "id": "KZ16U_BKt_Ar"
      },
      "execution_count": 644,
      "outputs": [
        {
          "output_type": "execute_result",
          "data": {
            "text/plain": [
              "        ID  CODE_GENDER  FLAG_OWN_CAR  FLAG_OWN_REALTY  CNT_CHILDREN  \\\n",
              "0  5074676            1             0                1     -0.575768   \n",
              "1  5038759            0             0                1      0.764016   \n",
              "2  5056111            0             0                0      2.103799   \n",
              "3  5078904            0             0                1      0.764016   \n",
              "4  5095018            0             0                1     -0.575768   \n",
              "\n",
              "   AMT_INCOME_TOTAL       AGE  FLAG_MOBIL  FLAG_WORK_PHONE  FLAG_PHONE  ...  \\\n",
              "0          0.597058 -0.541385           1                0           0  ...   \n",
              "1         -0.729431 -0.541385           1                0           0  ...   \n",
              "2         -0.862079 -0.367678           1                0           1  ...   \n",
              "3         -0.066186 -0.541385           1                0           0  ...   \n",
              "4          0.375976 -0.715091           1                0           0  ...   \n",
              "\n",
              "   NAME_FAMILY_STATUS_Married NAME_FAMILY_STATUS_Separated  \\\n",
              "0                         1.0                          0.0   \n",
              "1                         1.0                          0.0   \n",
              "2                         1.0                          0.0   \n",
              "3                         0.0                          0.0   \n",
              "4                         0.0                          0.0   \n",
              "\n",
              "   NAME_FAMILY_STATUS_Single / not married  NAME_FAMILY_STATUS_Widow  \\\n",
              "0                                      0.0                       0.0   \n",
              "1                                      0.0                       0.0   \n",
              "2                                      0.0                       0.0   \n",
              "3                                      0.0                       0.0   \n",
              "4                                      0.0                       0.0   \n",
              "\n",
              "   NAME_HOUSING_TYPE_Co-op apartment  NAME_HOUSING_TYPE_House / apartment  \\\n",
              "0                                0.0                                  1.0   \n",
              "1                                0.0                                  1.0   \n",
              "2                                0.0                                  1.0   \n",
              "3                                0.0                                  1.0   \n",
              "4                                0.0                                  1.0   \n",
              "\n",
              "   NAME_HOUSING_TYPE_Municipal apartment  NAME_HOUSING_TYPE_Office apartment  \\\n",
              "0                                    0.0                                 0.0   \n",
              "1                                    0.0                                 0.0   \n",
              "2                                    0.0                                 0.0   \n",
              "3                                    0.0                                 0.0   \n",
              "4                                    0.0                                 0.0   \n",
              "\n",
              "   NAME_HOUSING_TYPE_Rented apartment  NAME_HOUSING_TYPE_With parents  \n",
              "0                                 0.0                             0.0  \n",
              "1                                 0.0                             0.0  \n",
              "2                                 0.0                             0.0  \n",
              "3                                 0.0                             0.0  \n",
              "4                                 0.0                             0.0  \n",
              "\n",
              "[5 rows x 38 columns]"
            ],
            "text/html": [
              "\n",
              "  <div id=\"df-3e933fe3-309c-4771-ac84-82106ae44727\">\n",
              "    <div class=\"colab-df-container\">\n",
              "      <div>\n",
              "<style scoped>\n",
              "    .dataframe tbody tr th:only-of-type {\n",
              "        vertical-align: middle;\n",
              "    }\n",
              "\n",
              "    .dataframe tbody tr th {\n",
              "        vertical-align: top;\n",
              "    }\n",
              "\n",
              "    .dataframe thead th {\n",
              "        text-align: right;\n",
              "    }\n",
              "</style>\n",
              "<table border=\"1\" class=\"dataframe\">\n",
              "  <thead>\n",
              "    <tr style=\"text-align: right;\">\n",
              "      <th></th>\n",
              "      <th>ID</th>\n",
              "      <th>CODE_GENDER</th>\n",
              "      <th>FLAG_OWN_CAR</th>\n",
              "      <th>FLAG_OWN_REALTY</th>\n",
              "      <th>CNT_CHILDREN</th>\n",
              "      <th>AMT_INCOME_TOTAL</th>\n",
              "      <th>AGE</th>\n",
              "      <th>FLAG_MOBIL</th>\n",
              "      <th>FLAG_WORK_PHONE</th>\n",
              "      <th>FLAG_PHONE</th>\n",
              "      <th>...</th>\n",
              "      <th>NAME_FAMILY_STATUS_Married</th>\n",
              "      <th>NAME_FAMILY_STATUS_Separated</th>\n",
              "      <th>NAME_FAMILY_STATUS_Single / not married</th>\n",
              "      <th>NAME_FAMILY_STATUS_Widow</th>\n",
              "      <th>NAME_HOUSING_TYPE_Co-op apartment</th>\n",
              "      <th>NAME_HOUSING_TYPE_House / apartment</th>\n",
              "      <th>NAME_HOUSING_TYPE_Municipal apartment</th>\n",
              "      <th>NAME_HOUSING_TYPE_Office apartment</th>\n",
              "      <th>NAME_HOUSING_TYPE_Rented apartment</th>\n",
              "      <th>NAME_HOUSING_TYPE_With parents</th>\n",
              "    </tr>\n",
              "  </thead>\n",
              "  <tbody>\n",
              "    <tr>\n",
              "      <th>0</th>\n",
              "      <td>5074676</td>\n",
              "      <td>1</td>\n",
              "      <td>0</td>\n",
              "      <td>1</td>\n",
              "      <td>-0.575768</td>\n",
              "      <td>0.597058</td>\n",
              "      <td>-0.541385</td>\n",
              "      <td>1</td>\n",
              "      <td>0</td>\n",
              "      <td>0</td>\n",
              "      <td>...</td>\n",
              "      <td>1.0</td>\n",
              "      <td>0.0</td>\n",
              "      <td>0.0</td>\n",
              "      <td>0.0</td>\n",
              "      <td>0.0</td>\n",
              "      <td>1.0</td>\n",
              "      <td>0.0</td>\n",
              "      <td>0.0</td>\n",
              "      <td>0.0</td>\n",
              "      <td>0.0</td>\n",
              "    </tr>\n",
              "    <tr>\n",
              "      <th>1</th>\n",
              "      <td>5038759</td>\n",
              "      <td>0</td>\n",
              "      <td>0</td>\n",
              "      <td>1</td>\n",
              "      <td>0.764016</td>\n",
              "      <td>-0.729431</td>\n",
              "      <td>-0.541385</td>\n",
              "      <td>1</td>\n",
              "      <td>0</td>\n",
              "      <td>0</td>\n",
              "      <td>...</td>\n",
              "      <td>1.0</td>\n",
              "      <td>0.0</td>\n",
              "      <td>0.0</td>\n",
              "      <td>0.0</td>\n",
              "      <td>0.0</td>\n",
              "      <td>1.0</td>\n",
              "      <td>0.0</td>\n",
              "      <td>0.0</td>\n",
              "      <td>0.0</td>\n",
              "      <td>0.0</td>\n",
              "    </tr>\n",
              "    <tr>\n",
              "      <th>2</th>\n",
              "      <td>5056111</td>\n",
              "      <td>0</td>\n",
              "      <td>0</td>\n",
              "      <td>0</td>\n",
              "      <td>2.103799</td>\n",
              "      <td>-0.862079</td>\n",
              "      <td>-0.367678</td>\n",
              "      <td>1</td>\n",
              "      <td>0</td>\n",
              "      <td>1</td>\n",
              "      <td>...</td>\n",
              "      <td>1.0</td>\n",
              "      <td>0.0</td>\n",
              "      <td>0.0</td>\n",
              "      <td>0.0</td>\n",
              "      <td>0.0</td>\n",
              "      <td>1.0</td>\n",
              "      <td>0.0</td>\n",
              "      <td>0.0</td>\n",
              "      <td>0.0</td>\n",
              "      <td>0.0</td>\n",
              "    </tr>\n",
              "    <tr>\n",
              "      <th>3</th>\n",
              "      <td>5078904</td>\n",
              "      <td>0</td>\n",
              "      <td>0</td>\n",
              "      <td>1</td>\n",
              "      <td>0.764016</td>\n",
              "      <td>-0.066186</td>\n",
              "      <td>-0.541385</td>\n",
              "      <td>1</td>\n",
              "      <td>0</td>\n",
              "      <td>0</td>\n",
              "      <td>...</td>\n",
              "      <td>0.0</td>\n",
              "      <td>0.0</td>\n",
              "      <td>0.0</td>\n",
              "      <td>0.0</td>\n",
              "      <td>0.0</td>\n",
              "      <td>1.0</td>\n",
              "      <td>0.0</td>\n",
              "      <td>0.0</td>\n",
              "      <td>0.0</td>\n",
              "      <td>0.0</td>\n",
              "    </tr>\n",
              "    <tr>\n",
              "      <th>4</th>\n",
              "      <td>5095018</td>\n",
              "      <td>0</td>\n",
              "      <td>0</td>\n",
              "      <td>1</td>\n",
              "      <td>-0.575768</td>\n",
              "      <td>0.375976</td>\n",
              "      <td>-0.715091</td>\n",
              "      <td>1</td>\n",
              "      <td>0</td>\n",
              "      <td>0</td>\n",
              "      <td>...</td>\n",
              "      <td>0.0</td>\n",
              "      <td>0.0</td>\n",
              "      <td>0.0</td>\n",
              "      <td>0.0</td>\n",
              "      <td>0.0</td>\n",
              "      <td>1.0</td>\n",
              "      <td>0.0</td>\n",
              "      <td>0.0</td>\n",
              "      <td>0.0</td>\n",
              "      <td>0.0</td>\n",
              "    </tr>\n",
              "  </tbody>\n",
              "</table>\n",
              "<p>5 rows × 38 columns</p>\n",
              "</div>\n",
              "      <button class=\"colab-df-convert\" onclick=\"convertToInteractive('df-3e933fe3-309c-4771-ac84-82106ae44727')\"\n",
              "              title=\"Convert this dataframe to an interactive table.\"\n",
              "              style=\"display:none;\">\n",
              "        \n",
              "  <svg xmlns=\"http://www.w3.org/2000/svg\" height=\"24px\"viewBox=\"0 0 24 24\"\n",
              "       width=\"24px\">\n",
              "    <path d=\"M0 0h24v24H0V0z\" fill=\"none\"/>\n",
              "    <path d=\"M18.56 5.44l.94 2.06.94-2.06 2.06-.94-2.06-.94-.94-2.06-.94 2.06-2.06.94zm-11 1L8.5 8.5l.94-2.06 2.06-.94-2.06-.94L8.5 2.5l-.94 2.06-2.06.94zm10 10l.94 2.06.94-2.06 2.06-.94-2.06-.94-.94-2.06-.94 2.06-2.06.94z\"/><path d=\"M17.41 7.96l-1.37-1.37c-.4-.4-.92-.59-1.43-.59-.52 0-1.04.2-1.43.59L10.3 9.45l-7.72 7.72c-.78.78-.78 2.05 0 2.83L4 21.41c.39.39.9.59 1.41.59.51 0 1.02-.2 1.41-.59l7.78-7.78 2.81-2.81c.8-.78.8-2.07 0-2.86zM5.41 20L4 18.59l7.72-7.72 1.47 1.35L5.41 20z\"/>\n",
              "  </svg>\n",
              "      </button>\n",
              "      \n",
              "  <style>\n",
              "    .colab-df-container {\n",
              "      display:flex;\n",
              "      flex-wrap:wrap;\n",
              "      gap: 12px;\n",
              "    }\n",
              "\n",
              "    .colab-df-convert {\n",
              "      background-color: #E8F0FE;\n",
              "      border: none;\n",
              "      border-radius: 50%;\n",
              "      cursor: pointer;\n",
              "      display: none;\n",
              "      fill: #1967D2;\n",
              "      height: 32px;\n",
              "      padding: 0 0 0 0;\n",
              "      width: 32px;\n",
              "    }\n",
              "\n",
              "    .colab-df-convert:hover {\n",
              "      background-color: #E2EBFA;\n",
              "      box-shadow: 0px 1px 2px rgba(60, 64, 67, 0.3), 0px 1px 3px 1px rgba(60, 64, 67, 0.15);\n",
              "      fill: #174EA6;\n",
              "    }\n",
              "\n",
              "    [theme=dark] .colab-df-convert {\n",
              "      background-color: #3B4455;\n",
              "      fill: #D2E3FC;\n",
              "    }\n",
              "\n",
              "    [theme=dark] .colab-df-convert:hover {\n",
              "      background-color: #434B5C;\n",
              "      box-shadow: 0px 1px 3px 1px rgba(0, 0, 0, 0.15);\n",
              "      filter: drop-shadow(0px 1px 2px rgba(0, 0, 0, 0.3));\n",
              "      fill: #FFFFFF;\n",
              "    }\n",
              "  </style>\n",
              "\n",
              "      <script>\n",
              "        const buttonEl =\n",
              "          document.querySelector('#df-3e933fe3-309c-4771-ac84-82106ae44727 button.colab-df-convert');\n",
              "        buttonEl.style.display =\n",
              "          google.colab.kernel.accessAllowed ? 'block' : 'none';\n",
              "\n",
              "        async function convertToInteractive(key) {\n",
              "          const element = document.querySelector('#df-3e933fe3-309c-4771-ac84-82106ae44727');\n",
              "          const dataTable =\n",
              "            await google.colab.kernel.invokeFunction('convertToInteractive',\n",
              "                                                     [key], {});\n",
              "          if (!dataTable) return;\n",
              "\n",
              "          const docLinkHtml = 'Like what you see? Visit the ' +\n",
              "            '<a target=\"_blank\" href=https://colab.research.google.com/notebooks/data_table.ipynb>data table notebook</a>'\n",
              "            + ' to learn more about interactive tables.';\n",
              "          element.innerHTML = '';\n",
              "          dataTable['output_type'] = 'display_data';\n",
              "          await google.colab.output.renderOutput(dataTable, element);\n",
              "          const docLink = document.createElement('div');\n",
              "          docLink.innerHTML = docLinkHtml;\n",
              "          element.appendChild(docLink);\n",
              "        }\n",
              "      </script>\n",
              "    </div>\n",
              "  </div>\n",
              "  "
            ]
          },
          "metadata": {},
          "execution_count": 644
        }
      ]
    },
    {
      "cell_type": "code",
      "source": [
        "result_df_1 = temp_df.loc[temp_df['OCCUPATION_TYPE'] != \"NAN\"]\n",
        "print(result_df_1.shape)\n",
        "result_cv_1 = X_cv.loc[X_cv['OCCUPATION_TYPE'] != \"NAN\"]\n",
        "print(result_cv_1.shape)\n",
        "result_test_1 = X_test.loc[X_test['OCCUPATION_TYPE'] != \"NAN\"]\n",
        "print(result_test_1.shape)"
      ],
      "metadata": {
        "colab": {
          "base_uri": "https://localhost:8080/"
        },
        "outputId": "00fe9f9f-6e17-444a-e4fc-7d61072474e0",
        "id": "6GIthPX2t_As"
      },
      "execution_count": 645,
      "outputs": [
        {
          "output_type": "stream",
          "name": "stdout",
          "text": [
            "(20370, 38)\n",
            "(2239, 38)\n",
            "(2525, 38)\n"
          ]
        }
      ]
    },
    {
      "cell_type": "code",
      "source": [
        "X_temp = result_df_1.drop(['OCCUPATION_TYPE','ID'],axis=1).values\n",
        "y_temp = result_df_1['OCCUPATION_TYPE'].values\n",
        "X_train_temp,X_test_temp,y_train_temp,y_test_temp = train_test_split(X_temp,y_temp,test_size=0.20,random_state=0)"
      ],
      "metadata": {
        "id": "s2HevjqVt_As"
      },
      "execution_count": 646,
      "outputs": []
    },
    {
      "cell_type": "code",
      "source": [
        "print(X_train_temp.shape)\n",
        "print(y_train_temp.shape)\n",
        "print(X_test_temp.shape)\n",
        "print(y_test_temp.shape)"
      ],
      "metadata": {
        "colab": {
          "base_uri": "https://localhost:8080/"
        },
        "outputId": "a46be3f8-9083-4dda-df1e-9b5ba1264278",
        "id": "hrU_SFdRt_As"
      },
      "execution_count": 647,
      "outputs": [
        {
          "output_type": "stream",
          "name": "stdout",
          "text": [
            "(16296, 36)\n",
            "(16296,)\n",
            "(4074, 36)\n",
            "(4074,)\n"
          ]
        }
      ]
    },
    {
      "cell_type": "code",
      "source": [
        "clf = RandomForestClassifier(random_state=0)\n",
        "print(cross_val_score(clf, X_train_temp, y_train_temp, cv=5))"
      ],
      "metadata": {
        "colab": {
          "base_uri": "https://localhost:8080/"
        },
        "outputId": "1cbace58-c176-4826-8688-00748f43cd7e",
        "id": "VIHOnQJOt_As"
      },
      "execution_count": 648,
      "outputs": [
        {
          "output_type": "stream",
          "name": "stdout",
          "text": [
            "[0.85368098 0.87266033 0.87020558 0.86683032 0.87358085]\n"
          ]
        }
      ]
    },
    {
      "cell_type": "code",
      "source": [
        "# after checking the cross validation score on training the DECISION TREE, we see that,\n",
        "# DT provides us with more than 80% accuracy for the OCCUPATION TYPE\n",
        "# SO we will train the DECISION TREE on data for which we have the OCCUPATION TYPE\n",
        "clf.fit(X_train_temp, y_train_temp)\n",
        "y_pred = clf.predict(X_test_temp)"
      ],
      "metadata": {
        "id": "Vcf1OdY8t_As"
      },
      "execution_count": 649,
      "outputs": []
    },
    {
      "cell_type": "code",
      "source": [
        "accuracy_score(y_test_temp, y_pred, normalize=True)"
      ],
      "metadata": {
        "colab": {
          "base_uri": "https://localhost:8080/"
        },
        "outputId": "7cd70f20-a58c-4ef6-b70c-39f25d178aa7",
        "id": "4E4FfMS9t_At"
      },
      "execution_count": 650,
      "outputs": [
        {
          "output_type": "execute_result",
          "data": {
            "text/plain": [
              "0.8978890525282278"
            ]
          },
          "metadata": {},
          "execution_count": 650
        }
      ]
    },
    {
      "cell_type": "code",
      "source": [
        "result_df_1.columns"
      ],
      "metadata": {
        "colab": {
          "base_uri": "https://localhost:8080/"
        },
        "outputId": "68610126-6adc-4945-fa6f-0643a4aa45bf",
        "id": "ia7VgUu6t_At"
      },
      "execution_count": 651,
      "outputs": [
        {
          "output_type": "execute_result",
          "data": {
            "text/plain": [
              "Index(['ID', 'CODE_GENDER', 'FLAG_OWN_CAR', 'FLAG_OWN_REALTY', 'CNT_CHILDREN',\n",
              "       'AMT_INCOME_TOTAL', 'AGE', 'FLAG_MOBIL', 'FLAG_WORK_PHONE',\n",
              "       'FLAG_PHONE', 'FLAG_EMAIL', 'OCCUPATION_TYPE', 'CNT_FAM_MEMBERS',\n",
              "       'YEARS_EMPLOYED', 'Bad_Debt', 'Good_Debt', 'Neutral_Debt',\n",
              "       'NAME_INCOME_TYPE_Commercial associate', 'NAME_INCOME_TYPE_Pensioner',\n",
              "       'NAME_INCOME_TYPE_State servant', 'NAME_INCOME_TYPE_Student',\n",
              "       'NAME_INCOME_TYPE_Working', 'NAME_EDUCATION_TYPE_Academic degree',\n",
              "       'NAME_EDUCATION_TYPE_Higher education',\n",
              "       'NAME_EDUCATION_TYPE_Incomplete higher',\n",
              "       'NAME_EDUCATION_TYPE_Lower secondary',\n",
              "       'NAME_EDUCATION_TYPE_Secondary / secondary special',\n",
              "       'NAME_FAMILY_STATUS_Civil marriage', 'NAME_FAMILY_STATUS_Married',\n",
              "       'NAME_FAMILY_STATUS_Separated',\n",
              "       'NAME_FAMILY_STATUS_Single / not married', 'NAME_FAMILY_STATUS_Widow',\n",
              "       'NAME_HOUSING_TYPE_Co-op apartment',\n",
              "       'NAME_HOUSING_TYPE_House / apartment',\n",
              "       'NAME_HOUSING_TYPE_Municipal apartment',\n",
              "       'NAME_HOUSING_TYPE_Office apartment',\n",
              "       'NAME_HOUSING_TYPE_Rented apartment', 'NAME_HOUSING_TYPE_With parents'],\n",
              "      dtype='object')"
            ]
          },
          "metadata": {},
          "execution_count": 651
        }
      ]
    },
    {
      "cell_type": "code",
      "source": [
        "result_df_1.insert(result_df_1.shape[1] - 1, 'OCCUPATION_TYPE', result_df_1.pop('OCCUPATION_TYPE'))"
      ],
      "metadata": {
        "id": "xuXvxqHEt_At"
      },
      "execution_count": 652,
      "outputs": []
    },
    {
      "cell_type": "markdown",
      "source": [
        "###### Predicting Occupation Types"
      ],
      "metadata": {
        "id": "bXuxnEDqt_At"
      }
    },
    {
      "cell_type": "code",
      "source": [
        "#EXTRACTING DATA FOR THE APPLICANTS WHOSE OCCUPATION TYPE IS NOT MENTIONED\n",
        "result_df_2 = temp_df.loc[temp_df['OCCUPATION_TYPE'] == \"NAN\"]\n",
        "result_cv_2 = X_cv.loc[X_cv['OCCUPATION_TYPE'] == \"NAN\"]\n",
        "result_test_2 = X_test.loc[X_test['OCCUPATION_TYPE'] == \"NAN\"]\n",
        "print(result_df_2.shape)\n",
        "print(result_cv_2.shape)\n",
        "print(result_test_2.shape)"
      ],
      "metadata": {
        "colab": {
          "base_uri": "https://localhost:8080/"
        },
        "outputId": "af53d585-0f80-466c-9fc9-59e628e97e9d",
        "id": "IjIx2zJ3t_At"
      },
      "execution_count": 653,
      "outputs": [
        {
          "output_type": "stream",
          "name": "stdout",
          "text": [
            "(9159, 38)\n",
            "(1043, 38)\n",
            "(1121, 38)\n"
          ]
        }
      ]
    },
    {
      "cell_type": "code",
      "source": [
        "#PREDICTING DATA FOR THE APPLICANTS WHOSE OCCUPATION TYPE IS NOT MENTIONED\n",
        "X_pred_occ = result_df_2.drop(['OCCUPATION_TYPE','ID'],axis=1).values\n",
        "X_pred_occ_cv = result_cv_2.drop(['OCCUPATION_TYPE','ID'],axis=1).values\n",
        "X_pred_occ_test = result_test_2.drop(['OCCUPATION_TYPE','ID'],axis=1).values\n",
        "y_pred_occ = clf.predict(X_pred_occ)\n",
        "y_pred_cv = clf.predict(X_pred_occ_cv)\n",
        "y_pred_test = clf.predict(X_pred_occ_test)\n",
        "print(y_pred_occ.shape)\n",
        "print(y_pred_cv.shape)\n",
        "print(y_pred_test.shape)"
      ],
      "metadata": {
        "colab": {
          "base_uri": "https://localhost:8080/"
        },
        "outputId": "1f49b2e0-196b-4476-c9c3-ff10631f57b6",
        "id": "wjR3fS1Wt_At"
      },
      "execution_count": 654,
      "outputs": [
        {
          "output_type": "stream",
          "name": "stdout",
          "text": [
            "(9159,)\n",
            "(1043,)\n",
            "(1121,)\n"
          ]
        }
      ]
    },
    {
      "cell_type": "code",
      "source": [
        "result_df_2['OCCUPATION_TYPE'] = y_pred_occ\n",
        "result_cv_2['OCCUPATION_TYPE'] = y_pred_cv\n",
        "result_test_2['OCCUPATION_TYPE'] = y_pred_test"
      ],
      "metadata": {
        "colab": {
          "base_uri": "https://localhost:8080/"
        },
        "outputId": "dc023cd0-e1b4-4a04-a19e-f39fc57b11fd",
        "id": "mHq1Ib10t_Au"
      },
      "execution_count": 655,
      "outputs": [
        {
          "output_type": "stream",
          "name": "stderr",
          "text": [
            "/usr/local/lib/python3.7/dist-packages/ipykernel_launcher.py:1: SettingWithCopyWarning: \n",
            "A value is trying to be set on a copy of a slice from a DataFrame.\n",
            "Try using .loc[row_indexer,col_indexer] = value instead\n",
            "\n",
            "See the caveats in the documentation: https://pandas.pydata.org/pandas-docs/stable/user_guide/indexing.html#returning-a-view-versus-a-copy\n",
            "  \"\"\"Entry point for launching an IPython kernel.\n",
            "/usr/local/lib/python3.7/dist-packages/ipykernel_launcher.py:2: SettingWithCopyWarning: \n",
            "A value is trying to be set on a copy of a slice from a DataFrame.\n",
            "Try using .loc[row_indexer,col_indexer] = value instead\n",
            "\n",
            "See the caveats in the documentation: https://pandas.pydata.org/pandas-docs/stable/user_guide/indexing.html#returning-a-view-versus-a-copy\n",
            "  \n",
            "/usr/local/lib/python3.7/dist-packages/ipykernel_launcher.py:3: SettingWithCopyWarning: \n",
            "A value is trying to be set on a copy of a slice from a DataFrame.\n",
            "Try using .loc[row_indexer,col_indexer] = value instead\n",
            "\n",
            "See the caveats in the documentation: https://pandas.pydata.org/pandas-docs/stable/user_guide/indexing.html#returning-a-view-versus-a-copy\n",
            "  This is separate from the ipykernel package so we can avoid doing imports until\n"
          ]
        }
      ]
    },
    {
      "cell_type": "code",
      "source": [
        "result_df_2.insert(result_df_2.shape[1] - 1, 'OCCUPATION_TYPE', result_df_2.pop('OCCUPATION_TYPE'))\n",
        "result_cv_2.insert(result_cv_2.shape[1] - 1, 'OCCUPATION_TYPE', result_cv_2.pop('OCCUPATION_TYPE'))\n",
        "result_test_2.insert(result_test_2.shape[1] - 1, 'OCCUPATION_TYPE', result_test_2.pop('OCCUPATION_TYPE'))"
      ],
      "metadata": {
        "id": "cfmM-vavt_Au"
      },
      "execution_count": 656,
      "outputs": []
    },
    {
      "cell_type": "markdown",
      "source": [
        "###### Merging the two dataframes"
      ],
      "metadata": {
        "id": "vFILu6h5t_Au"
      }
    },
    {
      "cell_type": "code",
      "source": [
        "X_train_RF = result_df_1.append(result_df_2, ignore_index=True)\n",
        "X_cv_RF = result_cv_1.append(result_cv_2, ignore_index=True)\n",
        "X_test_RF = result_test_1.append(result_test_2, ignore_index=True)"
      ],
      "metadata": {
        "id": "3oOhe4Ztt_Au"
      },
      "execution_count": 657,
      "outputs": []
    },
    {
      "cell_type": "markdown",
      "source": [
        "#### ENCODING OCCUPATION TYPE"
      ],
      "metadata": {
        "id": "phygd1sVudeg"
      }
    },
    {
      "cell_type": "code",
      "source": [
        ""
      ],
      "metadata": {
        "id": "H2ogGmwINaow"
      },
      "execution_count": 657,
      "outputs": []
    },
    {
      "cell_type": "code",
      "source": [
        "\n",
        "ohe_occ = OneHotEncoder(sparse=False)\n",
        "categorical_cols_2 = ['OCCUPATION_TYPE']\n",
        "ohe_occ.fit(X_train_NAN[categorical_cols_2])\n",
        "\n",
        "\n",
        "\n",
        "def get_ohe(df):\n",
        "    temp_df = pd.DataFrame(data=ohe_occ.transform(df[categorical_cols_2]), columns=ohe_occ.get_feature_names_out())\n",
        "    df.drop(columns=categorical_cols_2, axis=1, inplace=True)\n",
        "    df = pd.concat([df.reset_index(drop=True), temp_df], axis=1)\n",
        "    return df\n",
        "\n",
        "\n",
        "X_train_NAN = get_ohe(X_train_NAN)\n",
        "X_cv_NAN = get_ohe(X_cv_NAN)\n",
        "X_test_NAN = get_ohe(X_test_NAN)"
      ],
      "metadata": {
        "id": "tAhBlGz_NnMc"
      },
      "execution_count": 658,
      "outputs": []
    },
    {
      "cell_type": "code",
      "source": [
        "filename = '/content/drive/MyDrive/DATA SCIENCE/CASE STUDY 1/OHE_CAT_OCC.sav'\n",
        "pickle.dump(ohe_occ, open(filename, 'wb'))"
      ],
      "metadata": {
        "id": "xhqRp_-VNnMe"
      },
      "execution_count": 659,
      "outputs": []
    },
    {
      "cell_type": "code",
      "source": [
        "# X_train_NAN = pd.get_dummies(X_train_NAN, columns = ['OCCUPATION_TYPE'])\n",
        "# X_cv_NAN = pd.get_dummies(X_cv_NAN, columns = ['OCCUPATION_TYPE'])\n",
        "# X_test_NAN = pd.get_dummies(X_test_NAN, columns = ['OCCUPATION_TYPE'])\n",
        "\n",
        "\n",
        "X_train_DT = pd.get_dummies(X_train_DT, columns = ['OCCUPATION_TYPE'])\n",
        "X_cv_DT = pd.get_dummies(X_cv_DT, columns = ['OCCUPATION_TYPE'])\n",
        "X_test_DT = pd.get_dummies(X_test_DT, columns = ['OCCUPATION_TYPE'])\n",
        "\n",
        "\n",
        "X_train_RF = pd.get_dummies(X_train_RF, columns = ['OCCUPATION_TYPE'])\n",
        "X_cv_RF = pd.get_dummies(X_cv_RF, columns = ['OCCUPATION_TYPE'])\n",
        "X_test_RF = pd.get_dummies(X_test_RF, columns = ['OCCUPATION_TYPE'])"
      ],
      "metadata": {
        "id": "aNWzBH29Ymmg"
      },
      "execution_count": 660,
      "outputs": []
    },
    {
      "cell_type": "code",
      "source": [
        "counter = Counter(y_train)\n",
        "print(counter)\n",
        "counter = Counter(y_cv)\n",
        "print(counter)\n",
        "counter = Counter(y_test)\n",
        "print(counter)"
      ],
      "metadata": {
        "colab": {
          "base_uri": "https://localhost:8080/"
        },
        "id": "4FyOvt_D9Sl0",
        "outputId": "fff814b2-d015-42a4-e664-c1efcd0373eb"
      },
      "execution_count": 661,
      "outputs": [
        {
          "output_type": "stream",
          "name": "stdout",
          "text": [
            "Counter({1.0: 29392, 0.0: 137})\n",
            "Counter({1.0: 3268, 0.0: 14})\n",
            "Counter({1.0: 3621, 0.0: 25})\n"
          ]
        }
      ]
    },
    {
      "cell_type": "markdown",
      "source": [
        "#### CHECKING FOR THE BEST IMPUTATION TECHNIQUE\n",
        "\n",
        "* We have used total four imputation techniques, which are deleting the occupation_type feature, replacing the missing values with 'NAN', using Decision Tree and Random Forest to train and determine the OCCUPATION TYPE. \n",
        "* Now we need to determine the best imputation technique and for that, we can use a simple Logistic Regression models.\n",
        "* We will train the 4 different types of imputed data and then determine the best result."
      ],
      "metadata": {
        "id": "YdMh3U5eVowV"
      }
    },
    {
      "cell_type": "code",
      "source": [
        "X_train_NAN = X_train_NAN.drop(\"ID\",1) \n",
        "X_train_DT = X_train_DT.drop(\"ID\",1) \n",
        "X_train_RF = X_train_RF.drop(\"ID\",1) \n",
        "\n",
        "X_cv_NAN = X_cv_NAN.drop(\"ID\",1) \n",
        "X_cv_DT = X_cv_DT.drop(\"ID\",1) \n",
        "X_cv_RF = X_cv_RF.drop(\"ID\",1) \n",
        "\n",
        "X_test_NAN = X_test_NAN.drop(\"ID\",1) \n",
        "X_test_DT = X_test_DT.drop(\"ID\",1) \n",
        "X_test_RF = X_test_RF.drop(\"ID\",1) \n"
      ],
      "metadata": {
        "colab": {
          "base_uri": "https://localhost:8080/"
        },
        "id": "ccvEaj1pYvBl",
        "outputId": "d7f01af0-4214-41ab-8537-cc92376c2209"
      },
      "execution_count": 662,
      "outputs": [
        {
          "output_type": "stream",
          "name": "stderr",
          "text": [
            "/usr/local/lib/python3.7/dist-packages/ipykernel_launcher.py:1: FutureWarning: In a future version of pandas all arguments of DataFrame.drop except for the argument 'labels' will be keyword-only\n",
            "  \"\"\"Entry point for launching an IPython kernel.\n",
            "/usr/local/lib/python3.7/dist-packages/ipykernel_launcher.py:2: FutureWarning: In a future version of pandas all arguments of DataFrame.drop except for the argument 'labels' will be keyword-only\n",
            "  \n",
            "/usr/local/lib/python3.7/dist-packages/ipykernel_launcher.py:3: FutureWarning: In a future version of pandas all arguments of DataFrame.drop except for the argument 'labels' will be keyword-only\n",
            "  This is separate from the ipykernel package so we can avoid doing imports until\n",
            "/usr/local/lib/python3.7/dist-packages/ipykernel_launcher.py:5: FutureWarning: In a future version of pandas all arguments of DataFrame.drop except for the argument 'labels' will be keyword-only\n",
            "  \"\"\"\n",
            "/usr/local/lib/python3.7/dist-packages/ipykernel_launcher.py:6: FutureWarning: In a future version of pandas all arguments of DataFrame.drop except for the argument 'labels' will be keyword-only\n",
            "  \n",
            "/usr/local/lib/python3.7/dist-packages/ipykernel_launcher.py:7: FutureWarning: In a future version of pandas all arguments of DataFrame.drop except for the argument 'labels' will be keyword-only\n",
            "  import sys\n",
            "/usr/local/lib/python3.7/dist-packages/ipykernel_launcher.py:9: FutureWarning: In a future version of pandas all arguments of DataFrame.drop except for the argument 'labels' will be keyword-only\n",
            "  if __name__ == '__main__':\n",
            "/usr/local/lib/python3.7/dist-packages/ipykernel_launcher.py:10: FutureWarning: In a future version of pandas all arguments of DataFrame.drop except for the argument 'labels' will be keyword-only\n",
            "  # Remove the CWD from sys.path while we load stuff.\n",
            "/usr/local/lib/python3.7/dist-packages/ipykernel_launcher.py:11: FutureWarning: In a future version of pandas all arguments of DataFrame.drop except for the argument 'labels' will be keyword-only\n",
            "  # This is added back by InteractiveShellApp.init_path()\n"
          ]
        }
      ]
    },
    {
      "cell_type": "code",
      "source": [
        "print(X_train_del.shape)\n",
        "print(X_cv_del.shape)\n",
        "print(X_test_del.shape)\n",
        "print(\"------------------\")\n",
        "print(X_train_NAN.shape)\n",
        "print(X_cv_NAN.shape)\n",
        "print(X_test_NAN.shape)\n",
        "print(\"------------------\")\n",
        "print(X_train_DT.shape)\n",
        "print(X_cv_DT.shape)\n",
        "print(X_test_DT.shape)\n",
        "print(\"------------------\")\n",
        "print(X_train_RF.shape)\n",
        "print(X_cv_RF.shape)\n",
        "print(X_test_RF.shape)"
      ],
      "metadata": {
        "colab": {
          "base_uri": "https://localhost:8080/"
        },
        "id": "l_9hSvtNXLBR",
        "outputId": "368f2757-7ba8-44f7-b805-032ce1a2e914"
      },
      "execution_count": 663,
      "outputs": [
        {
          "output_type": "stream",
          "name": "stdout",
          "text": [
            "(29529, 36)\n",
            "(3282, 36)\n",
            "(3646, 36)\n",
            "------------------\n",
            "(29529, 55)\n",
            "(3282, 55)\n",
            "(3646, 55)\n",
            "------------------\n",
            "(29529, 54)\n",
            "(3282, 54)\n",
            "(3646, 54)\n",
            "------------------\n",
            "(29529, 54)\n",
            "(3282, 54)\n",
            "(3646, 54)\n"
          ]
        }
      ]
    },
    {
      "cell_type": "code",
      "source": [
        "from sklearn.metrics import confusion_matrix\n",
        "def print_confusion_matrix(y_true, y_pred):\n",
        "    cm = confusion_matrix(y_true, y_pred)\n",
        "    print('True positive = ', cm[0][0])\n",
        "    print('False positive = ', cm[0][1])\n",
        "    print('False negative = ', cm[1][0])\n",
        "    print('True negative = ', cm[1][1])"
      ],
      "metadata": {
        "id": "u65Ke9zADiQ1"
      },
      "execution_count": 664,
      "outputs": []
    },
    {
      "cell_type": "markdown",
      "source": [
        "##### Imputation where the OCCUPATION_TYPE feature was deleted"
      ],
      "metadata": {
        "id": "JFPqZSMmBOe0"
      }
    },
    {
      "cell_type": "code",
      "source": [
        "from sklearn.metrics import accuracy_score\n",
        "from sklearn.metrics import accuracy_score,confusion_matrix,classification_report\n",
        "from sklearn.model_selection import KFold"
      ],
      "metadata": {
        "id": "GE9mUHab0dn4"
      },
      "execution_count": 665,
      "outputs": []
    },
    {
      "cell_type": "code",
      "source": [
        "counter = Counter(y_train)\n",
        "print(counter)"
      ],
      "metadata": {
        "colab": {
          "base_uri": "https://localhost:8080/"
        },
        "id": "ec4WBSbq1ZPS",
        "outputId": "f3af69c1-de0d-49d0-c49a-e58a9207d5e4"
      },
      "execution_count": 666,
      "outputs": [
        {
          "output_type": "stream",
          "name": "stdout",
          "text": [
            "Counter({1.0: 29392, 0.0: 137})\n"
          ]
        }
      ]
    },
    {
      "cell_type": "markdown",
      "source": [
        "###### Handling imbalanced data : Random Over Sampler"
      ],
      "metadata": {
        "id": "hbeHlZsw2Re5"
      }
    },
    {
      "cell_type": "code",
      "source": [
        "from imblearn.over_sampling import RandomOverSampler"
      ],
      "metadata": {
        "id": "JmxuzRMpkToo"
      },
      "execution_count": 667,
      "outputs": []
    },
    {
      "cell_type": "code",
      "source": [
        "os=RandomOverSampler()\n",
        "X_train_ns,y_train_ns=os.fit_resample(X_train_del,y_train)\n",
        "print(\"The number of classes before fit {}\".format(Counter(y_train)))\n",
        "print(\"The number of classes after fit {}\".format(Counter(y_train_ns)))"
      ],
      "metadata": {
        "colab": {
          "base_uri": "https://localhost:8080/"
        },
        "id": "oxYpECbukTk1",
        "outputId": "871683d5-4dd0-479a-f982-76deb753f853"
      },
      "execution_count": 668,
      "outputs": [
        {
          "output_type": "stream",
          "name": "stdout",
          "text": [
            "The number of classes before fit Counter({1.0: 29392, 0.0: 137})\n",
            "The number of classes after fit Counter({1.0: 29392, 0.0: 29392})\n"
          ]
        }
      ]
    },
    {
      "cell_type": "code",
      "source": [
        "from sklearn.ensemble import RandomForestClassifier\n",
        "classifier=RandomForestClassifier()\n",
        "classifier.fit(X_train_ns,y_train_ns)"
      ],
      "metadata": {
        "colab": {
          "base_uri": "https://localhost:8080/"
        },
        "id": "gywv4PUwkTgz",
        "outputId": "f0782cc5-5331-4656-cacd-78d664667913"
      },
      "execution_count": 669,
      "outputs": [
        {
          "output_type": "execute_result",
          "data": {
            "text/plain": [
              "RandomForestClassifier()"
            ]
          },
          "metadata": {},
          "execution_count": 669
        }
      ]
    },
    {
      "cell_type": "code",
      "source": [
        "y_pred_del_cv=classifier.predict(X_cv_del)\n",
        "print_confusion_matrix(y_cv,y_pred_del_cv)\n",
        "print(accuracy_score(y_cv,y_pred_del_cv))\n",
        "print(classification_report(y_cv,y_pred_del_cv))"
      ],
      "metadata": {
        "colab": {
          "base_uri": "https://localhost:8080/"
        },
        "id": "8r8NlNFbqvBs",
        "outputId": "cee5a322-f638-462e-92f7-e070cfdc1366"
      },
      "execution_count": 670,
      "outputs": [
        {
          "output_type": "stream",
          "name": "stdout",
          "text": [
            "True positive =  13\n",
            "False positive =  1\n",
            "False negative =  0\n",
            "True negative =  3268\n",
            "0.9996953077391835\n",
            "              precision    recall  f1-score   support\n",
            "\n",
            "         0.0       1.00      0.93      0.96        14\n",
            "         1.0       1.00      1.00      1.00      3268\n",
            "\n",
            "    accuracy                           1.00      3282\n",
            "   macro avg       1.00      0.96      0.98      3282\n",
            "weighted avg       1.00      1.00      1.00      3282\n",
            "\n"
          ]
        }
      ]
    },
    {
      "cell_type": "markdown",
      "source": [
        "##### Imputation where the null values were replaced by NAN for OCCUPATION_TYPE"
      ],
      "metadata": {
        "id": "H4cKAJOIERT-"
      }
    },
    {
      "cell_type": "markdown",
      "source": [
        "###### Handling imbalanced data : Random Over Sampler"
      ],
      "metadata": {
        "id": "2hjKNlhv22dT"
      }
    },
    {
      "cell_type": "code",
      "source": [
        "from imblearn.over_sampling import RandomOverSampler"
      ],
      "metadata": {
        "id": "rYOAKO-t22dT"
      },
      "execution_count": 671,
      "outputs": []
    },
    {
      "cell_type": "code",
      "source": [
        "os=RandomOverSampler()\n",
        "X_train_ns,y_train_ns=os.fit_resample(X_train_NAN,y_train)\n",
        "print(\"The number of classes before fit {}\".format(Counter(y_train)))\n",
        "print(\"The number of classes after fit {}\".format(Counter(y_train_ns)))"
      ],
      "metadata": {
        "colab": {
          "base_uri": "https://localhost:8080/"
        },
        "outputId": "196e6818-05c0-4c18-f695-7b4eb4e89beb",
        "id": "2g-sBsiW22dT"
      },
      "execution_count": 672,
      "outputs": [
        {
          "output_type": "stream",
          "name": "stdout",
          "text": [
            "The number of classes before fit Counter({1.0: 29392, 0.0: 137})\n",
            "The number of classes after fit Counter({1.0: 29392, 0.0: 29392})\n"
          ]
        }
      ]
    },
    {
      "cell_type": "code",
      "source": [
        "from sklearn.ensemble import RandomForestClassifier\n",
        "classifier=RandomForestClassifier()\n",
        "classifier.fit(X_train_ns,y_train_ns)"
      ],
      "metadata": {
        "colab": {
          "base_uri": "https://localhost:8080/"
        },
        "outputId": "7c24c880-eb22-454a-bd18-37277f902103",
        "id": "SHzXOLIE22dU"
      },
      "execution_count": 673,
      "outputs": [
        {
          "output_type": "execute_result",
          "data": {
            "text/plain": [
              "RandomForestClassifier()"
            ]
          },
          "metadata": {},
          "execution_count": 673
        }
      ]
    },
    {
      "cell_type": "code",
      "source": [
        "y_pred_nan_cv=classifier.predict(X_cv_NAN)\n",
        "print_confusion_matrix(y_cv,y_pred_nan_cv)\n",
        "print(accuracy_score(y_cv,y_pred_nan_cv))\n",
        "print(classification_report(y_cv,y_pred_nan_cv))"
      ],
      "metadata": {
        "colab": {
          "base_uri": "https://localhost:8080/"
        },
        "outputId": "c01a0292-32b4-47fe-8955-a6363b18960f",
        "id": "gM7Ywwm422dU"
      },
      "execution_count": 674,
      "outputs": [
        {
          "output_type": "stream",
          "name": "stdout",
          "text": [
            "True positive =  13\n",
            "False positive =  1\n",
            "False negative =  0\n",
            "True negative =  3268\n",
            "0.9996953077391835\n",
            "              precision    recall  f1-score   support\n",
            "\n",
            "         0.0       1.00      0.93      0.96        14\n",
            "         1.0       1.00      1.00      1.00      3268\n",
            "\n",
            "    accuracy                           1.00      3282\n",
            "   macro avg       1.00      0.96      0.98      3282\n",
            "weighted avg       1.00      1.00      1.00      3282\n",
            "\n"
          ]
        }
      ]
    },
    {
      "cell_type": "markdown",
      "source": [
        "##### Imputation where the null values were determined after predicting the OCCUPTATION TYPE by training a Decision Tree"
      ],
      "metadata": {
        "id": "_G5qbwaRE60C"
      }
    },
    {
      "cell_type": "markdown",
      "source": [
        "###### Handling imbalanced data : Random Over Sampler"
      ],
      "metadata": {
        "id": "q5sotyhB3PvZ"
      }
    },
    {
      "cell_type": "code",
      "source": [
        "from imblearn.over_sampling import RandomOverSampler"
      ],
      "metadata": {
        "id": "5QQiPS9C3PvZ"
      },
      "execution_count": 675,
      "outputs": []
    },
    {
      "cell_type": "code",
      "source": [
        "os=RandomOverSampler()\n",
        "X_train_ns,y_train_ns=os.fit_resample(X_train_DT,y_train)\n",
        "print(\"The number of classes before fit {}\".format(Counter(y_train)))\n",
        "print(\"The number of classes after fit {}\".format(Counter(y_train_ns)))"
      ],
      "metadata": {
        "colab": {
          "base_uri": "https://localhost:8080/"
        },
        "outputId": "d000198f-79de-42dd-92ba-dfcaaa394d08",
        "id": "Vrh_vwKZ3Pva"
      },
      "execution_count": 676,
      "outputs": [
        {
          "output_type": "stream",
          "name": "stdout",
          "text": [
            "The number of classes before fit Counter({1.0: 29392, 0.0: 137})\n",
            "The number of classes after fit Counter({1.0: 29392, 0.0: 29392})\n"
          ]
        }
      ]
    },
    {
      "cell_type": "code",
      "source": [
        "from sklearn.ensemble import RandomForestClassifier\n",
        "classifier=RandomForestClassifier()\n",
        "classifier.fit(X_train_ns,y_train_ns)"
      ],
      "metadata": {
        "colab": {
          "base_uri": "https://localhost:8080/"
        },
        "outputId": "ea129e2b-cebb-4afb-e1a6-18ddea13e071",
        "id": "siPsltki3Pva"
      },
      "execution_count": 677,
      "outputs": [
        {
          "output_type": "execute_result",
          "data": {
            "text/plain": [
              "RandomForestClassifier()"
            ]
          },
          "metadata": {},
          "execution_count": 677
        }
      ]
    },
    {
      "cell_type": "code",
      "source": [
        "y_pred_DT_cv=classifier.predict(X_cv_DT)\n",
        "print_confusion_matrix(y_cv,y_pred_DT_cv)\n",
        "print(accuracy_score(y_cv,y_pred_DT_cv))\n",
        "print(classification_report(y_cv,y_pred_DT_cv))"
      ],
      "metadata": {
        "colab": {
          "base_uri": "https://localhost:8080/"
        },
        "outputId": "c3c40c10-9af4-442d-ae73-a7b755a97249",
        "id": "qQeTW4_X3Pva"
      },
      "execution_count": 678,
      "outputs": [
        {
          "output_type": "stream",
          "name": "stdout",
          "text": [
            "True positive =  0\n",
            "False positive =  14\n",
            "False negative =  22\n",
            "True negative =  3246\n",
            "0.9890310786106032\n",
            "              precision    recall  f1-score   support\n",
            "\n",
            "         0.0       0.00      0.00      0.00        14\n",
            "         1.0       1.00      0.99      0.99      3268\n",
            "\n",
            "    accuracy                           0.99      3282\n",
            "   macro avg       0.50      0.50      0.50      3282\n",
            "weighted avg       0.99      0.99      0.99      3282\n",
            "\n"
          ]
        }
      ]
    },
    {
      "cell_type": "markdown",
      "source": [
        "##### Imputation where the null values were determined after predicting the OCCUPTATION TYPE by training a Decision Tree"
      ],
      "metadata": {
        "id": "oe2tDJXgFg1i"
      }
    },
    {
      "cell_type": "markdown",
      "source": [
        "###### Handling imbalanced data : Random Over Sampler"
      ],
      "metadata": {
        "id": "fxuUEFJE5_z9"
      }
    },
    {
      "cell_type": "code",
      "source": [
        "from imblearn.over_sampling import RandomOverSampler"
      ],
      "metadata": {
        "id": "Y-cxRaNz5_z-"
      },
      "execution_count": 679,
      "outputs": []
    },
    {
      "cell_type": "code",
      "source": [
        "os=RandomOverSampler()\n",
        "X_train_ns,y_train_ns=os.fit_resample(X_train_RF,y_train)\n",
        "print(\"The number of classes before fit {}\".format(Counter(y_train)))\n",
        "print(\"The number of classes after fit {}\".format(Counter(y_train_ns)))"
      ],
      "metadata": {
        "colab": {
          "base_uri": "https://localhost:8080/"
        },
        "outputId": "9a305038-e803-4241-a569-b2746b97d0ed",
        "id": "qj_rmBZt5_z_"
      },
      "execution_count": 680,
      "outputs": [
        {
          "output_type": "stream",
          "name": "stdout",
          "text": [
            "The number of classes before fit Counter({1.0: 29392, 0.0: 137})\n",
            "The number of classes after fit Counter({1.0: 29392, 0.0: 29392})\n"
          ]
        }
      ]
    },
    {
      "cell_type": "code",
      "source": [
        "from sklearn.ensemble import RandomForestClassifier\n",
        "classifier=RandomForestClassifier()\n",
        "classifier.fit(X_train_ns,y_train_ns)"
      ],
      "metadata": {
        "colab": {
          "base_uri": "https://localhost:8080/"
        },
        "outputId": "491d7a18-c120-4437-9964-b9a23f487bf5",
        "id": "zIfDILiM5_0A"
      },
      "execution_count": 681,
      "outputs": [
        {
          "output_type": "execute_result",
          "data": {
            "text/plain": [
              "RandomForestClassifier()"
            ]
          },
          "metadata": {},
          "execution_count": 681
        }
      ]
    },
    {
      "cell_type": "code",
      "source": [
        "y_pred_RF_cv=classifier.predict(X_cv_RF)\n",
        "print_confusion_matrix(y_cv,y_pred_RF_cv)\n",
        "print(accuracy_score(y_cv,y_pred_RF_cv))\n",
        "print(classification_report(y_cv,y_pred_RF_cv))"
      ],
      "metadata": {
        "colab": {
          "base_uri": "https://localhost:8080/"
        },
        "outputId": "4f8ca91c-1e91-4ac0-d9e7-ee1058c0333c",
        "id": "TPu-iAfc5_0B"
      },
      "execution_count": 682,
      "outputs": [
        {
          "output_type": "stream",
          "name": "stdout",
          "text": [
            "True positive =  0\n",
            "False positive =  14\n",
            "False negative =  21\n",
            "True negative =  3247\n",
            "0.9893357708714199\n",
            "              precision    recall  f1-score   support\n",
            "\n",
            "         0.0       0.00      0.00      0.00        14\n",
            "         1.0       1.00      0.99      0.99      3268\n",
            "\n",
            "    accuracy                           0.99      3282\n",
            "   macro avg       0.50      0.50      0.50      3282\n",
            "weighted avg       0.99      0.99      0.99      3282\n",
            "\n"
          ]
        }
      ]
    },
    {
      "cell_type": "markdown",
      "source": [
        "##### OBSERVATION:\n",
        "\n",
        "\n",
        "\n",
        "*   Using Logistic Regression we get a very bad results while training\n",
        "*   Thus we use Random Forest and get a considerably a better result.\n",
        "*   Among all the imputation techniques, we see that, using missing values for occupation type as NAN gives us a better results than others. So we will use this imputation technique to train our final models\n",
        "\n"
      ],
      "metadata": {
        "id": "u7NRE3bDNRbn"
      }
    },
    {
      "cell_type": "code",
      "source": [
        "print(X_train_NAN.shape)\n",
        "print(y_train.shape)\n",
        "\n",
        "print(X_cv_NAN.shape)\n",
        "print(y_cv.shape)\n",
        "\n",
        "print(X_test_NAN.shape)\n",
        "print(y_test.shape)\n"
      ],
      "metadata": {
        "colab": {
          "base_uri": "https://localhost:8080/"
        },
        "id": "88-RW6voJmz8",
        "outputId": "0cfc011b-2756-4554-8f98-7f43d60a8d67"
      },
      "execution_count": 683,
      "outputs": [
        {
          "output_type": "stream",
          "name": "stdout",
          "text": [
            "(29529, 55)\n",
            "(29529,)\n",
            "(3282, 55)\n",
            "(3282,)\n",
            "(3646, 55)\n",
            "(3646,)\n"
          ]
        }
      ]
    },
    {
      "cell_type": "code",
      "source": [
        "y_train.value_counts()"
      ],
      "metadata": {
        "colab": {
          "base_uri": "https://localhost:8080/"
        },
        "id": "GOepY-OdRYBX",
        "outputId": "a608fd3a-930b-4481-f59f-6434b541d1bf"
      },
      "execution_count": 684,
      "outputs": [
        {
          "output_type": "execute_result",
          "data": {
            "text/plain": [
              "1.0    29392\n",
              "0.0      137\n",
              "Name: CREDIT_APPROVAL_STATUS, dtype: int64"
            ]
          },
          "metadata": {},
          "execution_count": 684
        }
      ]
    },
    {
      "cell_type": "code",
      "source": [
        "data_train = X_train_NAN\n",
        "data_train[\"APPROVAL STATUS\"] = y_train.to_list()\n",
        "\n",
        "print(data_train.shape)\n",
        "\n",
        "data_cv = X_cv_NAN\n",
        "data_cv[\"APPROVAL STATUS\"] = y_cv.to_list()\n",
        "\n",
        "print(data_cv.shape)\n",
        "\n",
        "\n",
        "\n",
        "final_train_data = data_train.append(data_cv)\n",
        "print(final_train_data.shape)\n",
        "print(final_train_data.columns)\n",
        "print(final_train_data.head())\n",
        "\n",
        "\n",
        "\n",
        "final_train_data.to_csv(\"/content/drive/MyDrive/DATA SCIENCE/CASE STUDY 1/FINAL_TRAINING_DATA_NAN_ENCODING.csv\", sep=';', encoding='utf-8',index = False)"
      ],
      "metadata": {
        "colab": {
          "base_uri": "https://localhost:8080/"
        },
        "id": "Y1kNTYIwJo43",
        "outputId": "14ee79f7-b358-4c95-b39a-94143b7897bf"
      },
      "execution_count": 685,
      "outputs": [
        {
          "output_type": "stream",
          "name": "stdout",
          "text": [
            "(29529, 56)\n",
            "(3282, 56)\n",
            "(32811, 56)\n",
            "Index(['CODE_GENDER', 'FLAG_OWN_CAR', 'FLAG_OWN_REALTY', 'CNT_CHILDREN',\n",
            "       'AMT_INCOME_TOTAL', 'AGE', 'FLAG_MOBIL', 'FLAG_WORK_PHONE',\n",
            "       'FLAG_PHONE', 'FLAG_EMAIL', 'CNT_FAM_MEMBERS', 'YEARS_EMPLOYED',\n",
            "       'Bad_Debt', 'Good_Debt', 'Neutral_Debt',\n",
            "       'NAME_INCOME_TYPE_Commercial associate', 'NAME_INCOME_TYPE_Pensioner',\n",
            "       'NAME_INCOME_TYPE_State servant', 'NAME_INCOME_TYPE_Student',\n",
            "       'NAME_INCOME_TYPE_Working', 'NAME_EDUCATION_TYPE_Academic degree',\n",
            "       'NAME_EDUCATION_TYPE_Higher education',\n",
            "       'NAME_EDUCATION_TYPE_Incomplete higher',\n",
            "       'NAME_EDUCATION_TYPE_Lower secondary',\n",
            "       'NAME_EDUCATION_TYPE_Secondary / secondary special',\n",
            "       'NAME_FAMILY_STATUS_Civil marriage', 'NAME_FAMILY_STATUS_Married',\n",
            "       'NAME_FAMILY_STATUS_Separated',\n",
            "       'NAME_FAMILY_STATUS_Single / not married', 'NAME_FAMILY_STATUS_Widow',\n",
            "       'NAME_HOUSING_TYPE_Co-op apartment',\n",
            "       'NAME_HOUSING_TYPE_House / apartment',\n",
            "       'NAME_HOUSING_TYPE_Municipal apartment',\n",
            "       'NAME_HOUSING_TYPE_Office apartment',\n",
            "       'NAME_HOUSING_TYPE_Rented apartment', 'NAME_HOUSING_TYPE_With parents',\n",
            "       'OCCUPATION_TYPE_Accountants', 'OCCUPATION_TYPE_Cleaning staff',\n",
            "       'OCCUPATION_TYPE_Cooking staff', 'OCCUPATION_TYPE_Core staff',\n",
            "       'OCCUPATION_TYPE_Drivers', 'OCCUPATION_TYPE_HR staff',\n",
            "       'OCCUPATION_TYPE_High skill tech staff', 'OCCUPATION_TYPE_IT staff',\n",
            "       'OCCUPATION_TYPE_Laborers', 'OCCUPATION_TYPE_Low-skill Laborers',\n",
            "       'OCCUPATION_TYPE_Managers', 'OCCUPATION_TYPE_Medicine staff',\n",
            "       'OCCUPATION_TYPE_NAN', 'OCCUPATION_TYPE_Private service staff',\n",
            "       'OCCUPATION_TYPE_Realty agents', 'OCCUPATION_TYPE_Sales staff',\n",
            "       'OCCUPATION_TYPE_Secretaries', 'OCCUPATION_TYPE_Security staff',\n",
            "       'OCCUPATION_TYPE_Waiters/barmen staff', 'APPROVAL STATUS'],\n",
            "      dtype='object')\n",
            "   CODE_GENDER  FLAG_OWN_CAR  FLAG_OWN_REALTY  CNT_CHILDREN  AMT_INCOME_TOTAL  \\\n",
            "0            1             0                1     -0.575768          0.597058   \n",
            "1            0             0                1      0.764016         -0.729431   \n",
            "2            0             0                0      2.103799         -0.862079   \n",
            "3            0             0                1      0.764016         -0.066186   \n",
            "4            0             0                1     -0.575768          0.375976   \n",
            "\n",
            "        AGE  FLAG_MOBIL  FLAG_WORK_PHONE  FLAG_PHONE  FLAG_EMAIL  ...  \\\n",
            "0 -0.541385           1                0           0           0  ...   \n",
            "1 -0.541385           1                0           0           0  ...   \n",
            "2 -0.367678           1                0           1           1  ...   \n",
            "3 -0.541385           1                0           0           0  ...   \n",
            "4 -0.715091           1                0           0           0  ...   \n",
            "\n",
            "   OCCUPATION_TYPE_Managers  OCCUPATION_TYPE_Medicine staff  \\\n",
            "0                       0.0                             1.0   \n",
            "1                       0.0                             0.0   \n",
            "2                       0.0                             0.0   \n",
            "3                       0.0                             0.0   \n",
            "4                       0.0                             0.0   \n",
            "\n",
            "   OCCUPATION_TYPE_NAN  OCCUPATION_TYPE_Private service staff  \\\n",
            "0                  0.0                                    0.0   \n",
            "1                  0.0                                    0.0   \n",
            "2                  0.0                                    0.0   \n",
            "3                  0.0                                    0.0   \n",
            "4                  1.0                                    0.0   \n",
            "\n",
            "   OCCUPATION_TYPE_Realty agents  OCCUPATION_TYPE_Sales staff  \\\n",
            "0                            0.0                          0.0   \n",
            "1                            0.0                          0.0   \n",
            "2                            0.0                          0.0   \n",
            "3                            0.0                          1.0   \n",
            "4                            0.0                          0.0   \n",
            "\n",
            "   OCCUPATION_TYPE_Secretaries  OCCUPATION_TYPE_Security staff  \\\n",
            "0                          0.0                             0.0   \n",
            "1                          0.0                             0.0   \n",
            "2                          0.0                             0.0   \n",
            "3                          0.0                             0.0   \n",
            "4                          0.0                             0.0   \n",
            "\n",
            "   OCCUPATION_TYPE_Waiters/barmen staff  APPROVAL STATUS  \n",
            "0                                   0.0              1.0  \n",
            "1                                   0.0              1.0  \n",
            "2                                   0.0              1.0  \n",
            "3                                   0.0              1.0  \n",
            "4                                   0.0              1.0  \n",
            "\n",
            "[5 rows x 56 columns]\n"
          ]
        }
      ]
    },
    {
      "cell_type": "code",
      "source": [
        "data_test = X_test_NAN\n",
        "data_test[\"APPROVAL STATUS\"] = y_test.to_list()\n",
        "\n",
        "print(data_test.shape)"
      ],
      "metadata": {
        "colab": {
          "base_uri": "https://localhost:8080/"
        },
        "id": "rqwXttkVLcsV",
        "outputId": "b244aa44-99ee-40fa-8aed-b7081b8350d7"
      },
      "execution_count": 686,
      "outputs": [
        {
          "output_type": "stream",
          "name": "stdout",
          "text": [
            "(3646, 56)\n"
          ]
        }
      ]
    },
    {
      "cell_type": "code",
      "source": [
        "data_test.to_csv(\"/content/drive/MyDrive/DATA SCIENCE/CASE STUDY 1/FINAL_TEST_DATA_NAN_ENCODING.csv\", sep=';', encoding='utf-8',index = False)"
      ],
      "metadata": {
        "id": "yQQnfjdhNNrZ"
      },
      "execution_count": 687,
      "outputs": []
    }
  ]
}